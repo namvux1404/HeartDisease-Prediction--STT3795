{
  "nbformat": 4,
  "nbformat_minor": 0,
  "metadata": {
    "colab": {
      "name": "heartDisease.ipynb",
      "provenance": [],
      "collapsed_sections": [],
      "include_colab_link": true
    },
    "kernelspec": {
      "name": "python3",
      "display_name": "Python 3"
    },
    "language_info": {
      "name": "python"
    }
  },
  "cells": [
    {
      "cell_type": "markdown",
      "metadata": {
        "id": "view-in-github",
        "colab_type": "text"
      },
      "source": [
        "<a href=\"https://colab.research.google.com/github/namvux1404/STT3795/blob/main/heartDisease.ipynb\" target=\"_parent\"><img src=\"https://colab.research.google.com/assets/colab-badge.svg\" alt=\"Open In Colab\"/></a>"
      ]
    },
    {
      "cell_type": "code",
      "execution_count": null,
      "metadata": {
        "id": "PSqOtFkqZL33"
      },
      "outputs": [],
      "source": [
        "from google.colab import files\n",
        "import numpy as np\n",
        "import pandas as pd\n",
        "import matplotlib.pyplot as plt\n",
        "import seaborn as sns\n",
        "from pandas import read_csv\n",
        "import io\n",
        "from sklearn import preprocessing\n",
        "from sklearn.model_selection import train_test_split\n",
        "from sklearn.preprocessing import MinMaxScaler\n",
        "from sklearn import tree\n",
        "import graphviz"
      ]
    },
    {
      "cell_type": "code",
      "source": [
        "'''\n",
        "QUELQUES INFORMATIONS SUR LES ATTRIBUTS:\n",
        "Source: https://archive.ics.uci.edu/ml/datasets/heart+disease \n",
        "\n",
        "# EDA: \n",
        "# https://www.analyticsvidhya.com/blog/2021/04/rapid-fire-eda-process-using-python-for-ml-implementation/ \n",
        "# https://medium.com/analytics-vidhya/tutorial-exploratory-data-analysis-eda-with-categorical-variables-6a569a3aea55 \n",
        "# https://www.kaggle.com/code/asimislam/heart-disease-uci-eda-and-ml-w-lr/notebook \n",
        "\n",
        "1. Âge: en années\n",
        "\n",
        "2. Sexe: 1 = mâle, 0 = femelle\n",
        "\n",
        "3. CP (Type du douleur thoracique): \n",
        "  -> 1. Angine typique -> ressource du sang au coeur diminuée\n",
        "  -> 2. Angine atypique -> non reliée avec le coeur\n",
        "  -> 3. Douleur non anginale -> spasmes oesophages (non reliée au coeur)\n",
        "  -> 4. Asymptomatique (\"silent angina\") -> aucun symptôme de maladie\n",
        "\n",
        "4. trestbps: Tension artérielle au repos (en mm Hg)\n",
        "\n",
        "5. chol: sérum cholestoral en mg/dl\n",
        "\n",
        "6. fbs: glycémie à jeun (\"fasting blood sugar\")\n",
        "  -> 1. > 120 mg/dl\n",
        "  -> 0. sinon\n",
        "\n",
        "7. restecg: résultats électrocardiographiques au repos\n",
        "  -> 0. Normal\n",
        "  -> 1. Ondes anormales de ST-T\n",
        "  -> 2. Hypertrophie ventriculaire gauche probable\n",
        "\n",
        "8. thalach: Fréquence cardiaque maximale\n",
        "\n",
        "9. exang: Angine d'effort (exercise induced angina)\n",
        "  -> 1. Oui\n",
        "  -> 2. Non\n",
        "\n",
        "10. oldpeak: Dépression ST induite par l'exercice par rapport au repos\n",
        "\n",
        "11. slope: Pente du segment ST d'effort maximal\n",
        "  -> 1. Pente positive: meilleur fréquence cardiaque avec exercice (rare)\n",
        "  -> 2. Plateau: coeur en santé\n",
        "  -> 3. Pente négative: coeur n'étant pas en santé\n",
        "\n",
        "12. ca: Nombre de vaisseaux principaux (0-4) colorés par fluoroscopie\n",
        "\n",
        "13. thal: Résultat de stress au thallium\n",
        "  -> 0 et 1. Normal\n",
        "  -> 2: fixed defect\n",
        "  -> 3. reversable defect\n",
        "'''"
      ],
      "metadata": {
        "id": "rtQdk33R2u75",
        "outputId": "2d6b6d41-e57b-42d5-fa61-9b0bf9fd4abc",
        "colab": {
          "base_uri": "https://localhost:8080/",
          "height": 87
        }
      },
      "execution_count": null,
      "outputs": [
        {
          "output_type": "execute_result",
          "data": {
            "text/plain": [
              "'\\nQUELQUES INFORMATIONS SUR LES ATTRIBUTS:\\nSource: https://archive.ics.uci.edu/ml/datasets/heart+disease \\n\\n# EDA: \\n# https://www.analyticsvidhya.com/blog/2021/04/rapid-fire-eda-process-using-python-for-ml-implementation/ \\n# https://medium.com/analytics-vidhya/tutorial-exploratory-data-analysis-eda-with-categorical-variables-6a569a3aea55 \\n# https://www.kaggle.com/code/asimislam/heart-disease-uci-eda-and-ml-w-lr/notebook \\n\\n1. Âge: en années\\n\\n2. Sexe: 1 = mâle, 0 = femelle\\n\\n3. CP (Type du douleur thoracique): \\n  -> 1. Angine typique -> ressource du sang au coeur diminuée\\n  -> 2. Angine atypique -> non reliée avec le coeur\\n  -> 3. Douleur non anginale -> spasmes oesophages (non reliée au coeur)\\n  -> 4. Asymptomatique (\"silent angina\") -> aucun symptôme de maladie\\n\\n4. trestbps: Tension artérielle au repos (en mm Hg)\\n\\n5. chol: sérum cholestoral en mg/dl\\n\\n6. fbs: glycémie à jeun (\"fasting blood sugar\")\\n  -> 1. > 120 mg/dl\\n  -> 0. sinon\\n\\n7. restecg: résultats électrocardiographiques au repos\\n  -> 0. Normal\\n  -> 1. Ondes anormales de ST-T\\n  -> 2. Hypertrophie ventriculaire gauche probable\\n\\n8. thalach: Fréquence cardiaque maximale\\n\\n9. exang: Angine d\\'effort (exercise induced angina)\\n  -> 1. Oui\\n  -> 2. Non\\n\\n10. oldpeak: Dépression ST induite par l\\'exercice par rapport au repos\\n\\n11. slope: Pente du segment ST d\\'effort maximal\\n  -> 1. Pente positive: meilleur fréquence cardiaque avec exercice (rare)\\n  -> 2. Plateau: coeur en santé\\n  -> 3. Pente négative: coeur n\\'étant pas en santé\\n\\n12. ca: Nombre de vaisseaux principaux (0-4) colorés par fluoroscopie\\n\\n13. thal: Résultat de stress au thallium\\n  -> 0 et 1. Normal\\n  -> 2: fixed defect\\n  -> 3. reversable defect\\n'"
            ],
            "application/vnd.google.colaboratory.intrinsic+json": {
              "type": "string"
            }
          },
          "metadata": {},
          "execution_count": 2
        }
      ]
    },
    {
      "cell_type": "code",
      "source": [
        "files.upload()"
      ],
      "metadata": {
        "colab": {
          "resources": {
            "http://localhost:8080/nbextensions/google.colab/files.js": {
              "data": "Ly8gQ29weXJpZ2h0IDIwMTcgR29vZ2xlIExMQwovLwovLyBMaWNlbnNlZCB1bmRlciB0aGUgQXBhY2hlIExpY2Vuc2UsIFZlcnNpb24gMi4wICh0aGUgIkxpY2Vuc2UiKTsKLy8geW91IG1heSBub3QgdXNlIHRoaXMgZmlsZSBleGNlcHQgaW4gY29tcGxpYW5jZSB3aXRoIHRoZSBMaWNlbnNlLgovLyBZb3UgbWF5IG9idGFpbiBhIGNvcHkgb2YgdGhlIExpY2Vuc2UgYXQKLy8KLy8gICAgICBodHRwOi8vd3d3LmFwYWNoZS5vcmcvbGljZW5zZXMvTElDRU5TRS0yLjAKLy8KLy8gVW5sZXNzIHJlcXVpcmVkIGJ5IGFwcGxpY2FibGUgbGF3IG9yIGFncmVlZCB0byBpbiB3cml0aW5nLCBzb2Z0d2FyZQovLyBkaXN0cmlidXRlZCB1bmRlciB0aGUgTGljZW5zZSBpcyBkaXN0cmlidXRlZCBvbiBhbiAiQVMgSVMiIEJBU0lTLAovLyBXSVRIT1VUIFdBUlJBTlRJRVMgT1IgQ09ORElUSU9OUyBPRiBBTlkgS0lORCwgZWl0aGVyIGV4cHJlc3Mgb3IgaW1wbGllZC4KLy8gU2VlIHRoZSBMaWNlbnNlIGZvciB0aGUgc3BlY2lmaWMgbGFuZ3VhZ2UgZ292ZXJuaW5nIHBlcm1pc3Npb25zIGFuZAovLyBsaW1pdGF0aW9ucyB1bmRlciB0aGUgTGljZW5zZS4KCi8qKgogKiBAZmlsZW92ZXJ2aWV3IEhlbHBlcnMgZm9yIGdvb2dsZS5jb2xhYiBQeXRob24gbW9kdWxlLgogKi8KKGZ1bmN0aW9uKHNjb3BlKSB7CmZ1bmN0aW9uIHNwYW4odGV4dCwgc3R5bGVBdHRyaWJ1dGVzID0ge30pIHsKICBjb25zdCBlbGVtZW50ID0gZG9jdW1lbnQuY3JlYXRlRWxlbWVudCgnc3BhbicpOwogIGVsZW1lbnQudGV4dENvbnRlbnQgPSB0ZXh0OwogIGZvciAoY29uc3Qga2V5IG9mIE9iamVjdC5rZXlzKHN0eWxlQXR0cmlidXRlcykpIHsKICAgIGVsZW1lbnQuc3R5bGVba2V5XSA9IHN0eWxlQXR0cmlidXRlc1trZXldOwogIH0KICByZXR1cm4gZWxlbWVudDsKfQoKLy8gTWF4IG51bWJlciBvZiBieXRlcyB3aGljaCB3aWxsIGJlIHVwbG9hZGVkIGF0IGEgdGltZS4KY29uc3QgTUFYX1BBWUxPQURfU0laRSA9IDEwMCAqIDEwMjQ7CgpmdW5jdGlvbiBfdXBsb2FkRmlsZXMoaW5wdXRJZCwgb3V0cHV0SWQpIHsKICBjb25zdCBzdGVwcyA9IHVwbG9hZEZpbGVzU3RlcChpbnB1dElkLCBvdXRwdXRJZCk7CiAgY29uc3Qgb3V0cHV0RWxlbWVudCA9IGRvY3VtZW50LmdldEVsZW1lbnRCeUlkKG91dHB1dElkKTsKICAvLyBDYWNoZSBzdGVwcyBvbiB0aGUgb3V0cHV0RWxlbWVudCB0byBtYWtlIGl0IGF2YWlsYWJsZSBmb3IgdGhlIG5leHQgY2FsbAogIC8vIHRvIHVwbG9hZEZpbGVzQ29udGludWUgZnJvbSBQeXRob24uCiAgb3V0cHV0RWxlbWVudC5zdGVwcyA9IHN0ZXBzOwoKICByZXR1cm4gX3VwbG9hZEZpbGVzQ29udGludWUob3V0cHV0SWQpOwp9CgovLyBUaGlzIGlzIHJvdWdobHkgYW4gYXN5bmMgZ2VuZXJhdG9yIChub3Qgc3VwcG9ydGVkIGluIHRoZSBicm93c2VyIHlldCksCi8vIHdoZXJlIHRoZXJlIGFyZSBtdWx0aXBsZSBhc3luY2hyb25vdXMgc3RlcHMgYW5kIHRoZSBQeXRob24gc2lkZSBpcyBnb2luZwovLyB0byBwb2xsIGZvciBjb21wbGV0aW9uIG9mIGVhY2ggc3RlcC4KLy8gVGhpcyB1c2VzIGEgUHJvbWlzZSB0byBibG9jayB0aGUgcHl0aG9uIHNpZGUgb24gY29tcGxldGlvbiBvZiBlYWNoIHN0ZXAsCi8vIHRoZW4gcGFzc2VzIHRoZSByZXN1bHQgb2YgdGhlIHByZXZpb3VzIHN0ZXAgYXMgdGhlIGlucHV0IHRvIHRoZSBuZXh0IHN0ZXAuCmZ1bmN0aW9uIF91cGxvYWRGaWxlc0NvbnRpbnVlKG91dHB1dElkKSB7CiAgY29uc3Qgb3V0cHV0RWxlbWVudCA9IGRvY3VtZW50LmdldEVsZW1lbnRCeUlkKG91dHB1dElkKTsKICBjb25zdCBzdGVwcyA9IG91dHB1dEVsZW1lbnQuc3RlcHM7CgogIGNvbnN0IG5leHQgPSBzdGVwcy5uZXh0KG91dHB1dEVsZW1lbnQubGFzdFByb21pc2VWYWx1ZSk7CiAgcmV0dXJuIFByb21pc2UucmVzb2x2ZShuZXh0LnZhbHVlLnByb21pc2UpLnRoZW4oKHZhbHVlKSA9PiB7CiAgICAvLyBDYWNoZSB0aGUgbGFzdCBwcm9taXNlIHZhbHVlIHRvIG1ha2UgaXQgYXZhaWxhYmxlIHRvIHRoZSBuZXh0CiAgICAvLyBzdGVwIG9mIHRoZSBnZW5lcmF0b3IuCiAgICBvdXRwdXRFbGVtZW50Lmxhc3RQcm9taXNlVmFsdWUgPSB2YWx1ZTsKICAgIHJldHVybiBuZXh0LnZhbHVlLnJlc3BvbnNlOwogIH0pOwp9CgovKioKICogR2VuZXJhdG9yIGZ1bmN0aW9uIHdoaWNoIGlzIGNhbGxlZCBiZXR3ZWVuIGVhY2ggYXN5bmMgc3RlcCBvZiB0aGUgdXBsb2FkCiAqIHByb2Nlc3MuCiAqIEBwYXJhbSB7c3RyaW5nfSBpbnB1dElkIEVsZW1lbnQgSUQgb2YgdGhlIGlucHV0IGZpbGUgcGlja2VyIGVsZW1lbnQuCiAqIEBwYXJhbSB7c3RyaW5nfSBvdXRwdXRJZCBFbGVtZW50IElEIG9mIHRoZSBvdXRwdXQgZGlzcGxheS4KICogQHJldHVybiB7IUl0ZXJhYmxlPCFPYmplY3Q+fSBJdGVyYWJsZSBvZiBuZXh0IHN0ZXBzLgogKi8KZnVuY3Rpb24qIHVwbG9hZEZpbGVzU3RlcChpbnB1dElkLCBvdXRwdXRJZCkgewogIGNvbnN0IGlucHV0RWxlbWVudCA9IGRvY3VtZW50LmdldEVsZW1lbnRCeUlkKGlucHV0SWQpOwogIGlucHV0RWxlbWVudC5kaXNhYmxlZCA9IGZhbHNlOwoKICBjb25zdCBvdXRwdXRFbGVtZW50ID0gZG9jdW1lbnQuZ2V0RWxlbWVudEJ5SWQob3V0cHV0SWQpOwogIG91dHB1dEVsZW1lbnQuaW5uZXJIVE1MID0gJyc7CgogIGNvbnN0IHBpY2tlZFByb21pc2UgPSBuZXcgUHJvbWlzZSgocmVzb2x2ZSkgPT4gewogICAgaW5wdXRFbGVtZW50LmFkZEV2ZW50TGlzdGVuZXIoJ2NoYW5nZScsIChlKSA9PiB7CiAgICAgIHJlc29sdmUoZS50YXJnZXQuZmlsZXMpOwogICAgfSk7CiAgfSk7CgogIGNvbnN0IGNhbmNlbCA9IGRvY3VtZW50LmNyZWF0ZUVsZW1lbnQoJ2J1dHRvbicpOwogIGlucHV0RWxlbWVudC5wYXJlbnRFbGVtZW50LmFwcGVuZENoaWxkKGNhbmNlbCk7CiAgY2FuY2VsLnRleHRDb250ZW50ID0gJ0NhbmNlbCB1cGxvYWQnOwogIGNvbnN0IGNhbmNlbFByb21pc2UgPSBuZXcgUHJvbWlzZSgocmVzb2x2ZSkgPT4gewogICAgY2FuY2VsLm9uY2xpY2sgPSAoKSA9PiB7CiAgICAgIHJlc29sdmUobnVsbCk7CiAgICB9OwogIH0pOwoKICAvLyBXYWl0IGZvciB0aGUgdXNlciB0byBwaWNrIHRoZSBmaWxlcy4KICBjb25zdCBmaWxlcyA9IHlpZWxkIHsKICAgIHByb21pc2U6IFByb21pc2UucmFjZShbcGlja2VkUHJvbWlzZSwgY2FuY2VsUHJvbWlzZV0pLAogICAgcmVzcG9uc2U6IHsKICAgICAgYWN0aW9uOiAnc3RhcnRpbmcnLAogICAgfQogIH07CgogIGNhbmNlbC5yZW1vdmUoKTsKCiAgLy8gRGlzYWJsZSB0aGUgaW5wdXQgZWxlbWVudCBzaW5jZSBmdXJ0aGVyIHBpY2tzIGFyZSBub3QgYWxsb3dlZC4KICBpbnB1dEVsZW1lbnQuZGlzYWJsZWQgPSB0cnVlOwoKICBpZiAoIWZpbGVzKSB7CiAgICByZXR1cm4gewogICAgICByZXNwb25zZTogewogICAgICAgIGFjdGlvbjogJ2NvbXBsZXRlJywKICAgICAgfQogICAgfTsKICB9CgogIGZvciAoY29uc3QgZmlsZSBvZiBmaWxlcykgewogICAgY29uc3QgbGkgPSBkb2N1bWVudC5jcmVhdGVFbGVtZW50KCdsaScpOwogICAgbGkuYXBwZW5kKHNwYW4oZmlsZS5uYW1lLCB7Zm9udFdlaWdodDogJ2JvbGQnfSkpOwogICAgbGkuYXBwZW5kKHNwYW4oCiAgICAgICAgYCgke2ZpbGUudHlwZSB8fCAnbi9hJ30pIC0gJHtmaWxlLnNpemV9IGJ5dGVzLCBgICsKICAgICAgICBgbGFzdCBtb2RpZmllZDogJHsKICAgICAgICAgICAgZmlsZS5sYXN0TW9kaWZpZWREYXRlID8gZmlsZS5sYXN0TW9kaWZpZWREYXRlLnRvTG9jYWxlRGF0ZVN0cmluZygpIDoKICAgICAgICAgICAgICAgICAgICAgICAgICAgICAgICAgICAgJ24vYSd9IC0gYCkpOwogICAgY29uc3QgcGVyY2VudCA9IHNwYW4oJzAlIGRvbmUnKTsKICAgIGxpLmFwcGVuZENoaWxkKHBlcmNlbnQpOwoKICAgIG91dHB1dEVsZW1lbnQuYXBwZW5kQ2hpbGQobGkpOwoKICAgIGNvbnN0IGZpbGVEYXRhUHJvbWlzZSA9IG5ldyBQcm9taXNlKChyZXNvbHZlKSA9PiB7CiAgICAgIGNvbnN0IHJlYWRlciA9IG5ldyBGaWxlUmVhZGVyKCk7CiAgICAgIHJlYWRlci5vbmxvYWQgPSAoZSkgPT4gewogICAgICAgIHJlc29sdmUoZS50YXJnZXQucmVzdWx0KTsKICAgICAgfTsKICAgICAgcmVhZGVyLnJlYWRBc0FycmF5QnVmZmVyKGZpbGUpOwogICAgfSk7CiAgICAvLyBXYWl0IGZvciB0aGUgZGF0YSB0byBiZSByZWFkeS4KICAgIGxldCBmaWxlRGF0YSA9IHlpZWxkIHsKICAgICAgcHJvbWlzZTogZmlsZURhdGFQcm9taXNlLAogICAgICByZXNwb25zZTogewogICAgICAgIGFjdGlvbjogJ2NvbnRpbnVlJywKICAgICAgfQogICAgfTsKCiAgICAvLyBVc2UgYSBjaHVua2VkIHNlbmRpbmcgdG8gYXZvaWQgbWVzc2FnZSBzaXplIGxpbWl0cy4gU2VlIGIvNjIxMTU2NjAuCiAgICBsZXQgcG9zaXRpb24gPSAwOwogICAgZG8gewogICAgICBjb25zdCBsZW5ndGggPSBNYXRoLm1pbihmaWxlRGF0YS5ieXRlTGVuZ3RoIC0gcG9zaXRpb24sIE1BWF9QQVlMT0FEX1NJWkUpOwogICAgICBjb25zdCBjaHVuayA9IG5ldyBVaW50OEFycmF5KGZpbGVEYXRhLCBwb3NpdGlvbiwgbGVuZ3RoKTsKICAgICAgcG9zaXRpb24gKz0gbGVuZ3RoOwoKICAgICAgY29uc3QgYmFzZTY0ID0gYnRvYShTdHJpbmcuZnJvbUNoYXJDb2RlLmFwcGx5KG51bGwsIGNodW5rKSk7CiAgICAgIHlpZWxkIHsKICAgICAgICByZXNwb25zZTogewogICAgICAgICAgYWN0aW9uOiAnYXBwZW5kJywKICAgICAgICAgIGZpbGU6IGZpbGUubmFtZSwKICAgICAgICAgIGRhdGE6IGJhc2U2NCwKICAgICAgICB9LAogICAgICB9OwoKICAgICAgbGV0IHBlcmNlbnREb25lID0gZmlsZURhdGEuYnl0ZUxlbmd0aCA9PT0gMCA/CiAgICAgICAgICAxMDAgOgogICAgICAgICAgTWF0aC5yb3VuZCgocG9zaXRpb24gLyBmaWxlRGF0YS5ieXRlTGVuZ3RoKSAqIDEwMCk7CiAgICAgIHBlcmNlbnQudGV4dENvbnRlbnQgPSBgJHtwZXJjZW50RG9uZX0lIGRvbmVgOwoKICAgIH0gd2hpbGUgKHBvc2l0aW9uIDwgZmlsZURhdGEuYnl0ZUxlbmd0aCk7CiAgfQoKICAvLyBBbGwgZG9uZS4KICB5aWVsZCB7CiAgICByZXNwb25zZTogewogICAgICBhY3Rpb246ICdjb21wbGV0ZScsCiAgICB9CiAgfTsKfQoKc2NvcGUuZ29vZ2xlID0gc2NvcGUuZ29vZ2xlIHx8IHt9OwpzY29wZS5nb29nbGUuY29sYWIgPSBzY29wZS5nb29nbGUuY29sYWIgfHwge307CnNjb3BlLmdvb2dsZS5jb2xhYi5fZmlsZXMgPSB7CiAgX3VwbG9hZEZpbGVzLAogIF91cGxvYWRGaWxlc0NvbnRpbnVlLAp9Owp9KShzZWxmKTsK",
              "ok": true,
              "headers": [
                [
                  "content-type",
                  "application/javascript"
                ]
              ],
              "status": 200,
              "status_text": ""
            }
          },
          "base_uri": "https://localhost:8080/",
          "height": 110
        },
        "id": "ABnvuA3eyTSJ",
        "outputId": "eb85dffc-e2d5-4700-9105-72d20dd93265"
      },
      "execution_count": null,
      "outputs": [
        {
          "output_type": "display_data",
          "data": {
            "text/plain": [
              "<IPython.core.display.HTML object>"
            ],
            "text/html": [
              "\n",
              "     <input type=\"file\" id=\"files-c343e506-ee7e-4436-846b-905393549e15\" name=\"files[]\" multiple disabled\n",
              "        style=\"border:none\" />\n",
              "     <output id=\"result-c343e506-ee7e-4436-846b-905393549e15\">\n",
              "      Upload widget is only available when the cell has been executed in the\n",
              "      current browser session. Please rerun this cell to enable.\n",
              "      </output>\n",
              "      <script src=\"/nbextensions/google.colab/files.js\"></script> "
            ]
          },
          "metadata": {}
        },
        {
          "output_type": "stream",
          "name": "stdout",
          "text": [
            "Saving heart.csv to heart (3).csv\n"
          ]
        },
        {
          "output_type": "execute_result",
          "data": {
            "text/plain": [
              "{'heart.csv': b'\\xef\\xbb\\xbfage,sex,cp,trestbps,chol,fbs,restecg,thalach,exang,oldpeak,slope,ca,thal,target\\r\\n63,1,3,145,233,1,0,150,0,2.3,0,0,1,1\\r\\n37,1,2,130,250,0,1,187,0,3.5,0,0,2,1\\r\\n41,0,1,130,204,0,0,172,0,1.4,2,0,2,1\\r\\n56,1,1,120,236,0,1,178,0,0.8,2,0,2,1\\r\\n57,0,0,120,354,0,1,163,1,0.6,2,0,2,1\\r\\n57,1,0,140,192,0,1,148,0,0.4,1,0,1,1\\r\\n56,0,1,140,294,0,0,153,0,1.3,1,0,2,1\\r\\n44,1,1,120,263,0,1,173,0,0,2,0,3,1\\r\\n52,1,2,172,199,1,1,162,0,0.5,2,0,3,1\\r\\n57,1,2,150,168,0,1,174,0,1.6,2,0,2,1\\r\\n54,1,0,140,239,0,1,160,0,1.2,2,0,2,1\\r\\n48,0,2,130,275,0,1,139,0,0.2,2,0,2,1\\r\\n49,1,1,130,266,0,1,171,0,0.6,2,0,2,1\\r\\n64,1,3,110,211,0,0,144,1,1.8,1,0,2,1\\r\\n58,0,3,150,283,1,0,162,0,1,2,0,2,1\\r\\n50,0,2,120,219,0,1,158,0,1.6,1,0,2,1\\r\\n58,0,2,120,340,0,1,172,0,0,2,0,2,1\\r\\n66,0,3,150,226,0,1,114,0,2.6,0,0,2,1\\r\\n43,1,0,150,247,0,1,171,0,1.5,2,0,2,1\\r\\n69,0,3,140,239,0,1,151,0,1.8,2,2,2,1\\r\\n59,1,0,135,234,0,1,161,0,0.5,1,0,3,1\\r\\n44,1,2,130,233,0,1,179,1,0.4,2,0,2,1\\r\\n42,1,0,140,226,0,1,178,0,0,2,0,2,1\\r\\n61,1,2,150,243,1,1,137,1,1,1,0,2,1\\r\\n40,1,3,140,199,0,1,178,1,1.4,2,0,3,1\\r\\n71,0,1,160,302,0,1,162,0,0.4,2,2,2,1\\r\\n59,1,2,150,212,1,1,157,0,1.6,2,0,2,1\\r\\n51,1,2,110,175,0,1,123,0,0.6,2,0,2,1\\r\\n65,0,2,140,417,1,0,157,0,0.8,2,1,2,1\\r\\n53,1,2,130,197,1,0,152,0,1.2,0,0,2,1\\r\\n41,0,1,105,198,0,1,168,0,0,2,1,2,1\\r\\n65,1,0,120,177,0,1,140,0,0.4,2,0,3,1\\r\\n44,1,1,130,219,0,0,188,0,0,2,0,2,1\\r\\n54,1,2,125,273,0,0,152,0,0.5,0,1,2,1\\r\\n51,1,3,125,213,0,0,125,1,1.4,2,1,2,1\\r\\n46,0,2,142,177,0,0,160,1,1.4,0,0,2,1\\r\\n54,0,2,135,304,1,1,170,0,0,2,0,2,1\\r\\n54,1,2,150,232,0,0,165,0,1.6,2,0,3,1\\r\\n65,0,2,155,269,0,1,148,0,0.8,2,0,2,1\\r\\n65,0,2,160,360,0,0,151,0,0.8,2,0,2,1\\r\\n51,0,2,140,308,0,0,142,0,1.5,2,1,2,1\\r\\n48,1,1,130,245,0,0,180,0,0.2,1,0,2,1\\r\\n45,1,0,104,208,0,0,148,1,3,1,0,2,1\\r\\n53,0,0,130,264,0,0,143,0,0.4,1,0,2,1\\r\\n39,1,2,140,321,0,0,182,0,0,2,0,2,1\\r\\n52,1,1,120,325,0,1,172,0,0.2,2,0,2,1\\r\\n44,1,2,140,235,0,0,180,0,0,2,0,2,1\\r\\n47,1,2,138,257,0,0,156,0,0,2,0,2,1\\r\\n53,0,2,128,216,0,0,115,0,0,2,0,0,1\\r\\n53,0,0,138,234,0,0,160,0,0,2,0,2,1\\r\\n51,0,2,130,256,0,0,149,0,0.5,2,0,2,1\\r\\n66,1,0,120,302,0,0,151,0,0.4,1,0,2,1\\r\\n62,1,2,130,231,0,1,146,0,1.8,1,3,3,1\\r\\n44,0,2,108,141,0,1,175,0,0.6,1,0,2,1\\r\\n63,0,2,135,252,0,0,172,0,0,2,0,2,1\\r\\n52,1,1,134,201,0,1,158,0,0.8,2,1,2,1\\r\\n48,1,0,122,222,0,0,186,0,0,2,0,2,1\\r\\n45,1,0,115,260,0,0,185,0,0,2,0,2,1\\r\\n34,1,3,118,182,0,0,174,0,0,2,0,2,1\\r\\n57,0,0,128,303,0,0,159,0,0,2,1,2,1\\r\\n71,0,2,110,265,1,0,130,0,0,2,1,2,1\\r\\n54,1,1,108,309,0,1,156,0,0,2,0,3,1\\r\\n52,1,3,118,186,0,0,190,0,0,1,0,1,1\\r\\n41,1,1,135,203,0,1,132,0,0,1,0,1,1\\r\\n58,1,2,140,211,1,0,165,0,0,2,0,2,1\\r\\n35,0,0,138,183,0,1,182,0,1.4,2,0,2,1\\r\\n51,1,2,100,222,0,1,143,1,1.2,1,0,2,1\\r\\n45,0,1,130,234,0,0,175,0,0.6,1,0,2,1\\r\\n44,1,1,120,220,0,1,170,0,0,2,0,2,1\\r\\n62,0,0,124,209,0,1,163,0,0,2,0,2,1\\r\\n54,1,2,120,258,0,0,147,0,0.4,1,0,3,1\\r\\n51,1,2,94,227,0,1,154,1,0,2,1,3,1\\r\\n29,1,1,130,204,0,0,202,0,0,2,0,2,1\\r\\n51,1,0,140,261,0,0,186,1,0,2,0,2,1\\r\\n43,0,2,122,213,0,1,165,0,0.2,1,0,2,1\\r\\n55,0,1,135,250,0,0,161,0,1.4,1,0,2,1\\r\\n51,1,2,125,245,1,0,166,0,2.4,1,0,2,1\\r\\n59,1,1,140,221,0,1,164,1,0,2,0,2,1\\r\\n52,1,1,128,205,1,1,184,0,0,2,0,2,1\\r\\n58,1,2,105,240,0,0,154,1,0.6,1,0,3,1\\r\\n41,1,2,112,250,0,1,179,0,0,2,0,2,1\\r\\n45,1,1,128,308,0,0,170,0,0,2,0,2,1\\r\\n60,0,2,102,318,0,1,160,0,0,2,1,2,1\\r\\n52,1,3,152,298,1,1,178,0,1.2,1,0,3,1\\r\\n42,0,0,102,265,0,0,122,0,0.6,1,0,2,1\\r\\n67,0,2,115,564,0,0,160,0,1.6,1,0,3,1\\r\\n68,1,2,118,277,0,1,151,0,1,2,1,3,1\\r\\n46,1,1,101,197,1,1,156,0,0,2,0,3,1\\r\\n54,0,2,110,214,0,1,158,0,1.6,1,0,2,1\\r\\n58,0,0,100,248,0,0,122,0,1,1,0,2,1\\r\\n48,1,2,124,255,1,1,175,0,0,2,2,2,1\\r\\n57,1,0,132,207,0,1,168,1,0,2,0,3,1\\r\\n52,1,2,138,223,0,1,169,0,0,2,4,2,1\\r\\n54,0,1,132,288,1,0,159,1,0,2,1,2,1\\r\\n45,0,1,112,160,0,1,138,0,0,1,0,2,1\\r\\n53,1,0,142,226,0,0,111,1,0,2,0,3,1\\r\\n62,0,0,140,394,0,0,157,0,1.2,1,0,2,1\\r\\n52,1,0,108,233,1,1,147,0,0.1,2,3,3,1\\r\\n43,1,2,130,315,0,1,162,0,1.9,2,1,2,1\\r\\n53,1,2,130,246,1,0,173,0,0,2,3,2,1\\r\\n42,1,3,148,244,0,0,178,0,0.8,2,2,2,1\\r\\n59,1,3,178,270,0,0,145,0,4.2,0,0,3,1\\r\\n63,0,1,140,195,0,1,179,0,0,2,2,2,1\\r\\n42,1,2,120,240,1,1,194,0,0.8,0,0,3,1\\r\\n50,1,2,129,196,0,1,163,0,0,2,0,2,1\\r\\n68,0,2,120,211,0,0,115,0,1.5,1,0,2,1\\r\\n69,1,3,160,234,1,0,131,0,0.1,1,1,2,1\\r\\n45,0,0,138,236,0,0,152,1,0.2,1,0,2,1\\r\\n50,0,1,120,244,0,1,162,0,1.1,2,0,2,1\\r\\n50,0,0,110,254,0,0,159,0,0,2,0,2,1\\r\\n64,0,0,180,325,0,1,154,1,0,2,0,2,1\\r\\n57,1,2,150,126,1,1,173,0,0.2,2,1,3,1\\r\\n64,0,2,140,313,0,1,133,0,0.2,2,0,3,1\\r\\n43,1,0,110,211,0,1,161,0,0,2,0,3,1\\r\\n55,1,1,130,262,0,1,155,0,0,2,0,2,1\\r\\n37,0,2,120,215,0,1,170,0,0,2,0,2,1\\r\\n41,1,2,130,214,0,0,168,0,2,1,0,2,1\\r\\n56,1,3,120,193,0,0,162,0,1.9,1,0,3,1\\r\\n46,0,1,105,204,0,1,172,0,0,2,0,2,1\\r\\n46,0,0,138,243,0,0,152,1,0,1,0,2,1\\r\\n64,0,0,130,303,0,1,122,0,2,1,2,2,1\\r\\n59,1,0,138,271,0,0,182,0,0,2,0,2,1\\r\\n41,0,2,112,268,0,0,172,1,0,2,0,2,1\\r\\n54,0,2,108,267,0,0,167,0,0,2,0,2,1\\r\\n39,0,2,94,199,0,1,179,0,0,2,0,2,1\\r\\n34,0,1,118,210,0,1,192,0,0.7,2,0,2,1\\r\\n47,1,0,112,204,0,1,143,0,0.1,2,0,2,1\\r\\n67,0,2,152,277,0,1,172,0,0,2,1,2,1\\r\\n52,0,2,136,196,0,0,169,0,0.1,1,0,2,1\\r\\n74,0,1,120,269,0,0,121,1,0.2,2,1,2,1\\r\\n54,0,2,160,201,0,1,163,0,0,2,1,2,1\\r\\n49,0,1,134,271,0,1,162,0,0,1,0,2,1\\r\\n42,1,1,120,295,0,1,162,0,0,2,0,2,1\\r\\n41,1,1,110,235,0,1,153,0,0,2,0,2,1\\r\\n41,0,1,126,306,0,1,163,0,0,2,0,2,1\\r\\n49,0,0,130,269,0,1,163,0,0,2,0,2,1\\r\\n60,0,2,120,178,1,1,96,0,0,2,0,2,1\\r\\n62,1,1,128,208,1,0,140,0,0,2,0,2,1\\r\\n57,1,0,110,201,0,1,126,1,1.5,1,0,1,1\\r\\n64,1,0,128,263,0,1,105,1,0.2,1,1,3,1\\r\\n51,0,2,120,295,0,0,157,0,0.6,2,0,2,1\\r\\n43,1,0,115,303,0,1,181,0,1.2,1,0,2,1\\r\\n42,0,2,120,209,0,1,173,0,0,1,0,2,1\\r\\n67,0,0,106,223,0,1,142,0,0.3,2,2,2,1\\r\\n76,0,2,140,197,0,2,116,0,1.1,1,0,2,1\\r\\n70,1,1,156,245,0,0,143,0,0,2,0,2,1\\r\\n44,0,2,118,242,0,1,149,0,0.3,1,1,2,1\\r\\n60,0,3,150,240,0,1,171,0,0.9,2,0,2,1\\r\\n44,1,2,120,226,0,1,169,0,0,2,0,2,1\\r\\n42,1,2,130,180,0,1,150,0,0,2,0,2,1\\r\\n66,1,0,160,228,0,0,138,0,2.3,2,0,1,1\\r\\n71,0,0,112,149,0,1,125,0,1.6,1,0,2,1\\r\\n64,1,3,170,227,0,0,155,0,0.6,1,0,3,1\\r\\n66,0,2,146,278,0,0,152,0,0,1,1,2,1\\r\\n39,0,2,138,220,0,1,152,0,0,1,0,2,1\\r\\n58,0,0,130,197,0,1,131,0,0.6,1,0,2,1\\r\\n47,1,2,130,253,0,1,179,0,0,2,0,2,1\\r\\n35,1,1,122,192,0,1,174,0,0,2,0,2,1\\r\\n58,1,1,125,220,0,1,144,0,0.4,1,4,3,1\\r\\n56,1,1,130,221,0,0,163,0,0,2,0,3,1\\r\\n56,1,1,120,240,0,1,169,0,0,0,0,2,1\\r\\n55,0,1,132,342,0,1,166,0,1.2,2,0,2,1\\r\\n41,1,1,120,157,0,1,182,0,0,2,0,2,1\\r\\n38,1,2,138,175,0,1,173,0,0,2,4,2,1\\r\\n38,1,2,138,175,0,1,173,0,0,2,4,2,1\\r\\n67,1,0,160,286,0,0,108,1,1.5,1,3,2,0\\r\\n67,1,0,120,229,0,0,129,1,2.6,1,2,3,0\\r\\n62,0,0,140,268,0,0,160,0,3.6,0,2,2,0\\r\\n63,1,0,130,254,0,0,147,0,1.4,1,1,3,0\\r\\n53,1,0,140,203,1,0,155,1,3.1,0,0,3,0\\r\\n56,1,2,130,256,1,0,142,1,0.6,1,1,1,0\\r\\n48,1,1,110,229,0,1,168,0,1,0,0,3,0\\r\\n58,1,1,120,284,0,0,160,0,1.8,1,0,2,0\\r\\n58,1,2,132,224,0,0,173,0,3.2,2,2,3,0\\r\\n60,1,0,130,206,0,0,132,1,2.4,1,2,3,0\\r\\n40,1,0,110,167,0,0,114,1,2,1,0,3,0\\r\\n60,1,0,117,230,1,1,160,1,1.4,2,2,3,0\\r\\n64,1,2,140,335,0,1,158,0,0,2,0,2,0\\r\\n43,1,0,120,177,0,0,120,1,2.5,1,0,3,0\\r\\n57,1,0,150,276,0,0,112,1,0.6,1,1,1,0\\r\\n55,1,0,132,353,0,1,132,1,1.2,1,1,3,0\\r\\n65,0,0,150,225,0,0,114,0,1,1,3,3,0\\r\\n61,0,0,130,330,0,0,169,0,0,2,0,2,0\\r\\n58,1,2,112,230,0,0,165,0,2.5,1,1,3,0\\r\\n50,1,0,150,243,0,0,128,0,2.6,1,0,3,0\\r\\n44,1,0,112,290,0,0,153,0,0,2,1,2,0\\r\\n60,1,0,130,253,0,1,144,1,1.4,2,1,3,0\\r\\n54,1,0,124,266,0,0,109,1,2.2,1,1,3,0\\r\\n50,1,2,140,233,0,1,163,0,0.6,1,1,3,0\\r\\n41,1,0,110,172,0,0,158,0,0,2,0,3,0\\r\\n51,0,0,130,305,0,1,142,1,1.2,1,0,3,0\\r\\n58,1,0,128,216,0,0,131,1,2.2,1,3,3,0\\r\\n54,1,0,120,188,0,1,113,0,1.4,1,1,3,0\\r\\n60,1,0,145,282,0,0,142,1,2.8,1,2,3,0\\r\\n60,1,2,140,185,0,0,155,0,3,1,0,2,0\\r\\n59,1,0,170,326,0,0,140,1,3.4,0,0,3,0\\r\\n46,1,2,150,231,0,1,147,0,3.6,1,0,2,0\\r\\n67,1,0,125,254,1,1,163,0,0.2,1,2,3,0\\r\\n62,1,0,120,267,0,1,99,1,1.8,1,2,3,0\\r\\n65,1,0,110,248,0,0,158,0,0.6,2,2,1,0\\r\\n44,1,0,110,197,0,0,177,0,0,2,1,2,0\\r\\n60,1,0,125,258,0,0,141,1,2.8,1,1,3,0\\r\\n58,1,0,150,270,0,0,111,1,0.8,2,0,3,0\\r\\n68,1,2,180,274,1,0,150,1,1.6,1,0,3,0\\r\\n62,0,0,160,164,0,0,145,0,6.2,0,3,3,0\\r\\n52,1,0,128,255,0,1,161,1,0,2,1,3,0\\r\\n59,1,0,110,239,0,0,142,1,1.2,1,1,3,0\\r\\n60,0,0,150,258,0,0,157,0,2.6,1,2,3,0\\r\\n49,1,2,120,188,0,1,139,0,2,1,3,3,0\\r\\n59,1,0,140,177,0,1,162,1,0,2,1,3,0\\r\\n57,1,2,128,229,0,0,150,0,0.4,1,1,3,0\\r\\n61,1,0,120,260,0,1,140,1,3.6,1,1,3,0\\r\\n39,1,0,118,219,0,1,140,0,1.2,1,0,3,0\\r\\n61,0,0,145,307,0,0,146,1,1,1,0,3,0\\r\\n56,1,0,125,249,1,0,144,1,1.2,1,1,2,0\\r\\n43,0,0,132,341,1,0,136,1,3,1,0,3,0\\r\\n62,0,2,130,263,0,1,97,0,1.2,1,1,3,0\\r\\n63,1,0,130,330,1,0,132,1,1.8,2,3,3,0\\r\\n65,1,0,135,254,0,0,127,0,2.8,1,1,3,0\\r\\n48,1,0,130,256,1,0,150,1,0,2,2,3,0\\r\\n63,0,0,150,407,0,0,154,0,4,1,3,3,0\\r\\n55,1,0,140,217,0,1,111,1,5.6,0,0,3,0\\r\\n65,1,3,138,282,1,0,174,0,1.4,1,1,2,0\\r\\n56,0,0,200,288,1,0,133,1,4,0,2,3,0\\r\\n54,1,0,110,239,0,1,126,1,2.8,1,1,3,0\\r\\n70,1,0,145,174,0,1,125,1,2.6,0,0,3,0\\r\\n62,1,1,120,281,0,0,103,0,1.4,1,1,3,0\\r\\n35,1,0,120,198,0,1,130,1,1.6,1,0,3,0\\r\\n59,1,3,170,288,0,0,159,0,0.2,1,0,3,0\\r\\n64,1,2,125,309,0,1,131,1,1.8,1,0,3,0\\r\\n47,1,2,108,243,0,1,152,0,0,2,0,2,0\\r\\n57,1,0,165,289,1,0,124,0,1,1,3,3,0\\r\\n55,1,0,160,289,0,0,145,1,0.8,1,1,3,0\\r\\n64,1,0,120,246,0,0,96,1,2.2,0,1,2,0\\r\\n70,1,0,130,322,0,0,109,0,2.4,1,3,2,0\\r\\n51,1,0,140,299,0,1,173,1,1.6,2,0,3,0\\r\\n58,1,0,125,300,0,0,171,0,0,2,2,3,0\\r\\n60,1,0,140,293,0,0,170,0,1.2,1,2,3,0\\r\\n77,1,0,125,304,0,0,162,1,0,2,3,2,0\\r\\n35,1,0,126,282,0,0,156,1,0,2,0,3,0\\r\\n70,1,2,160,269,0,1,112,1,2.9,1,1,3,0\\r\\n59,0,0,174,249,0,1,143,1,0,1,0,2,0\\r\\n64,1,0,145,212,0,0,132,0,2,1,2,1,0\\r\\n57,1,0,152,274,0,1,88,1,1.2,1,1,3,0\\r\\n56,1,0,132,184,0,0,105,1,2.1,1,1,1,0\\r\\n48,1,0,124,274,0,0,166,0,0.5,1,0,3,0\\r\\n56,0,0,134,409,0,0,150,1,1.9,1,2,3,0\\r\\n66,1,1,160,246,0,1,120,1,0,1,3,1,0\\r\\n54,1,1,192,283,0,0,195,0,0,2,1,3,0\\r\\n69,1,2,140,254,0,0,146,0,2,1,3,3,0\\r\\n51,1,0,140,298,0,1,122,1,4.2,1,3,3,0\\r\\n43,1,0,132,247,1,0,143,1,0.1,1,4,3,0\\r\\n62,0,0,138,294,1,1,106,0,1.9,1,3,2,0\\r\\n67,1,0,100,299,0,0,125,1,0.9,1,2,2,0\\r\\n59,1,3,160,273,0,0,125,0,0,2,0,2,0\\r\\n45,1,0,142,309,0,0,147,1,0,1,3,3,0\\r\\n58,1,0,128,259,0,0,130,1,3,1,2,3,0\\r\\n50,1,0,144,200,0,0,126,1,0.9,1,0,3,0\\r\\n62,0,0,150,244,0,1,154,1,1.4,1,0,2,0\\r\\n38,1,3,120,231,0,1,182,1,3.8,1,0,3,0\\r\\n66,0,0,178,228,1,1,165,1,1,1,2,3,0\\r\\n52,1,0,112,230,0,1,160,0,0,2,1,2,0\\r\\n53,1,0,123,282,0,1,95,1,2,1,2,3,0\\r\\n63,0,0,108,269,0,1,169,1,1.8,1,2,2,0\\r\\n54,1,0,110,206,0,0,108,1,0,1,1,2,0\\r\\n66,1,0,112,212,0,0,132,1,0.1,2,1,2,0\\r\\n55,0,0,180,327,0,2,117,1,3.4,1,0,2,0\\r\\n49,1,2,118,149,0,0,126,0,0.8,2,3,2,0\\r\\n54,1,0,122,286,0,0,116,1,3.2,1,2,2,0\\r\\n56,1,0,130,283,1,0,103,1,1.6,0,0,3,0\\r\\n46,1,0,120,249,0,0,144,0,0.8,2,0,3,0\\r\\n61,1,3,134,234,0,1,145,0,2.6,1,2,2,0\\r\\n67,1,0,120,237,0,1,71,0,1,1,0,2,0\\r\\n58,1,0,100,234,0,1,156,0,0.1,2,1,3,0\\r\\n47,1,0,110,275,0,0,118,1,1,1,1,2,0\\r\\n52,1,0,125,212,0,1,168,0,1,2,2,3,0\\r\\n58,1,0,146,218,0,1,105,0,2,1,1,3,0\\r\\n57,1,1,124,261,0,1,141,0,0.3,2,0,3,0\\r\\n58,0,1,136,319,1,0,152,0,0,2,2,2,0\\r\\n61,1,0,138,166,0,0,125,1,3.6,1,1,2,0\\r\\n42,1,0,136,315,0,1,125,1,1.8,1,0,1,0\\r\\n52,1,0,128,204,1,1,156,1,1,1,0,0,0\\r\\n59,1,2,126,218,1,1,134,0,2.2,1,1,1,0\\r\\n40,1,0,152,223,0,1,181,0,0,2,0,3,0\\r\\n61,1,0,140,207,0,0,138,1,1.9,2,1,3,0\\r\\n46,1,0,140,311,0,1,120,1,1.8,1,2,3,0\\r\\n59,1,3,134,204,0,1,162,0,0.8,2,2,2,0\\r\\n57,1,1,154,232,0,0,164,0,0,2,1,2,0\\r\\n57,1,0,110,335,0,1,143,1,3,1,1,3,0\\r\\n55,0,0,128,205,0,2,130,1,2,1,1,3,0\\r\\n61,1,0,148,203,0,1,161,0,0,2,1,3,0\\r\\n58,1,0,114,318,0,2,140,0,4.4,0,3,1,0\\r\\n58,0,0,170,225,1,0,146,1,2.8,1,2,1,0\\r\\n67,1,2,152,212,0,0,150,0,0.8,1,0,3,0\\r\\n44,1,0,120,169,0,1,144,1,2.8,0,0,1,0\\r\\n63,1,0,140,187,0,0,144,1,4,2,2,3,0\\r\\n63,0,0,124,197,0,1,136,1,0,1,0,2,0\\r\\n59,1,0,164,176,1,0,90,0,1,1,2,1,0\\r\\n57,0,0,140,241,0,1,123,1,0.2,1,0,3,0\\r\\n45,1,3,110,264,0,1,132,0,1.2,1,0,3,0\\r\\n68,1,0,144,193,1,1,141,0,3.4,1,2,3,0\\r\\n57,1,0,130,131,0,1,115,1,1.2,1,1,3,0\\r\\n57,0,1,130,236,0,0,174,0,0,1,1,2,0\\r\\n'}"
            ]
          },
          "metadata": {},
          "execution_count": 3
        }
      ]
    },
    {
      "cell_type": "code",
      "source": [
        "df = read_csv('heart.csv')\n",
        "print(df.shape)"
      ],
      "metadata": {
        "colab": {
          "base_uri": "https://localhost:8080/"
        },
        "id": "feJdsHv0yY7-",
        "outputId": "976a6018-dbf1-4ca1-a580-d1e3b2f07335"
      },
      "execution_count": null,
      "outputs": [
        {
          "output_type": "stream",
          "name": "stdout",
          "text": [
            "(303, 14)\n"
          ]
        }
      ]
    },
    {
      "cell_type": "code",
      "source": [
        "df.target.value_counts()\n",
        "df.head()"
      ],
      "metadata": {
        "colab": {
          "base_uri": "https://localhost:8080/",
          "height": 206
        },
        "id": "y0SAqaSAy3bj",
        "outputId": "9daa88d2-de2f-496f-be3f-26e9f030e4e7"
      },
      "execution_count": null,
      "outputs": [
        {
          "output_type": "execute_result",
          "data": {
            "text/plain": [
              "   age  sex  cp  trestbps  chol  fbs  restecg  thalach  exang  oldpeak  slope  \\\n",
              "0   63    1   3       145   233    1        0      150      0      2.3      0   \n",
              "1   37    1   2       130   250    0        1      187      0      3.5      0   \n",
              "2   41    0   1       130   204    0        0      172      0      1.4      2   \n",
              "3   56    1   1       120   236    0        1      178      0      0.8      2   \n",
              "4   57    0   0       120   354    0        1      163      1      0.6      2   \n",
              "\n",
              "   ca  thal  target  \n",
              "0   0     1       1  \n",
              "1   0     2       1  \n",
              "2   0     2       1  \n",
              "3   0     2       1  \n",
              "4   0     2       1  "
            ],
            "text/html": [
              "\n",
              "  <div id=\"df-f03eda71-988a-466c-93ee-2dd885709d06\">\n",
              "    <div class=\"colab-df-container\">\n",
              "      <div>\n",
              "<style scoped>\n",
              "    .dataframe tbody tr th:only-of-type {\n",
              "        vertical-align: middle;\n",
              "    }\n",
              "\n",
              "    .dataframe tbody tr th {\n",
              "        vertical-align: top;\n",
              "    }\n",
              "\n",
              "    .dataframe thead th {\n",
              "        text-align: right;\n",
              "    }\n",
              "</style>\n",
              "<table border=\"1\" class=\"dataframe\">\n",
              "  <thead>\n",
              "    <tr style=\"text-align: right;\">\n",
              "      <th></th>\n",
              "      <th>age</th>\n",
              "      <th>sex</th>\n",
              "      <th>cp</th>\n",
              "      <th>trestbps</th>\n",
              "      <th>chol</th>\n",
              "      <th>fbs</th>\n",
              "      <th>restecg</th>\n",
              "      <th>thalach</th>\n",
              "      <th>exang</th>\n",
              "      <th>oldpeak</th>\n",
              "      <th>slope</th>\n",
              "      <th>ca</th>\n",
              "      <th>thal</th>\n",
              "      <th>target</th>\n",
              "    </tr>\n",
              "  </thead>\n",
              "  <tbody>\n",
              "    <tr>\n",
              "      <th>0</th>\n",
              "      <td>63</td>\n",
              "      <td>1</td>\n",
              "      <td>3</td>\n",
              "      <td>145</td>\n",
              "      <td>233</td>\n",
              "      <td>1</td>\n",
              "      <td>0</td>\n",
              "      <td>150</td>\n",
              "      <td>0</td>\n",
              "      <td>2.3</td>\n",
              "      <td>0</td>\n",
              "      <td>0</td>\n",
              "      <td>1</td>\n",
              "      <td>1</td>\n",
              "    </tr>\n",
              "    <tr>\n",
              "      <th>1</th>\n",
              "      <td>37</td>\n",
              "      <td>1</td>\n",
              "      <td>2</td>\n",
              "      <td>130</td>\n",
              "      <td>250</td>\n",
              "      <td>0</td>\n",
              "      <td>1</td>\n",
              "      <td>187</td>\n",
              "      <td>0</td>\n",
              "      <td>3.5</td>\n",
              "      <td>0</td>\n",
              "      <td>0</td>\n",
              "      <td>2</td>\n",
              "      <td>1</td>\n",
              "    </tr>\n",
              "    <tr>\n",
              "      <th>2</th>\n",
              "      <td>41</td>\n",
              "      <td>0</td>\n",
              "      <td>1</td>\n",
              "      <td>130</td>\n",
              "      <td>204</td>\n",
              "      <td>0</td>\n",
              "      <td>0</td>\n",
              "      <td>172</td>\n",
              "      <td>0</td>\n",
              "      <td>1.4</td>\n",
              "      <td>2</td>\n",
              "      <td>0</td>\n",
              "      <td>2</td>\n",
              "      <td>1</td>\n",
              "    </tr>\n",
              "    <tr>\n",
              "      <th>3</th>\n",
              "      <td>56</td>\n",
              "      <td>1</td>\n",
              "      <td>1</td>\n",
              "      <td>120</td>\n",
              "      <td>236</td>\n",
              "      <td>0</td>\n",
              "      <td>1</td>\n",
              "      <td>178</td>\n",
              "      <td>0</td>\n",
              "      <td>0.8</td>\n",
              "      <td>2</td>\n",
              "      <td>0</td>\n",
              "      <td>2</td>\n",
              "      <td>1</td>\n",
              "    </tr>\n",
              "    <tr>\n",
              "      <th>4</th>\n",
              "      <td>57</td>\n",
              "      <td>0</td>\n",
              "      <td>0</td>\n",
              "      <td>120</td>\n",
              "      <td>354</td>\n",
              "      <td>0</td>\n",
              "      <td>1</td>\n",
              "      <td>163</td>\n",
              "      <td>1</td>\n",
              "      <td>0.6</td>\n",
              "      <td>2</td>\n",
              "      <td>0</td>\n",
              "      <td>2</td>\n",
              "      <td>1</td>\n",
              "    </tr>\n",
              "  </tbody>\n",
              "</table>\n",
              "</div>\n",
              "      <button class=\"colab-df-convert\" onclick=\"convertToInteractive('df-f03eda71-988a-466c-93ee-2dd885709d06')\"\n",
              "              title=\"Convert this dataframe to an interactive table.\"\n",
              "              style=\"display:none;\">\n",
              "        \n",
              "  <svg xmlns=\"http://www.w3.org/2000/svg\" height=\"24px\"viewBox=\"0 0 24 24\"\n",
              "       width=\"24px\">\n",
              "    <path d=\"M0 0h24v24H0V0z\" fill=\"none\"/>\n",
              "    <path d=\"M18.56 5.44l.94 2.06.94-2.06 2.06-.94-2.06-.94-.94-2.06-.94 2.06-2.06.94zm-11 1L8.5 8.5l.94-2.06 2.06-.94-2.06-.94L8.5 2.5l-.94 2.06-2.06.94zm10 10l.94 2.06.94-2.06 2.06-.94-2.06-.94-.94-2.06-.94 2.06-2.06.94z\"/><path d=\"M17.41 7.96l-1.37-1.37c-.4-.4-.92-.59-1.43-.59-.52 0-1.04.2-1.43.59L10.3 9.45l-7.72 7.72c-.78.78-.78 2.05 0 2.83L4 21.41c.39.39.9.59 1.41.59.51 0 1.02-.2 1.41-.59l7.78-7.78 2.81-2.81c.8-.78.8-2.07 0-2.86zM5.41 20L4 18.59l7.72-7.72 1.47 1.35L5.41 20z\"/>\n",
              "  </svg>\n",
              "      </button>\n",
              "      \n",
              "  <style>\n",
              "    .colab-df-container {\n",
              "      display:flex;\n",
              "      flex-wrap:wrap;\n",
              "      gap: 12px;\n",
              "    }\n",
              "\n",
              "    .colab-df-convert {\n",
              "      background-color: #E8F0FE;\n",
              "      border: none;\n",
              "      border-radius: 50%;\n",
              "      cursor: pointer;\n",
              "      display: none;\n",
              "      fill: #1967D2;\n",
              "      height: 32px;\n",
              "      padding: 0 0 0 0;\n",
              "      width: 32px;\n",
              "    }\n",
              "\n",
              "    .colab-df-convert:hover {\n",
              "      background-color: #E2EBFA;\n",
              "      box-shadow: 0px 1px 2px rgba(60, 64, 67, 0.3), 0px 1px 3px 1px rgba(60, 64, 67, 0.15);\n",
              "      fill: #174EA6;\n",
              "    }\n",
              "\n",
              "    [theme=dark] .colab-df-convert {\n",
              "      background-color: #3B4455;\n",
              "      fill: #D2E3FC;\n",
              "    }\n",
              "\n",
              "    [theme=dark] .colab-df-convert:hover {\n",
              "      background-color: #434B5C;\n",
              "      box-shadow: 0px 1px 3px 1px rgba(0, 0, 0, 0.15);\n",
              "      filter: drop-shadow(0px 1px 2px rgba(0, 0, 0, 0.3));\n",
              "      fill: #FFFFFF;\n",
              "    }\n",
              "  </style>\n",
              "\n",
              "      <script>\n",
              "        const buttonEl =\n",
              "          document.querySelector('#df-f03eda71-988a-466c-93ee-2dd885709d06 button.colab-df-convert');\n",
              "        buttonEl.style.display =\n",
              "          google.colab.kernel.accessAllowed ? 'block' : 'none';\n",
              "\n",
              "        async function convertToInteractive(key) {\n",
              "          const element = document.querySelector('#df-f03eda71-988a-466c-93ee-2dd885709d06');\n",
              "          const dataTable =\n",
              "            await google.colab.kernel.invokeFunction('convertToInteractive',\n",
              "                                                     [key], {});\n",
              "          if (!dataTable) return;\n",
              "\n",
              "          const docLinkHtml = 'Like what you see? Visit the ' +\n",
              "            '<a target=\"_blank\" href=https://colab.research.google.com/notebooks/data_table.ipynb>data table notebook</a>'\n",
              "            + ' to learn more about interactive tables.';\n",
              "          element.innerHTML = '';\n",
              "          dataTable['output_type'] = 'display_data';\n",
              "          await google.colab.output.renderOutput(dataTable, element);\n",
              "          const docLink = document.createElement('div');\n",
              "          docLink.innerHTML = docLinkHtml;\n",
              "          element.appendChild(docLink);\n",
              "        }\n",
              "      </script>\n",
              "    </div>\n",
              "  </div>\n",
              "  "
            ]
          },
          "metadata": {},
          "execution_count": 5
        }
      ]
    },
    {
      "cell_type": "code",
      "source": [
        "print('EDA: Exploratory Data Analysis')\n",
        "print('Informations générales sur le jeu de données')\n",
        "print('***')\n",
        "df.info()"
      ],
      "metadata": {
        "colab": {
          "base_uri": "https://localhost:8080/"
        },
        "id": "ldAH7bIZ7eer",
        "outputId": "fd45d8d8-02b5-4035-9780-2af3416c38da"
      },
      "execution_count": null,
      "outputs": [
        {
          "output_type": "stream",
          "name": "stdout",
          "text": [
            "EDA: Exploratory Data Analysis\n",
            "Informations générales sur le jeu de données\n",
            "***\n",
            "<class 'pandas.core.frame.DataFrame'>\n",
            "RangeIndex: 303 entries, 0 to 302\n",
            "Data columns (total 14 columns):\n",
            " #   Column    Non-Null Count  Dtype  \n",
            "---  ------    --------------  -----  \n",
            " 0   age       303 non-null    int64  \n",
            " 1   sex       303 non-null    int64  \n",
            " 2   cp        303 non-null    int64  \n",
            " 3   trestbps  303 non-null    int64  \n",
            " 4   chol      303 non-null    int64  \n",
            " 5   fbs       303 non-null    int64  \n",
            " 6   restecg   303 non-null    int64  \n",
            " 7   thalach   303 non-null    int64  \n",
            " 8   exang     303 non-null    int64  \n",
            " 9   oldpeak   303 non-null    float64\n",
            " 10  slope     303 non-null    int64  \n",
            " 11  ca        303 non-null    int64  \n",
            " 12  thal      303 non-null    int64  \n",
            " 13  target    303 non-null    int64  \n",
            "dtypes: float64(1), int64(13)\n",
            "memory usage: 33.3 KB\n"
          ]
        }
      ]
    },
    {
      "cell_type": "code",
      "source": [
        "# Aucune présence de données manquantes\n",
        "# Pour séparer les variables catégorielles des variables numériques, float64 \n",
        "# pour les variables numériques et int64 pour catégorielles."
      ],
      "metadata": {
        "id": "9yzOq6RXCxQl"
      },
      "execution_count": null,
      "outputs": []
    },
    {
      "cell_type": "code",
      "source": [
        "cat_att = ['sex', 'cp', 'fbs', 'restecg', 'exang', 'slope', 'ca', 'thal']\n",
        "num_att = ['age', 'trestbps', 'chol', 'thalach', 'oldpeak']"
      ],
      "metadata": {
        "id": "TZ73XrbzCx6V"
      },
      "execution_count": null,
      "outputs": []
    },
    {
      "cell_type": "code",
      "source": [
        "df[num_att] = df[num_att].astype(float)\n",
        "df.info()"
      ],
      "metadata": {
        "colab": {
          "base_uri": "https://localhost:8080/"
        },
        "id": "yfNZfHNd-Cdt",
        "outputId": "97f0a4b9-eff4-4b90-8267-93c8c350a7e4"
      },
      "execution_count": null,
      "outputs": [
        {
          "output_type": "stream",
          "name": "stdout",
          "text": [
            "<class 'pandas.core.frame.DataFrame'>\n",
            "RangeIndex: 303 entries, 0 to 302\n",
            "Data columns (total 14 columns):\n",
            " #   Column    Non-Null Count  Dtype  \n",
            "---  ------    --------------  -----  \n",
            " 0   age       303 non-null    float64\n",
            " 1   sex       303 non-null    int64  \n",
            " 2   cp        303 non-null    int64  \n",
            " 3   trestbps  303 non-null    float64\n",
            " 4   chol      303 non-null    float64\n",
            " 5   fbs       303 non-null    int64  \n",
            " 6   restecg   303 non-null    int64  \n",
            " 7   thalach   303 non-null    float64\n",
            " 8   exang     303 non-null    int64  \n",
            " 9   oldpeak   303 non-null    float64\n",
            " 10  slope     303 non-null    int64  \n",
            " 11  ca        303 non-null    int64  \n",
            " 12  thal      303 non-null    int64  \n",
            " 13  target    303 non-null    int64  \n",
            "dtypes: float64(5), int64(9)\n",
            "memory usage: 33.3 KB\n"
          ]
        }
      ]
    },
    {
      "cell_type": "code",
      "source": [
        "# Les données semblent assez balancées\n",
        "# Différence de 9% approximativement (pour 303 patients au total)\n",
        "df.groupby(['target'])['target'].count()\n",
        "\n",
        "#df.astype('object').describe().transpose()"
      ],
      "metadata": {
        "colab": {
          "base_uri": "https://localhost:8080/"
        },
        "id": "oM2DCdy5-97J",
        "outputId": "c9eadb9f-c6ec-48bb-80ee-f6231b844592"
      },
      "execution_count": null,
      "outputs": [
        {
          "output_type": "execute_result",
          "data": {
            "text/plain": [
              "target\n",
              "0    138\n",
              "1    165\n",
              "Name: target, dtype: int64"
            ]
          },
          "metadata": {},
          "execution_count": 10
        }
      ]
    },
    {
      "cell_type": "code",
      "source": [
        "# Données statistiques pour les données numériques\n",
        "df[num_att].describe()"
      ],
      "metadata": {
        "colab": {
          "base_uri": "https://localhost:8080/",
          "height": 300
        },
        "id": "D-NcMHzzDbY4",
        "outputId": "d39d4e89-639a-4e36-d47f-c975cef83a62"
      },
      "execution_count": null,
      "outputs": [
        {
          "output_type": "execute_result",
          "data": {
            "text/plain": [
              "              age    trestbps        chol     thalach     oldpeak\n",
              "count  303.000000  303.000000  303.000000  303.000000  303.000000\n",
              "mean    54.366337  131.623762  246.264026  149.646865    1.039604\n",
              "std      9.082101   17.538143   51.830751   22.905161    1.161075\n",
              "min     29.000000   94.000000  126.000000   71.000000    0.000000\n",
              "25%     47.500000  120.000000  211.000000  133.500000    0.000000\n",
              "50%     55.000000  130.000000  240.000000  153.000000    0.800000\n",
              "75%     61.000000  140.000000  274.500000  166.000000    1.600000\n",
              "max     77.000000  200.000000  564.000000  202.000000    6.200000"
            ],
            "text/html": [
              "\n",
              "  <div id=\"df-f4fe41ed-43b9-4615-80be-da73c5501d71\">\n",
              "    <div class=\"colab-df-container\">\n",
              "      <div>\n",
              "<style scoped>\n",
              "    .dataframe tbody tr th:only-of-type {\n",
              "        vertical-align: middle;\n",
              "    }\n",
              "\n",
              "    .dataframe tbody tr th {\n",
              "        vertical-align: top;\n",
              "    }\n",
              "\n",
              "    .dataframe thead th {\n",
              "        text-align: right;\n",
              "    }\n",
              "</style>\n",
              "<table border=\"1\" class=\"dataframe\">\n",
              "  <thead>\n",
              "    <tr style=\"text-align: right;\">\n",
              "      <th></th>\n",
              "      <th>age</th>\n",
              "      <th>trestbps</th>\n",
              "      <th>chol</th>\n",
              "      <th>thalach</th>\n",
              "      <th>oldpeak</th>\n",
              "    </tr>\n",
              "  </thead>\n",
              "  <tbody>\n",
              "    <tr>\n",
              "      <th>count</th>\n",
              "      <td>303.000000</td>\n",
              "      <td>303.000000</td>\n",
              "      <td>303.000000</td>\n",
              "      <td>303.000000</td>\n",
              "      <td>303.000000</td>\n",
              "    </tr>\n",
              "    <tr>\n",
              "      <th>mean</th>\n",
              "      <td>54.366337</td>\n",
              "      <td>131.623762</td>\n",
              "      <td>246.264026</td>\n",
              "      <td>149.646865</td>\n",
              "      <td>1.039604</td>\n",
              "    </tr>\n",
              "    <tr>\n",
              "      <th>std</th>\n",
              "      <td>9.082101</td>\n",
              "      <td>17.538143</td>\n",
              "      <td>51.830751</td>\n",
              "      <td>22.905161</td>\n",
              "      <td>1.161075</td>\n",
              "    </tr>\n",
              "    <tr>\n",
              "      <th>min</th>\n",
              "      <td>29.000000</td>\n",
              "      <td>94.000000</td>\n",
              "      <td>126.000000</td>\n",
              "      <td>71.000000</td>\n",
              "      <td>0.000000</td>\n",
              "    </tr>\n",
              "    <tr>\n",
              "      <th>25%</th>\n",
              "      <td>47.500000</td>\n",
              "      <td>120.000000</td>\n",
              "      <td>211.000000</td>\n",
              "      <td>133.500000</td>\n",
              "      <td>0.000000</td>\n",
              "    </tr>\n",
              "    <tr>\n",
              "      <th>50%</th>\n",
              "      <td>55.000000</td>\n",
              "      <td>130.000000</td>\n",
              "      <td>240.000000</td>\n",
              "      <td>153.000000</td>\n",
              "      <td>0.800000</td>\n",
              "    </tr>\n",
              "    <tr>\n",
              "      <th>75%</th>\n",
              "      <td>61.000000</td>\n",
              "      <td>140.000000</td>\n",
              "      <td>274.500000</td>\n",
              "      <td>166.000000</td>\n",
              "      <td>1.600000</td>\n",
              "    </tr>\n",
              "    <tr>\n",
              "      <th>max</th>\n",
              "      <td>77.000000</td>\n",
              "      <td>200.000000</td>\n",
              "      <td>564.000000</td>\n",
              "      <td>202.000000</td>\n",
              "      <td>6.200000</td>\n",
              "    </tr>\n",
              "  </tbody>\n",
              "</table>\n",
              "</div>\n",
              "      <button class=\"colab-df-convert\" onclick=\"convertToInteractive('df-f4fe41ed-43b9-4615-80be-da73c5501d71')\"\n",
              "              title=\"Convert this dataframe to an interactive table.\"\n",
              "              style=\"display:none;\">\n",
              "        \n",
              "  <svg xmlns=\"http://www.w3.org/2000/svg\" height=\"24px\"viewBox=\"0 0 24 24\"\n",
              "       width=\"24px\">\n",
              "    <path d=\"M0 0h24v24H0V0z\" fill=\"none\"/>\n",
              "    <path d=\"M18.56 5.44l.94 2.06.94-2.06 2.06-.94-2.06-.94-.94-2.06-.94 2.06-2.06.94zm-11 1L8.5 8.5l.94-2.06 2.06-.94-2.06-.94L8.5 2.5l-.94 2.06-2.06.94zm10 10l.94 2.06.94-2.06 2.06-.94-2.06-.94-.94-2.06-.94 2.06-2.06.94z\"/><path d=\"M17.41 7.96l-1.37-1.37c-.4-.4-.92-.59-1.43-.59-.52 0-1.04.2-1.43.59L10.3 9.45l-7.72 7.72c-.78.78-.78 2.05 0 2.83L4 21.41c.39.39.9.59 1.41.59.51 0 1.02-.2 1.41-.59l7.78-7.78 2.81-2.81c.8-.78.8-2.07 0-2.86zM5.41 20L4 18.59l7.72-7.72 1.47 1.35L5.41 20z\"/>\n",
              "  </svg>\n",
              "      </button>\n",
              "      \n",
              "  <style>\n",
              "    .colab-df-container {\n",
              "      display:flex;\n",
              "      flex-wrap:wrap;\n",
              "      gap: 12px;\n",
              "    }\n",
              "\n",
              "    .colab-df-convert {\n",
              "      background-color: #E8F0FE;\n",
              "      border: none;\n",
              "      border-radius: 50%;\n",
              "      cursor: pointer;\n",
              "      display: none;\n",
              "      fill: #1967D2;\n",
              "      height: 32px;\n",
              "      padding: 0 0 0 0;\n",
              "      width: 32px;\n",
              "    }\n",
              "\n",
              "    .colab-df-convert:hover {\n",
              "      background-color: #E2EBFA;\n",
              "      box-shadow: 0px 1px 2px rgba(60, 64, 67, 0.3), 0px 1px 3px 1px rgba(60, 64, 67, 0.15);\n",
              "      fill: #174EA6;\n",
              "    }\n",
              "\n",
              "    [theme=dark] .colab-df-convert {\n",
              "      background-color: #3B4455;\n",
              "      fill: #D2E3FC;\n",
              "    }\n",
              "\n",
              "    [theme=dark] .colab-df-convert:hover {\n",
              "      background-color: #434B5C;\n",
              "      box-shadow: 0px 1px 3px 1px rgba(0, 0, 0, 0.15);\n",
              "      filter: drop-shadow(0px 1px 2px rgba(0, 0, 0, 0.3));\n",
              "      fill: #FFFFFF;\n",
              "    }\n",
              "  </style>\n",
              "\n",
              "      <script>\n",
              "        const buttonEl =\n",
              "          document.querySelector('#df-f4fe41ed-43b9-4615-80be-da73c5501d71 button.colab-df-convert');\n",
              "        buttonEl.style.display =\n",
              "          google.colab.kernel.accessAllowed ? 'block' : 'none';\n",
              "\n",
              "        async function convertToInteractive(key) {\n",
              "          const element = document.querySelector('#df-f4fe41ed-43b9-4615-80be-da73c5501d71');\n",
              "          const dataTable =\n",
              "            await google.colab.kernel.invokeFunction('convertToInteractive',\n",
              "                                                     [key], {});\n",
              "          if (!dataTable) return;\n",
              "\n",
              "          const docLinkHtml = 'Like what you see? Visit the ' +\n",
              "            '<a target=\"_blank\" href=https://colab.research.google.com/notebooks/data_table.ipynb>data table notebook</a>'\n",
              "            + ' to learn more about interactive tables.';\n",
              "          element.innerHTML = '';\n",
              "          dataTable['output_type'] = 'display_data';\n",
              "          await google.colab.output.renderOutput(dataTable, element);\n",
              "          const docLink = document.createElement('div');\n",
              "          docLink.innerHTML = docLinkHtml;\n",
              "          element.appendChild(docLink);\n",
              "        }\n",
              "      </script>\n",
              "    </div>\n",
              "  </div>\n",
              "  "
            ]
          },
          "metadata": {},
          "execution_count": 11
        }
      ]
    },
    {
      "cell_type": "code",
      "source": [
        "# Données statistiques pour les données catégorielles\n",
        "df[cat_att].astype('object').describe()"
      ],
      "metadata": {
        "colab": {
          "base_uri": "https://localhost:8080/",
          "height": 175
        },
        "id": "y8p8WlJXDnCH",
        "outputId": "0eb6a68c-fd0f-4317-c566-0c8535e96ee0"
      },
      "execution_count": null,
      "outputs": [
        {
          "output_type": "execute_result",
          "data": {
            "text/plain": [
              "        sex   cp  fbs  restecg  exang  slope   ca  thal\n",
              "count   303  303  303      303    303    303  303   303\n",
              "unique    2    4    2        3      2      3    5     4\n",
              "top       1    0    0        1      0      2    0     2\n",
              "freq    207  143  258      152    204    142  175   166"
            ],
            "text/html": [
              "\n",
              "  <div id=\"df-1eb9f566-81a6-4116-ad33-33b912784e5f\">\n",
              "    <div class=\"colab-df-container\">\n",
              "      <div>\n",
              "<style scoped>\n",
              "    .dataframe tbody tr th:only-of-type {\n",
              "        vertical-align: middle;\n",
              "    }\n",
              "\n",
              "    .dataframe tbody tr th {\n",
              "        vertical-align: top;\n",
              "    }\n",
              "\n",
              "    .dataframe thead th {\n",
              "        text-align: right;\n",
              "    }\n",
              "</style>\n",
              "<table border=\"1\" class=\"dataframe\">\n",
              "  <thead>\n",
              "    <tr style=\"text-align: right;\">\n",
              "      <th></th>\n",
              "      <th>sex</th>\n",
              "      <th>cp</th>\n",
              "      <th>fbs</th>\n",
              "      <th>restecg</th>\n",
              "      <th>exang</th>\n",
              "      <th>slope</th>\n",
              "      <th>ca</th>\n",
              "      <th>thal</th>\n",
              "    </tr>\n",
              "  </thead>\n",
              "  <tbody>\n",
              "    <tr>\n",
              "      <th>count</th>\n",
              "      <td>303</td>\n",
              "      <td>303</td>\n",
              "      <td>303</td>\n",
              "      <td>303</td>\n",
              "      <td>303</td>\n",
              "      <td>303</td>\n",
              "      <td>303</td>\n",
              "      <td>303</td>\n",
              "    </tr>\n",
              "    <tr>\n",
              "      <th>unique</th>\n",
              "      <td>2</td>\n",
              "      <td>4</td>\n",
              "      <td>2</td>\n",
              "      <td>3</td>\n",
              "      <td>2</td>\n",
              "      <td>3</td>\n",
              "      <td>5</td>\n",
              "      <td>4</td>\n",
              "    </tr>\n",
              "    <tr>\n",
              "      <th>top</th>\n",
              "      <td>1</td>\n",
              "      <td>0</td>\n",
              "      <td>0</td>\n",
              "      <td>1</td>\n",
              "      <td>0</td>\n",
              "      <td>2</td>\n",
              "      <td>0</td>\n",
              "      <td>2</td>\n",
              "    </tr>\n",
              "    <tr>\n",
              "      <th>freq</th>\n",
              "      <td>207</td>\n",
              "      <td>143</td>\n",
              "      <td>258</td>\n",
              "      <td>152</td>\n",
              "      <td>204</td>\n",
              "      <td>142</td>\n",
              "      <td>175</td>\n",
              "      <td>166</td>\n",
              "    </tr>\n",
              "  </tbody>\n",
              "</table>\n",
              "</div>\n",
              "      <button class=\"colab-df-convert\" onclick=\"convertToInteractive('df-1eb9f566-81a6-4116-ad33-33b912784e5f')\"\n",
              "              title=\"Convert this dataframe to an interactive table.\"\n",
              "              style=\"display:none;\">\n",
              "        \n",
              "  <svg xmlns=\"http://www.w3.org/2000/svg\" height=\"24px\"viewBox=\"0 0 24 24\"\n",
              "       width=\"24px\">\n",
              "    <path d=\"M0 0h24v24H0V0z\" fill=\"none\"/>\n",
              "    <path d=\"M18.56 5.44l.94 2.06.94-2.06 2.06-.94-2.06-.94-.94-2.06-.94 2.06-2.06.94zm-11 1L8.5 8.5l.94-2.06 2.06-.94-2.06-.94L8.5 2.5l-.94 2.06-2.06.94zm10 10l.94 2.06.94-2.06 2.06-.94-2.06-.94-.94-2.06-.94 2.06-2.06.94z\"/><path d=\"M17.41 7.96l-1.37-1.37c-.4-.4-.92-.59-1.43-.59-.52 0-1.04.2-1.43.59L10.3 9.45l-7.72 7.72c-.78.78-.78 2.05 0 2.83L4 21.41c.39.39.9.59 1.41.59.51 0 1.02-.2 1.41-.59l7.78-7.78 2.81-2.81c.8-.78.8-2.07 0-2.86zM5.41 20L4 18.59l7.72-7.72 1.47 1.35L5.41 20z\"/>\n",
              "  </svg>\n",
              "      </button>\n",
              "      \n",
              "  <style>\n",
              "    .colab-df-container {\n",
              "      display:flex;\n",
              "      flex-wrap:wrap;\n",
              "      gap: 12px;\n",
              "    }\n",
              "\n",
              "    .colab-df-convert {\n",
              "      background-color: #E8F0FE;\n",
              "      border: none;\n",
              "      border-radius: 50%;\n",
              "      cursor: pointer;\n",
              "      display: none;\n",
              "      fill: #1967D2;\n",
              "      height: 32px;\n",
              "      padding: 0 0 0 0;\n",
              "      width: 32px;\n",
              "    }\n",
              "\n",
              "    .colab-df-convert:hover {\n",
              "      background-color: #E2EBFA;\n",
              "      box-shadow: 0px 1px 2px rgba(60, 64, 67, 0.3), 0px 1px 3px 1px rgba(60, 64, 67, 0.15);\n",
              "      fill: #174EA6;\n",
              "    }\n",
              "\n",
              "    [theme=dark] .colab-df-convert {\n",
              "      background-color: #3B4455;\n",
              "      fill: #D2E3FC;\n",
              "    }\n",
              "\n",
              "    [theme=dark] .colab-df-convert:hover {\n",
              "      background-color: #434B5C;\n",
              "      box-shadow: 0px 1px 3px 1px rgba(0, 0, 0, 0.15);\n",
              "      filter: drop-shadow(0px 1px 2px rgba(0, 0, 0, 0.3));\n",
              "      fill: #FFFFFF;\n",
              "    }\n",
              "  </style>\n",
              "\n",
              "      <script>\n",
              "        const buttonEl =\n",
              "          document.querySelector('#df-1eb9f566-81a6-4116-ad33-33b912784e5f button.colab-df-convert');\n",
              "        buttonEl.style.display =\n",
              "          google.colab.kernel.accessAllowed ? 'block' : 'none';\n",
              "\n",
              "        async function convertToInteractive(key) {\n",
              "          const element = document.querySelector('#df-1eb9f566-81a6-4116-ad33-33b912784e5f');\n",
              "          const dataTable =\n",
              "            await google.colab.kernel.invokeFunction('convertToInteractive',\n",
              "                                                     [key], {});\n",
              "          if (!dataTable) return;\n",
              "\n",
              "          const docLinkHtml = 'Like what you see? Visit the ' +\n",
              "            '<a target=\"_blank\" href=https://colab.research.google.com/notebooks/data_table.ipynb>data table notebook</a>'\n",
              "            + ' to learn more about interactive tables.';\n",
              "          element.innerHTML = '';\n",
              "          dataTable['output_type'] = 'display_data';\n",
              "          await google.colab.output.renderOutput(dataTable, element);\n",
              "          const docLink = document.createElement('div');\n",
              "          docLink.innerHTML = docLinkHtml;\n",
              "          element.appendChild(docLink);\n",
              "        }\n",
              "      </script>\n",
              "    </div>\n",
              "  </div>\n",
              "  "
            ]
          },
          "metadata": {},
          "execution_count": 12
        }
      ]
    },
    {
      "cell_type": "code",
      "source": [
        "# ANALYSE UNIVARIÉE\n",
        "# 1. Variables numériques\n",
        "# 2. Variables catégorielles"
      ],
      "metadata": {
        "id": "AxHtvMnMIw7J"
      },
      "execution_count": null,
      "outputs": []
    },
    {
      "cell_type": "code",
      "source": [
        "# Âge\n",
        "fig, ax = plt.subplots()\n",
        "\n",
        "ax.hist(df[df['target'] == 1]['age'], bins = 15, alpha = 0.5, color = 'red',\n",
        "        label = 'malade')\n",
        "ax.hist(df[df['target'] == 0]['age'], bins = 15, alpha = 0.5, color = 'blue',\n",
        "        label = 'pas malade')\n",
        "ax.hist(df['age'], bins = 15, alpha = 0.25, color = 'grey',\n",
        "        label = 'total')\n",
        "\n",
        "ax.set_xlabel('Âge')\n",
        "ax.set_ylabel('Fréquence')\n",
        "plt.title('Âge vs Maladie cardiovasculaire des patients')\n",
        "ax.legend()"
      ],
      "metadata": {
        "colab": {
          "base_uri": "https://localhost:8080/",
          "height": 316
        },
        "id": "q0DKvvSoJOAL",
        "outputId": "20a6c6ee-d875-4c78-c7a7-bfe2a5260042"
      },
      "execution_count": null,
      "outputs": [
        {
          "output_type": "execute_result",
          "data": {
            "text/plain": [
              "<matplotlib.legend.Legend at 0x7f0c6f6acc10>"
            ]
          },
          "metadata": {},
          "execution_count": 14
        },
        {
          "output_type": "display_data",
          "data": {
            "text/plain": [
              "<Figure size 432x288 with 1 Axes>"
            ],
            "image/png": "[encoded data removed]"
          },
          "metadata": {
            "needs_background": "light"
          }
        }
      ]
    },
    {
      "cell_type": "code",
      "source": [
        "# trestbps\n",
        "fig, ax = plt.subplots()\n",
        "\n",
        "ax.hist(df[df['target'] == 1]['trestbps'], bins = 15, alpha = 0.5, color = 'red',\n",
        "        label = 'malade')\n",
        "ax.hist(df[df['target'] == 0]['trestbps'], bins = 15, alpha = 0.5, color = 'blue',\n",
        "        label = 'pas malade')\n",
        "ax.hist(df['trestbps'], bins = 15, alpha = 0.25, color = 'grey',\n",
        "        label = 'total')\n",
        "\n",
        "ax.set_xlabel('trestbps')\n",
        "ax.set_ylabel('Fréquence')\n",
        "plt.title('trestbps vs Maladie cardiovasculaire des patients')\n",
        "ax.legend()"
      ],
      "metadata": {
        "colab": {
          "base_uri": "https://localhost:8080/",
          "height": 312
        },
        "id": "lbqpBO-hTJ0F",
        "outputId": "31440e02-7386-49a5-b8be-ac00bc645fd5"
      },
      "execution_count": null,
      "outputs": [
        {
          "output_type": "execute_result",
          "data": {
            "text/plain": [
              "<matplotlib.legend.Legend at 0x7f0c6e3bfa90>"
            ]
          },
          "metadata": {},
          "execution_count": 15
        },
        {
          "output_type": "display_data",
          "data": {
            "text/plain": [
              "<Figure size 432x288 with 1 Axes>"
            ],
            "image/png": "[encoded data removed]"
          },
          "metadata": {
            "needs_background": "light"
          }
        }
      ]
    },
    {
      "cell_type": "code",
      "source": [
        "# chol\n",
        "fig, ax = plt.subplots()\n",
        "\n",
        "ax.hist(df[df['target'] == 1]['chol'], bins = 15, alpha = 0.5, color = 'red',\n",
        "        label = 'malade')\n",
        "ax.hist(df[df['target'] == 0]['chol'], bins = 15, alpha = 0.5, color = 'blue',\n",
        "        label = 'pas malade')\n",
        "ax.hist(df['chol'], bins = 15, alpha = 0.25, color = 'grey',\n",
        "        label = 'total')\n",
        "\n",
        "ax.set_xlabel('chol')\n",
        "ax.set_ylabel('Fréquence')\n",
        "plt.title('chol vs Maladie cardiovasculaire des patients')\n",
        "ax.legend()"
      ],
      "metadata": {
        "colab": {
          "base_uri": "https://localhost:8080/",
          "height": 312
        },
        "id": "It9e9D9CTdQj",
        "outputId": "73d9a6c2-aec5-44af-e98c-3ce8084a96a4"
      },
      "execution_count": null,
      "outputs": [
        {
          "output_type": "execute_result",
          "data": {
            "text/plain": [
              "<matplotlib.legend.Legend at 0x7f0c6e8b7d90>"
            ]
          },
          "metadata": {},
          "execution_count": 16
        },
        {
          "output_type": "display_data",
          "data": {
            "text/plain": [
              "<Figure size 432x288 with 1 Axes>"
            ],
            "image/png": "[encoded data removed]"
          },
          "metadata": {
            "needs_background": "light"
          }
        }
      ]
    },
    {
      "cell_type": "code",
      "source": [
        "# thalach\n",
        "fig, ax = plt.subplots()\n",
        "\n",
        "ax.hist(df[df['target'] == 1]['thalach'], bins = 15, alpha = 0.5, color = 'red',\n",
        "        label = 'malade')\n",
        "ax.hist(df[df['target'] == 0]['thalach'], bins = 15, alpha = 0.5, color = 'blue',\n",
        "        label = 'pas malade')\n",
        "ax.hist(df['thalach'], bins = 15, alpha = 0.25, color = 'grey',\n",
        "        label = 'total')\n",
        "\n",
        "ax.set_xlabel('thalach')\n",
        "ax.set_ylabel('Fréquence')\n",
        "plt.title('thalach vs Maladie cardiovasculaire des patients')\n",
        "ax.legend()"
      ],
      "metadata": {
        "colab": {
          "base_uri": "https://localhost:8080/",
          "height": 312
        },
        "id": "6ymsNUA2T6Jf",
        "outputId": "a25eecc6-077a-4421-fa4a-4b25207a7d3f"
      },
      "execution_count": null,
      "outputs": [
        {
          "output_type": "execute_result",
          "data": {
            "text/plain": [
              "<matplotlib.legend.Legend at 0x7f0c6e27d0d0>"
            ]
          },
          "metadata": {},
          "execution_count": 17
        },
        {
          "output_type": "display_data",
          "data": {
            "text/plain": [
              "<Figure size 432x288 with 1 Axes>"
            ],
            "image/png": "[encoded data removed]"
          },
          "metadata": {
            "needs_background": "light"
          }
        }
      ]
    },
    {
      "cell_type": "code",
      "source": [
        "# oldpeak\n",
        "fig, ax = plt.subplots()\n",
        "\n",
        "ax.hist(df[df['target'] == 1]['oldpeak'], bins = 15, alpha = 0.5, color = 'red',\n",
        "        label = 'malade')\n",
        "ax.hist(df[df['target'] == 0]['oldpeak'], bins = 15, alpha = 0.5, color = 'blue',\n",
        "        label = 'pas malade')\n",
        "ax.hist(df['oldpeak'], bins = 15, alpha = 0.25, color = 'grey',\n",
        "        label = 'total')\n",
        "\n",
        "ax.set_xlabel('oldpeak')\n",
        "ax.set_ylabel('Fréquence')\n",
        "plt.title('oldpeak vs Maladie cardiovasculaire des patients')\n",
        "ax.legend()"
      ],
      "metadata": {
        "colab": {
          "base_uri": "https://localhost:8080/",
          "height": 312
        },
        "id": "ZfMaeIGjUEtX",
        "outputId": "b40d31f1-766f-4fa0-dab0-49cb676c9192"
      },
      "execution_count": null,
      "outputs": [
        {
          "output_type": "execute_result",
          "data": {
            "text/plain": [
              "<matplotlib.legend.Legend at 0x7f0c6e12d650>"
            ]
          },
          "metadata": {},
          "execution_count": 18
        },
        {
          "output_type": "display_data",
          "data": {
            "text/plain": [
              "<Figure size 432x288 with 1 Axes>"
            ],
            "image/png": "[encoded data removed]"
          },
          "metadata": {
            "needs_background": "light"
          }
        }
      ]
    },
    {
      "cell_type": "code",
      "source": [
        "count_sex = df[['sex', 'target']].value_counts()\n",
        "\n",
        "disease = (count_sex[0][1], count_sex[1][1])\n",
        "nodisease = (count_sex[0][0], count_sex[1][0])\n",
        "print(count_sex)\n",
        "\n",
        "labels = ['Femme', 'Homme']\n",
        "\n",
        "plt.title('Maladie cardiovasculaire par sexe')\n",
        "plt.bar(labels, nodisease, color = 'red', alpha = 0.5)\n",
        "plt.bar(labels, disease, bottom = nodisease, color = 'blue', alpha = 0.5)\n",
        "plt.legend(labels = [\"Négatif\",\"Positif\"])\n",
        "\n",
        "plt.show()"
      ],
      "metadata": {
        "colab": {
          "base_uri": "https://localhost:8080/",
          "height": 385
        },
        "id": "-PmlZDjYtxZH",
        "outputId": "71261436-a3b7-4747-bf4a-73df773efa45"
      },
      "execution_count": null,
      "outputs": [
        {
          "output_type": "stream",
          "name": "stdout",
          "text": [
            "sex  target\n",
            "1    0         114\n",
            "     1          93\n",
            "0    1          72\n",
            "     0          24\n",
            "dtype: int64\n"
          ]
        },
        {
          "output_type": "display_data",
          "data": {
            "text/plain": [
              "<Figure size 432x288 with 1 Axes>"
            ],
            "image/png": "[encoded data removed]"
          },
          "metadata": {
            "needs_background": "light"
          }
        }
      ]
    },
    {
      "cell_type": "code",
      "source": [
        "#2. CP\n",
        "# Indice 1: CP\n",
        "# Indice 2: présence ou non de maladie cardiovasculaire\n",
        "\n",
        "count_cp = df[['cp', 'target']].value_counts()\n",
        "print(count_cp)\n",
        "\n",
        "disease = (count_cp[0][1], count_cp[1][1], count_cp[2][1], count_cp[3][1])\n",
        "nodisease = (count_cp[0][0], count_cp[1][0], count_cp[2][0], count_cp[3][0])\n",
        "labels = ['1', '2', '3', '4']\n",
        "\n",
        "plt.title('Maladie cardiovasculaire par type de douleur thoracique')\n",
        "plt.bar(labels, nodisease, color = 'red', alpha = 0.5)\n",
        "plt.bar(labels, disease, bottom = nodisease, color = 'blue', alpha = 0.5)\n",
        "plt.legend(labels = [\"Négatif\",\"Positif\"])\n",
        "\n",
        "plt.show()"
      ],
      "metadata": {
        "colab": {
          "base_uri": "https://localhost:8080/",
          "height": 455
        },
        "id": "QHvbju_mvpfd",
        "outputId": "5d07a299-fb26-477b-db65-4bdbe133701b"
      },
      "execution_count": null,
      "outputs": [
        {
          "output_type": "stream",
          "name": "stdout",
          "text": [
            "cp  target\n",
            "0   0         104\n",
            "2   1          69\n",
            "1   1          41\n",
            "0   1          39\n",
            "2   0          18\n",
            "3   1          16\n",
            "1   0           9\n",
            "3   0           7\n",
            "dtype: int64\n"
          ]
        },
        {
          "output_type": "display_data",
          "data": {
            "text/plain": [
              "<Figure size 432x288 with 1 Axes>"
            ],
            "image/png": "[encoded data removed]"
          },
          "metadata": {
            "needs_background": "light"
          }
        }
      ]
    },
    {
      "cell_type": "code",
      "source": [
        "'''\n",
        "6. fbs: glycémie à jeun (\"fasting blood sugar\")\n",
        "  -> 1. > 120 mg/dl\n",
        "  -> 0. sinon\n",
        "'''\n",
        "#3. fbs\n",
        "# Indice 1: fbs\n",
        "# Indice 2: présence ou non de maladie cardiovasculaire\n",
        "\n",
        "count = df[['fbs', 'target']].value_counts()\n",
        "print(count)\n",
        "\n",
        "disease = (count[0][1], count[1][1])\n",
        "nodisease = (count[0][0], count[1][0])\n",
        "labels = ['> 120 mg/dl', 'Sinon']\n",
        "\n",
        "plt.title('Maladie cardiovasculaire par glycémie à jeun')\n",
        "plt.bar(labels, nodisease, color = 'green')\n",
        "plt.bar(labels, disease, bottom = nodisease, color = 'blue')\n",
        "plt.legend(labels = [\"Négatif\",\"Positif\"])\n",
        "\n",
        "plt.show()"
      ],
      "metadata": {
        "id": "l5grb6zDvvH3",
        "colab": {
          "base_uri": "https://localhost:8080/",
          "height": 385
        },
        "outputId": "13517e2a-c735-4d38-98d8-b087c4514268"
      },
      "execution_count": null,
      "outputs": [
        {
          "output_type": "stream",
          "name": "stdout",
          "text": [
            "fbs  target\n",
            "0    1         142\n",
            "     0         116\n",
            "1    1          23\n",
            "     0          22\n",
            "dtype: int64\n"
          ]
        },
        {
          "output_type": "display_data",
          "data": {
            "text/plain": [
              "<Figure size 432x288 with 1 Axes>"
            ],
            "image/png": "[encoded data removed]"
          },
          "metadata": {
            "needs_background": "light"
          }
        }
      ]
    },
    {
      "cell_type": "code",
      "source": [
        "'''\n",
        "7. restecg: résultats électrocardiographiques au repos\n",
        "  -> 0. Normal\n",
        "  -> 1. Ondes anormales de ST-T\n",
        "  -> 2. Hypertrophie ventriculaire gauche probable\n",
        "'''\n",
        "count = df[['restecg', 'target']].value_counts()\n",
        "print(count)\n",
        "\n",
        "disease = (count[0][1], count[1][1], count[2][1])\n",
        "nodisease = (count[0][0], count[1][0], count[2][0])\n",
        "labels = ['Normal','Ondes ST-T','Hypertrophie']\n",
        "\n",
        "plt.title('Maladie cardiovasculaire par résultats électrocardiographiques')\n",
        "plt.bar(labels, nodisease, color = 'green')\n",
        "plt.bar(labels, disease, bottom = nodisease, color = 'blue')\n",
        "plt.legend(labels = [\"Négatif\",\"Positif\"])\n",
        "\n",
        "plt.show()"
      ],
      "metadata": {
        "id": "6lhcNhAYvvTH",
        "colab": {
          "base_uri": "https://localhost:8080/",
          "height": 420
        },
        "outputId": "a1588201-7f95-4966-96d6-83078edbe175"
      },
      "execution_count": null,
      "outputs": [
        {
          "output_type": "stream",
          "name": "stdout",
          "text": [
            "restecg  target\n",
            "1        1         96\n",
            "0        0         79\n",
            "         1         68\n",
            "1        0         56\n",
            "2        0          3\n",
            "         1          1\n",
            "dtype: int64\n"
          ]
        },
        {
          "output_type": "display_data",
          "data": {
            "text/plain": [
              "<Figure size 432x288 with 1 Axes>"
            ],
            "image/png": "[encoded data removed]"
          },
          "metadata": {
            "needs_background": "light"
          }
        }
      ]
    },
    {
      "cell_type": "code",
      "source": [
        "'''\n",
        "9. exang: Angine d'effort (exercise induced angina)\n",
        "  -> 1. Oui\n",
        "  -> 2. Non\n",
        "'''\n",
        "count = df[['exang', 'target']].value_counts()\n",
        "print(count)\n",
        "\n",
        "disease = (count[0][1], count[1][1])\n",
        "nodisease = (count[0][0], count[1][0])\n",
        "labels = ['Oui','Non']\n",
        "\n",
        "plt.title('Maladie cardiovasculaire par angine d''effort')\n",
        "plt.bar(labels, nodisease, color = 'green')\n",
        "plt.bar(labels, disease, bottom = nodisease, color = 'blue')\n",
        "plt.legend(labels = [\"Négatif\",\"Positif\"])\n",
        "\n",
        "plt.show()"
      ],
      "metadata": {
        "id": "Zy8J4tDtvvgE",
        "colab": {
          "base_uri": "https://localhost:8080/",
          "height": 385
        },
        "outputId": "0ff9dd58-e0bc-45f8-8c38-49344ef51462"
      },
      "execution_count": null,
      "outputs": [
        {
          "output_type": "stream",
          "name": "stdout",
          "text": [
            "exang  target\n",
            "0      1         142\n",
            "1      0          76\n",
            "0      0          62\n",
            "1      1          23\n",
            "dtype: int64\n"
          ]
        },
        {
          "output_type": "display_data",
          "data": {
            "text/plain": [
              "<Figure size 432x288 with 1 Axes>"
            ],
            "image/png": "[encoded data removed]"
          },
          "metadata": {
            "needs_background": "light"
          }
        }
      ]
    },
    {
      "cell_type": "code",
      "source": [
        "'''\n",
        "11. slope: Pente du segment ST d'effort maximal\n",
        "  -> 1. Pente positive: meilleur fréquence cardiaque avec exercice (rare)\n",
        "  -> 2. Plateau: coeur en santé\n",
        "  -> 3. Pente négative: coeur n'étant pas en santé\n",
        "'''\n",
        "count = df[['slope', 'target']].value_counts()\n",
        "print(count)\n",
        "\n",
        "disease = (count[0][1], count[1][1], count[2][1])\n",
        "nodisease = (count[0][0], count[1][0], count[2][0])\n",
        "labels = ['Positive', 'Plateau', 'Négative']\n",
        "\n",
        "plt.title('Maladie cardiovasculaire par pente du segment ST d\\'effort maximal')\n",
        "plt.bar(labels, nodisease, color = 'green')\n",
        "plt.bar(labels, disease, bottom = nodisease, color = 'blue')\n",
        "plt.legend(labels = [\"Négatif\",\"Positif\"])\n",
        "\n",
        "plt.show()"
      ],
      "metadata": {
        "id": "wA4DbWCnv2-4",
        "colab": {
          "base_uri": "https://localhost:8080/",
          "height": 421
        },
        "outputId": "65fc3887-fd54-4ef4-d63f-872737096613"
      },
      "execution_count": null,
      "outputs": [
        {
          "output_type": "stream",
          "name": "stdout",
          "text": [
            "slope  target\n",
            "2      1         107\n",
            "1      0          91\n",
            "       1          49\n",
            "2      0          35\n",
            "0      0          12\n",
            "       1           9\n",
            "dtype: int64\n"
          ]
        },
        {
          "output_type": "display_data",
          "data": {
            "text/plain": [
              "<Figure size 432x288 with 1 Axes>"
            ],
            "image/png": "[encoded data removed]"
          },
          "metadata": {
            "needs_background": "light"
          }
        }
      ]
    },
    {
      "cell_type": "code",
      "source": [
        "'''\n",
        "13. thal: Résultat de stress au thallium\n",
        "  -> 1,3: normal\n",
        "  -> 6: used to be defect, but ok now\n",
        "  -> 7: no proper blood movement when exercising\n",
        "'''\n",
        "count = df[['thal', 'target']].value_counts()\n",
        "print(count)\n",
        "\n",
        "disease = (count[0][1], count[1][1], count[2][1], count[3][1])\n",
        "nodisease = (count[0][0], count[1][0], count[2][0], count[3][0])\n",
        "labels = ['Normal', 'Normal2', 'Normal3', 'Normal4']\n",
        "\n",
        "plt.title('Maladie cardiovasculaire par résultat de stress au thallium')\n",
        "plt.bar(labels, nodisease, color = 'green')\n",
        "plt.bar(labels, disease, bottom = nodisease, color = 'blue')\n",
        "plt.legend(labels = [\"Négatif\",\"Positif\"])\n",
        "\n",
        "plt.show()"
      ],
      "metadata": {
        "id": "My8urm8Bv3bO",
        "colab": {
          "base_uri": "https://localhost:8080/",
          "height": 455
        },
        "outputId": "88af4f04-adcc-4a48-d2c4-62877f7bf03c"
      },
      "execution_count": null,
      "outputs": [
        {
          "output_type": "stream",
          "name": "stdout",
          "text": [
            "thal  target\n",
            "2     1         130\n",
            "3     0          89\n",
            "2     0          36\n",
            "3     1          28\n",
            "1     0          12\n",
            "      1           6\n",
            "0     0           1\n",
            "      1           1\n",
            "dtype: int64\n"
          ]
        },
        {
          "output_type": "display_data",
          "data": {
            "text/plain": [
              "<Figure size 432x288 with 1 Axes>"
            ],
            "image/png": "[encoded data removed]"
          },
          "metadata": {
            "needs_background": "light"
          }
        }
      ]
    },
    {
      "cell_type": "code",
      "source": [
        "# ANALYSE MULTIVARIÉE\n",
        "# 1. Graphes par paires\n",
        "# 2. Matrice de corrélation"
      ],
      "metadata": {
        "id": "LiVGa_FaHRuN"
      },
      "execution_count": null,
      "outputs": []
    },
    {
      "cell_type": "code",
      "source": [
        "# Pairs plot\n",
        "X = df.drop(['target'], axis = 1)\n",
        "#sns.pairplot(X, diag_kind = 'kde')"
      ],
      "metadata": {
        "id": "qVfscatKHYIz"
      },
      "execution_count": null,
      "outputs": []
    },
    {
      "cell_type": "code",
      "source": [
        "# Matrice corrélation\n",
        "plt.figure(figsize = (10,5))\n",
        "sns.heatmap(df.corr(), annot = True)\n",
        "plt.title('Matrice de corrélation des attributs')\n",
        "plt.show()"
      ],
      "metadata": {
        "colab": {
          "base_uri": "https://localhost:8080/",
          "height": 366
        },
        "id": "B5iOiuDBGPbK",
        "outputId": "fa5fff09-e604-4c67-c15a-b904ae22c6ff"
      },
      "execution_count": null,
      "outputs": [
        {
          "output_type": "display_data",
          "data": {
            "text/plain": [
              "<Figure size 720x360 with 2 Axes>"
            ],
            "image/png": "[encoded data removed]"
          },
          "metadata": {
            "needs_background": "light"
          }
        }
      ]
    },
    {
      "cell_type": "code",
      "source": [
        "# Prétraitement avec One-Hot Encoding\n",
        "X = df\n",
        "X = df.drop(['target'], axis = 1)\n",
        "Y = df['target']\n",
        "\n",
        "print(Y.shape, X.shape)"
      ],
      "metadata": {
        "colab": {
          "base_uri": "https://localhost:8080/"
        },
        "id": "uYjOzst3v97v",
        "outputId": "ce4e86dd-b360-426f-dab3-ff6acb689d32"
      },
      "execution_count": null,
      "outputs": [
        {
          "output_type": "stream",
          "name": "stdout",
          "text": [
            "(303,) (303, 13)\n"
          ]
        }
      ]
    },
    {
      "cell_type": "code",
      "source": [
        "le = preprocessing.LabelEncoder()\n",
        "import warnings\n",
        "warnings.filterwarnings('ignore')\n",
        "\n",
        "#function pour ajouter les colonnes apres onehot coding\n",
        "def add_columns(df, le, x, name, colnames):\n",
        "    col_names = colnames\n",
        "    '''\n",
        "    for feature in range(x.shape[1]):\n",
        "        col_names.append(le.inverse_transform([feature])[0])\n",
        "    '''\n",
        "    df[col_names] = pd.DataFrame(x, index=df.index)\n",
        "    del df[name]\n",
        "    return col_names"
      ],
      "metadata": {
        "id": "9owekbkrw8yV"
      },
      "execution_count": null,
      "outputs": []
    },
    {
      "cell_type": "code",
      "source": [
        "def onehotCoding(arrayFeature):\n",
        "  le.fit(arrayFeature)\n",
        "  le.transform(arrayFeature) \n",
        "  enc = preprocessing.OneHotEncoder(handle_unknown='ignore', sparse=False)\n",
        "  enc.fit(arrayFeature.values.reshape(-1,1))\n",
        "  result = enc.transform(arrayFeature.values.reshape(-1,1))\n",
        "  return result"
      ],
      "metadata": {
        "id": "J-wUxtzNxHma"
      },
      "execution_count": null,
      "outputs": []
    },
    {
      "cell_type": "code",
      "source": [
        "# Pour les attributs catégoriels\n",
        "sex = onehotCoding(X['sex'])\n",
        "cp = onehotCoding(X['cp'])\n",
        "fbs = onehotCoding(X['fbs'])\n",
        "restecg = onehotCoding(X['restecg'])\n",
        "exang = onehotCoding(X['exang'])\n",
        "slope = onehotCoding(X['slope'])\n",
        "ca = onehotCoding(X['ca'])\n",
        "thal = onehotCoding(X['thal'])"
      ],
      "metadata": {
        "id": "9pjDyPI2xJ9K"
      },
      "execution_count": null,
      "outputs": []
    },
    {
      "cell_type": "code",
      "source": [
        "col_names_sex = add_columns(X, le, sex, 'sex', ['sex0', 'sex1'])\n",
        "col_names_cp = add_columns(X, le, cp, 'cp',['cp0','cp1','cp2','cp3'])\n",
        "col_names_fbs = add_columns(X, le, fbs, 'fbs', ['fbs0', 'fbs1'])\n",
        "col_names_restecg = add_columns(X, le, restecg, 'restecg',['restecg0','restecg1','restecg2'])\n",
        "col_names_exang = add_columns(X, le, exang, 'exang', ['exang0', 'exang1'])\n",
        "col_names_slope = add_columns(X, le, slope, 'slope',['slope0','slope1','slope2'])\n",
        "col_names_ca = add_columns(X, le, ca, 'ca',['ca0','ca1','ca2','ca3','ca4'])\n",
        "col_names_thal = add_columns(X, le, thal, 'thal',['thal0','thal1','thal2','thal3'])\n",
        "X"
      ],
      "metadata": {
        "colab": {
          "base_uri": "https://localhost:8080/",
          "height": 424
        },
        "id": "H8bNXwhrxcyS",
        "outputId": "aa7d7b2e-7ace-489e-f544-4906e0c765e3"
      },
      "execution_count": null,
      "outputs": [
        {
          "output_type": "execute_result",
          "data": {
            "text/plain": [
              "      age  trestbps   chol  thalach  oldpeak  sex0  sex1  cp0  cp1  cp2  ...  \\\n",
              "0    63.0     145.0  233.0    150.0      2.3   0.0   1.0  0.0  0.0  0.0  ...   \n",
              "1    37.0     130.0  250.0    187.0      3.5   0.0   1.0  0.0  0.0  1.0  ...   \n",
              "2    41.0     130.0  204.0    172.0      1.4   1.0   0.0  0.0  1.0  0.0  ...   \n",
              "3    56.0     120.0  236.0    178.0      0.8   0.0   1.0  0.0  1.0  0.0  ...   \n",
              "4    57.0     120.0  354.0    163.0      0.6   1.0   0.0  1.0  0.0  0.0  ...   \n",
              "..    ...       ...    ...      ...      ...   ...   ...  ...  ...  ...  ...   \n",
              "298  57.0     140.0  241.0    123.0      0.2   1.0   0.0  1.0  0.0  0.0  ...   \n",
              "299  45.0     110.0  264.0    132.0      1.2   0.0   1.0  0.0  0.0  0.0  ...   \n",
              "300  68.0     144.0  193.0    141.0      3.4   0.0   1.0  1.0  0.0  0.0  ...   \n",
              "301  57.0     130.0  131.0    115.0      1.2   0.0   1.0  1.0  0.0  0.0  ...   \n",
              "302  57.0     130.0  236.0    174.0      0.0   1.0   0.0  0.0  1.0  0.0  ...   \n",
              "\n",
              "     slope2  ca0  ca1  ca2  ca3  ca4  thal0  thal1  thal2  thal3  \n",
              "0       0.0  1.0  0.0  0.0  0.0  0.0    0.0    1.0    0.0    0.0  \n",
              "1       0.0  1.0  0.0  0.0  0.0  0.0    0.0    0.0    1.0    0.0  \n",
              "2       1.0  1.0  0.0  0.0  0.0  0.0    0.0    0.0    1.0    0.0  \n",
              "3       1.0  1.0  0.0  0.0  0.0  0.0    0.0    0.0    1.0    0.0  \n",
              "4       1.0  1.0  0.0  0.0  0.0  0.0    0.0    0.0    1.0    0.0  \n",
              "..      ...  ...  ...  ...  ...  ...    ...    ...    ...    ...  \n",
              "298     0.0  1.0  0.0  0.0  0.0  0.0    0.0    0.0    0.0    1.0  \n",
              "299     0.0  1.0  0.0  0.0  0.0  0.0    0.0    0.0    0.0    1.0  \n",
              "300     0.0  0.0  0.0  1.0  0.0  0.0    0.0    0.0    0.0    1.0  \n",
              "301     0.0  0.0  1.0  0.0  0.0  0.0    0.0    0.0    0.0    1.0  \n",
              "302     0.0  0.0  1.0  0.0  0.0  0.0    0.0    0.0    1.0    0.0  \n",
              "\n",
              "[303 rows x 30 columns]"
            ],
            "text/html": [
              "\n",
              "  <div id=\"df-e3ea02fa-5031-48c2-85a2-622d9a05e91c\">\n",
              "    <div class=\"colab-df-container\">\n",
              "      <div>\n",
              "<style scoped>\n",
              "    .dataframe tbody tr th:only-of-type {\n",
              "        vertical-align: middle;\n",
              "    }\n",
              "\n",
              "    .dataframe tbody tr th {\n",
              "        vertical-align: top;\n",
              "    }\n",
              "\n",
              "    .dataframe thead th {\n",
              "        text-align: right;\n",
              "    }\n",
              "</style>\n",
              "<table border=\"1\" class=\"dataframe\">\n",
              "  <thead>\n",
              "    <tr style=\"text-align: right;\">\n",
              "      <th></th>\n",
              "      <th>age</th>\n",
              "      <th>trestbps</th>\n",
              "      <th>chol</th>\n",
              "      <th>thalach</th>\n",
              "      <th>oldpeak</th>\n",
              "      <th>sex0</th>\n",
              "      <th>sex1</th>\n",
              "      <th>cp0</th>\n",
              "      <th>cp1</th>\n",
              "      <th>cp2</th>\n",
              "      <th>...</th>\n",
              "      <th>slope2</th>\n",
              "      <th>ca0</th>\n",
              "      <th>ca1</th>\n",
              "      <th>ca2</th>\n",
              "      <th>ca3</th>\n",
              "      <th>ca4</th>\n",
              "      <th>thal0</th>\n",
              "      <th>thal1</th>\n",
              "      <th>thal2</th>\n",
              "      <th>thal3</th>\n",
              "    </tr>\n",
              "  </thead>\n",
              "  <tbody>\n",
              "    <tr>\n",
              "      <th>0</th>\n",
              "      <td>63.0</td>\n",
              "      <td>145.0</td>\n",
              "      <td>233.0</td>\n",
              "      <td>150.0</td>\n",
              "      <td>2.3</td>\n",
              "      <td>0.0</td>\n",
              "      <td>1.0</td>\n",
              "      <td>0.0</td>\n",
              "      <td>0.0</td>\n",
              "      <td>0.0</td>\n",
              "      <td>...</td>\n",
              "      <td>0.0</td>\n",
              "      <td>1.0</td>\n",
              "      <td>0.0</td>\n",
              "      <td>0.0</td>\n",
              "      <td>0.0</td>\n",
              "      <td>0.0</td>\n",
              "      <td>0.0</td>\n",
              "      <td>1.0</td>\n",
              "      <td>0.0</td>\n",
              "      <td>0.0</td>\n",
              "    </tr>\n",
              "    <tr>\n",
              "      <th>1</th>\n",
              "      <td>37.0</td>\n",
              "      <td>130.0</td>\n",
              "      <td>250.0</td>\n",
              "      <td>187.0</td>\n",
              "      <td>3.5</td>\n",
              "      <td>0.0</td>\n",
              "      <td>1.0</td>\n",
              "      <td>0.0</td>\n",
              "      <td>0.0</td>\n",
              "      <td>1.0</td>\n",
              "      <td>...</td>\n",
              "      <td>0.0</td>\n",
              "      <td>1.0</td>\n",
              "      <td>0.0</td>\n",
              "      <td>0.0</td>\n",
              "      <td>0.0</td>\n",
              "      <td>0.0</td>\n",
              "      <td>0.0</td>\n",
              "      <td>0.0</td>\n",
              "      <td>1.0</td>\n",
              "      <td>0.0</td>\n",
              "    </tr>\n",
              "    <tr>\n",
              "      <th>2</th>\n",
              "      <td>41.0</td>\n",
              "      <td>130.0</td>\n",
              "      <td>204.0</td>\n",
              "      <td>172.0</td>\n",
              "      <td>1.4</td>\n",
              "      <td>1.0</td>\n",
              "      <td>0.0</td>\n",
              "      <td>0.0</td>\n",
              "      <td>1.0</td>\n",
              "      <td>0.0</td>\n",
              "      <td>...</td>\n",
              "      <td>1.0</td>\n",
              "      <td>1.0</td>\n",
              "      <td>0.0</td>\n",
              "      <td>0.0</td>\n",
              "      <td>0.0</td>\n",
              "      <td>0.0</td>\n",
              "      <td>0.0</td>\n",
              "      <td>0.0</td>\n",
              "      <td>1.0</td>\n",
              "      <td>0.0</td>\n",
              "    </tr>\n",
              "    <tr>\n",
              "      <th>3</th>\n",
              "      <td>56.0</td>\n",
              "      <td>120.0</td>\n",
              "      <td>236.0</td>\n",
              "      <td>178.0</td>\n",
              "      <td>0.8</td>\n",
              "      <td>0.0</td>\n",
              "      <td>1.0</td>\n",
              "      <td>0.0</td>\n",
              "      <td>1.0</td>\n",
              "      <td>0.0</td>\n",
              "      <td>...</td>\n",
              "      <td>1.0</td>\n",
              "      <td>1.0</td>\n",
              "      <td>0.0</td>\n",
              "      <td>0.0</td>\n",
              "      <td>0.0</td>\n",
              "      <td>0.0</td>\n",
              "      <td>0.0</td>\n",
              "      <td>0.0</td>\n",
              "      <td>1.0</td>\n",
              "      <td>0.0</td>\n",
              "    </tr>\n",
              "    <tr>\n",
              "      <th>4</th>\n",
              "      <td>57.0</td>\n",
              "      <td>120.0</td>\n",
              "      <td>354.0</td>\n",
              "      <td>163.0</td>\n",
              "      <td>0.6</td>\n",
              "      <td>1.0</td>\n",
              "      <td>0.0</td>\n",
              "      <td>1.0</td>\n",
              "      <td>0.0</td>\n",
              "      <td>0.0</td>\n",
              "      <td>...</td>\n",
              "      <td>1.0</td>\n",
              "      <td>1.0</td>\n",
              "      <td>0.0</td>\n",
              "      <td>0.0</td>\n",
              "      <td>0.0</td>\n",
              "      <td>0.0</td>\n",
              "      <td>0.0</td>\n",
              "      <td>0.0</td>\n",
              "      <td>1.0</td>\n",
              "      <td>0.0</td>\n",
              "    </tr>\n",
              "    <tr>\n",
              "      <th>...</th>\n",
              "      <td>...</td>\n",
              "      <td>...</td>\n",
              "      <td>...</td>\n",
              "      <td>...</td>\n",
              "      <td>...</td>\n",
              "      <td>...</td>\n",
              "      <td>...</td>\n",
              "      <td>...</td>\n",
              "      <td>...</td>\n",
              "      <td>...</td>\n",
              "      <td>...</td>\n",
              "      <td>...</td>\n",
              "      <td>...</td>\n",
              "      <td>...</td>\n",
              "      <td>...</td>\n",
              "      <td>...</td>\n",
              "      <td>...</td>\n",
              "      <td>...</td>\n",
              "      <td>...</td>\n",
              "      <td>...</td>\n",
              "      <td>...</td>\n",
              "    </tr>\n",
              "    <tr>\n",
              "      <th>298</th>\n",
              "      <td>57.0</td>\n",
              "      <td>140.0</td>\n",
              "      <td>241.0</td>\n",
              "      <td>123.0</td>\n",
              "      <td>0.2</td>\n",
              "      <td>1.0</td>\n",
              "      <td>0.0</td>\n",
              "      <td>1.0</td>\n",
              "      <td>0.0</td>\n",
              "      <td>0.0</td>\n",
              "      <td>...</td>\n",
              "      <td>0.0</td>\n",
              "      <td>1.0</td>\n",
              "      <td>0.0</td>\n",
              "      <td>0.0</td>\n",
              "      <td>0.0</td>\n",
              "      <td>0.0</td>\n",
              "      <td>0.0</td>\n",
              "      <td>0.0</td>\n",
              "      <td>0.0</td>\n",
              "      <td>1.0</td>\n",
              "    </tr>\n",
              "    <tr>\n",
              "      <th>299</th>\n",
              "      <td>45.0</td>\n",
              "      <td>110.0</td>\n",
              "      <td>264.0</td>\n",
              "      <td>132.0</td>\n",
              "      <td>1.2</td>\n",
              "      <td>0.0</td>\n",
              "      <td>1.0</td>\n",
              "      <td>0.0</td>\n",
              "      <td>0.0</td>\n",
              "      <td>0.0</td>\n",
              "      <td>...</td>\n",
              "      <td>0.0</td>\n",
              "      <td>1.0</td>\n",
              "      <td>0.0</td>\n",
              "      <td>0.0</td>\n",
              "      <td>0.0</td>\n",
              "      <td>0.0</td>\n",
              "      <td>0.0</td>\n",
              "      <td>0.0</td>\n",
              "      <td>0.0</td>\n",
              "      <td>1.0</td>\n",
              "    </tr>\n",
              "    <tr>\n",
              "      <th>300</th>\n",
              "      <td>68.0</td>\n",
              "      <td>144.0</td>\n",
              "      <td>193.0</td>\n",
              "      <td>141.0</td>\n",
              "      <td>3.4</td>\n",
              "      <td>0.0</td>\n",
              "      <td>1.0</td>\n",
              "      <td>1.0</td>\n",
              "      <td>0.0</td>\n",
              "      <td>0.0</td>\n",
              "      <td>...</td>\n",
              "      <td>0.0</td>\n",
              "      <td>0.0</td>\n",
              "      <td>0.0</td>\n",
              "      <td>1.0</td>\n",
              "      <td>0.0</td>\n",
              "      <td>0.0</td>\n",
              "      <td>0.0</td>\n",
              "      <td>0.0</td>\n",
              "      <td>0.0</td>\n",
              "      <td>1.0</td>\n",
              "    </tr>\n",
              "    <tr>\n",
              "      <th>301</th>\n",
              "      <td>57.0</td>\n",
              "      <td>130.0</td>\n",
              "      <td>131.0</td>\n",
              "      <td>115.0</td>\n",
              "      <td>1.2</td>\n",
              "      <td>0.0</td>\n",
              "      <td>1.0</td>\n",
              "      <td>1.0</td>\n",
              "      <td>0.0</td>\n",
              "      <td>0.0</td>\n",
              "      <td>...</td>\n",
              "      <td>0.0</td>\n",
              "      <td>0.0</td>\n",
              "      <td>1.0</td>\n",
              "      <td>0.0</td>\n",
              "      <td>0.0</td>\n",
              "      <td>0.0</td>\n",
              "      <td>0.0</td>\n",
              "      <td>0.0</td>\n",
              "      <td>0.0</td>\n",
              "      <td>1.0</td>\n",
              "    </tr>\n",
              "    <tr>\n",
              "      <th>302</th>\n",
              "      <td>57.0</td>\n",
              "      <td>130.0</td>\n",
              "      <td>236.0</td>\n",
              "      <td>174.0</td>\n",
              "      <td>0.0</td>\n",
              "      <td>1.0</td>\n",
              "      <td>0.0</td>\n",
              "      <td>0.0</td>\n",
              "      <td>1.0</td>\n",
              "      <td>0.0</td>\n",
              "      <td>...</td>\n",
              "      <td>0.0</td>\n",
              "      <td>0.0</td>\n",
              "      <td>1.0</td>\n",
              "      <td>0.0</td>\n",
              "      <td>0.0</td>\n",
              "      <td>0.0</td>\n",
              "      <td>0.0</td>\n",
              "      <td>0.0</td>\n",
              "      <td>1.0</td>\n",
              "      <td>0.0</td>\n",
              "    </tr>\n",
              "  </tbody>\n",
              "</table>\n",
              "<p>303 rows × 30 columns</p>\n",
              "</div>\n",
              "      <button class=\"colab-df-convert\" onclick=\"convertToInteractive('df-e3ea02fa-5031-48c2-85a2-622d9a05e91c')\"\n",
              "              title=\"Convert this dataframe to an interactive table.\"\n",
              "              style=\"display:none;\">\n",
              "        \n",
              "  <svg xmlns=\"http://www.w3.org/2000/svg\" height=\"24px\"viewBox=\"0 0 24 24\"\n",
              "       width=\"24px\">\n",
              "    <path d=\"M0 0h24v24H0V0z\" fill=\"none\"/>\n",
              "    <path d=\"M18.56 5.44l.94 2.06.94-2.06 2.06-.94-2.06-.94-.94-2.06-.94 2.06-2.06.94zm-11 1L8.5 8.5l.94-2.06 2.06-.94-2.06-.94L8.5 2.5l-.94 2.06-2.06.94zm10 10l.94 2.06.94-2.06 2.06-.94-2.06-.94-.94-2.06-.94 2.06-2.06.94z\"/><path d=\"M17.41 7.96l-1.37-1.37c-.4-.4-.92-.59-1.43-.59-.52 0-1.04.2-1.43.59L10.3 9.45l-7.72 7.72c-.78.78-.78 2.05 0 2.83L4 21.41c.39.39.9.59 1.41.59.51 0 1.02-.2 1.41-.59l7.78-7.78 2.81-2.81c.8-.78.8-2.07 0-2.86zM5.41 20L4 18.59l7.72-7.72 1.47 1.35L5.41 20z\"/>\n",
              "  </svg>\n",
              "      </button>\n",
              "      \n",
              "  <style>\n",
              "    .colab-df-container {\n",
              "      display:flex;\n",
              "      flex-wrap:wrap;\n",
              "      gap: 12px;\n",
              "    }\n",
              "\n",
              "    .colab-df-convert {\n",
              "      background-color: #E8F0FE;\n",
              "      border: none;\n",
              "      border-radius: 50%;\n",
              "      cursor: pointer;\n",
              "      display: none;\n",
              "      fill: #1967D2;\n",
              "      height: 32px;\n",
              "      padding: 0 0 0 0;\n",
              "      width: 32px;\n",
              "    }\n",
              "\n",
              "    .colab-df-convert:hover {\n",
              "      background-color: #E2EBFA;\n",
              "      box-shadow: 0px 1px 2px rgba(60, 64, 67, 0.3), 0px 1px 3px 1px rgba(60, 64, 67, 0.15);\n",
              "      fill: #174EA6;\n",
              "    }\n",
              "\n",
              "    [theme=dark] .colab-df-convert {\n",
              "      background-color: #3B4455;\n",
              "      fill: #D2E3FC;\n",
              "    }\n",
              "\n",
              "    [theme=dark] .colab-df-convert:hover {\n",
              "      background-color: #434B5C;\n",
              "      box-shadow: 0px 1px 3px 1px rgba(0, 0, 0, 0.15);\n",
              "      filter: drop-shadow(0px 1px 2px rgba(0, 0, 0, 0.3));\n",
              "      fill: #FFFFFF;\n",
              "    }\n",
              "  </style>\n",
              "\n",
              "      <script>\n",
              "        const buttonEl =\n",
              "          document.querySelector('#df-e3ea02fa-5031-48c2-85a2-622d9a05e91c button.colab-df-convert');\n",
              "        buttonEl.style.display =\n",
              "          google.colab.kernel.accessAllowed ? 'block' : 'none';\n",
              "\n",
              "        async function convertToInteractive(key) {\n",
              "          const element = document.querySelector('#df-e3ea02fa-5031-48c2-85a2-622d9a05e91c');\n",
              "          const dataTable =\n",
              "            await google.colab.kernel.invokeFunction('convertToInteractive',\n",
              "                                                     [key], {});\n",
              "          if (!dataTable) return;\n",
              "\n",
              "          const docLinkHtml = 'Like what you see? Visit the ' +\n",
              "            '<a target=\"_blank\" href=https://colab.research.google.com/notebooks/data_table.ipynb>data table notebook</a>'\n",
              "            + ' to learn more about interactive tables.';\n",
              "          element.innerHTML = '';\n",
              "          dataTable['output_type'] = 'display_data';\n",
              "          await google.colab.output.renderOutput(dataTable, element);\n",
              "          const docLink = document.createElement('div');\n",
              "          docLink.innerHTML = docLinkHtml;\n",
              "          element.appendChild(docLink);\n",
              "        }\n",
              "      </script>\n",
              "    </div>\n",
              "  </div>\n",
              "  "
            ]
          },
          "metadata": {},
          "execution_count": 33
        }
      ]
    },
    {
      "cell_type": "code",
      "source": [
        "scaler = MinMaxScaler()\n",
        "scaler.fit(X)\n",
        "X = scaler.transform(X)\n",
        "X.shape"
      ],
      "metadata": {
        "colab": {
          "base_uri": "https://localhost:8080/"
        },
        "id": "bd-3wESm48md",
        "outputId": "e64242e1-524b-41c9-f69e-d131a90d4f02"
      },
      "execution_count": null,
      "outputs": [
        {
          "output_type": "execute_result",
          "data": {
            "text/plain": [
              "(303, 30)"
            ]
          },
          "metadata": {},
          "execution_count": 34
        }
      ]
    },
    {
      "cell_type": "code",
      "source": [
        "pd.DataFrame(X)"
      ],
      "metadata": {
        "id": "EOMXV8g9AiG8",
        "outputId": "9902faaa-5d6f-49df-933c-f4403d1229ae",
        "colab": {
          "base_uri": "https://localhost:8080/",
          "height": 424
        }
      },
      "execution_count": null,
      "outputs": [
        {
          "output_type": "execute_result",
          "data": {
            "text/plain": [
              "           0         1         2         3         4    5    6    7    8   \\\n",
              "0    0.708333  0.481132  0.244292  0.603053  0.370968  0.0  1.0  0.0  0.0   \n",
              "1    0.166667  0.339623  0.283105  0.885496  0.564516  0.0  1.0  0.0  0.0   \n",
              "2    0.250000  0.339623  0.178082  0.770992  0.225806  1.0  0.0  0.0  1.0   \n",
              "3    0.562500  0.245283  0.251142  0.816794  0.129032  0.0  1.0  0.0  1.0   \n",
              "4    0.583333  0.245283  0.520548  0.702290  0.096774  1.0  0.0  1.0  0.0   \n",
              "..        ...       ...       ...       ...       ...  ...  ...  ...  ...   \n",
              "298  0.583333  0.433962  0.262557  0.396947  0.032258  1.0  0.0  1.0  0.0   \n",
              "299  0.333333  0.150943  0.315068  0.465649  0.193548  0.0  1.0  0.0  0.0   \n",
              "300  0.812500  0.471698  0.152968  0.534351  0.548387  0.0  1.0  1.0  0.0   \n",
              "301  0.583333  0.339623  0.011416  0.335878  0.193548  0.0  1.0  1.0  0.0   \n",
              "302  0.583333  0.339623  0.251142  0.786260  0.000000  1.0  0.0  0.0  1.0   \n",
              "\n",
              "      9   ...   20   21   22   23   24   25   26   27   28   29  \n",
              "0    0.0  ...  0.0  1.0  0.0  0.0  0.0  0.0  0.0  1.0  0.0  0.0  \n",
              "1    1.0  ...  0.0  1.0  0.0  0.0  0.0  0.0  0.0  0.0  1.0  0.0  \n",
              "2    0.0  ...  1.0  1.0  0.0  0.0  0.0  0.0  0.0  0.0  1.0  0.0  \n",
              "3    0.0  ...  1.0  1.0  0.0  0.0  0.0  0.0  0.0  0.0  1.0  0.0  \n",
              "4    0.0  ...  1.0  1.0  0.0  0.0  0.0  0.0  0.0  0.0  1.0  0.0  \n",
              "..   ...  ...  ...  ...  ...  ...  ...  ...  ...  ...  ...  ...  \n",
              "298  0.0  ...  0.0  1.0  0.0  0.0  0.0  0.0  0.0  0.0  0.0  1.0  \n",
              "299  0.0  ...  0.0  1.0  0.0  0.0  0.0  0.0  0.0  0.0  0.0  1.0  \n",
              "300  0.0  ...  0.0  0.0  0.0  1.0  0.0  0.0  0.0  0.0  0.0  1.0  \n",
              "301  0.0  ...  0.0  0.0  1.0  0.0  0.0  0.0  0.0  0.0  0.0  1.0  \n",
              "302  0.0  ...  0.0  0.0  1.0  0.0  0.0  0.0  0.0  0.0  1.0  0.0  \n",
              "\n",
              "[303 rows x 30 columns]"
            ],
            "text/html": [
              "\n",
              "  <div id=\"df-27b5a0a2-ec29-41fd-8289-e80f93e62fc1\">\n",
              "    <div class=\"colab-df-container\">\n",
              "      <div>\n",
              "<style scoped>\n",
              "    .dataframe tbody tr th:only-of-type {\n",
              "        vertical-align: middle;\n",
              "    }\n",
              "\n",
              "    .dataframe tbody tr th {\n",
              "        vertical-align: top;\n",
              "    }\n",
              "\n",
              "    .dataframe thead th {\n",
              "        text-align: right;\n",
              "    }\n",
              "</style>\n",
              "<table border=\"1\" class=\"dataframe\">\n",
              "  <thead>\n",
              "    <tr style=\"text-align: right;\">\n",
              "      <th></th>\n",
              "      <th>0</th>\n",
              "      <th>1</th>\n",
              "      <th>2</th>\n",
              "      <th>3</th>\n",
              "      <th>4</th>\n",
              "      <th>5</th>\n",
              "      <th>6</th>\n",
              "      <th>7</th>\n",
              "      <th>8</th>\n",
              "      <th>9</th>\n",
              "      <th>...</th>\n",
              "      <th>20</th>\n",
              "      <th>21</th>\n",
              "      <th>22</th>\n",
              "      <th>23</th>\n",
              "      <th>24</th>\n",
              "      <th>25</th>\n",
              "      <th>26</th>\n",
              "      <th>27</th>\n",
              "      <th>28</th>\n",
              "      <th>29</th>\n",
              "    </tr>\n",
              "  </thead>\n",
              "  <tbody>\n",
              "    <tr>\n",
              "      <th>0</th>\n",
              "      <td>0.708333</td>\n",
              "      <td>0.481132</td>\n",
              "      <td>0.244292</td>\n",
              "      <td>0.603053</td>\n",
              "      <td>0.370968</td>\n",
              "      <td>0.0</td>\n",
              "      <td>1.0</td>\n",
              "      <td>0.0</td>\n",
              "      <td>0.0</td>\n",
              "      <td>0.0</td>\n",
              "      <td>...</td>\n",
              "      <td>0.0</td>\n",
              "      <td>1.0</td>\n",
              "      <td>0.0</td>\n",
              "      <td>0.0</td>\n",
              "      <td>0.0</td>\n",
              "      <td>0.0</td>\n",
              "      <td>0.0</td>\n",
              "      <td>1.0</td>\n",
              "      <td>0.0</td>\n",
              "      <td>0.0</td>\n",
              "    </tr>\n",
              "    <tr>\n",
              "      <th>1</th>\n",
              "      <td>0.166667</td>\n",
              "      <td>0.339623</td>\n",
              "      <td>0.283105</td>\n",
              "      <td>0.885496</td>\n",
              "      <td>0.564516</td>\n",
              "      <td>0.0</td>\n",
              "      <td>1.0</td>\n",
              "      <td>0.0</td>\n",
              "      <td>0.0</td>\n",
              "      <td>1.0</td>\n",
              "      <td>...</td>\n",
              "      <td>0.0</td>\n",
              "      <td>1.0</td>\n",
              "      <td>0.0</td>\n",
              "      <td>0.0</td>\n",
              "      <td>0.0</td>\n",
              "      <td>0.0</td>\n",
              "      <td>0.0</td>\n",
              "      <td>0.0</td>\n",
              "      <td>1.0</td>\n",
              "      <td>0.0</td>\n",
              "    </tr>\n",
              "    <tr>\n",
              "      <th>2</th>\n",
              "      <td>0.250000</td>\n",
              "      <td>0.339623</td>\n",
              "      <td>0.178082</td>\n",
              "      <td>0.770992</td>\n",
              "      <td>0.225806</td>\n",
              "      <td>1.0</td>\n",
              "      <td>0.0</td>\n",
              "      <td>0.0</td>\n",
              "      <td>1.0</td>\n",
              "      <td>0.0</td>\n",
              "      <td>...</td>\n",
              "      <td>1.0</td>\n",
              "      <td>1.0</td>\n",
              "      <td>0.0</td>\n",
              "      <td>0.0</td>\n",
              "      <td>0.0</td>\n",
              "      <td>0.0</td>\n",
              "      <td>0.0</td>\n",
              "      <td>0.0</td>\n",
              "      <td>1.0</td>\n",
              "      <td>0.0</td>\n",
              "    </tr>\n",
              "    <tr>\n",
              "      <th>3</th>\n",
              "      <td>0.562500</td>\n",
              "      <td>0.245283</td>\n",
              "      <td>0.251142</td>\n",
              "      <td>0.816794</td>\n",
              "      <td>0.129032</td>\n",
              "      <td>0.0</td>\n",
              "      <td>1.0</td>\n",
              "      <td>0.0</td>\n",
              "      <td>1.0</td>\n",
              "      <td>0.0</td>\n",
              "      <td>...</td>\n",
              "      <td>1.0</td>\n",
              "      <td>1.0</td>\n",
              "      <td>0.0</td>\n",
              "      <td>0.0</td>\n",
              "      <td>0.0</td>\n",
              "      <td>0.0</td>\n",
              "      <td>0.0</td>\n",
              "      <td>0.0</td>\n",
              "      <td>1.0</td>\n",
              "      <td>0.0</td>\n",
              "    </tr>\n",
              "    <tr>\n",
              "      <th>4</th>\n",
              "      <td>0.583333</td>\n",
              "      <td>0.245283</td>\n",
              "      <td>0.520548</td>\n",
              "      <td>0.702290</td>\n",
              "      <td>0.096774</td>\n",
              "      <td>1.0</td>\n",
              "      <td>0.0</td>\n",
              "      <td>1.0</td>\n",
              "      <td>0.0</td>\n",
              "      <td>0.0</td>\n",
              "      <td>...</td>\n",
              "      <td>1.0</td>\n",
              "      <td>1.0</td>\n",
              "      <td>0.0</td>\n",
              "      <td>0.0</td>\n",
              "      <td>0.0</td>\n",
              "      <td>0.0</td>\n",
              "      <td>0.0</td>\n",
              "      <td>0.0</td>\n",
              "      <td>1.0</td>\n",
              "      <td>0.0</td>\n",
              "    </tr>\n",
              "    <tr>\n",
              "      <th>...</th>\n",
              "      <td>...</td>\n",
              "      <td>...</td>\n",
              "      <td>...</td>\n",
              "      <td>...</td>\n",
              "      <td>...</td>\n",
              "      <td>...</td>\n",
              "      <td>...</td>\n",
              "      <td>...</td>\n",
              "      <td>...</td>\n",
              "      <td>...</td>\n",
              "      <td>...</td>\n",
              "      <td>...</td>\n",
              "      <td>...</td>\n",
              "      <td>...</td>\n",
              "      <td>...</td>\n",
              "      <td>...</td>\n",
              "      <td>...</td>\n",
              "      <td>...</td>\n",
              "      <td>...</td>\n",
              "      <td>...</td>\n",
              "      <td>...</td>\n",
              "    </tr>\n",
              "    <tr>\n",
              "      <th>298</th>\n",
              "      <td>0.583333</td>\n",
              "      <td>0.433962</td>\n",
              "      <td>0.262557</td>\n",
              "      <td>0.396947</td>\n",
              "      <td>0.032258</td>\n",
              "      <td>1.0</td>\n",
              "      <td>0.0</td>\n",
              "      <td>1.0</td>\n",
              "      <td>0.0</td>\n",
              "      <td>0.0</td>\n",
              "      <td>...</td>\n",
              "      <td>0.0</td>\n",
              "      <td>1.0</td>\n",
              "      <td>0.0</td>\n",
              "      <td>0.0</td>\n",
              "      <td>0.0</td>\n",
              "      <td>0.0</td>\n",
              "      <td>0.0</td>\n",
              "      <td>0.0</td>\n",
              "      <td>0.0</td>\n",
              "      <td>1.0</td>\n",
              "    </tr>\n",
              "    <tr>\n",
              "      <th>299</th>\n",
              "      <td>0.333333</td>\n",
              "      <td>0.150943</td>\n",
              "      <td>0.315068</td>\n",
              "      <td>0.465649</td>\n",
              "      <td>0.193548</td>\n",
              "      <td>0.0</td>\n",
              "      <td>1.0</td>\n",
              "      <td>0.0</td>\n",
              "      <td>0.0</td>\n",
              "      <td>0.0</td>\n",
              "      <td>...</td>\n",
              "      <td>0.0</td>\n",
              "      <td>1.0</td>\n",
              "      <td>0.0</td>\n",
              "      <td>0.0</td>\n",
              "      <td>0.0</td>\n",
              "      <td>0.0</td>\n",
              "      <td>0.0</td>\n",
              "      <td>0.0</td>\n",
              "      <td>0.0</td>\n",
              "      <td>1.0</td>\n",
              "    </tr>\n",
              "    <tr>\n",
              "      <th>300</th>\n",
              "      <td>0.812500</td>\n",
              "      <td>0.471698</td>\n",
              "      <td>0.152968</td>\n",
              "      <td>0.534351</td>\n",
              "      <td>0.548387</td>\n",
              "      <td>0.0</td>\n",
              "      <td>1.0</td>\n",
              "      <td>1.0</td>\n",
              "      <td>0.0</td>\n",
              "      <td>0.0</td>\n",
              "      <td>...</td>\n",
              "      <td>0.0</td>\n",
              "      <td>0.0</td>\n",
              "      <td>0.0</td>\n",
              "      <td>1.0</td>\n",
              "      <td>0.0</td>\n",
              "      <td>0.0</td>\n",
              "      <td>0.0</td>\n",
              "      <td>0.0</td>\n",
              "      <td>0.0</td>\n",
              "      <td>1.0</td>\n",
              "    </tr>\n",
              "    <tr>\n",
              "      <th>301</th>\n",
              "      <td>0.583333</td>\n",
              "      <td>0.339623</td>\n",
              "      <td>0.011416</td>\n",
              "      <td>0.335878</td>\n",
              "      <td>0.193548</td>\n",
              "      <td>0.0</td>\n",
              "      <td>1.0</td>\n",
              "      <td>1.0</td>\n",
              "      <td>0.0</td>\n",
              "      <td>0.0</td>\n",
              "      <td>...</td>\n",
              "      <td>0.0</td>\n",
              "      <td>0.0</td>\n",
              "      <td>1.0</td>\n",
              "      <td>0.0</td>\n",
              "      <td>0.0</td>\n",
              "      <td>0.0</td>\n",
              "      <td>0.0</td>\n",
              "      <td>0.0</td>\n",
              "      <td>0.0</td>\n",
              "      <td>1.0</td>\n",
              "    </tr>\n",
              "    <tr>\n",
              "      <th>302</th>\n",
              "      <td>0.583333</td>\n",
              "      <td>0.339623</td>\n",
              "      <td>0.251142</td>\n",
              "      <td>0.786260</td>\n",
              "      <td>0.000000</td>\n",
              "      <td>1.0</td>\n",
              "      <td>0.0</td>\n",
              "      <td>0.0</td>\n",
              "      <td>1.0</td>\n",
              "      <td>0.0</td>\n",
              "      <td>...</td>\n",
              "      <td>0.0</td>\n",
              "      <td>0.0</td>\n",
              "      <td>1.0</td>\n",
              "      <td>0.0</td>\n",
              "      <td>0.0</td>\n",
              "      <td>0.0</td>\n",
              "      <td>0.0</td>\n",
              "      <td>0.0</td>\n",
              "      <td>1.0</td>\n",
              "      <td>0.0</td>\n",
              "    </tr>\n",
              "  </tbody>\n",
              "</table>\n",
              "<p>303 rows × 30 columns</p>\n",
              "</div>\n",
              "      <button class=\"colab-df-convert\" onclick=\"convertToInteractive('df-27b5a0a2-ec29-41fd-8289-e80f93e62fc1')\"\n",
              "              title=\"Convert this dataframe to an interactive table.\"\n",
              "              style=\"display:none;\">\n",
              "        \n",
              "  <svg xmlns=\"http://www.w3.org/2000/svg\" height=\"24px\"viewBox=\"0 0 24 24\"\n",
              "       width=\"24px\">\n",
              "    <path d=\"M0 0h24v24H0V0z\" fill=\"none\"/>\n",
              "    <path d=\"M18.56 5.44l.94 2.06.94-2.06 2.06-.94-2.06-.94-.94-2.06-.94 2.06-2.06.94zm-11 1L8.5 8.5l.94-2.06 2.06-.94-2.06-.94L8.5 2.5l-.94 2.06-2.06.94zm10 10l.94 2.06.94-2.06 2.06-.94-2.06-.94-.94-2.06-.94 2.06-2.06.94z\"/><path d=\"M17.41 7.96l-1.37-1.37c-.4-.4-.92-.59-1.43-.59-.52 0-1.04.2-1.43.59L10.3 9.45l-7.72 7.72c-.78.78-.78 2.05 0 2.83L4 21.41c.39.39.9.59 1.41.59.51 0 1.02-.2 1.41-.59l7.78-7.78 2.81-2.81c.8-.78.8-2.07 0-2.86zM5.41 20L4 18.59l7.72-7.72 1.47 1.35L5.41 20z\"/>\n",
              "  </svg>\n",
              "      </button>\n",
              "      \n",
              "  <style>\n",
              "    .colab-df-container {\n",
              "      display:flex;\n",
              "      flex-wrap:wrap;\n",
              "      gap: 12px;\n",
              "    }\n",
              "\n",
              "    .colab-df-convert {\n",
              "      background-color: #E8F0FE;\n",
              "      border: none;\n",
              "      border-radius: 50%;\n",
              "      cursor: pointer;\n",
              "      display: none;\n",
              "      fill: #1967D2;\n",
              "      height: 32px;\n",
              "      padding: 0 0 0 0;\n",
              "      width: 32px;\n",
              "    }\n",
              "\n",
              "    .colab-df-convert:hover {\n",
              "      background-color: #E2EBFA;\n",
              "      box-shadow: 0px 1px 2px rgba(60, 64, 67, 0.3), 0px 1px 3px 1px rgba(60, 64, 67, 0.15);\n",
              "      fill: #174EA6;\n",
              "    }\n",
              "\n",
              "    [theme=dark] .colab-df-convert {\n",
              "      background-color: #3B4455;\n",
              "      fill: #D2E3FC;\n",
              "    }\n",
              "\n",
              "    [theme=dark] .colab-df-convert:hover {\n",
              "      background-color: #434B5C;\n",
              "      box-shadow: 0px 1px 3px 1px rgba(0, 0, 0, 0.15);\n",
              "      filter: drop-shadow(0px 1px 2px rgba(0, 0, 0, 0.3));\n",
              "      fill: #FFFFFF;\n",
              "    }\n",
              "  </style>\n",
              "\n",
              "      <script>\n",
              "        const buttonEl =\n",
              "          document.querySelector('#df-27b5a0a2-ec29-41fd-8289-e80f93e62fc1 button.colab-df-convert');\n",
              "        buttonEl.style.display =\n",
              "          google.colab.kernel.accessAllowed ? 'block' : 'none';\n",
              "\n",
              "        async function convertToInteractive(key) {\n",
              "          const element = document.querySelector('#df-27b5a0a2-ec29-41fd-8289-e80f93e62fc1');\n",
              "          const dataTable =\n",
              "            await google.colab.kernel.invokeFunction('convertToInteractive',\n",
              "                                                     [key], {});\n",
              "          if (!dataTable) return;\n",
              "\n",
              "          const docLinkHtml = 'Like what you see? Visit the ' +\n",
              "            '<a target=\"_blank\" href=https://colab.research.google.com/notebooks/data_table.ipynb>data table notebook</a>'\n",
              "            + ' to learn more about interactive tables.';\n",
              "          element.innerHTML = '';\n",
              "          dataTable['output_type'] = 'display_data';\n",
              "          await google.colab.output.renderOutput(dataTable, element);\n",
              "          const docLink = document.createElement('div');\n",
              "          docLink.innerHTML = docLinkHtml;\n",
              "          element.appendChild(docLink);\n",
              "        }\n",
              "      </script>\n",
              "    </div>\n",
              "  </div>\n",
              "  "
            ]
          },
          "metadata": {},
          "execution_count": 35
        }
      ]
    },
    {
      "cell_type": "markdown",
      "source": [
        "**Random Forest avec donnees brutes**"
      ],
      "metadata": {
        "id": "vRGILFLpp4sO"
      }
    },
    {
      "cell_type": "code",
      "source": [
        "#X = df[X_col_names_reels + col_names_cp]\n",
        "#ici dataset est X_copie\n",
        "X_train, X_test, y_train, y_test = train_test_split(X, Y, test_size=0.3, stratify=Y, random_state=0)\n",
        "X_train, X_val, y_train, y_val = train_test_split(X_train, y_train, test_size=0.2, random_state=0)\n",
        "print('X_train, X_val, X_test, Y_train, Y_val, Y_test', X_train.shape,X_test.shape,y_train.shape,y_test.shape)\n",
        "X_train"
      ],
      "metadata": {
        "colab": {
          "base_uri": "https://localhost:8080/"
        },
        "id": "2a5nHqBpp9LW",
        "outputId": "3c9d8a23-dd22-468a-c362-5dc3eb511fea"
      },
      "execution_count": null,
      "outputs": [
        {
          "output_type": "stream",
          "name": "stdout",
          "text": [
            "X_train, X_val, X_test, Y_train, Y_val, Y_test (169, 30) (91, 30) (169,) (91,)\n"
          ]
        },
        {
          "output_type": "execute_result",
          "data": {
            "text/plain": [
              "array([[0.52083333, 0.24528302, 0.14155251, ..., 0.        , 0.        ,\n",
              "        1.        ],\n",
              "       [0.83333333, 0.62264151, 0.24657534, ..., 0.        , 1.        ,\n",
              "        0.        ],\n",
              "       [0.60416667, 0.49056604, 0.21004566, ..., 0.        , 0.        ,\n",
              "        1.        ],\n",
              "       ...,\n",
              "       [0.35416667, 0.24528302, 0.28082192, ..., 0.        , 0.        ,\n",
              "        1.        ],\n",
              "       [0.625     , 0.79245283, 0.32876712, ..., 0.        , 0.        ,\n",
              "        1.        ],\n",
              "       [0.625     , 0.37735849, 0.17808219, ..., 0.        , 1.        ,\n",
              "        0.        ]])"
            ]
          },
          "metadata": {},
          "execution_count": 36
        }
      ]
    },
    {
      "cell_type": "code",
      "source": [
        "#arbre decision\n",
        "decision_tree = tree.DecisionTreeClassifier(criterion='entropy', max_depth=10)\n",
        "decision_tree = decision_tree.fit(X_train, y_train)\n",
        "print('Accuracy = ',decision_tree.score(X_test, y_test))"
      ],
      "metadata": {
        "colab": {
          "base_uri": "https://localhost:8080/"
        },
        "id": "DPSMwdQlq5LY",
        "outputId": "e96856e6-0106-40c5-e180-31d1a87d0700"
      },
      "execution_count": null,
      "outputs": [
        {
          "output_type": "stream",
          "name": "stdout",
          "text": [
            "Accuracy =  0.7472527472527473\n"
          ]
        }
      ]
    },
    {
      "cell_type": "code",
      "source": [
        "import pydotplus\n",
        "from graphviz import Source\n",
        "\n",
        "dot_data = tree.export_graphviz(decision_tree, out_file=None,   \n",
        "                         filled=True, rounded=True,  \n",
        "                         special_characters=True) \n",
        "'''\n",
        "export_graphviz(\n",
        "        decision_tree,\n",
        "        out_file=os.path.join(IMAGES_PATH, \"iris_tree.dot\"),\n",
        "        feature_names=X_copie.columns,\n",
        "        rounded=True,\n",
        "        filled=True\n",
        "    )\n",
        "Source.from_file(os.path.join(IMAGES_PATH, \"tree.dot\"))\n",
        "\n",
        "'''\n",
        "pydot_graph = pydotplus.graph_from_dot_data(dot_data)\n",
        "pydot_graph.set_size('\"15,15!\"')\n",
        "graph = graphviz.Source(pydot_graph.to_string())\n",
        "graph"
      ],
      "metadata": {
        "colab": {
          "base_uri": "https://localhost:8080/",
          "height": 572
        },
        "id": "rn8g487jq9u7",
        "outputId": "7e61fdc8-dfd3-49fe-8489-48bb57e496b2"
      },
      "execution_count": null,
      "outputs": [
        {
          "output_type": "execute_result",
          "data": {
            "text/plain": [
              "<graphviz.files.Source at 0x7f0c8bd53450>"
            ],
            "image/svg+xml": "<?xml version=\"1.0\" encoding=\"UTF-8\" standalone=\"no\"?>\n<!DOCTYPE svg PUBLIC \"-//W3C//DTD SVG 1.1//EN\"\n \"http://www.w3.org/Graphics/SVG/1.1/DTD/svg11.dtd\">\n<!-- Generated by graphviz version 2.40.1 (20161225.0304)\n -->\n<!-- Title: Tree Pages: 1 -->\n<svg width=\"1080pt\" height=\"413pt\"\n viewBox=\"0.00 0.00 1080.00 413.10\" xmlns=\"http://www.w3.org/2000/svg\" xmlns:xlink=\"http://www.w3.org/1999/xlink\">\n<g id=\"graph0\" class=\"graph\" transform=\"scale(.4798 .4798) rotate(0) translate(4 857)\">\n<title>Tree</title>\n<polygon fill=\"#ffffff\" stroke=\"transparent\" points=\"-4,4 -4,-857 2247,-857 2247,4 -4,4\"/>\n<!-- 0 -->\n<g id=\"node1\" class=\"node\">\n<title>0</title>\n<path fill=\"#dbedfa\" stroke=\"#000000\" d=\"M1314.5,-853C1314.5,-853 1220.5,-853 1220.5,-853 1214.5,-853 1208.5,-847 1208.5,-841 1208.5,-841 1208.5,-801 1208.5,-801 1208.5,-795 1214.5,-789 1220.5,-789 1220.5,-789 1314.5,-789 1314.5,-789 1320.5,-789 1326.5,-795 1326.5,-801 1326.5,-801 1326.5,-841 1326.5,-841 1326.5,-847 1320.5,-853 1314.5,-853\"/>\n<text text-anchor=\"start\" x=\"1237.5\" y=\"-838.8\" font-family=\"Helvetica,sans-Serif\" font-size=\"14.00\" fill=\"#000000\">X</text>\n<text text-anchor=\"start\" x=\"1247.5\" y=\"-838.8\" font-family=\"Helvetica,sans-Serif\" baseline-shift=\"sub\" font-size=\"14.00\" fill=\"#000000\">28</text>\n<text text-anchor=\"start\" x=\"1261.5\" y=\"-838.8\" font-family=\"Helvetica,sans-Serif\" font-size=\"14.00\" fill=\"#000000\"> ≤ 0.5</text>\n<text text-anchor=\"start\" x=\"1216.5\" y=\"-824.8\" font-family=\"Helvetica,sans-Serif\" font-size=\"14.00\" fill=\"#000000\">entropy = 0.993</text>\n<text text-anchor=\"start\" x=\"1219.5\" y=\"-810.8\" font-family=\"Helvetica,sans-Serif\" font-size=\"14.00\" fill=\"#000000\">samples = 169</text>\n<text text-anchor=\"start\" x=\"1217.5\" y=\"-796.8\" font-family=\"Helvetica,sans-Serif\" font-size=\"14.00\" fill=\"#000000\">value = [76, 93]</text>\n</g>\n<!-- 1 -->\n<g id=\"node2\" class=\"node\">\n<title>1</title>\n<path fill=\"#edaa79\" stroke=\"#000000\" d=\"M1076.5,-753C1076.5,-753 984.5,-753 984.5,-753 978.5,-753 972.5,-747 972.5,-741 972.5,-741 972.5,-701 972.5,-701 972.5,-695 978.5,-689 984.5,-689 984.5,-689 1076.5,-689 1076.5,-689 1082.5,-689 1088.5,-695 1088.5,-701 1088.5,-701 1088.5,-741 1088.5,-741 1088.5,-747 1082.5,-753 1076.5,-753\"/>\n<text text-anchor=\"start\" x=\"996\" y=\"-738.8\" font-family=\"Helvetica,sans-Serif\" font-size=\"14.00\" fill=\"#000000\">X</text>\n<text text-anchor=\"start\" x=\"1006\" y=\"-738.8\" font-family=\"Helvetica,sans-Serif\" baseline-shift=\"sub\" font-size=\"14.00\" fill=\"#000000\">4</text>\n<text text-anchor=\"start\" x=\"1013\" y=\"-738.8\" font-family=\"Helvetica,sans-Serif\" font-size=\"14.00\" fill=\"#000000\"> ≤ 0.137</text>\n<text text-anchor=\"start\" x=\"988\" y=\"-724.8\" font-family=\"Helvetica,sans-Serif\" font-size=\"14.00\" fill=\"#000000\">entropy = 0.8</text>\n<text text-anchor=\"start\" x=\"986.5\" y=\"-710.8\" font-family=\"Helvetica,sans-Serif\" font-size=\"14.00\" fill=\"#000000\">samples = 74</text>\n<text text-anchor=\"start\" x=\"980.5\" y=\"-696.8\" font-family=\"Helvetica,sans-Serif\" font-size=\"14.00\" fill=\"#000000\">value = [56, 18]</text>\n</g>\n<!-- 0&#45;&gt;1 -->\n<g id=\"edge1\" class=\"edge\">\n<title>0&#45;&gt;1</title>\n<path fill=\"none\" stroke=\"#000000\" d=\"M1208.3062,-796.0237C1174.8451,-781.9051 1132.8838,-764.1999 1098.1286,-749.5353\"/>\n<polygon fill=\"#000000\" stroke=\"#000000\" points=\"1099.1041,-746.1481 1088.53,-745.4853 1096.3828,-752.5975 1099.1041,-746.1481\"/>\n<text text-anchor=\"middle\" x=\"1097.945\" y=\"-764.9447\" font-family=\"Helvetica,sans-Serif\" font-size=\"14.00\" fill=\"#000000\">True</text>\n</g>\n<!-- 26 -->\n<g id=\"node27\" class=\"node\">\n<title>26</title>\n<path fill=\"#6eb7ec\" stroke=\"#000000\" d=\"M1560.5,-753C1560.5,-753 1466.5,-753 1466.5,-753 1460.5,-753 1454.5,-747 1454.5,-741 1454.5,-741 1454.5,-701 1454.5,-701 1454.5,-695 1460.5,-689 1466.5,-689 1466.5,-689 1560.5,-689 1560.5,-689 1566.5,-689 1572.5,-695 1572.5,-701 1572.5,-701 1572.5,-741 1572.5,-741 1572.5,-747 1566.5,-753 1560.5,-753\"/>\n<text text-anchor=\"start\" x=\"1479\" y=\"-738.8\" font-family=\"Helvetica,sans-Serif\" font-size=\"14.00\" fill=\"#000000\">X</text>\n<text text-anchor=\"start\" x=\"1489\" y=\"-738.8\" font-family=\"Helvetica,sans-Serif\" baseline-shift=\"sub\" font-size=\"14.00\" fill=\"#000000\">0</text>\n<text text-anchor=\"start\" x=\"1496\" y=\"-738.8\" font-family=\"Helvetica,sans-Serif\" font-size=\"14.00\" fill=\"#000000\"> ≤ 0.531</text>\n<text text-anchor=\"start\" x=\"1462.5\" y=\"-724.8\" font-family=\"Helvetica,sans-Serif\" font-size=\"14.00\" fill=\"#000000\">entropy = 0.742</text>\n<text text-anchor=\"start\" x=\"1469.5\" y=\"-710.8\" font-family=\"Helvetica,sans-Serif\" font-size=\"14.00\" fill=\"#000000\">samples = 95</text>\n<text text-anchor=\"start\" x=\"1463.5\" y=\"-696.8\" font-family=\"Helvetica,sans-Serif\" font-size=\"14.00\" fill=\"#000000\">value = [20, 75]</text>\n</g>\n<!-- 0&#45;&gt;26 -->\n<g id=\"edge26\" class=\"edge\">\n<title>0&#45;&gt;26</title>\n<path fill=\"none\" stroke=\"#000000\" d=\"M1326.72,-792.8124C1329.68,-791.5039 1332.6187,-790.2263 1335.5,-789 1371.0998,-773.8487 1411.3234,-758.3486 1444.5155,-745.9807\"/>\n<polygon fill=\"#000000\" stroke=\"#000000\" points=\"1445.971,-749.1739 1454.1282,-742.413 1443.5353,-742.6113 1445.971,-749.1739\"/>\n<text text-anchor=\"middle\" x=\"1443.7062\" y=\"-761.437\" font-family=\"Helvetica,sans-Serif\" font-size=\"14.00\" fill=\"#000000\">False</text>\n</g>\n<!-- 2 -->\n<g id=\"node3\" class=\"node\">\n<title>2</title>\n<path fill=\"#ffffff\" stroke=\"#000000\" d=\"M675.5,-653C675.5,-653 583.5,-653 583.5,-653 577.5,-653 571.5,-647 571.5,-641 571.5,-641 571.5,-601 571.5,-601 571.5,-595 577.5,-589 583.5,-589 583.5,-589 675.5,-589 675.5,-589 681.5,-589 687.5,-595 687.5,-601 687.5,-601 687.5,-641 687.5,-641 687.5,-647 681.5,-653 675.5,-653\"/>\n<text text-anchor=\"start\" x=\"595\" y=\"-638.8\" font-family=\"Helvetica,sans-Serif\" font-size=\"14.00\" fill=\"#000000\">X</text>\n<text text-anchor=\"start\" x=\"605\" y=\"-638.8\" font-family=\"Helvetica,sans-Serif\" baseline-shift=\"sub\" font-size=\"14.00\" fill=\"#000000\">2</text>\n<text text-anchor=\"start\" x=\"612\" y=\"-638.8\" font-family=\"Helvetica,sans-Serif\" font-size=\"14.00\" fill=\"#000000\"> ≤ 0.271</text>\n<text text-anchor=\"start\" x=\"587\" y=\"-624.8\" font-family=\"Helvetica,sans-Serif\" font-size=\"14.00\" fill=\"#000000\">entropy = 1.0</text>\n<text text-anchor=\"start\" x=\"585.5\" y=\"-610.8\" font-family=\"Helvetica,sans-Serif\" font-size=\"14.00\" fill=\"#000000\">samples = 30</text>\n<text text-anchor=\"start\" x=\"579.5\" y=\"-596.8\" font-family=\"Helvetica,sans-Serif\" font-size=\"14.00\" fill=\"#000000\">value = [15, 15]</text>\n</g>\n<!-- 1&#45;&gt;2 -->\n<g id=\"edge2\" class=\"edge\">\n<title>1&#45;&gt;2</title>\n<path fill=\"none\" stroke=\"#000000\" d=\"M972.1912,-706.4591C899.3272,-688.2886 774.8449,-657.2456 697.6556,-637.9964\"/>\n<polygon fill=\"#000000\" stroke=\"#000000\" points=\"698.1033,-634.5009 687.5536,-635.4772 696.4095,-641.2929 698.1033,-634.5009\"/>\n</g>\n<!-- 17 -->\n<g id=\"node18\" class=\"node\">\n<title>17</title>\n<path fill=\"#e78a47\" stroke=\"#000000\" d=\"M1077.5,-653C1077.5,-653 983.5,-653 983.5,-653 977.5,-653 971.5,-647 971.5,-641 971.5,-641 971.5,-601 971.5,-601 971.5,-595 977.5,-589 983.5,-589 983.5,-589 1077.5,-589 1077.5,-589 1083.5,-589 1089.5,-595 1089.5,-601 1089.5,-601 1089.5,-641 1089.5,-641 1089.5,-647 1083.5,-653 1077.5,-653\"/>\n<text text-anchor=\"start\" x=\"1000.5\" y=\"-638.8\" font-family=\"Helvetica,sans-Serif\" font-size=\"14.00\" fill=\"#000000\">X</text>\n<text text-anchor=\"start\" x=\"1010.5\" y=\"-638.8\" font-family=\"Helvetica,sans-Serif\" baseline-shift=\"sub\" font-size=\"14.00\" fill=\"#000000\">10</text>\n<text text-anchor=\"start\" x=\"1024.5\" y=\"-638.8\" font-family=\"Helvetica,sans-Serif\" font-size=\"14.00\" fill=\"#000000\"> ≤ 0.5</text>\n<text text-anchor=\"start\" x=\"979.5\" y=\"-624.8\" font-family=\"Helvetica,sans-Serif\" font-size=\"14.00\" fill=\"#000000\">entropy = 0.359</text>\n<text text-anchor=\"start\" x=\"986.5\" y=\"-610.8\" font-family=\"Helvetica,sans-Serif\" font-size=\"14.00\" fill=\"#000000\">samples = 44</text>\n<text text-anchor=\"start\" x=\"985\" y=\"-596.8\" font-family=\"Helvetica,sans-Serif\" font-size=\"14.00\" fill=\"#000000\">value = [41, 3]</text>\n</g>\n<!-- 1&#45;&gt;17 -->\n<g id=\"edge17\" class=\"edge\">\n<title>1&#45;&gt;17</title>\n<path fill=\"none\" stroke=\"#000000\" d=\"M1030.5,-688.8089C1030.5,-680.6906 1030.5,-671.8517 1030.5,-663.3186\"/>\n<polygon fill=\"#000000\" stroke=\"#000000\" points=\"1034.0001,-663.1307 1030.5,-653.1308 1027.0001,-663.1308 1034.0001,-663.1307\"/>\n</g>\n<!-- 3 -->\n<g id=\"node4\" class=\"node\">\n<title>3</title>\n<path fill=\"#94caf1\" stroke=\"#000000\" d=\"M440,-553C440,-553 357,-553 357,-553 351,-553 345,-547 345,-541 345,-541 345,-501 345,-501 345,-495 351,-489 357,-489 357,-489 440,-489 440,-489 446,-489 452,-495 452,-501 452,-501 452,-541 452,-541 452,-547 446,-553 440,-553\"/>\n<text text-anchor=\"start\" x=\"368.5\" y=\"-538.8\" font-family=\"Helvetica,sans-Serif\" font-size=\"14.00\" fill=\"#000000\">X</text>\n<text text-anchor=\"start\" x=\"378.5\" y=\"-538.8\" font-family=\"Helvetica,sans-Serif\" baseline-shift=\"sub\" font-size=\"14.00\" fill=\"#000000\">22</text>\n<text text-anchor=\"start\" x=\"392.5\" y=\"-538.8\" font-family=\"Helvetica,sans-Serif\" font-size=\"14.00\" fill=\"#000000\"> ≤ 0.5</text>\n<text text-anchor=\"start\" x=\"356\" y=\"-524.8\" font-family=\"Helvetica,sans-Serif\" font-size=\"14.00\" fill=\"#000000\">entropy = 0.9</text>\n<text text-anchor=\"start\" x=\"354.5\" y=\"-510.8\" font-family=\"Helvetica,sans-Serif\" font-size=\"14.00\" fill=\"#000000\">samples = 19</text>\n<text text-anchor=\"start\" x=\"353\" y=\"-496.8\" font-family=\"Helvetica,sans-Serif\" font-size=\"14.00\" fill=\"#000000\">value = [6, 13]</text>\n</g>\n<!-- 2&#45;&gt;3 -->\n<g id=\"edge3\" class=\"edge\">\n<title>2&#45;&gt;3</title>\n<path fill=\"none\" stroke=\"#000000\" d=\"M571.2089,-595.7658C537.7344,-581.2746 495.6827,-563.0704 461.455,-548.2532\"/>\n<polygon fill=\"#000000\" stroke=\"#000000\" points=\"462.5896,-544.9306 452.0221,-544.1698 459.8087,-551.3545 462.5896,-544.9306\"/>\n</g>\n<!-- 12 -->\n<g id=\"node13\" class=\"node\">\n<title>12</title>\n<path fill=\"#eb9d65\" stroke=\"#000000\" d=\"M676.5,-553C676.5,-553 582.5,-553 582.5,-553 576.5,-553 570.5,-547 570.5,-541 570.5,-541 570.5,-501 570.5,-501 570.5,-495 576.5,-489 582.5,-489 582.5,-489 676.5,-489 676.5,-489 682.5,-489 688.5,-495 688.5,-501 688.5,-501 688.5,-541 688.5,-541 688.5,-547 682.5,-553 676.5,-553\"/>\n<text text-anchor=\"start\" x=\"599.5\" y=\"-538.8\" font-family=\"Helvetica,sans-Serif\" font-size=\"14.00\" fill=\"#000000\">X</text>\n<text text-anchor=\"start\" x=\"609.5\" y=\"-538.8\" font-family=\"Helvetica,sans-Serif\" baseline-shift=\"sub\" font-size=\"14.00\" fill=\"#000000\">14</text>\n<text text-anchor=\"start\" x=\"623.5\" y=\"-538.8\" font-family=\"Helvetica,sans-Serif\" font-size=\"14.00\" fill=\"#000000\"> ≤ 0.5</text>\n<text text-anchor=\"start\" x=\"578.5\" y=\"-524.8\" font-family=\"Helvetica,sans-Serif\" font-size=\"14.00\" fill=\"#000000\">entropy = 0.684</text>\n<text text-anchor=\"start\" x=\"585.5\" y=\"-510.8\" font-family=\"Helvetica,sans-Serif\" font-size=\"14.00\" fill=\"#000000\">samples = 11</text>\n<text text-anchor=\"start\" x=\"588\" y=\"-496.8\" font-family=\"Helvetica,sans-Serif\" font-size=\"14.00\" fill=\"#000000\">value = [9, 2]</text>\n</g>\n<!-- 2&#45;&gt;12 -->\n<g id=\"edge12\" class=\"edge\">\n<title>2&#45;&gt;12</title>\n<path fill=\"none\" stroke=\"#000000\" d=\"M629.5,-588.8089C629.5,-580.6906 629.5,-571.8517 629.5,-563.3186\"/>\n<polygon fill=\"#000000\" stroke=\"#000000\" points=\"633.0001,-563.1307 629.5,-553.1308 626.0001,-563.1308 633.0001,-563.1307\"/>\n</g>\n<!-- 4 -->\n<g id=\"node5\" class=\"node\">\n<title>4</title>\n<path fill=\"#5aade9\" stroke=\"#000000\" d=\"M287.5,-453C287.5,-453 193.5,-453 193.5,-453 187.5,-453 181.5,-447 181.5,-441 181.5,-441 181.5,-401 181.5,-401 181.5,-395 187.5,-389 193.5,-389 193.5,-389 287.5,-389 287.5,-389 293.5,-389 299.5,-395 299.5,-401 299.5,-401 299.5,-441 299.5,-441 299.5,-447 293.5,-453 287.5,-453\"/>\n<text text-anchor=\"start\" x=\"210\" y=\"-438.8\" font-family=\"Helvetica,sans-Serif\" font-size=\"14.00\" fill=\"#000000\">X</text>\n<text text-anchor=\"start\" x=\"220\" y=\"-438.8\" font-family=\"Helvetica,sans-Serif\" baseline-shift=\"sub\" font-size=\"14.00\" fill=\"#000000\">0</text>\n<text text-anchor=\"start\" x=\"227\" y=\"-438.8\" font-family=\"Helvetica,sans-Serif\" font-size=\"14.00\" fill=\"#000000\"> ≤ 0.26</text>\n<text text-anchor=\"start\" x=\"189.5\" y=\"-424.8\" font-family=\"Helvetica,sans-Serif\" font-size=\"14.00\" fill=\"#000000\">entropy = 0.592</text>\n<text text-anchor=\"start\" x=\"196.5\" y=\"-410.8\" font-family=\"Helvetica,sans-Serif\" font-size=\"14.00\" fill=\"#000000\">samples = 14</text>\n<text text-anchor=\"start\" x=\"195\" y=\"-396.8\" font-family=\"Helvetica,sans-Serif\" font-size=\"14.00\" fill=\"#000000\">value = [2, 12]</text>\n</g>\n<!-- 3&#45;&gt;4 -->\n<g id=\"edge4\" class=\"edge\">\n<title>3&#45;&gt;4</title>\n<path fill=\"none\" stroke=\"#000000\" d=\"M347.6381,-488.8089C332.4149,-479.174 315.5881,-468.5241 299.8686,-458.575\"/>\n<polygon fill=\"#000000\" stroke=\"#000000\" points=\"301.5882,-455.5213 291.2666,-453.1308 297.8446,-461.4362 301.5882,-455.5213\"/>\n</g>\n<!-- 9 -->\n<g id=\"node10\" class=\"node\">\n<title>9</title>\n<path fill=\"#eca06a\" stroke=\"#000000\" d=\"M445.5,-453C445.5,-453 351.5,-453 351.5,-453 345.5,-453 339.5,-447 339.5,-441 339.5,-441 339.5,-401 339.5,-401 339.5,-395 345.5,-389 351.5,-389 351.5,-389 445.5,-389 445.5,-389 451.5,-389 457.5,-395 457.5,-401 457.5,-401 457.5,-441 457.5,-441 457.5,-447 451.5,-453 445.5,-453\"/>\n<text text-anchor=\"start\" x=\"368\" y=\"-438.8\" font-family=\"Helvetica,sans-Serif\" font-size=\"14.00\" fill=\"#000000\">X</text>\n<text text-anchor=\"start\" x=\"378\" y=\"-438.8\" font-family=\"Helvetica,sans-Serif\" baseline-shift=\"sub\" font-size=\"14.00\" fill=\"#000000\">3</text>\n<text text-anchor=\"start\" x=\"385\" y=\"-438.8\" font-family=\"Helvetica,sans-Serif\" font-size=\"14.00\" fill=\"#000000\"> ≤ 0.74</text>\n<text text-anchor=\"start\" x=\"347.5\" y=\"-424.8\" font-family=\"Helvetica,sans-Serif\" font-size=\"14.00\" fill=\"#000000\">entropy = 0.722</text>\n<text text-anchor=\"start\" x=\"359\" y=\"-410.8\" font-family=\"Helvetica,sans-Serif\" font-size=\"14.00\" fill=\"#000000\">samples = 5</text>\n<text text-anchor=\"start\" x=\"357\" y=\"-396.8\" font-family=\"Helvetica,sans-Serif\" font-size=\"14.00\" fill=\"#000000\">value = [4, 1]</text>\n</g>\n<!-- 3&#45;&gt;9 -->\n<g id=\"edge9\" class=\"edge\">\n<title>3&#45;&gt;9</title>\n<path fill=\"none\" stroke=\"#000000\" d=\"M398.5,-488.8089C398.5,-480.6906 398.5,-471.8517 398.5,-463.3186\"/>\n<polygon fill=\"#000000\" stroke=\"#000000\" points=\"402.0001,-463.1307 398.5,-453.1308 395.0001,-463.1308 402.0001,-463.1307\"/>\n</g>\n<!-- 5 -->\n<g id=\"node6\" class=\"node\">\n<title>5</title>\n<path fill=\"#f2c09c\" stroke=\"#000000\" d=\"M156.5,-353C156.5,-353 62.5,-353 62.5,-353 56.5,-353 50.5,-347 50.5,-341 50.5,-341 50.5,-301 50.5,-301 50.5,-295 56.5,-289 62.5,-289 62.5,-289 156.5,-289 156.5,-289 162.5,-289 168.5,-295 168.5,-301 168.5,-301 168.5,-341 168.5,-341 168.5,-347 162.5,-353 156.5,-353\"/>\n<text text-anchor=\"start\" x=\"83\" y=\"-338.8\" font-family=\"Helvetica,sans-Serif\" font-size=\"14.00\" fill=\"#000000\">X</text>\n<text text-anchor=\"start\" x=\"93\" y=\"-338.8\" font-family=\"Helvetica,sans-Serif\" baseline-shift=\"sub\" font-size=\"14.00\" fill=\"#000000\">8</text>\n<text text-anchor=\"start\" x=\"100\" y=\"-338.8\" font-family=\"Helvetica,sans-Serif\" font-size=\"14.00\" fill=\"#000000\"> ≤ 0.5</text>\n<text text-anchor=\"start\" x=\"58.5\" y=\"-324.8\" font-family=\"Helvetica,sans-Serif\" font-size=\"14.00\" fill=\"#000000\">entropy = 0.918</text>\n<text text-anchor=\"start\" x=\"70\" y=\"-310.8\" font-family=\"Helvetica,sans-Serif\" font-size=\"14.00\" fill=\"#000000\">samples = 3</text>\n<text text-anchor=\"start\" x=\"68\" y=\"-296.8\" font-family=\"Helvetica,sans-Serif\" font-size=\"14.00\" fill=\"#000000\">value = [2, 1]</text>\n</g>\n<!-- 4&#45;&gt;5 -->\n<g id=\"edge5\" class=\"edge\">\n<title>4&#45;&gt;5</title>\n<path fill=\"none\" stroke=\"#000000\" d=\"M198.3297,-388.8089C186.0585,-379.4416 172.5307,-369.115 159.8115,-359.4057\"/>\n<polygon fill=\"#000000\" stroke=\"#000000\" points=\"161.6638,-356.4165 151.5913,-353.1308 157.4163,-361.9806 161.6638,-356.4165\"/>\n</g>\n<!-- 8 -->\n<g id=\"node9\" class=\"node\">\n<title>8</title>\n<path fill=\"#399de5\" stroke=\"#000000\" d=\"M282,-347.5C282,-347.5 199,-347.5 199,-347.5 193,-347.5 187,-341.5 187,-335.5 187,-335.5 187,-306.5 187,-306.5 187,-300.5 193,-294.5 199,-294.5 199,-294.5 282,-294.5 282,-294.5 288,-294.5 294,-300.5 294,-306.5 294,-306.5 294,-335.5 294,-335.5 294,-341.5 288,-347.5 282,-347.5\"/>\n<text text-anchor=\"start\" x=\"198\" y=\"-332.3\" font-family=\"Helvetica,sans-Serif\" font-size=\"14.00\" fill=\"#000000\">entropy = 0.0</text>\n<text text-anchor=\"start\" x=\"196.5\" y=\"-317.3\" font-family=\"Helvetica,sans-Serif\" font-size=\"14.00\" fill=\"#000000\">samples = 11</text>\n<text text-anchor=\"start\" x=\"195\" y=\"-302.3\" font-family=\"Helvetica,sans-Serif\" font-size=\"14.00\" fill=\"#000000\">value = [0, 11]</text>\n</g>\n<!-- 4&#45;&gt;8 -->\n<g id=\"edge8\" class=\"edge\">\n<title>4&#45;&gt;8</title>\n<path fill=\"none\" stroke=\"#000000\" d=\"M240.5,-388.8089C240.5,-378.9777 240.5,-368.0898 240.5,-357.9679\"/>\n<polygon fill=\"#000000\" stroke=\"#000000\" points=\"244.0001,-357.7735 240.5,-347.7735 237.0001,-357.7736 244.0001,-357.7735\"/>\n</g>\n<!-- 6 -->\n<g id=\"node7\" class=\"node\">\n<title>6</title>\n<path fill=\"#e58139\" stroke=\"#000000\" d=\"M89,-247.5C89,-247.5 12,-247.5 12,-247.5 6,-247.5 0,-241.5 0,-235.5 0,-235.5 0,-206.5 0,-206.5 0,-200.5 6,-194.5 12,-194.5 12,-194.5 89,-194.5 89,-194.5 95,-194.5 101,-200.5 101,-206.5 101,-206.5 101,-235.5 101,-235.5 101,-241.5 95,-247.5 89,-247.5\"/>\n<text text-anchor=\"start\" x=\"8\" y=\"-232.3\" font-family=\"Helvetica,sans-Serif\" font-size=\"14.00\" fill=\"#000000\">entropy = 0.0</text>\n<text text-anchor=\"start\" x=\"11\" y=\"-217.3\" font-family=\"Helvetica,sans-Serif\" font-size=\"14.00\" fill=\"#000000\">samples = 2</text>\n<text text-anchor=\"start\" x=\"9\" y=\"-202.3\" font-family=\"Helvetica,sans-Serif\" font-size=\"14.00\" fill=\"#000000\">value = [2, 0]</text>\n</g>\n<!-- 5&#45;&gt;6 -->\n<g id=\"edge6\" class=\"edge\">\n<title>5&#45;&gt;6</title>\n<path fill=\"none\" stroke=\"#000000\" d=\"M90.5073,-288.8089C84.4626,-278.5638 77.7409,-267.1711 71.5592,-256.6936\"/>\n<polygon fill=\"#000000\" stroke=\"#000000\" points=\"74.3924,-254.6077 66.2964,-247.7735 68.3635,-258.1648 74.3924,-254.6077\"/>\n</g>\n<!-- 7 -->\n<g id=\"node8\" class=\"node\">\n<title>7</title>\n<path fill=\"#399de5\" stroke=\"#000000\" d=\"M208,-247.5C208,-247.5 131,-247.5 131,-247.5 125,-247.5 119,-241.5 119,-235.5 119,-235.5 119,-206.5 119,-206.5 119,-200.5 125,-194.5 131,-194.5 131,-194.5 208,-194.5 208,-194.5 214,-194.5 220,-200.5 220,-206.5 220,-206.5 220,-235.5 220,-235.5 220,-241.5 214,-247.5 208,-247.5\"/>\n<text text-anchor=\"start\" x=\"127\" y=\"-232.3\" font-family=\"Helvetica,sans-Serif\" font-size=\"14.00\" fill=\"#000000\">entropy = 0.0</text>\n<text text-anchor=\"start\" x=\"130\" y=\"-217.3\" font-family=\"Helvetica,sans-Serif\" font-size=\"14.00\" fill=\"#000000\">samples = 1</text>\n<text text-anchor=\"start\" x=\"128\" y=\"-202.3\" font-family=\"Helvetica,sans-Serif\" font-size=\"14.00\" fill=\"#000000\">value = [0, 1]</text>\n</g>\n<!-- 5&#45;&gt;7 -->\n<g id=\"edge7\" class=\"edge\">\n<title>5&#45;&gt;7</title>\n<path fill=\"none\" stroke=\"#000000\" d=\"M128.8146,-288.8089C135.0238,-278.4603 141.9355,-266.9408 148.2742,-256.3764\"/>\n<polygon fill=\"#000000\" stroke=\"#000000\" points=\"151.2921,-258.1492 153.4359,-247.7735 145.2897,-254.5477 151.2921,-258.1492\"/>\n</g>\n<!-- 10 -->\n<g id=\"node11\" class=\"node\">\n<title>10</title>\n<path fill=\"#e58139\" stroke=\"#000000\" d=\"M401,-347.5C401,-347.5 324,-347.5 324,-347.5 318,-347.5 312,-341.5 312,-335.5 312,-335.5 312,-306.5 312,-306.5 312,-300.5 318,-294.5 324,-294.5 324,-294.5 401,-294.5 401,-294.5 407,-294.5 413,-300.5 413,-306.5 413,-306.5 413,-335.5 413,-335.5 413,-341.5 407,-347.5 401,-347.5\"/>\n<text text-anchor=\"start\" x=\"320\" y=\"-332.3\" font-family=\"Helvetica,sans-Serif\" font-size=\"14.00\" fill=\"#000000\">entropy = 0.0</text>\n<text text-anchor=\"start\" x=\"323\" y=\"-317.3\" font-family=\"Helvetica,sans-Serif\" font-size=\"14.00\" fill=\"#000000\">samples = 4</text>\n<text text-anchor=\"start\" x=\"321\" y=\"-302.3\" font-family=\"Helvetica,sans-Serif\" font-size=\"14.00\" fill=\"#000000\">value = [4, 0]</text>\n</g>\n<!-- 9&#45;&gt;10 -->\n<g id=\"edge10\" class=\"edge\">\n<title>9&#45;&gt;10</title>\n<path fill=\"none\" stroke=\"#000000\" d=\"M386.9112,-388.8089C383.2975,-378.7707 379.2871,-367.6309 375.5787,-357.3297\"/>\n<polygon fill=\"#000000\" stroke=\"#000000\" points=\"378.8188,-355.9969 372.1385,-347.7735 372.2326,-358.3679 378.8188,-355.9969\"/>\n</g>\n<!-- 11 -->\n<g id=\"node12\" class=\"node\">\n<title>11</title>\n<path fill=\"#399de5\" stroke=\"#000000\" d=\"M520,-347.5C520,-347.5 443,-347.5 443,-347.5 437,-347.5 431,-341.5 431,-335.5 431,-335.5 431,-306.5 431,-306.5 431,-300.5 437,-294.5 443,-294.5 443,-294.5 520,-294.5 520,-294.5 526,-294.5 532,-300.5 532,-306.5 532,-306.5 532,-335.5 532,-335.5 532,-341.5 526,-347.5 520,-347.5\"/>\n<text text-anchor=\"start\" x=\"439\" y=\"-332.3\" font-family=\"Helvetica,sans-Serif\" font-size=\"14.00\" fill=\"#000000\">entropy = 0.0</text>\n<text text-anchor=\"start\" x=\"442\" y=\"-317.3\" font-family=\"Helvetica,sans-Serif\" font-size=\"14.00\" fill=\"#000000\">samples = 1</text>\n<text text-anchor=\"start\" x=\"440\" y=\"-302.3\" font-family=\"Helvetica,sans-Serif\" font-size=\"14.00\" fill=\"#000000\">value = [0, 1]</text>\n</g>\n<!-- 9&#45;&gt;11 -->\n<g id=\"edge11\" class=\"edge\">\n<title>9&#45;&gt;11</title>\n<path fill=\"none\" stroke=\"#000000\" d=\"M425.2186,-388.8089C433.9798,-378.2533 443.752,-366.4796 452.6628,-355.7437\"/>\n<polygon fill=\"#000000\" stroke=\"#000000\" points=\"455.5844,-357.7037 459.278,-347.7735 450.1981,-353.233 455.5844,-357.7037\"/>\n</g>\n<!-- 13 -->\n<g id=\"node14\" class=\"node\">\n<title>13</title>\n<path fill=\"#e58139\" stroke=\"#000000\" d=\"M608,-447.5C608,-447.5 531,-447.5 531,-447.5 525,-447.5 519,-441.5 519,-435.5 519,-435.5 519,-406.5 519,-406.5 519,-400.5 525,-394.5 531,-394.5 531,-394.5 608,-394.5 608,-394.5 614,-394.5 620,-400.5 620,-406.5 620,-406.5 620,-435.5 620,-435.5 620,-441.5 614,-447.5 608,-447.5\"/>\n<text text-anchor=\"start\" x=\"527\" y=\"-432.3\" font-family=\"Helvetica,sans-Serif\" font-size=\"14.00\" fill=\"#000000\">entropy = 0.0</text>\n<text text-anchor=\"start\" x=\"530\" y=\"-417.3\" font-family=\"Helvetica,sans-Serif\" font-size=\"14.00\" fill=\"#000000\">samples = 7</text>\n<text text-anchor=\"start\" x=\"528\" y=\"-402.3\" font-family=\"Helvetica,sans-Serif\" font-size=\"14.00\" fill=\"#000000\">value = [7, 0]</text>\n</g>\n<!-- 12&#45;&gt;13 -->\n<g id=\"edge13\" class=\"edge\">\n<title>12&#45;&gt;13</title>\n<path fill=\"none\" stroke=\"#000000\" d=\"M610.1854,-488.8089C603.9762,-478.4603 597.0645,-466.9408 590.7258,-456.3764\"/>\n<polygon fill=\"#000000\" stroke=\"#000000\" points=\"593.7103,-454.5477 585.5641,-447.7735 587.7079,-458.1492 593.7103,-454.5477\"/>\n</g>\n<!-- 14 -->\n<g id=\"node15\" class=\"node\">\n<title>14</title>\n<path fill=\"#ffffff\" stroke=\"#000000\" d=\"M727,-453C727,-453 650,-453 650,-453 644,-453 638,-447 638,-441 638,-441 638,-401 638,-401 638,-395 644,-389 650,-389 650,-389 727,-389 727,-389 733,-389 739,-395 739,-401 739,-401 739,-441 739,-441 739,-447 733,-453 727,-453\"/>\n<text text-anchor=\"start\" x=\"654\" y=\"-438.8\" font-family=\"Helvetica,sans-Serif\" font-size=\"14.00\" fill=\"#000000\">X</text>\n<text text-anchor=\"start\" x=\"664\" y=\"-438.8\" font-family=\"Helvetica,sans-Serif\" baseline-shift=\"sub\" font-size=\"14.00\" fill=\"#000000\">2</text>\n<text text-anchor=\"start\" x=\"671\" y=\"-438.8\" font-family=\"Helvetica,sans-Serif\" font-size=\"14.00\" fill=\"#000000\"> ≤ 0.311</text>\n<text text-anchor=\"start\" x=\"646\" y=\"-424.8\" font-family=\"Helvetica,sans-Serif\" font-size=\"14.00\" fill=\"#000000\">entropy = 1.0</text>\n<text text-anchor=\"start\" x=\"649\" y=\"-410.8\" font-family=\"Helvetica,sans-Serif\" font-size=\"14.00\" fill=\"#000000\">samples = 4</text>\n<text text-anchor=\"start\" x=\"647\" y=\"-396.8\" font-family=\"Helvetica,sans-Serif\" font-size=\"14.00\" fill=\"#000000\">value = [2, 2]</text>\n</g>\n<!-- 12&#45;&gt;14 -->\n<g id=\"edge14\" class=\"edge\">\n<title>12&#45;&gt;14</title>\n<path fill=\"none\" stroke=\"#000000\" d=\"M648.4927,-488.8089C653.5457,-480.2445 659.0718,-470.8782 664.3601,-461.915\"/>\n<polygon fill=\"#000000\" stroke=\"#000000\" points=\"667.4758,-463.522 669.5429,-453.1308 661.4469,-459.9649 667.4758,-463.522\"/>\n</g>\n<!-- 15 -->\n<g id=\"node16\" class=\"node\">\n<title>15</title>\n<path fill=\"#e58139\" stroke=\"#000000\" d=\"M639,-347.5C639,-347.5 562,-347.5 562,-347.5 556,-347.5 550,-341.5 550,-335.5 550,-335.5 550,-306.5 550,-306.5 550,-300.5 556,-294.5 562,-294.5 562,-294.5 639,-294.5 639,-294.5 645,-294.5 651,-300.5 651,-306.5 651,-306.5 651,-335.5 651,-335.5 651,-341.5 645,-347.5 639,-347.5\"/>\n<text text-anchor=\"start\" x=\"558\" y=\"-332.3\" font-family=\"Helvetica,sans-Serif\" font-size=\"14.00\" fill=\"#000000\">entropy = 0.0</text>\n<text text-anchor=\"start\" x=\"561\" y=\"-317.3\" font-family=\"Helvetica,sans-Serif\" font-size=\"14.00\" fill=\"#000000\">samples = 2</text>\n<text text-anchor=\"start\" x=\"559\" y=\"-302.3\" font-family=\"Helvetica,sans-Serif\" font-size=\"14.00\" fill=\"#000000\">value = [2, 0]</text>\n</g>\n<!-- 14&#45;&gt;15 -->\n<g id=\"edge15\" class=\"edge\">\n<title>14&#45;&gt;15</title>\n<path fill=\"none\" stroke=\"#000000\" d=\"M660.1719,-388.8089C650.7918,-378.1498 640.3188,-366.2486 630.7968,-355.4282\"/>\n<polygon fill=\"#000000\" stroke=\"#000000\" points=\"633.2945,-352.9685 624.0607,-347.7735 628.0395,-357.5929 633.2945,-352.9685\"/>\n</g>\n<!-- 16 -->\n<g id=\"node17\" class=\"node\">\n<title>16</title>\n<path fill=\"#399de5\" stroke=\"#000000\" d=\"M758,-347.5C758,-347.5 681,-347.5 681,-347.5 675,-347.5 669,-341.5 669,-335.5 669,-335.5 669,-306.5 669,-306.5 669,-300.5 675,-294.5 681,-294.5 681,-294.5 758,-294.5 758,-294.5 764,-294.5 770,-300.5 770,-306.5 770,-306.5 770,-335.5 770,-335.5 770,-341.5 764,-347.5 758,-347.5\"/>\n<text text-anchor=\"start\" x=\"677\" y=\"-332.3\" font-family=\"Helvetica,sans-Serif\" font-size=\"14.00\" fill=\"#000000\">entropy = 0.0</text>\n<text text-anchor=\"start\" x=\"680\" y=\"-317.3\" font-family=\"Helvetica,sans-Serif\" font-size=\"14.00\" fill=\"#000000\">samples = 2</text>\n<text text-anchor=\"start\" x=\"678\" y=\"-302.3\" font-family=\"Helvetica,sans-Serif\" font-size=\"14.00\" fill=\"#000000\">value = [0, 2]</text>\n</g>\n<!-- 14&#45;&gt;16 -->\n<g id=\"edge16\" class=\"edge\">\n<title>14&#45;&gt;16</title>\n<path fill=\"none\" stroke=\"#000000\" d=\"M698.4792,-388.8089C701.5911,-378.7707 705.0444,-367.6309 708.2378,-357.3297\"/>\n<polygon fill=\"#000000\" stroke=\"#000000\" points=\"711.5822,-358.3615 711.2002,-347.7735 704.8961,-356.2887 711.5822,-358.3615\"/>\n</g>\n<!-- 18 -->\n<g id=\"node19\" class=\"node\">\n<title>18</title>\n<path fill=\"#e6843e\" stroke=\"#000000\" d=\"M1013.5,-553C1013.5,-553 919.5,-553 919.5,-553 913.5,-553 907.5,-547 907.5,-541 907.5,-541 907.5,-501 907.5,-501 907.5,-495 913.5,-489 919.5,-489 919.5,-489 1013.5,-489 1013.5,-489 1019.5,-489 1025.5,-495 1025.5,-501 1025.5,-501 1025.5,-541 1025.5,-541 1025.5,-547 1019.5,-553 1013.5,-553\"/>\n<text text-anchor=\"start\" x=\"936\" y=\"-538.8\" font-family=\"Helvetica,sans-Serif\" font-size=\"14.00\" fill=\"#000000\">X</text>\n<text text-anchor=\"start\" x=\"946\" y=\"-538.8\" font-family=\"Helvetica,sans-Serif\" baseline-shift=\"sub\" font-size=\"14.00\" fill=\"#000000\">1</text>\n<text text-anchor=\"start\" x=\"953\" y=\"-538.8\" font-family=\"Helvetica,sans-Serif\" font-size=\"14.00\" fill=\"#000000\"> ≤ 0.16</text>\n<text text-anchor=\"start\" x=\"915.5\" y=\"-524.8\" font-family=\"Helvetica,sans-Serif\" font-size=\"14.00\" fill=\"#000000\">entropy = 0.169</text>\n<text text-anchor=\"start\" x=\"922.5\" y=\"-510.8\" font-family=\"Helvetica,sans-Serif\" font-size=\"14.00\" fill=\"#000000\">samples = 40</text>\n<text text-anchor=\"start\" x=\"921\" y=\"-496.8\" font-family=\"Helvetica,sans-Serif\" font-size=\"14.00\" fill=\"#000000\">value = [39, 1]</text>\n</g>\n<!-- 17&#45;&gt;18 -->\n<g id=\"edge18\" class=\"edge\">\n<title>17&#45;&gt;18</title>\n<path fill=\"none\" stroke=\"#000000\" d=\"M1009.8977,-588.8089C1004.3594,-580.1553 998.2971,-570.683 992.5064,-561.635\"/>\n<polygon fill=\"#000000\" stroke=\"#000000\" points=\"995.4022,-559.6668 987.0637,-553.1308 989.5063,-563.4402 995.4022,-559.6668\"/>\n</g>\n<!-- 23 -->\n<g id=\"node24\" class=\"node\">\n<title>23</title>\n<path fill=\"#ffffff\" stroke=\"#000000\" d=\"M1133,-553C1133,-553 1056,-553 1056,-553 1050,-553 1044,-547 1044,-541 1044,-541 1044,-501 1044,-501 1044,-495 1050,-489 1056,-489 1056,-489 1133,-489 1133,-489 1139,-489 1145,-495 1145,-501 1145,-501 1145,-541 1145,-541 1145,-547 1139,-553 1133,-553\"/>\n<text text-anchor=\"start\" x=\"1064.5\" y=\"-538.8\" font-family=\"Helvetica,sans-Serif\" font-size=\"14.00\" fill=\"#000000\">X</text>\n<text text-anchor=\"start\" x=\"1074.5\" y=\"-538.8\" font-family=\"Helvetica,sans-Serif\" baseline-shift=\"sub\" font-size=\"14.00\" fill=\"#000000\">18</text>\n<text text-anchor=\"start\" x=\"1088.5\" y=\"-538.8\" font-family=\"Helvetica,sans-Serif\" font-size=\"14.00\" fill=\"#000000\"> ≤ 0.5</text>\n<text text-anchor=\"start\" x=\"1052\" y=\"-524.8\" font-family=\"Helvetica,sans-Serif\" font-size=\"14.00\" fill=\"#000000\">entropy = 1.0</text>\n<text text-anchor=\"start\" x=\"1055\" y=\"-510.8\" font-family=\"Helvetica,sans-Serif\" font-size=\"14.00\" fill=\"#000000\">samples = 4</text>\n<text text-anchor=\"start\" x=\"1053\" y=\"-496.8\" font-family=\"Helvetica,sans-Serif\" font-size=\"14.00\" fill=\"#000000\">value = [2, 2]</text>\n</g>\n<!-- 17&#45;&gt;23 -->\n<g id=\"edge23\" class=\"edge\">\n<title>17&#45;&gt;23</title>\n<path fill=\"none\" stroke=\"#000000\" d=\"M1051.1023,-588.8089C1056.6406,-580.1553 1062.7029,-570.683 1068.4936,-561.635\"/>\n<polygon fill=\"#000000\" stroke=\"#000000\" points=\"1071.4937,-563.4402 1073.9363,-553.1308 1065.5978,-559.6668 1071.4937,-563.4402\"/>\n</g>\n<!-- 19 -->\n<g id=\"node20\" class=\"node\">\n<title>19</title>\n<path fill=\"#eeab7b\" stroke=\"#000000\" d=\"M885.5,-453C885.5,-453 791.5,-453 791.5,-453 785.5,-453 779.5,-447 779.5,-441 779.5,-441 779.5,-401 779.5,-401 779.5,-395 785.5,-389 791.5,-389 791.5,-389 885.5,-389 885.5,-389 891.5,-389 897.5,-395 897.5,-401 897.5,-401 897.5,-441 897.5,-441 897.5,-447 891.5,-453 885.5,-453\"/>\n<text text-anchor=\"start\" x=\"804\" y=\"-438.8\" font-family=\"Helvetica,sans-Serif\" font-size=\"14.00\" fill=\"#000000\">X</text>\n<text text-anchor=\"start\" x=\"814\" y=\"-438.8\" font-family=\"Helvetica,sans-Serif\" baseline-shift=\"sub\" font-size=\"14.00\" fill=\"#000000\">0</text>\n<text text-anchor=\"start\" x=\"821\" y=\"-438.8\" font-family=\"Helvetica,sans-Serif\" font-size=\"14.00\" fill=\"#000000\"> ≤ 0.552</text>\n<text text-anchor=\"start\" x=\"787.5\" y=\"-424.8\" font-family=\"Helvetica,sans-Serif\" font-size=\"14.00\" fill=\"#000000\">entropy = 0.811</text>\n<text text-anchor=\"start\" x=\"799\" y=\"-410.8\" font-family=\"Helvetica,sans-Serif\" font-size=\"14.00\" fill=\"#000000\">samples = 4</text>\n<text text-anchor=\"start\" x=\"797\" y=\"-396.8\" font-family=\"Helvetica,sans-Serif\" font-size=\"14.00\" fill=\"#000000\">value = [3, 1]</text>\n</g>\n<!-- 18&#45;&gt;19 -->\n<g id=\"edge19\" class=\"edge\">\n<title>18&#45;&gt;19</title>\n<path fill=\"none\" stroke=\"#000000\" d=\"M925.2954,-488.8089C913.3053,-479.4416 900.0872,-469.115 887.6593,-459.4057\"/>\n<polygon fill=\"#000000\" stroke=\"#000000\" points=\"889.6624,-456.5291 879.6274,-453.1308 885.3529,-462.0453 889.6624,-456.5291\"/>\n</g>\n<!-- 22 -->\n<g id=\"node23\" class=\"node\">\n<title>22</title>\n<path fill=\"#e58139\" stroke=\"#000000\" d=\"M1011,-447.5C1011,-447.5 928,-447.5 928,-447.5 922,-447.5 916,-441.5 916,-435.5 916,-435.5 916,-406.5 916,-406.5 916,-400.5 922,-394.5 928,-394.5 928,-394.5 1011,-394.5 1011,-394.5 1017,-394.5 1023,-400.5 1023,-406.5 1023,-406.5 1023,-435.5 1023,-435.5 1023,-441.5 1017,-447.5 1011,-447.5\"/>\n<text text-anchor=\"start\" x=\"927\" y=\"-432.3\" font-family=\"Helvetica,sans-Serif\" font-size=\"14.00\" fill=\"#000000\">entropy = 0.0</text>\n<text text-anchor=\"start\" x=\"925.5\" y=\"-417.3\" font-family=\"Helvetica,sans-Serif\" font-size=\"14.00\" fill=\"#000000\">samples = 36</text>\n<text text-anchor=\"start\" x=\"924\" y=\"-402.3\" font-family=\"Helvetica,sans-Serif\" font-size=\"14.00\" fill=\"#000000\">value = [36, 0]</text>\n</g>\n<!-- 18&#45;&gt;22 -->\n<g id=\"edge22\" class=\"edge\">\n<title>18&#45;&gt;22</title>\n<path fill=\"none\" stroke=\"#000000\" d=\"M967.4657,-488.8089C967.7607,-478.9777 968.0873,-468.0898 968.391,-457.9679\"/>\n<polygon fill=\"#000000\" stroke=\"#000000\" points=\"971.8953,-457.874 968.6968,-447.7735 964.8984,-457.664 971.8953,-457.874\"/>\n</g>\n<!-- 20 -->\n<g id=\"node21\" class=\"node\">\n<title>20</title>\n<path fill=\"#e58139\" stroke=\"#000000\" d=\"M877,-347.5C877,-347.5 800,-347.5 800,-347.5 794,-347.5 788,-341.5 788,-335.5 788,-335.5 788,-306.5 788,-306.5 788,-300.5 794,-294.5 800,-294.5 800,-294.5 877,-294.5 877,-294.5 883,-294.5 889,-300.5 889,-306.5 889,-306.5 889,-335.5 889,-335.5 889,-341.5 883,-347.5 877,-347.5\"/>\n<text text-anchor=\"start\" x=\"796\" y=\"-332.3\" font-family=\"Helvetica,sans-Serif\" font-size=\"14.00\" fill=\"#000000\">entropy = 0.0</text>\n<text text-anchor=\"start\" x=\"799\" y=\"-317.3\" font-family=\"Helvetica,sans-Serif\" font-size=\"14.00\" fill=\"#000000\">samples = 3</text>\n<text text-anchor=\"start\" x=\"797\" y=\"-302.3\" font-family=\"Helvetica,sans-Serif\" font-size=\"14.00\" fill=\"#000000\">value = [3, 0]</text>\n</g>\n<!-- 19&#45;&gt;20 -->\n<g id=\"edge20\" class=\"edge\">\n<title>19&#45;&gt;20</title>\n<path fill=\"none\" stroke=\"#000000\" d=\"M838.5,-388.8089C838.5,-378.9777 838.5,-368.0898 838.5,-357.9679\"/>\n<polygon fill=\"#000000\" stroke=\"#000000\" points=\"842.0001,-357.7735 838.5,-347.7735 835.0001,-357.7736 842.0001,-357.7735\"/>\n</g>\n<!-- 21 -->\n<g id=\"node22\" class=\"node\">\n<title>21</title>\n<path fill=\"#399de5\" stroke=\"#000000\" d=\"M996,-347.5C996,-347.5 919,-347.5 919,-347.5 913,-347.5 907,-341.5 907,-335.5 907,-335.5 907,-306.5 907,-306.5 907,-300.5 913,-294.5 919,-294.5 919,-294.5 996,-294.5 996,-294.5 1002,-294.5 1008,-300.5 1008,-306.5 1008,-306.5 1008,-335.5 1008,-335.5 1008,-341.5 1002,-347.5 996,-347.5\"/>\n<text text-anchor=\"start\" x=\"915\" y=\"-332.3\" font-family=\"Helvetica,sans-Serif\" font-size=\"14.00\" fill=\"#000000\">entropy = 0.0</text>\n<text text-anchor=\"start\" x=\"918\" y=\"-317.3\" font-family=\"Helvetica,sans-Serif\" font-size=\"14.00\" fill=\"#000000\">samples = 1</text>\n<text text-anchor=\"start\" x=\"916\" y=\"-302.3\" font-family=\"Helvetica,sans-Serif\" font-size=\"14.00\" fill=\"#000000\">value = [0, 1]</text>\n</g>\n<!-- 19&#45;&gt;21 -->\n<g id=\"edge21\" class=\"edge\">\n<title>19&#45;&gt;21</title>\n<path fill=\"none\" stroke=\"#000000\" d=\"M876.8074,-388.8089C889.8612,-377.8393 904.4804,-365.5543 917.6522,-354.4855\"/>\n<polygon fill=\"#000000\" stroke=\"#000000\" points=\"920.2354,-356.8865 925.6395,-347.7735 915.732,-351.5275 920.2354,-356.8865\"/>\n</g>\n<!-- 24 -->\n<g id=\"node25\" class=\"node\">\n<title>24</title>\n<path fill=\"#e58139\" stroke=\"#000000\" d=\"M1130,-447.5C1130,-447.5 1053,-447.5 1053,-447.5 1047,-447.5 1041,-441.5 1041,-435.5 1041,-435.5 1041,-406.5 1041,-406.5 1041,-400.5 1047,-394.5 1053,-394.5 1053,-394.5 1130,-394.5 1130,-394.5 1136,-394.5 1142,-400.5 1142,-406.5 1142,-406.5 1142,-435.5 1142,-435.5 1142,-441.5 1136,-447.5 1130,-447.5\"/>\n<text text-anchor=\"start\" x=\"1049\" y=\"-432.3\" font-family=\"Helvetica,sans-Serif\" font-size=\"14.00\" fill=\"#000000\">entropy = 0.0</text>\n<text text-anchor=\"start\" x=\"1052\" y=\"-417.3\" font-family=\"Helvetica,sans-Serif\" font-size=\"14.00\" fill=\"#000000\">samples = 2</text>\n<text text-anchor=\"start\" x=\"1050\" y=\"-402.3\" font-family=\"Helvetica,sans-Serif\" font-size=\"14.00\" fill=\"#000000\">value = [2, 0]</text>\n</g>\n<!-- 23&#45;&gt;24 -->\n<g id=\"edge24\" class=\"edge\">\n<title>23&#45;&gt;24</title>\n<path fill=\"none\" stroke=\"#000000\" d=\"M1093.5343,-488.8089C1093.2393,-478.9777 1092.9127,-468.0898 1092.609,-457.9679\"/>\n<polygon fill=\"#000000\" stroke=\"#000000\" points=\"1096.1016,-457.664 1092.3032,-447.7735 1089.1047,-457.874 1096.1016,-457.664\"/>\n</g>\n<!-- 25 -->\n<g id=\"node26\" class=\"node\">\n<title>25</title>\n<path fill=\"#399de5\" stroke=\"#000000\" d=\"M1249,-447.5C1249,-447.5 1172,-447.5 1172,-447.5 1166,-447.5 1160,-441.5 1160,-435.5 1160,-435.5 1160,-406.5 1160,-406.5 1160,-400.5 1166,-394.5 1172,-394.5 1172,-394.5 1249,-394.5 1249,-394.5 1255,-394.5 1261,-400.5 1261,-406.5 1261,-406.5 1261,-435.5 1261,-435.5 1261,-441.5 1255,-447.5 1249,-447.5\"/>\n<text text-anchor=\"start\" x=\"1168\" y=\"-432.3\" font-family=\"Helvetica,sans-Serif\" font-size=\"14.00\" fill=\"#000000\">entropy = 0.0</text>\n<text text-anchor=\"start\" x=\"1171\" y=\"-417.3\" font-family=\"Helvetica,sans-Serif\" font-size=\"14.00\" fill=\"#000000\">samples = 2</text>\n<text text-anchor=\"start\" x=\"1169\" y=\"-402.3\" font-family=\"Helvetica,sans-Serif\" font-size=\"14.00\" fill=\"#000000\">value = [0, 2]</text>\n</g>\n<!-- 23&#45;&gt;25 -->\n<g id=\"edge25\" class=\"edge\">\n<title>23&#45;&gt;25</title>\n<path fill=\"none\" stroke=\"#000000\" d=\"M1131.8416,-488.8089C1144.5664,-477.8393 1158.8171,-465.5543 1171.6568,-454.4855\"/>\n<polygon fill=\"#000000\" stroke=\"#000000\" points=\"1174.1539,-456.9539 1179.4427,-447.7735 1169.5833,-451.652 1174.1539,-456.9539\"/>\n</g>\n<!-- 27 -->\n<g id=\"node28\" class=\"node\">\n<title>27</title>\n<path fill=\"#45a3e7\" stroke=\"#000000\" d=\"M1560.5,-653C1560.5,-653 1466.5,-653 1466.5,-653 1460.5,-653 1454.5,-647 1454.5,-641 1454.5,-641 1454.5,-601 1454.5,-601 1454.5,-595 1460.5,-589 1466.5,-589 1466.5,-589 1560.5,-589 1560.5,-589 1566.5,-589 1572.5,-595 1572.5,-601 1572.5,-601 1572.5,-641 1572.5,-641 1572.5,-647 1566.5,-653 1560.5,-653\"/>\n<text text-anchor=\"start\" x=\"1483.5\" y=\"-638.8\" font-family=\"Helvetica,sans-Serif\" font-size=\"14.00\" fill=\"#000000\">X</text>\n<text text-anchor=\"start\" x=\"1493.5\" y=\"-638.8\" font-family=\"Helvetica,sans-Serif\" baseline-shift=\"sub\" font-size=\"14.00\" fill=\"#000000\">22</text>\n<text text-anchor=\"start\" x=\"1507.5\" y=\"-638.8\" font-family=\"Helvetica,sans-Serif\" font-size=\"14.00\" fill=\"#000000\"> ≤ 0.5</text>\n<text text-anchor=\"start\" x=\"1462.5\" y=\"-624.8\" font-family=\"Helvetica,sans-Serif\" font-size=\"14.00\" fill=\"#000000\">entropy = 0.314</text>\n<text text-anchor=\"start\" x=\"1469.5\" y=\"-610.8\" font-family=\"Helvetica,sans-Serif\" font-size=\"14.00\" fill=\"#000000\">samples = 53</text>\n<text text-anchor=\"start\" x=\"1468\" y=\"-596.8\" font-family=\"Helvetica,sans-Serif\" font-size=\"14.00\" fill=\"#000000\">value = [3, 50]</text>\n</g>\n<!-- 26&#45;&gt;27 -->\n<g id=\"edge27\" class=\"edge\">\n<title>26&#45;&gt;27</title>\n<path fill=\"none\" stroke=\"#000000\" d=\"M1513.5,-688.8089C1513.5,-680.6906 1513.5,-671.8517 1513.5,-663.3186\"/>\n<polygon fill=\"#000000\" stroke=\"#000000\" points=\"1517.0001,-663.1307 1513.5,-653.1308 1510.0001,-663.1308 1517.0001,-663.1307\"/>\n</g>\n<!-- 34 -->\n<g id=\"node35\" class=\"node\">\n<title>34</title>\n<path fill=\"#c0e0f7\" stroke=\"#000000\" d=\"M1925.5,-653C1925.5,-653 1831.5,-653 1831.5,-653 1825.5,-653 1819.5,-647 1819.5,-641 1819.5,-641 1819.5,-601 1819.5,-601 1819.5,-595 1825.5,-589 1831.5,-589 1831.5,-589 1925.5,-589 1925.5,-589 1931.5,-589 1937.5,-595 1937.5,-601 1937.5,-601 1937.5,-641 1937.5,-641 1937.5,-647 1931.5,-653 1925.5,-653\"/>\n<text text-anchor=\"start\" x=\"1848.5\" y=\"-638.8\" font-family=\"Helvetica,sans-Serif\" font-size=\"14.00\" fill=\"#000000\">X</text>\n<text text-anchor=\"start\" x=\"1858.5\" y=\"-638.8\" font-family=\"Helvetica,sans-Serif\" baseline-shift=\"sub\" font-size=\"14.00\" fill=\"#000000\">17</text>\n<text text-anchor=\"start\" x=\"1872.5\" y=\"-638.8\" font-family=\"Helvetica,sans-Serif\" font-size=\"14.00\" fill=\"#000000\"> ≤ 0.5</text>\n<text text-anchor=\"start\" x=\"1827.5\" y=\"-624.8\" font-family=\"Helvetica,sans-Serif\" font-size=\"14.00\" fill=\"#000000\">entropy = 0.974</text>\n<text text-anchor=\"start\" x=\"1834.5\" y=\"-610.8\" font-family=\"Helvetica,sans-Serif\" font-size=\"14.00\" fill=\"#000000\">samples = 42</text>\n<text text-anchor=\"start\" x=\"1828.5\" y=\"-596.8\" font-family=\"Helvetica,sans-Serif\" font-size=\"14.00\" fill=\"#000000\">value = [17, 25]</text>\n</g>\n<!-- 26&#45;&gt;34 -->\n<g id=\"edge34\" class=\"edge\">\n<title>26&#45;&gt;34</title>\n<path fill=\"none\" stroke=\"#000000\" d=\"M1572.5492,-704.8221C1637.2601,-687.0931 1740.9541,-658.6838 1809.399,-639.9318\"/>\n<polygon fill=\"#000000\" stroke=\"#000000\" points=\"1810.5131,-643.2556 1819.2329,-637.2376 1808.6634,-636.5044 1810.5131,-643.2556\"/>\n</g>\n<!-- 28 -->\n<g id=\"node29\" class=\"node\">\n<title>28</title>\n<path fill=\"#3d9fe6\" stroke=\"#000000\" d=\"M1492.5,-553C1492.5,-553 1398.5,-553 1398.5,-553 1392.5,-553 1386.5,-547 1386.5,-541 1386.5,-541 1386.5,-501 1386.5,-501 1386.5,-495 1392.5,-489 1398.5,-489 1398.5,-489 1492.5,-489 1492.5,-489 1498.5,-489 1504.5,-495 1504.5,-501 1504.5,-501 1504.5,-541 1504.5,-541 1504.5,-547 1498.5,-553 1492.5,-553\"/>\n<text text-anchor=\"start\" x=\"1411\" y=\"-538.8\" font-family=\"Helvetica,sans-Serif\" font-size=\"14.00\" fill=\"#000000\">X</text>\n<text text-anchor=\"start\" x=\"1421\" y=\"-538.8\" font-family=\"Helvetica,sans-Serif\" baseline-shift=\"sub\" font-size=\"14.00\" fill=\"#000000\">4</text>\n<text text-anchor=\"start\" x=\"1428\" y=\"-538.8\" font-family=\"Helvetica,sans-Serif\" font-size=\"14.00\" fill=\"#000000\"> ≤ 0.484</text>\n<text text-anchor=\"start\" x=\"1394.5\" y=\"-524.8\" font-family=\"Helvetica,sans-Serif\" font-size=\"14.00\" fill=\"#000000\">entropy = 0.146</text>\n<text text-anchor=\"start\" x=\"1401.5\" y=\"-510.8\" font-family=\"Helvetica,sans-Serif\" font-size=\"14.00\" fill=\"#000000\">samples = 48</text>\n<text text-anchor=\"start\" x=\"1400\" y=\"-496.8\" font-family=\"Helvetica,sans-Serif\" font-size=\"14.00\" fill=\"#000000\">value = [1, 47]</text>\n</g>\n<!-- 27&#45;&gt;28 -->\n<g id=\"edge28\" class=\"edge\">\n<title>27&#45;&gt;28</title>\n<path fill=\"none\" stroke=\"#000000\" d=\"M1491.6101,-588.8089C1485.7256,-580.1553 1479.2844,-570.683 1473.1318,-561.635\"/>\n<polygon fill=\"#000000\" stroke=\"#000000\" points=\"1475.8663,-559.4319 1467.3489,-553.1308 1470.0778,-563.3681 1475.8663,-559.4319\"/>\n</g>\n<!-- 31 -->\n<g id=\"node32\" class=\"node\">\n<title>31</title>\n<path fill=\"#bddef6\" stroke=\"#000000\" d=\"M1628.5,-553C1628.5,-553 1534.5,-553 1534.5,-553 1528.5,-553 1522.5,-547 1522.5,-541 1522.5,-541 1522.5,-501 1522.5,-501 1522.5,-495 1528.5,-489 1534.5,-489 1534.5,-489 1628.5,-489 1628.5,-489 1634.5,-489 1640.5,-495 1640.5,-501 1640.5,-501 1640.5,-541 1640.5,-541 1640.5,-547 1634.5,-553 1628.5,-553\"/>\n<text text-anchor=\"start\" x=\"1547\" y=\"-538.8\" font-family=\"Helvetica,sans-Serif\" font-size=\"14.00\" fill=\"#000000\">X</text>\n<text text-anchor=\"start\" x=\"1557\" y=\"-538.8\" font-family=\"Helvetica,sans-Serif\" baseline-shift=\"sub\" font-size=\"14.00\" fill=\"#000000\">1</text>\n<text text-anchor=\"start\" x=\"1564\" y=\"-538.8\" font-family=\"Helvetica,sans-Serif\" font-size=\"14.00\" fill=\"#000000\"> ≤ 0.245</text>\n<text text-anchor=\"start\" x=\"1530.5\" y=\"-524.8\" font-family=\"Helvetica,sans-Serif\" font-size=\"14.00\" fill=\"#000000\">entropy = 0.971</text>\n<text text-anchor=\"start\" x=\"1542\" y=\"-510.8\" font-family=\"Helvetica,sans-Serif\" font-size=\"14.00\" fill=\"#000000\">samples = 5</text>\n<text text-anchor=\"start\" x=\"1540\" y=\"-496.8\" font-family=\"Helvetica,sans-Serif\" font-size=\"14.00\" fill=\"#000000\">value = [2, 3]</text>\n</g>\n<!-- 27&#45;&gt;31 -->\n<g id=\"edge31\" class=\"edge\">\n<title>27&#45;&gt;31</title>\n<path fill=\"none\" stroke=\"#000000\" d=\"M1535.3899,-588.8089C1541.2744,-580.1553 1547.7156,-570.683 1553.8682,-561.635\"/>\n<polygon fill=\"#000000\" stroke=\"#000000\" points=\"1556.9222,-563.3681 1559.6511,-553.1308 1551.1337,-559.4319 1556.9222,-563.3681\"/>\n</g>\n<!-- 29 -->\n<g id=\"node30\" class=\"node\">\n<title>29</title>\n<path fill=\"#399de5\" stroke=\"#000000\" d=\"M1374,-447.5C1374,-447.5 1291,-447.5 1291,-447.5 1285,-447.5 1279,-441.5 1279,-435.5 1279,-435.5 1279,-406.5 1279,-406.5 1279,-400.5 1285,-394.5 1291,-394.5 1291,-394.5 1374,-394.5 1374,-394.5 1380,-394.5 1386,-400.5 1386,-406.5 1386,-406.5 1386,-435.5 1386,-435.5 1386,-441.5 1380,-447.5 1374,-447.5\"/>\n<text text-anchor=\"start\" x=\"1290\" y=\"-432.3\" font-family=\"Helvetica,sans-Serif\" font-size=\"14.00\" fill=\"#000000\">entropy = 0.0</text>\n<text text-anchor=\"start\" x=\"1288.5\" y=\"-417.3\" font-family=\"Helvetica,sans-Serif\" font-size=\"14.00\" fill=\"#000000\">samples = 47</text>\n<text text-anchor=\"start\" x=\"1287\" y=\"-402.3\" font-family=\"Helvetica,sans-Serif\" font-size=\"14.00\" fill=\"#000000\">value = [0, 47]</text>\n</g>\n<!-- 28&#45;&gt;29 -->\n<g id=\"edge29\" class=\"edge\">\n<title>28&#45;&gt;29</title>\n<path fill=\"none\" stroke=\"#000000\" d=\"M1409.1241,-488.8089C1396.7285,-477.8393 1382.8463,-465.5543 1370.3387,-454.4855\"/>\n<polygon fill=\"#000000\" stroke=\"#000000\" points=\"1372.5623,-451.7797 1362.7541,-447.7735 1367.9233,-457.0218 1372.5623,-451.7797\"/>\n</g>\n<!-- 30 -->\n<g id=\"node31\" class=\"node\">\n<title>30</title>\n<path fill=\"#e58139\" stroke=\"#000000\" d=\"M1493,-447.5C1493,-447.5 1416,-447.5 1416,-447.5 1410,-447.5 1404,-441.5 1404,-435.5 1404,-435.5 1404,-406.5 1404,-406.5 1404,-400.5 1410,-394.5 1416,-394.5 1416,-394.5 1493,-394.5 1493,-394.5 1499,-394.5 1505,-400.5 1505,-406.5 1505,-406.5 1505,-435.5 1505,-435.5 1505,-441.5 1499,-447.5 1493,-447.5\"/>\n<text text-anchor=\"start\" x=\"1412\" y=\"-432.3\" font-family=\"Helvetica,sans-Serif\" font-size=\"14.00\" fill=\"#000000\">entropy = 0.0</text>\n<text text-anchor=\"start\" x=\"1415\" y=\"-417.3\" font-family=\"Helvetica,sans-Serif\" font-size=\"14.00\" fill=\"#000000\">samples = 1</text>\n<text text-anchor=\"start\" x=\"1413\" y=\"-402.3\" font-family=\"Helvetica,sans-Serif\" font-size=\"14.00\" fill=\"#000000\">value = [1, 0]</text>\n</g>\n<!-- 28&#45;&gt;30 -->\n<g id=\"edge30\" class=\"edge\">\n<title>28&#45;&gt;30</title>\n<path fill=\"none\" stroke=\"#000000\" d=\"M1448.3972,-488.8089C1449.282,-478.9777 1450.2619,-468.0898 1451.1729,-457.9679\"/>\n<polygon fill=\"#000000\" stroke=\"#000000\" points=\"1454.6798,-458.047 1452.0904,-447.7735 1447.708,-457.4195 1454.6798,-458.047\"/>\n</g>\n<!-- 32 -->\n<g id=\"node33\" class=\"node\">\n<title>32</title>\n<path fill=\"#e58139\" stroke=\"#000000\" d=\"M1612,-447.5C1612,-447.5 1535,-447.5 1535,-447.5 1529,-447.5 1523,-441.5 1523,-435.5 1523,-435.5 1523,-406.5 1523,-406.5 1523,-400.5 1529,-394.5 1535,-394.5 1535,-394.5 1612,-394.5 1612,-394.5 1618,-394.5 1624,-400.5 1624,-406.5 1624,-406.5 1624,-435.5 1624,-435.5 1624,-441.5 1618,-447.5 1612,-447.5\"/>\n<text text-anchor=\"start\" x=\"1531\" y=\"-432.3\" font-family=\"Helvetica,sans-Serif\" font-size=\"14.00\" fill=\"#000000\">entropy = 0.0</text>\n<text text-anchor=\"start\" x=\"1534\" y=\"-417.3\" font-family=\"Helvetica,sans-Serif\" font-size=\"14.00\" fill=\"#000000\">samples = 2</text>\n<text text-anchor=\"start\" x=\"1532\" y=\"-402.3\" font-family=\"Helvetica,sans-Serif\" font-size=\"14.00\" fill=\"#000000\">value = [2, 0]</text>\n</g>\n<!-- 31&#45;&gt;32 -->\n<g id=\"edge32\" class=\"edge\">\n<title>31&#45;&gt;32</title>\n<path fill=\"none\" stroke=\"#000000\" d=\"M1578.9247,-488.8089C1578.1382,-478.9777 1577.2672,-468.0898 1576.4574,-457.9679\"/>\n<polygon fill=\"#000000\" stroke=\"#000000\" points=\"1579.9283,-457.4625 1575.6419,-447.7735 1572.9506,-458.0208 1579.9283,-457.4625\"/>\n</g>\n<!-- 33 -->\n<g id=\"node34\" class=\"node\">\n<title>33</title>\n<path fill=\"#399de5\" stroke=\"#000000\" d=\"M1731,-447.5C1731,-447.5 1654,-447.5 1654,-447.5 1648,-447.5 1642,-441.5 1642,-435.5 1642,-435.5 1642,-406.5 1642,-406.5 1642,-400.5 1648,-394.5 1654,-394.5 1654,-394.5 1731,-394.5 1731,-394.5 1737,-394.5 1743,-400.5 1743,-406.5 1743,-406.5 1743,-435.5 1743,-435.5 1743,-441.5 1737,-447.5 1731,-447.5\"/>\n<text text-anchor=\"start\" x=\"1650\" y=\"-432.3\" font-family=\"Helvetica,sans-Serif\" font-size=\"14.00\" fill=\"#000000\">entropy = 0.0</text>\n<text text-anchor=\"start\" x=\"1653\" y=\"-417.3\" font-family=\"Helvetica,sans-Serif\" font-size=\"14.00\" fill=\"#000000\">samples = 3</text>\n<text text-anchor=\"start\" x=\"1651\" y=\"-402.3\" font-family=\"Helvetica,sans-Serif\" font-size=\"14.00\" fill=\"#000000\">value = [0, 3]</text>\n</g>\n<!-- 31&#45;&gt;33 -->\n<g id=\"edge33\" class=\"edge\">\n<title>31&#45;&gt;33</title>\n<path fill=\"none\" stroke=\"#000000\" d=\"M1617.2321,-488.8089C1629.4083,-477.8393 1643.0448,-465.5543 1655.3311,-454.4855\"/>\n<polygon fill=\"#000000\" stroke=\"#000000\" points=\"1657.6944,-457.0673 1662.7814,-447.7735 1653.0091,-451.8665 1657.6944,-457.0673\"/>\n</g>\n<!-- 35 -->\n<g id=\"node36\" class=\"node\">\n<title>35</title>\n<path fill=\"#7bbeee\" stroke=\"#000000\" d=\"M1925.5,-553C1925.5,-553 1831.5,-553 1831.5,-553 1825.5,-553 1819.5,-547 1819.5,-541 1819.5,-541 1819.5,-501 1819.5,-501 1819.5,-495 1825.5,-489 1831.5,-489 1831.5,-489 1925.5,-489 1925.5,-489 1931.5,-489 1937.5,-495 1937.5,-501 1937.5,-501 1937.5,-541 1937.5,-541 1937.5,-547 1931.5,-553 1925.5,-553\"/>\n<text text-anchor=\"start\" x=\"1844\" y=\"-538.8\" font-family=\"Helvetica,sans-Serif\" font-size=\"14.00\" fill=\"#000000\">X</text>\n<text text-anchor=\"start\" x=\"1854\" y=\"-538.8\" font-family=\"Helvetica,sans-Serif\" baseline-shift=\"sub\" font-size=\"14.00\" fill=\"#000000\">0</text>\n<text text-anchor=\"start\" x=\"1861\" y=\"-538.8\" font-family=\"Helvetica,sans-Serif\" font-size=\"14.00\" fill=\"#000000\"> ≤ 0.698</text>\n<text text-anchor=\"start\" x=\"1827.5\" y=\"-524.8\" font-family=\"Helvetica,sans-Serif\" font-size=\"14.00\" fill=\"#000000\">entropy = 0.811</text>\n<text text-anchor=\"start\" x=\"1834.5\" y=\"-510.8\" font-family=\"Helvetica,sans-Serif\" font-size=\"14.00\" fill=\"#000000\">samples = 32</text>\n<text text-anchor=\"start\" x=\"1833\" y=\"-496.8\" font-family=\"Helvetica,sans-Serif\" font-size=\"14.00\" fill=\"#000000\">value = [8, 24]</text>\n</g>\n<!-- 34&#45;&gt;35 -->\n<g id=\"edge35\" class=\"edge\">\n<title>34&#45;&gt;35</title>\n<path fill=\"none\" stroke=\"#000000\" d=\"M1878.5,-588.8089C1878.5,-580.6906 1878.5,-571.8517 1878.5,-563.3186\"/>\n<polygon fill=\"#000000\" stroke=\"#000000\" points=\"1882.0001,-563.1307 1878.5,-553.1308 1875.0001,-563.1308 1882.0001,-563.1307\"/>\n</g>\n<!-- 46 -->\n<g id=\"node47\" class=\"node\">\n<title>46</title>\n<path fill=\"#e88f4f\" stroke=\"#000000\" d=\"M2120.5,-553C2120.5,-553 2026.5,-553 2026.5,-553 2020.5,-553 2014.5,-547 2014.5,-541 2014.5,-541 2014.5,-501 2014.5,-501 2014.5,-495 2020.5,-489 2026.5,-489 2026.5,-489 2120.5,-489 2120.5,-489 2126.5,-489 2132.5,-495 2132.5,-501 2132.5,-501 2132.5,-541 2132.5,-541 2132.5,-547 2126.5,-553 2120.5,-553\"/>\n<text text-anchor=\"start\" x=\"2043.5\" y=\"-538.8\" font-family=\"Helvetica,sans-Serif\" font-size=\"14.00\" fill=\"#000000\">X</text>\n<text text-anchor=\"start\" x=\"2053.5\" y=\"-538.8\" font-family=\"Helvetica,sans-Serif\" baseline-shift=\"sub\" font-size=\"14.00\" fill=\"#000000\">11</text>\n<text text-anchor=\"start\" x=\"2067.5\" y=\"-538.8\" font-family=\"Helvetica,sans-Serif\" font-size=\"14.00\" fill=\"#000000\"> ≤ 0.5</text>\n<text text-anchor=\"start\" x=\"2022.5\" y=\"-524.8\" font-family=\"Helvetica,sans-Serif\" font-size=\"14.00\" fill=\"#000000\">entropy = 0.469</text>\n<text text-anchor=\"start\" x=\"2029.5\" y=\"-510.8\" font-family=\"Helvetica,sans-Serif\" font-size=\"14.00\" fill=\"#000000\">samples = 10</text>\n<text text-anchor=\"start\" x=\"2032\" y=\"-496.8\" font-family=\"Helvetica,sans-Serif\" font-size=\"14.00\" fill=\"#000000\">value = [9, 1]</text>\n</g>\n<!-- 34&#45;&gt;46 -->\n<g id=\"edge46\" class=\"edge\">\n<title>34&#45;&gt;46</title>\n<path fill=\"none\" stroke=\"#000000\" d=\"M1937.5356,-590.7253C1958.915,-579.7615 1983.233,-567.2908 2005.3336,-555.9571\"/>\n<polygon fill=\"#000000\" stroke=\"#000000\" points=\"2007.0277,-559.0218 2014.3288,-551.3442 2003.8335,-552.7931 2007.0277,-559.0218\"/>\n</g>\n<!-- 36 -->\n<g id=\"node37\" class=\"node\">\n<title>36</title>\n<path fill=\"#c9e4f8\" stroke=\"#000000\" d=\"M1867.5,-453C1867.5,-453 1773.5,-453 1773.5,-453 1767.5,-453 1761.5,-447 1761.5,-441 1761.5,-441 1761.5,-401 1761.5,-401 1761.5,-395 1767.5,-389 1773.5,-389 1773.5,-389 1867.5,-389 1867.5,-389 1873.5,-389 1879.5,-395 1879.5,-401 1879.5,-401 1879.5,-441 1879.5,-441 1879.5,-447 1873.5,-453 1867.5,-453\"/>\n<text text-anchor=\"start\" x=\"1790.5\" y=\"-438.8\" font-family=\"Helvetica,sans-Serif\" font-size=\"14.00\" fill=\"#000000\">X</text>\n<text text-anchor=\"start\" x=\"1800.5\" y=\"-438.8\" font-family=\"Helvetica,sans-Serif\" baseline-shift=\"sub\" font-size=\"14.00\" fill=\"#000000\">23</text>\n<text text-anchor=\"start\" x=\"1814.5\" y=\"-438.8\" font-family=\"Helvetica,sans-Serif\" font-size=\"14.00\" fill=\"#000000\"> ≤ 0.5</text>\n<text text-anchor=\"start\" x=\"1769.5\" y=\"-424.8\" font-family=\"Helvetica,sans-Serif\" font-size=\"14.00\" fill=\"#000000\">entropy = 0.982</text>\n<text text-anchor=\"start\" x=\"1776.5\" y=\"-410.8\" font-family=\"Helvetica,sans-Serif\" font-size=\"14.00\" fill=\"#000000\">samples = 19</text>\n<text text-anchor=\"start\" x=\"1775\" y=\"-396.8\" font-family=\"Helvetica,sans-Serif\" font-size=\"14.00\" fill=\"#000000\">value = [8, 11]</text>\n</g>\n<!-- 35&#45;&gt;36 -->\n<g id=\"edge36\" class=\"edge\">\n<title>35&#45;&gt;36</title>\n<path fill=\"none\" stroke=\"#000000\" d=\"M1859.8292,-488.8089C1854.8618,-480.2445 1849.4294,-470.8782 1844.2307,-461.915\"/>\n<polygon fill=\"#000000\" stroke=\"#000000\" points=\"1847.1807,-460.0251 1839.1358,-453.1308 1841.1255,-463.5371 1847.1807,-460.0251\"/>\n</g>\n<!-- 45 -->\n<g id=\"node46\" class=\"node\">\n<title>45</title>\n<path fill=\"#399de5\" stroke=\"#000000\" d=\"M1993,-447.5C1993,-447.5 1910,-447.5 1910,-447.5 1904,-447.5 1898,-441.5 1898,-435.5 1898,-435.5 1898,-406.5 1898,-406.5 1898,-400.5 1904,-394.5 1910,-394.5 1910,-394.5 1993,-394.5 1993,-394.5 1999,-394.5 2005,-400.5 2005,-406.5 2005,-406.5 2005,-435.5 2005,-435.5 2005,-441.5 1999,-447.5 1993,-447.5\"/>\n<text text-anchor=\"start\" x=\"1909\" y=\"-432.3\" font-family=\"Helvetica,sans-Serif\" font-size=\"14.00\" fill=\"#000000\">entropy = 0.0</text>\n<text text-anchor=\"start\" x=\"1907.5\" y=\"-417.3\" font-family=\"Helvetica,sans-Serif\" font-size=\"14.00\" fill=\"#000000\">samples = 13</text>\n<text text-anchor=\"start\" x=\"1906\" y=\"-402.3\" font-family=\"Helvetica,sans-Serif\" font-size=\"14.00\" fill=\"#000000\">value = [0, 13]</text>\n</g>\n<!-- 35&#45;&gt;45 -->\n<g id=\"edge45\" class=\"edge\">\n<title>35&#45;&gt;45</title>\n<path fill=\"none\" stroke=\"#000000\" d=\"M1901.9995,-488.8089C1909.6296,-478.3568 1918.1315,-466.7103 1925.9064,-456.0597\"/>\n<polygon fill=\"#000000\" stroke=\"#000000\" points=\"1928.8861,-457.9141 1931.9553,-447.7735 1923.2323,-453.7868 1928.8861,-457.9141\"/>\n</g>\n<!-- 37 -->\n<g id=\"node38\" class=\"node\">\n<title>37</title>\n<path fill=\"#81c1ee\" stroke=\"#000000\" d=\"M1803.5,-353C1803.5,-353 1709.5,-353 1709.5,-353 1703.5,-353 1697.5,-347 1697.5,-341 1697.5,-341 1697.5,-301 1697.5,-301 1697.5,-295 1703.5,-289 1709.5,-289 1709.5,-289 1803.5,-289 1803.5,-289 1809.5,-289 1815.5,-295 1815.5,-301 1815.5,-301 1815.5,-341 1815.5,-341 1815.5,-347 1809.5,-353 1803.5,-353\"/>\n<text text-anchor=\"start\" x=\"1726.5\" y=\"-338.8\" font-family=\"Helvetica,sans-Serif\" font-size=\"14.00\" fill=\"#000000\">X</text>\n<text text-anchor=\"start\" x=\"1736.5\" y=\"-338.8\" font-family=\"Helvetica,sans-Serif\" baseline-shift=\"sub\" font-size=\"14.00\" fill=\"#000000\">14</text>\n<text text-anchor=\"start\" x=\"1750.5\" y=\"-338.8\" font-family=\"Helvetica,sans-Serif\" font-size=\"14.00\" fill=\"#000000\"> ≤ 0.5</text>\n<text text-anchor=\"start\" x=\"1705.5\" y=\"-324.8\" font-family=\"Helvetica,sans-Serif\" font-size=\"14.00\" fill=\"#000000\">entropy = 0.837</text>\n<text text-anchor=\"start\" x=\"1712.5\" y=\"-310.8\" font-family=\"Helvetica,sans-Serif\" font-size=\"14.00\" fill=\"#000000\">samples = 15</text>\n<text text-anchor=\"start\" x=\"1711\" y=\"-296.8\" font-family=\"Helvetica,sans-Serif\" font-size=\"14.00\" fill=\"#000000\">value = [4, 11]</text>\n</g>\n<!-- 36&#45;&gt;37 -->\n<g id=\"edge37\" class=\"edge\">\n<title>36&#45;&gt;37</title>\n<path fill=\"none\" stroke=\"#000000\" d=\"M1799.8977,-388.8089C1794.3594,-380.1553 1788.2971,-370.683 1782.5064,-361.635\"/>\n<polygon fill=\"#000000\" stroke=\"#000000\" points=\"1785.4022,-359.6668 1777.0637,-353.1308 1779.5063,-363.4402 1785.4022,-359.6668\"/>\n</g>\n<!-- 44 -->\n<g id=\"node45\" class=\"node\">\n<title>44</title>\n<path fill=\"#e58139\" stroke=\"#000000\" d=\"M1923,-347.5C1923,-347.5 1846,-347.5 1846,-347.5 1840,-347.5 1834,-341.5 1834,-335.5 1834,-335.5 1834,-306.5 1834,-306.5 1834,-300.5 1840,-294.5 1846,-294.5 1846,-294.5 1923,-294.5 1923,-294.5 1929,-294.5 1935,-300.5 1935,-306.5 1935,-306.5 1935,-335.5 1935,-335.5 1935,-341.5 1929,-347.5 1923,-347.5\"/>\n<text text-anchor=\"start\" x=\"1842\" y=\"-332.3\" font-family=\"Helvetica,sans-Serif\" font-size=\"14.00\" fill=\"#000000\">entropy = 0.0</text>\n<text text-anchor=\"start\" x=\"1845\" y=\"-317.3\" font-family=\"Helvetica,sans-Serif\" font-size=\"14.00\" fill=\"#000000\">samples = 4</text>\n<text text-anchor=\"start\" x=\"1843\" y=\"-302.3\" font-family=\"Helvetica,sans-Serif\" font-size=\"14.00\" fill=\"#000000\">value = [4, 0]</text>\n</g>\n<!-- 36&#45;&gt;44 -->\n<g id=\"edge44\" class=\"edge\">\n<title>36&#45;&gt;44</title>\n<path fill=\"none\" stroke=\"#000000\" d=\"M1841.1023,-388.8089C1847.7254,-378.4603 1855.0979,-366.9408 1861.8591,-356.3764\"/>\n<polygon fill=\"#000000\" stroke=\"#000000\" points=\"1864.9223,-358.083 1867.3649,-347.7735 1859.0264,-354.3095 1864.9223,-358.083\"/>\n</g>\n<!-- 38 -->\n<g id=\"node39\" class=\"node\">\n<title>38</title>\n<path fill=\"#f8e0ce\" stroke=\"#000000\" d=\"M1739.5,-253C1739.5,-253 1645.5,-253 1645.5,-253 1639.5,-253 1633.5,-247 1633.5,-241 1633.5,-241 1633.5,-201 1633.5,-201 1633.5,-195 1639.5,-189 1645.5,-189 1645.5,-189 1739.5,-189 1739.5,-189 1745.5,-189 1751.5,-195 1751.5,-201 1751.5,-201 1751.5,-241 1751.5,-241 1751.5,-247 1745.5,-253 1739.5,-253\"/>\n<text text-anchor=\"start\" x=\"1666\" y=\"-238.8\" font-family=\"Helvetica,sans-Serif\" font-size=\"14.00\" fill=\"#000000\">X</text>\n<text text-anchor=\"start\" x=\"1676\" y=\"-238.8\" font-family=\"Helvetica,sans-Serif\" baseline-shift=\"sub\" font-size=\"14.00\" fill=\"#000000\">5</text>\n<text text-anchor=\"start\" x=\"1683\" y=\"-238.8\" font-family=\"Helvetica,sans-Serif\" font-size=\"14.00\" fill=\"#000000\"> ≤ 0.5</text>\n<text text-anchor=\"start\" x=\"1641.5\" y=\"-224.8\" font-family=\"Helvetica,sans-Serif\" font-size=\"14.00\" fill=\"#000000\">entropy = 0.985</text>\n<text text-anchor=\"start\" x=\"1653\" y=\"-210.8\" font-family=\"Helvetica,sans-Serif\" font-size=\"14.00\" fill=\"#000000\">samples = 7</text>\n<text text-anchor=\"start\" x=\"1651\" y=\"-196.8\" font-family=\"Helvetica,sans-Serif\" font-size=\"14.00\" fill=\"#000000\">value = [4, 3]</text>\n</g>\n<!-- 37&#45;&gt;38 -->\n<g id=\"edge38\" class=\"edge\">\n<title>37&#45;&gt;38</title>\n<path fill=\"none\" stroke=\"#000000\" d=\"M1735.8977,-288.8089C1730.3594,-280.1553 1724.2971,-270.683 1718.5064,-261.635\"/>\n<polygon fill=\"#000000\" stroke=\"#000000\" points=\"1721.4022,-259.6668 1713.0637,-253.1308 1715.5063,-263.4402 1721.4022,-259.6668\"/>\n</g>\n<!-- 43 -->\n<g id=\"node44\" class=\"node\">\n<title>43</title>\n<path fill=\"#399de5\" stroke=\"#000000\" d=\"M1859,-247.5C1859,-247.5 1782,-247.5 1782,-247.5 1776,-247.5 1770,-241.5 1770,-235.5 1770,-235.5 1770,-206.5 1770,-206.5 1770,-200.5 1776,-194.5 1782,-194.5 1782,-194.5 1859,-194.5 1859,-194.5 1865,-194.5 1871,-200.5 1871,-206.5 1871,-206.5 1871,-235.5 1871,-235.5 1871,-241.5 1865,-247.5 1859,-247.5\"/>\n<text text-anchor=\"start\" x=\"1778\" y=\"-232.3\" font-family=\"Helvetica,sans-Serif\" font-size=\"14.00\" fill=\"#000000\">entropy = 0.0</text>\n<text text-anchor=\"start\" x=\"1781\" y=\"-217.3\" font-family=\"Helvetica,sans-Serif\" font-size=\"14.00\" fill=\"#000000\">samples = 8</text>\n<text text-anchor=\"start\" x=\"1779\" y=\"-202.3\" font-family=\"Helvetica,sans-Serif\" font-size=\"14.00\" fill=\"#000000\">value = [0, 8]</text>\n</g>\n<!-- 37&#45;&gt;43 -->\n<g id=\"edge43\" class=\"edge\">\n<title>37&#45;&gt;43</title>\n<path fill=\"none\" stroke=\"#000000\" d=\"M1777.1023,-288.8089C1783.7254,-278.4603 1791.0979,-266.9408 1797.8591,-256.3764\"/>\n<polygon fill=\"#000000\" stroke=\"#000000\" points=\"1800.9223,-258.083 1803.3649,-247.7735 1795.0264,-254.3095 1800.9223,-258.083\"/>\n</g>\n<!-- 39 -->\n<g id=\"node40\" class=\"node\">\n<title>39</title>\n<path fill=\"#e58139\" stroke=\"#000000\" d=\"M1667,-147.5C1667,-147.5 1590,-147.5 1590,-147.5 1584,-147.5 1578,-141.5 1578,-135.5 1578,-135.5 1578,-106.5 1578,-106.5 1578,-100.5 1584,-94.5 1590,-94.5 1590,-94.5 1667,-94.5 1667,-94.5 1673,-94.5 1679,-100.5 1679,-106.5 1679,-106.5 1679,-135.5 1679,-135.5 1679,-141.5 1673,-147.5 1667,-147.5\"/>\n<text text-anchor=\"start\" x=\"1586\" y=\"-132.3\" font-family=\"Helvetica,sans-Serif\" font-size=\"14.00\" fill=\"#000000\">entropy = 0.0</text>\n<text text-anchor=\"start\" x=\"1589\" y=\"-117.3\" font-family=\"Helvetica,sans-Serif\" font-size=\"14.00\" fill=\"#000000\">samples = 3</text>\n<text text-anchor=\"start\" x=\"1587\" y=\"-102.3\" font-family=\"Helvetica,sans-Serif\" font-size=\"14.00\" fill=\"#000000\">value = [3, 0]</text>\n</g>\n<!-- 38&#45;&gt;39 -->\n<g id=\"edge39\" class=\"edge\">\n<title>38&#45;&gt;39</title>\n<path fill=\"none\" stroke=\"#000000\" d=\"M1671.8977,-188.8089C1665.2746,-178.4603 1657.9021,-166.9408 1651.1409,-156.3764\"/>\n<polygon fill=\"#000000\" stroke=\"#000000\" points=\"1653.9736,-154.3095 1645.6351,-147.7735 1648.0777,-158.083 1653.9736,-154.3095\"/>\n</g>\n<!-- 40 -->\n<g id=\"node41\" class=\"node\">\n<title>40</title>\n<path fill=\"#7bbeee\" stroke=\"#000000\" d=\"M1803.5,-153C1803.5,-153 1709.5,-153 1709.5,-153 1703.5,-153 1697.5,-147 1697.5,-141 1697.5,-141 1697.5,-101 1697.5,-101 1697.5,-95 1703.5,-89 1709.5,-89 1709.5,-89 1803.5,-89 1803.5,-89 1809.5,-89 1815.5,-95 1815.5,-101 1815.5,-101 1815.5,-141 1815.5,-141 1815.5,-147 1809.5,-153 1803.5,-153\"/>\n<text text-anchor=\"start\" x=\"1726\" y=\"-138.8\" font-family=\"Helvetica,sans-Serif\" font-size=\"14.00\" fill=\"#000000\">X</text>\n<text text-anchor=\"start\" x=\"1736\" y=\"-138.8\" font-family=\"Helvetica,sans-Serif\" baseline-shift=\"sub\" font-size=\"14.00\" fill=\"#000000\">3</text>\n<text text-anchor=\"start\" x=\"1743\" y=\"-138.8\" font-family=\"Helvetica,sans-Serif\" font-size=\"14.00\" fill=\"#000000\"> ≤ 0.71</text>\n<text text-anchor=\"start\" x=\"1705.5\" y=\"-124.8\" font-family=\"Helvetica,sans-Serif\" font-size=\"14.00\" fill=\"#000000\">entropy = 0.811</text>\n<text text-anchor=\"start\" x=\"1717\" y=\"-110.8\" font-family=\"Helvetica,sans-Serif\" font-size=\"14.00\" fill=\"#000000\">samples = 4</text>\n<text text-anchor=\"start\" x=\"1715\" y=\"-96.8\" font-family=\"Helvetica,sans-Serif\" font-size=\"14.00\" fill=\"#000000\">value = [1, 3]</text>\n</g>\n<!-- 38&#45;&gt;40 -->\n<g id=\"edge40\" class=\"edge\">\n<title>38&#45;&gt;40</title>\n<path fill=\"none\" stroke=\"#000000\" d=\"M1713.1023,-188.8089C1718.6406,-180.1553 1724.7029,-170.683 1730.4936,-161.635\"/>\n<polygon fill=\"#000000\" stroke=\"#000000\" points=\"1733.4937,-163.4402 1735.9363,-153.1308 1727.5978,-159.6668 1733.4937,-163.4402\"/>\n</g>\n<!-- 41 -->\n<g id=\"node42\" class=\"node\">\n<title>41</title>\n<path fill=\"#399de5\" stroke=\"#000000\" d=\"M1736,-53C1736,-53 1659,-53 1659,-53 1653,-53 1647,-47 1647,-41 1647,-41 1647,-12 1647,-12 1647,-6 1653,0 1659,0 1659,0 1736,0 1736,0 1742,0 1748,-6 1748,-12 1748,-12 1748,-41 1748,-41 1748,-47 1742,-53 1736,-53\"/>\n<text text-anchor=\"start\" x=\"1655\" y=\"-37.8\" font-family=\"Helvetica,sans-Serif\" font-size=\"14.00\" fill=\"#000000\">entropy = 0.0</text>\n<text text-anchor=\"start\" x=\"1658\" y=\"-22.8\" font-family=\"Helvetica,sans-Serif\" font-size=\"14.00\" fill=\"#000000\">samples = 3</text>\n<text text-anchor=\"start\" x=\"1656\" y=\"-7.8\" font-family=\"Helvetica,sans-Serif\" font-size=\"14.00\" fill=\"#000000\">value = [0, 3]</text>\n</g>\n<!-- 40&#45;&gt;41 -->\n<g id=\"edge41\" class=\"edge\">\n<title>40&#45;&gt;41</title>\n<path fill=\"none\" stroke=\"#000000\" d=\"M1736.3606,-88.7428C1730.9526,-80.0809 1725.0764,-70.669 1719.5697,-61.849\"/>\n<polygon fill=\"#000000\" stroke=\"#000000\" points=\"1722.4821,-59.9048 1714.2172,-53.2759 1716.5443,-63.612 1722.4821,-59.9048\"/>\n</g>\n<!-- 42 -->\n<g id=\"node43\" class=\"node\">\n<title>42</title>\n<path fill=\"#e58139\" stroke=\"#000000\" d=\"M1855,-53C1855,-53 1778,-53 1778,-53 1772,-53 1766,-47 1766,-41 1766,-41 1766,-12 1766,-12 1766,-6 1772,0 1778,0 1778,0 1855,0 1855,0 1861,0 1867,-6 1867,-12 1867,-12 1867,-41 1867,-41 1867,-47 1861,-53 1855,-53\"/>\n<text text-anchor=\"start\" x=\"1774\" y=\"-37.8\" font-family=\"Helvetica,sans-Serif\" font-size=\"14.00\" fill=\"#000000\">entropy = 0.0</text>\n<text text-anchor=\"start\" x=\"1777\" y=\"-22.8\" font-family=\"Helvetica,sans-Serif\" font-size=\"14.00\" fill=\"#000000\">samples = 1</text>\n<text text-anchor=\"start\" x=\"1775\" y=\"-7.8\" font-family=\"Helvetica,sans-Serif\" font-size=\"14.00\" fill=\"#000000\">value = [1, 0]</text>\n</g>\n<!-- 40&#45;&gt;42 -->\n<g id=\"edge42\" class=\"edge\">\n<title>40&#45;&gt;42</title>\n<path fill=\"none\" stroke=\"#000000\" d=\"M1776.9808,-88.7428C1782.4804,-80.0809 1788.4562,-70.669 1794.0562,-61.849\"/>\n<polygon fill=\"#000000\" stroke=\"#000000\" points=\"1797.0941,-63.5941 1799.4995,-53.2759 1791.1846,-59.842 1797.0941,-63.5941\"/>\n</g>\n<!-- 47 -->\n<g id=\"node48\" class=\"node\">\n<title>47</title>\n<path fill=\"#399de5\" stroke=\"#000000\" d=\"M2112,-447.5C2112,-447.5 2035,-447.5 2035,-447.5 2029,-447.5 2023,-441.5 2023,-435.5 2023,-435.5 2023,-406.5 2023,-406.5 2023,-400.5 2029,-394.5 2035,-394.5 2035,-394.5 2112,-394.5 2112,-394.5 2118,-394.5 2124,-400.5 2124,-406.5 2124,-406.5 2124,-435.5 2124,-435.5 2124,-441.5 2118,-447.5 2112,-447.5\"/>\n<text text-anchor=\"start\" x=\"2031\" y=\"-432.3\" font-family=\"Helvetica,sans-Serif\" font-size=\"14.00\" fill=\"#000000\">entropy = 0.0</text>\n<text text-anchor=\"start\" x=\"2034\" y=\"-417.3\" font-family=\"Helvetica,sans-Serif\" font-size=\"14.00\" fill=\"#000000\">samples = 1</text>\n<text text-anchor=\"start\" x=\"2032\" y=\"-402.3\" font-family=\"Helvetica,sans-Serif\" font-size=\"14.00\" fill=\"#000000\">value = [0, 1]</text>\n</g>\n<!-- 46&#45;&gt;47 -->\n<g id=\"edge47\" class=\"edge\">\n<title>46&#45;&gt;47</title>\n<path fill=\"none\" stroke=\"#000000\" d=\"M2073.5,-488.8089C2073.5,-478.9777 2073.5,-468.0898 2073.5,-457.9679\"/>\n<polygon fill=\"#000000\" stroke=\"#000000\" points=\"2077.0001,-457.7735 2073.5,-447.7735 2070.0001,-457.7736 2077.0001,-457.7735\"/>\n</g>\n<!-- 48 -->\n<g id=\"node49\" class=\"node\">\n<title>48</title>\n<path fill=\"#e58139\" stroke=\"#000000\" d=\"M2231,-447.5C2231,-447.5 2154,-447.5 2154,-447.5 2148,-447.5 2142,-441.5 2142,-435.5 2142,-435.5 2142,-406.5 2142,-406.5 2142,-400.5 2148,-394.5 2154,-394.5 2154,-394.5 2231,-394.5 2231,-394.5 2237,-394.5 2243,-400.5 2243,-406.5 2243,-406.5 2243,-435.5 2243,-435.5 2243,-441.5 2237,-447.5 2231,-447.5\"/>\n<text text-anchor=\"start\" x=\"2150\" y=\"-432.3\" font-family=\"Helvetica,sans-Serif\" font-size=\"14.00\" fill=\"#000000\">entropy = 0.0</text>\n<text text-anchor=\"start\" x=\"2153\" y=\"-417.3\" font-family=\"Helvetica,sans-Serif\" font-size=\"14.00\" fill=\"#000000\">samples = 9</text>\n<text text-anchor=\"start\" x=\"2151\" y=\"-402.3\" font-family=\"Helvetica,sans-Serif\" font-size=\"14.00\" fill=\"#000000\">value = [9, 0]</text>\n</g>\n<!-- 46&#45;&gt;48 -->\n<g id=\"edge48\" class=\"edge\">\n<title>46&#45;&gt;48</title>\n<path fill=\"none\" stroke=\"#000000\" d=\"M2111.8074,-488.8089C2124.8612,-477.8393 2139.4804,-465.5543 2152.6522,-454.4855\"/>\n<polygon fill=\"#000000\" stroke=\"#000000\" points=\"2155.2354,-456.8865 2160.6395,-447.7735 2150.732,-451.5275 2155.2354,-456.8865\"/>\n</g>\n<!-- \\n -->\n<g id=\"node50\" class=\"node\">\n<title>\\n</title>\n<path fill=\"#000000\" stroke=\"#000000\" d=\"M1386.5,-839C1386.5,-839 1356.5,-839 1356.5,-839 1350.5,-839 1344.5,-833 1344.5,-827 1344.5,-827 1344.5,-815 1344.5,-815 1344.5,-809 1350.5,-803 1356.5,-803 1356.5,-803 1386.5,-803 1386.5,-803 1392.5,-803 1398.5,-809 1398.5,-815 1398.5,-815 1398.5,-827 1398.5,-827 1398.5,-833 1392.5,-839 1386.5,-839\"/>\n</g>\n</g>\n</svg>\n"
          },
          "metadata": {},
          "execution_count": 38
        }
      ]
    },
    {
      "cell_type": "code",
      "source": [
        "#foret aleatoire\n",
        "from sklearn.ensemble import RandomForestClassifier\n",
        "\n",
        "foret_aleatoire = RandomForestClassifier(n_estimators=50, max_depth=11)\n",
        "foret_aleatoire.fit(X_train, y_train)\n",
        "print('Accuracy val = ',foret_aleatoire.score(X_val, y_val))\n",
        "print('Accuracy test = ',foret_aleatoire.score(X_test, y_test))"
      ],
      "metadata": {
        "colab": {
          "base_uri": "https://localhost:8080/"
        },
        "id": "wY8rlhrorbRF",
        "outputId": "e7e62143-865c-41fe-981e-46262e5c6e48"
      },
      "execution_count": null,
      "outputs": [
        {
          "output_type": "stream",
          "name": "stdout",
          "text": [
            "Accuracy val =  0.7906976744186046\n",
            "Accuracy test =  0.7692307692307693\n"
          ]
        }
      ]
    },
    {
      "cell_type": "markdown",
      "source": [
        "**Random Forest avec ISOMAP**"
      ],
      "metadata": {
        "id": "QDkt8kYJp-a1"
      }
    },
    {
      "cell_type": "code",
      "source": [
        "# Isomap\n",
        "from sklearn.manifold import Isomap\n",
        "\n",
        "components = 2\n",
        "neighbors = 5\n",
        "\n",
        "embedding = Isomap(n_components = components, n_neighbors = neighbors) \n",
        "X_reduced = embedding.fit_transform(X)\n",
        "\n",
        "if components == 2:\n",
        "  plt.title('Isomap en 2 dimensions pour heart.csv')\n",
        "  scatter = plt.scatter(X_reduced[:,0], X_reduced[:,1], c = Y, cmap = 'winter')\n",
        "  plt.legend(*scatter.legend_elements())\n",
        "  plt.show()\n",
        "\n",
        "if components == 3:\n",
        "  ax = plt.axes(projection = '3d')\n",
        "  plt.title('Isomap en 3 dimensions pour heart.csv')\n",
        "  ax.scatter3D(X_reduced[:,0], X_reduced[:,1], X_reduced[:,2], c = Y, cmap = 'winter')\n",
        "  ax.legend(*scatter.legend_elements())\n",
        "  plt.show()"
      ],
      "metadata": {
        "colab": {
          "base_uri": "https://localhost:8080/",
          "height": 281
        },
        "id": "kHCbHYxzzX-T",
        "outputId": "66c27731-0617-487c-e101-d861e7c5966a"
      },
      "execution_count": null,
      "outputs": [
        {
          "output_type": "display_data",
          "data": {
            "text/plain": [
              "<Figure size 432x288 with 1 Axes>"
            ],
            "image/png": "[encoded data removed]"
          },
          "metadata": {
            "needs_background": "light"
          }
        }
      ]
    },
    {
      "cell_type": "code",
      "source": [
        "#X = df[X_col_names_reels + col_names_cp]\n",
        "#ici dataset est X_copie\n",
        "X_train, X_test, y_train, y_test = train_test_split(X_reduced, Y, test_size=0.3, stratify=Y, random_state=0)\n",
        "X_train, X_val, y_train, y_val = train_test_split(X_train, y_train, test_size=0.2, random_state=0)\n",
        "print('X_train, X_val, X_test, Y_train, Y_val, Y_test', X_train.shape,X_test.shape,y_train.shape,y_test.shape)\n",
        "#X_train"
      ],
      "metadata": {
        "colab": {
          "base_uri": "https://localhost:8080/"
        },
        "id": "5KtbjTRAhMth",
        "outputId": "ee9295f9-dbcf-4e36-8d50-ebee232993a4"
      },
      "execution_count": null,
      "outputs": [
        {
          "output_type": "stream",
          "name": "stdout",
          "text": [
            "X_train, X_val, X_test, Y_train, Y_val, Y_test (169, 2) (91, 2) (169,) (91,)\n"
          ]
        }
      ]
    },
    {
      "cell_type": "code",
      "source": [
        "#arbre decision pour isomap\n",
        "decision_tree_isomap = tree.DecisionTreeClassifier(criterion='entropy', max_depth=10)\n",
        "decision_tree_isomap = decision_tree_isomap.fit(X_train, y_train)\n",
        "print('Accuracy = ',decision_tree_isomap.score(X_test, y_test))"
      ],
      "metadata": {
        "colab": {
          "base_uri": "https://localhost:8080/"
        },
        "id": "CloAWX6HhddE",
        "outputId": "5443da42-a132-42b8-df24-82eaedd56acb"
      },
      "execution_count": null,
      "outputs": [
        {
          "output_type": "stream",
          "name": "stdout",
          "text": [
            "Accuracy =  0.7802197802197802\n"
          ]
        }
      ]
    },
    {
      "cell_type": "code",
      "source": [
        "import pydotplus\n",
        "from graphviz import Source\n",
        "\n",
        "dot_data = tree.export_graphviz(decision_tree_isomap, out_file=None,\n",
        "                            \n",
        "                         filled=True, rounded=True,  \n",
        "                         special_characters=True) \n",
        "'''\n",
        "export_graphviz(\n",
        "        decision_tree,\n",
        "        out_file=os.path.join(IMAGES_PATH, \"iris_tree.dot\"),\n",
        "        feature_names=X_copie.columns,\n",
        "        rounded=True,\n",
        "        filled=True\n",
        "    )\n",
        "Source.from_file(os.path.join(IMAGES_PATH, \"tree.dot\"))\n",
        "\n",
        "'''\n",
        "pydot_graph = pydotplus.graph_from_dot_data(dot_data)\n",
        "pydot_graph.set_size('\"10,10!\"')\n",
        "graph = graphviz.Source(pydot_graph.to_string())\n",
        "graph"
      ],
      "metadata": {
        "colab": {
          "base_uri": "https://localhost:8080/",
          "height": 755
        },
        "id": "LSb0l_-Shri0",
        "outputId": "a925c5cf-f20b-4604-e7d5-618260ac58f5"
      },
      "execution_count": null,
      "outputs": [
        {
          "output_type": "execute_result",
          "data": {
            "text/plain": [
              "<graphviz.files.Source at 0x7f0c692b2e10>"
            ],
            "image/svg+xml": "<?xml version=\"1.0\" encoding=\"UTF-8\" standalone=\"no\"?>\n<!DOCTYPE svg PUBLIC \"-//W3C//DTD SVG 1.1//EN\"\n \"http://www.w3.org/Graphics/SVG/1.1/DTD/svg11.dtd\">\n<!-- Generated by graphviz version 2.40.1 (20161225.0304)\n -->\n<!-- Title: Tree Pages: 1 -->\n<svg width=\"720pt\" height=\"550pt\"\n viewBox=\"0.00 0.00 720.00 549.58\" xmlns=\"http://www.w3.org/2000/svg\" xmlns:xlink=\"http://www.w3.org/1999/xlink\">\n<g id=\"graph0\" class=\"graph\" transform=\"scale(.518 .518) rotate(0) translate(4 1057)\">\n<title>Tree</title>\n<polygon fill=\"#ffffff\" stroke=\"transparent\" points=\"-4,4 -4,-1057 1386,-1057 1386,4 -4,4\"/>\n<!-- 0 -->\n<g id=\"node1\" class=\"node\">\n<title>0</title>\n<path fill=\"#dbedfa\" stroke=\"#000000\" d=\"M919.5,-1053C919.5,-1053 825.5,-1053 825.5,-1053 819.5,-1053 813.5,-1047 813.5,-1041 813.5,-1041 813.5,-1001 813.5,-1001 813.5,-995 819.5,-989 825.5,-989 825.5,-989 919.5,-989 919.5,-989 925.5,-989 931.5,-995 931.5,-1001 931.5,-1001 931.5,-1041 931.5,-1041 931.5,-1047 925.5,-1053 919.5,-1053\"/>\n<text text-anchor=\"start\" x=\"835.5\" y=\"-1038.8\" font-family=\"Helvetica,sans-Serif\" font-size=\"14.00\" fill=\"#000000\">X</text>\n<text text-anchor=\"start\" x=\"845.5\" y=\"-1038.8\" font-family=\"Helvetica,sans-Serif\" baseline-shift=\"sub\" font-size=\"14.00\" fill=\"#000000\">0</text>\n<text text-anchor=\"start\" x=\"852.5\" y=\"-1038.8\" font-family=\"Helvetica,sans-Serif\" font-size=\"14.00\" fill=\"#000000\"> ≤ &#45;0.192</text>\n<text text-anchor=\"start\" x=\"821.5\" y=\"-1024.8\" font-family=\"Helvetica,sans-Serif\" font-size=\"14.00\" fill=\"#000000\">entropy = 0.993</text>\n<text text-anchor=\"start\" x=\"824.5\" y=\"-1010.8\" font-family=\"Helvetica,sans-Serif\" font-size=\"14.00\" fill=\"#000000\">samples = 169</text>\n<text text-anchor=\"start\" x=\"822.5\" y=\"-996.8\" font-family=\"Helvetica,sans-Serif\" font-size=\"14.00\" fill=\"#000000\">value = [76, 93]</text>\n</g>\n<!-- 1 -->\n<g id=\"node2\" class=\"node\">\n<title>1</title>\n<path fill=\"#57ace9\" stroke=\"#000000\" d=\"M794.5,-953C794.5,-953 700.5,-953 700.5,-953 694.5,-953 688.5,-947 688.5,-941 688.5,-941 688.5,-901 688.5,-901 688.5,-895 694.5,-889 700.5,-889 700.5,-889 794.5,-889 794.5,-889 800.5,-889 806.5,-895 806.5,-901 806.5,-901 806.5,-941 806.5,-941 806.5,-947 800.5,-953 794.5,-953\"/>\n<text text-anchor=\"start\" x=\"710.5\" y=\"-938.8\" font-family=\"Helvetica,sans-Serif\" font-size=\"14.00\" fill=\"#000000\">X</text>\n<text text-anchor=\"start\" x=\"720.5\" y=\"-938.8\" font-family=\"Helvetica,sans-Serif\" baseline-shift=\"sub\" font-size=\"14.00\" fill=\"#000000\">0</text>\n<text text-anchor=\"start\" x=\"727.5\" y=\"-938.8\" font-family=\"Helvetica,sans-Serif\" font-size=\"14.00\" fill=\"#000000\"> ≤ &#45;2.158</text>\n<text text-anchor=\"start\" x=\"696.5\" y=\"-924.8\" font-family=\"Helvetica,sans-Serif\" font-size=\"14.00\" fill=\"#000000\">entropy = 0.563</text>\n<text text-anchor=\"start\" x=\"703.5\" y=\"-910.8\" font-family=\"Helvetica,sans-Serif\" font-size=\"14.00\" fill=\"#000000\">samples = 91</text>\n<text text-anchor=\"start\" x=\"697.5\" y=\"-896.8\" font-family=\"Helvetica,sans-Serif\" font-size=\"14.00\" fill=\"#000000\">value = [12, 79]</text>\n</g>\n<!-- 0&#45;&gt;1 -->\n<g id=\"edge1\" class=\"edge\">\n<title>0&#45;&gt;1</title>\n<path fill=\"none\" stroke=\"#000000\" d=\"M832.2612,-988.8089C820.552,-979.4416 807.6438,-969.115 795.5071,-959.4057\"/>\n<polygon fill=\"#000000\" stroke=\"#000000\" points=\"797.6586,-956.6447 787.6634,-953.1308 793.2857,-962.1108 797.6586,-956.6447\"/>\n<text text-anchor=\"middle\" x=\"790.4242\" y=\"-974.2779\" font-family=\"Helvetica,sans-Serif\" font-size=\"14.00\" fill=\"#000000\">True</text>\n</g>\n<!-- 32 -->\n<g id=\"node33\" class=\"node\">\n<title>32</title>\n<path fill=\"#eb9d64\" stroke=\"#000000\" d=\"M1048.5,-953C1048.5,-953 954.5,-953 954.5,-953 948.5,-953 942.5,-947 942.5,-941 942.5,-941 942.5,-901 942.5,-901 942.5,-895 948.5,-889 954.5,-889 954.5,-889 1048.5,-889 1048.5,-889 1054.5,-889 1060.5,-895 1060.5,-901 1060.5,-901 1060.5,-941 1060.5,-941 1060.5,-947 1054.5,-953 1048.5,-953\"/>\n<text text-anchor=\"start\" x=\"967\" y=\"-938.8\" font-family=\"Helvetica,sans-Serif\" font-size=\"14.00\" fill=\"#000000\">X</text>\n<text text-anchor=\"start\" x=\"977\" y=\"-938.8\" font-family=\"Helvetica,sans-Serif\" baseline-shift=\"sub\" font-size=\"14.00\" fill=\"#000000\">0</text>\n<text text-anchor=\"start\" x=\"984\" y=\"-938.8\" font-family=\"Helvetica,sans-Serif\" font-size=\"14.00\" fill=\"#000000\"> ≤ 2.785</text>\n<text text-anchor=\"start\" x=\"950.5\" y=\"-924.8\" font-family=\"Helvetica,sans-Serif\" font-size=\"14.00\" fill=\"#000000\">entropy = 0.679</text>\n<text text-anchor=\"start\" x=\"957.5\" y=\"-910.8\" font-family=\"Helvetica,sans-Serif\" font-size=\"14.00\" fill=\"#000000\">samples = 78</text>\n<text text-anchor=\"start\" x=\"951.5\" y=\"-896.8\" font-family=\"Helvetica,sans-Serif\" font-size=\"14.00\" fill=\"#000000\">value = [64, 14]</text>\n</g>\n<!-- 0&#45;&gt;32 -->\n<g id=\"edge32\" class=\"edge\">\n<title>0&#45;&gt;32</title>\n<path fill=\"none\" stroke=\"#000000\" d=\"M914.0265,-988.8089C926.1103,-979.4416 939.4316,-969.115 951.9566,-959.4057\"/>\n<polygon fill=\"#000000\" stroke=\"#000000\" points=\"954.2922,-962.0237 960.0513,-953.1308 950.0035,-956.4913 954.2922,-962.0237\"/>\n<text text-anchor=\"middle\" x=\"956.9105\" y=\"-974.2327\" font-family=\"Helvetica,sans-Serif\" font-size=\"14.00\" fill=\"#000000\">False</text>\n</g>\n<!-- 2 -->\n<g id=\"node3\" class=\"node\">\n<title>2</title>\n<path fill=\"#41a1e6\" stroke=\"#000000\" d=\"M601.5,-853C601.5,-853 507.5,-853 507.5,-853 501.5,-853 495.5,-847 495.5,-841 495.5,-841 495.5,-801 495.5,-801 495.5,-795 501.5,-789 507.5,-789 507.5,-789 601.5,-789 601.5,-789 607.5,-789 613.5,-795 613.5,-801 613.5,-801 613.5,-841 613.5,-841 613.5,-847 607.5,-853 601.5,-853\"/>\n<text text-anchor=\"start\" x=\"517.5\" y=\"-838.8\" font-family=\"Helvetica,sans-Serif\" font-size=\"14.00\" fill=\"#000000\">X</text>\n<text text-anchor=\"start\" x=\"527.5\" y=\"-838.8\" font-family=\"Helvetica,sans-Serif\" baseline-shift=\"sub\" font-size=\"14.00\" fill=\"#000000\">0</text>\n<text text-anchor=\"start\" x=\"534.5\" y=\"-838.8\" font-family=\"Helvetica,sans-Serif\" font-size=\"14.00\" fill=\"#000000\"> ≤ &#45;3.193</text>\n<text text-anchor=\"start\" x=\"503.5\" y=\"-824.8\" font-family=\"Helvetica,sans-Serif\" font-size=\"14.00\" fill=\"#000000\">entropy = 0.235</text>\n<text text-anchor=\"start\" x=\"510.5\" y=\"-810.8\" font-family=\"Helvetica,sans-Serif\" font-size=\"14.00\" fill=\"#000000\">samples = 52</text>\n<text text-anchor=\"start\" x=\"509\" y=\"-796.8\" font-family=\"Helvetica,sans-Serif\" font-size=\"14.00\" fill=\"#000000\">value = [2, 50]</text>\n</g>\n<!-- 1&#45;&gt;2 -->\n<g id=\"edge2\" class=\"edge\">\n<title>1&#45;&gt;2</title>\n<path fill=\"none\" stroke=\"#000000\" d=\"M688.282,-890.3171C667.5334,-879.5665 644.0675,-867.408 622.6471,-856.3094\"/>\n<polygon fill=\"#000000\" stroke=\"#000000\" points=\"624.0951,-853.1178 613.606,-851.6249 620.8748,-859.333 624.0951,-853.1178\"/>\n</g>\n<!-- 11 -->\n<g id=\"node12\" class=\"node\">\n<title>11</title>\n<path fill=\"#7dbfee\" stroke=\"#000000\" d=\"M794.5,-853C794.5,-853 700.5,-853 700.5,-853 694.5,-853 688.5,-847 688.5,-841 688.5,-841 688.5,-801 688.5,-801 688.5,-795 694.5,-789 700.5,-789 700.5,-789 794.5,-789 794.5,-789 800.5,-789 806.5,-795 806.5,-801 806.5,-801 806.5,-841 806.5,-841 806.5,-847 800.5,-853 794.5,-853\"/>\n<text text-anchor=\"start\" x=\"710.5\" y=\"-838.8\" font-family=\"Helvetica,sans-Serif\" font-size=\"14.00\" fill=\"#000000\">X</text>\n<text text-anchor=\"start\" x=\"720.5\" y=\"-838.8\" font-family=\"Helvetica,sans-Serif\" baseline-shift=\"sub\" font-size=\"14.00\" fill=\"#000000\">0</text>\n<text text-anchor=\"start\" x=\"727.5\" y=\"-838.8\" font-family=\"Helvetica,sans-Serif\" font-size=\"14.00\" fill=\"#000000\"> ≤ &#45;0.661</text>\n<text text-anchor=\"start\" x=\"696.5\" y=\"-824.8\" font-family=\"Helvetica,sans-Serif\" font-size=\"14.00\" fill=\"#000000\">entropy = 0.821</text>\n<text text-anchor=\"start\" x=\"703.5\" y=\"-810.8\" font-family=\"Helvetica,sans-Serif\" font-size=\"14.00\" fill=\"#000000\">samples = 39</text>\n<text text-anchor=\"start\" x=\"697.5\" y=\"-796.8\" font-family=\"Helvetica,sans-Serif\" font-size=\"14.00\" fill=\"#000000\">value = [10, 29]</text>\n</g>\n<!-- 1&#45;&gt;11 -->\n<g id=\"edge11\" class=\"edge\">\n<title>1&#45;&gt;11</title>\n<path fill=\"none\" stroke=\"#000000\" d=\"M747.5,-888.8089C747.5,-880.6906 747.5,-871.8517 747.5,-863.3186\"/>\n<polygon fill=\"#000000\" stroke=\"#000000\" points=\"751.0001,-863.1307 747.5,-853.1308 744.0001,-863.1308 751.0001,-863.1307\"/>\n</g>\n<!-- 3 -->\n<g id=\"node4\" class=\"node\">\n<title>3</title>\n<path fill=\"#4da7e8\" stroke=\"#000000\" d=\"M470.5,-753C470.5,-753 376.5,-753 376.5,-753 370.5,-753 364.5,-747 364.5,-741 364.5,-741 364.5,-701 364.5,-701 364.5,-695 370.5,-689 376.5,-689 376.5,-689 470.5,-689 470.5,-689 476.5,-689 482.5,-695 482.5,-701 482.5,-701 482.5,-741 482.5,-741 482.5,-747 476.5,-753 470.5,-753\"/>\n<text text-anchor=\"start\" x=\"386.5\" y=\"-738.8\" font-family=\"Helvetica,sans-Serif\" font-size=\"14.00\" fill=\"#000000\">X</text>\n<text text-anchor=\"start\" x=\"396.5\" y=\"-738.8\" font-family=\"Helvetica,sans-Serif\" baseline-shift=\"sub\" font-size=\"14.00\" fill=\"#000000\">0</text>\n<text text-anchor=\"start\" x=\"403.5\" y=\"-738.8\" font-family=\"Helvetica,sans-Serif\" font-size=\"14.00\" fill=\"#000000\"> ≤ &#45;3.281</text>\n<text text-anchor=\"start\" x=\"372.5\" y=\"-724.8\" font-family=\"Helvetica,sans-Serif\" font-size=\"14.00\" fill=\"#000000\">entropy = 0.439</text>\n<text text-anchor=\"start\" x=\"379.5\" y=\"-710.8\" font-family=\"Helvetica,sans-Serif\" font-size=\"14.00\" fill=\"#000000\">samples = 22</text>\n<text text-anchor=\"start\" x=\"378\" y=\"-696.8\" font-family=\"Helvetica,sans-Serif\" font-size=\"14.00\" fill=\"#000000\">value = [2, 20]</text>\n</g>\n<!-- 2&#45;&gt;3 -->\n<g id=\"edge3\" class=\"edge\">\n<title>2&#45;&gt;3</title>\n<path fill=\"none\" stroke=\"#000000\" d=\"M512.3297,-788.8089C500.0585,-779.4416 486.5307,-769.115 473.8115,-759.4057\"/>\n<polygon fill=\"#000000\" stroke=\"#000000\" points=\"475.6638,-756.4165 465.5913,-753.1308 471.4163,-761.9806 475.6638,-756.4165\"/>\n</g>\n<!-- 10 -->\n<g id=\"node11\" class=\"node\">\n<title>10</title>\n<path fill=\"#399de5\" stroke=\"#000000\" d=\"M596,-747.5C596,-747.5 513,-747.5 513,-747.5 507,-747.5 501,-741.5 501,-735.5 501,-735.5 501,-706.5 501,-706.5 501,-700.5 507,-694.5 513,-694.5 513,-694.5 596,-694.5 596,-694.5 602,-694.5 608,-700.5 608,-706.5 608,-706.5 608,-735.5 608,-735.5 608,-741.5 602,-747.5 596,-747.5\"/>\n<text text-anchor=\"start\" x=\"512\" y=\"-732.3\" font-family=\"Helvetica,sans-Serif\" font-size=\"14.00\" fill=\"#000000\">entropy = 0.0</text>\n<text text-anchor=\"start\" x=\"510.5\" y=\"-717.3\" font-family=\"Helvetica,sans-Serif\" font-size=\"14.00\" fill=\"#000000\">samples = 30</text>\n<text text-anchor=\"start\" x=\"509\" y=\"-702.3\" font-family=\"Helvetica,sans-Serif\" font-size=\"14.00\" fill=\"#000000\">value = [0, 30]</text>\n</g>\n<!-- 2&#45;&gt;10 -->\n<g id=\"edge10\" class=\"edge\">\n<title>2&#45;&gt;10</title>\n<path fill=\"none\" stroke=\"#000000\" d=\"M554.5,-788.8089C554.5,-778.9777 554.5,-768.0898 554.5,-757.9679\"/>\n<polygon fill=\"#000000\" stroke=\"#000000\" points=\"558.0001,-757.7735 554.5,-747.7735 551.0001,-757.7736 558.0001,-757.7735\"/>\n</g>\n<!-- 4 -->\n<g id=\"node5\" class=\"node\">\n<title>4</title>\n<path fill=\"#43a2e6\" stroke=\"#000000\" d=\"M345.5,-653C345.5,-653 251.5,-653 251.5,-653 245.5,-653 239.5,-647 239.5,-641 239.5,-641 239.5,-601 239.5,-601 239.5,-595 245.5,-589 251.5,-589 251.5,-589 345.5,-589 345.5,-589 351.5,-589 357.5,-595 357.5,-601 357.5,-601 357.5,-641 357.5,-641 357.5,-647 351.5,-653 345.5,-653\"/>\n<text text-anchor=\"start\" x=\"261.5\" y=\"-638.8\" font-family=\"Helvetica,sans-Serif\" font-size=\"14.00\" fill=\"#000000\">X</text>\n<text text-anchor=\"start\" x=\"271.5\" y=\"-638.8\" font-family=\"Helvetica,sans-Serif\" baseline-shift=\"sub\" font-size=\"14.00\" fill=\"#000000\">0</text>\n<text text-anchor=\"start\" x=\"278.5\" y=\"-638.8\" font-family=\"Helvetica,sans-Serif\" font-size=\"14.00\" fill=\"#000000\"> ≤ &#45;4.023</text>\n<text text-anchor=\"start\" x=\"247.5\" y=\"-624.8\" font-family=\"Helvetica,sans-Serif\" font-size=\"14.00\" fill=\"#000000\">entropy = 0.276</text>\n<text text-anchor=\"start\" x=\"254.5\" y=\"-610.8\" font-family=\"Helvetica,sans-Serif\" font-size=\"14.00\" fill=\"#000000\">samples = 21</text>\n<text text-anchor=\"start\" x=\"253\" y=\"-596.8\" font-family=\"Helvetica,sans-Serif\" font-size=\"14.00\" fill=\"#000000\">value = [1, 20]</text>\n</g>\n<!-- 3&#45;&gt;4 -->\n<g id=\"edge4\" class=\"edge\">\n<title>3&#45;&gt;4</title>\n<path fill=\"none\" stroke=\"#000000\" d=\"M383.2612,-688.8089C371.552,-679.4416 358.6438,-669.115 346.5071,-659.4057\"/>\n<polygon fill=\"#000000\" stroke=\"#000000\" points=\"348.6586,-656.6447 338.6634,-653.1308 344.2857,-662.1108 348.6586,-656.6447\"/>\n</g>\n<!-- 9 -->\n<g id=\"node10\" class=\"node\">\n<title>9</title>\n<path fill=\"#e58139\" stroke=\"#000000\" d=\"M465,-647.5C465,-647.5 388,-647.5 388,-647.5 382,-647.5 376,-641.5 376,-635.5 376,-635.5 376,-606.5 376,-606.5 376,-600.5 382,-594.5 388,-594.5 388,-594.5 465,-594.5 465,-594.5 471,-594.5 477,-600.5 477,-606.5 477,-606.5 477,-635.5 477,-635.5 477,-641.5 471,-647.5 465,-647.5\"/>\n<text text-anchor=\"start\" x=\"384\" y=\"-632.3\" font-family=\"Helvetica,sans-Serif\" font-size=\"14.00\" fill=\"#000000\">entropy = 0.0</text>\n<text text-anchor=\"start\" x=\"387\" y=\"-617.3\" font-family=\"Helvetica,sans-Serif\" font-size=\"14.00\" fill=\"#000000\">samples = 1</text>\n<text text-anchor=\"start\" x=\"385\" y=\"-602.3\" font-family=\"Helvetica,sans-Serif\" font-size=\"14.00\" fill=\"#000000\">value = [1, 0]</text>\n</g>\n<!-- 3&#45;&gt;9 -->\n<g id=\"edge9\" class=\"edge\">\n<title>3&#45;&gt;9</title>\n<path fill=\"none\" stroke=\"#000000\" d=\"M424.4657,-688.8089C424.7607,-678.9777 425.0873,-668.0898 425.391,-657.9679\"/>\n<polygon fill=\"#000000\" stroke=\"#000000\" points=\"428.8953,-657.874 425.6968,-647.7735 421.8984,-657.664 428.8953,-657.874\"/>\n</g>\n<!-- 5 -->\n<g id=\"node6\" class=\"node\">\n<title>5</title>\n<path fill=\"#9ccef2\" stroke=\"#000000\" d=\"M215.5,-553C215.5,-553 121.5,-553 121.5,-553 115.5,-553 109.5,-547 109.5,-541 109.5,-541 109.5,-501 109.5,-501 109.5,-495 115.5,-489 121.5,-489 121.5,-489 215.5,-489 215.5,-489 221.5,-489 227.5,-495 227.5,-501 227.5,-501 227.5,-541 227.5,-541 227.5,-547 221.5,-553 215.5,-553\"/>\n<text text-anchor=\"start\" x=\"138\" y=\"-538.8\" font-family=\"Helvetica,sans-Serif\" font-size=\"14.00\" fill=\"#000000\">X</text>\n<text text-anchor=\"start\" x=\"148\" y=\"-538.8\" font-family=\"Helvetica,sans-Serif\" baseline-shift=\"sub\" font-size=\"14.00\" fill=\"#000000\">1</text>\n<text text-anchor=\"start\" x=\"155\" y=\"-538.8\" font-family=\"Helvetica,sans-Serif\" font-size=\"14.00\" fill=\"#000000\"> ≤ 1.08</text>\n<text text-anchor=\"start\" x=\"117.5\" y=\"-524.8\" font-family=\"Helvetica,sans-Serif\" font-size=\"14.00\" fill=\"#000000\">entropy = 0.918</text>\n<text text-anchor=\"start\" x=\"129\" y=\"-510.8\" font-family=\"Helvetica,sans-Serif\" font-size=\"14.00\" fill=\"#000000\">samples = 3</text>\n<text text-anchor=\"start\" x=\"127\" y=\"-496.8\" font-family=\"Helvetica,sans-Serif\" font-size=\"14.00\" fill=\"#000000\">value = [1, 2]</text>\n</g>\n<!-- 4&#45;&gt;5 -->\n<g id=\"edge5\" class=\"edge\">\n<title>4&#45;&gt;5</title>\n<path fill=\"none\" stroke=\"#000000\" d=\"M256.6516,-588.8089C244.4741,-579.4416 231.0495,-569.115 218.4274,-559.4057\"/>\n<polygon fill=\"#000000\" stroke=\"#000000\" points=\"220.3302,-556.4537 210.27,-553.1308 216.0622,-562.0021 220.3302,-556.4537\"/>\n</g>\n<!-- 8 -->\n<g id=\"node9\" class=\"node\">\n<title>8</title>\n<path fill=\"#399de5\" stroke=\"#000000\" d=\"M341,-547.5C341,-547.5 258,-547.5 258,-547.5 252,-547.5 246,-541.5 246,-535.5 246,-535.5 246,-506.5 246,-506.5 246,-500.5 252,-494.5 258,-494.5 258,-494.5 341,-494.5 341,-494.5 347,-494.5 353,-500.5 353,-506.5 353,-506.5 353,-535.5 353,-535.5 353,-541.5 347,-547.5 341,-547.5\"/>\n<text text-anchor=\"start\" x=\"257\" y=\"-532.3\" font-family=\"Helvetica,sans-Serif\" font-size=\"14.00\" fill=\"#000000\">entropy = 0.0</text>\n<text text-anchor=\"start\" x=\"255.5\" y=\"-517.3\" font-family=\"Helvetica,sans-Serif\" font-size=\"14.00\" fill=\"#000000\">samples = 18</text>\n<text text-anchor=\"start\" x=\"254\" y=\"-502.3\" font-family=\"Helvetica,sans-Serif\" font-size=\"14.00\" fill=\"#000000\">value = [0, 18]</text>\n</g>\n<!-- 4&#45;&gt;8 -->\n<g id=\"edge8\" class=\"edge\">\n<title>4&#45;&gt;8</title>\n<path fill=\"none\" stroke=\"#000000\" d=\"M298.8219,-588.8089C298.9202,-578.9777 299.0291,-568.0898 299.1303,-557.9679\"/>\n<polygon fill=\"#000000\" stroke=\"#000000\" points=\"302.632,-557.8081 299.2323,-547.7735 295.6323,-557.738 302.632,-557.8081\"/>\n</g>\n<!-- 6 -->\n<g id=\"node7\" class=\"node\">\n<title>6</title>\n<path fill=\"#399de5\" stroke=\"#000000\" d=\"M89,-447.5C89,-447.5 12,-447.5 12,-447.5 6,-447.5 0,-441.5 0,-435.5 0,-435.5 0,-406.5 0,-406.5 0,-400.5 6,-394.5 12,-394.5 12,-394.5 89,-394.5 89,-394.5 95,-394.5 101,-400.5 101,-406.5 101,-406.5 101,-435.5 101,-435.5 101,-441.5 95,-447.5 89,-447.5\"/>\n<text text-anchor=\"start\" x=\"8\" y=\"-432.3\" font-family=\"Helvetica,sans-Serif\" font-size=\"14.00\" fill=\"#000000\">entropy = 0.0</text>\n<text text-anchor=\"start\" x=\"11\" y=\"-417.3\" font-family=\"Helvetica,sans-Serif\" font-size=\"14.00\" fill=\"#000000\">samples = 2</text>\n<text text-anchor=\"start\" x=\"9\" y=\"-402.3\" font-family=\"Helvetica,sans-Serif\" font-size=\"14.00\" fill=\"#000000\">value = [0, 2]</text>\n</g>\n<!-- 5&#45;&gt;6 -->\n<g id=\"edge6\" class=\"edge\">\n<title>5&#45;&gt;6</title>\n<path fill=\"none\" stroke=\"#000000\" d=\"M130.5145,-488.8089C117.5704,-477.8393 103.074,-465.5543 90.0129,-454.4855\"/>\n<polygon fill=\"#000000\" stroke=\"#000000\" points=\"91.9846,-451.5686 82.0928,-447.7735 87.4589,-456.9089 91.9846,-451.5686\"/>\n</g>\n<!-- 7 -->\n<g id=\"node8\" class=\"node\">\n<title>7</title>\n<path fill=\"#e58139\" stroke=\"#000000\" d=\"M208,-447.5C208,-447.5 131,-447.5 131,-447.5 125,-447.5 119,-441.5 119,-435.5 119,-435.5 119,-406.5 119,-406.5 119,-400.5 125,-394.5 131,-394.5 131,-394.5 208,-394.5 208,-394.5 214,-394.5 220,-400.5 220,-406.5 220,-406.5 220,-435.5 220,-435.5 220,-441.5 214,-447.5 208,-447.5\"/>\n<text text-anchor=\"start\" x=\"127\" y=\"-432.3\" font-family=\"Helvetica,sans-Serif\" font-size=\"14.00\" fill=\"#000000\">entropy = 0.0</text>\n<text text-anchor=\"start\" x=\"130\" y=\"-417.3\" font-family=\"Helvetica,sans-Serif\" font-size=\"14.00\" fill=\"#000000\">samples = 1</text>\n<text text-anchor=\"start\" x=\"128\" y=\"-402.3\" font-family=\"Helvetica,sans-Serif\" font-size=\"14.00\" fill=\"#000000\">value = [1, 0]</text>\n</g>\n<!-- 5&#45;&gt;7 -->\n<g id=\"edge7\" class=\"edge\">\n<title>5&#45;&gt;7</title>\n<path fill=\"none\" stroke=\"#000000\" d=\"M168.8219,-488.8089C168.9202,-478.9777 169.0291,-468.0898 169.1303,-457.9679\"/>\n<polygon fill=\"#000000\" stroke=\"#000000\" points=\"172.632,-457.8081 169.2323,-447.7735 165.6323,-457.738 172.632,-457.8081\"/>\n</g>\n<!-- 12 -->\n<g id=\"node13\" class=\"node\">\n<title>12</title>\n<path fill=\"#8fc8f0\" stroke=\"#000000\" d=\"M732.5,-753C732.5,-753 638.5,-753 638.5,-753 632.5,-753 626.5,-747 626.5,-741 626.5,-741 626.5,-701 626.5,-701 626.5,-695 632.5,-689 638.5,-689 638.5,-689 732.5,-689 732.5,-689 738.5,-689 744.5,-695 744.5,-701 744.5,-701 744.5,-741 744.5,-741 744.5,-747 738.5,-753 732.5,-753\"/>\n<text text-anchor=\"start\" x=\"648.5\" y=\"-738.8\" font-family=\"Helvetica,sans-Serif\" font-size=\"14.00\" fill=\"#000000\">X</text>\n<text text-anchor=\"start\" x=\"658.5\" y=\"-738.8\" font-family=\"Helvetica,sans-Serif\" baseline-shift=\"sub\" font-size=\"14.00\" fill=\"#000000\">0</text>\n<text text-anchor=\"start\" x=\"665.5\" y=\"-738.8\" font-family=\"Helvetica,sans-Serif\" font-size=\"14.00\" fill=\"#000000\"> ≤ &#45;0.979</text>\n<text text-anchor=\"start\" x=\"634.5\" y=\"-724.8\" font-family=\"Helvetica,sans-Serif\" font-size=\"14.00\" fill=\"#000000\">entropy = 0.885</text>\n<text text-anchor=\"start\" x=\"641.5\" y=\"-710.8\" font-family=\"Helvetica,sans-Serif\" font-size=\"14.00\" fill=\"#000000\">samples = 33</text>\n<text text-anchor=\"start\" x=\"635.5\" y=\"-696.8\" font-family=\"Helvetica,sans-Serif\" font-size=\"14.00\" fill=\"#000000\">value = [10, 23]</text>\n</g>\n<!-- 11&#45;&gt;12 -->\n<g id=\"edge12\" class=\"edge\">\n<title>11&#45;&gt;12</title>\n<path fill=\"none\" stroke=\"#000000\" d=\"M727.5415,-788.8089C722.1763,-780.1553 716.3035,-770.683 710.6937,-761.635\"/>\n<polygon fill=\"#000000\" stroke=\"#000000\" points=\"713.6652,-759.7855 705.4211,-753.1308 707.7159,-763.4741 713.6652,-759.7855\"/>\n</g>\n<!-- 31 -->\n<g id=\"node32\" class=\"node\">\n<title>31</title>\n<path fill=\"#399de5\" stroke=\"#000000\" d=\"M852,-747.5C852,-747.5 775,-747.5 775,-747.5 769,-747.5 763,-741.5 763,-735.5 763,-735.5 763,-706.5 763,-706.5 763,-700.5 769,-694.5 775,-694.5 775,-694.5 852,-694.5 852,-694.5 858,-694.5 864,-700.5 864,-706.5 864,-706.5 864,-735.5 864,-735.5 864,-741.5 858,-747.5 852,-747.5\"/>\n<text text-anchor=\"start\" x=\"771\" y=\"-732.3\" font-family=\"Helvetica,sans-Serif\" font-size=\"14.00\" fill=\"#000000\">entropy = 0.0</text>\n<text text-anchor=\"start\" x=\"774\" y=\"-717.3\" font-family=\"Helvetica,sans-Serif\" font-size=\"14.00\" fill=\"#000000\">samples = 6</text>\n<text text-anchor=\"start\" x=\"772\" y=\"-702.3\" font-family=\"Helvetica,sans-Serif\" font-size=\"14.00\" fill=\"#000000\">value = [0, 6]</text>\n</g>\n<!-- 11&#45;&gt;31 -->\n<g id=\"edge31\" class=\"edge\">\n<title>11&#45;&gt;31</title>\n<path fill=\"none\" stroke=\"#000000\" d=\"M768.7461,-788.8089C775.5762,-778.4603 783.1791,-766.9408 790.1516,-756.3764\"/>\n<polygon fill=\"#000000\" stroke=\"#000000\" points=\"793.2421,-758.0476 795.8295,-747.7735 787.3999,-754.1917 793.2421,-758.0476\"/>\n</g>\n<!-- 13 -->\n<g id=\"node14\" class=\"node\">\n<title>13</title>\n<path fill=\"#7ebfee\" stroke=\"#000000\" d=\"M604.5,-653C604.5,-653 510.5,-653 510.5,-653 504.5,-653 498.5,-647 498.5,-641 498.5,-641 498.5,-601 498.5,-601 498.5,-595 504.5,-589 510.5,-589 510.5,-589 604.5,-589 604.5,-589 610.5,-589 616.5,-595 616.5,-601 616.5,-601 616.5,-641 616.5,-641 616.5,-647 610.5,-653 604.5,-653\"/>\n<text text-anchor=\"start\" x=\"523\" y=\"-638.8\" font-family=\"Helvetica,sans-Serif\" font-size=\"14.00\" fill=\"#000000\">X</text>\n<text text-anchor=\"start\" x=\"533\" y=\"-638.8\" font-family=\"Helvetica,sans-Serif\" baseline-shift=\"sub\" font-size=\"14.00\" fill=\"#000000\">1</text>\n<text text-anchor=\"start\" x=\"540\" y=\"-638.8\" font-family=\"Helvetica,sans-Serif\" font-size=\"14.00\" fill=\"#000000\"> ≤ 2.466</text>\n<text text-anchor=\"start\" x=\"506.5\" y=\"-624.8\" font-family=\"Helvetica,sans-Serif\" font-size=\"14.00\" fill=\"#000000\">entropy = 0.824</text>\n<text text-anchor=\"start\" x=\"513.5\" y=\"-610.8\" font-family=\"Helvetica,sans-Serif\" font-size=\"14.00\" fill=\"#000000\">samples = 31</text>\n<text text-anchor=\"start\" x=\"512\" y=\"-596.8\" font-family=\"Helvetica,sans-Serif\" font-size=\"14.00\" fill=\"#000000\">value = [8, 23]</text>\n</g>\n<!-- 12&#45;&gt;13 -->\n<g id=\"edge13\" class=\"edge\">\n<title>12&#45;&gt;13</title>\n<path fill=\"none\" stroke=\"#000000\" d=\"M644.2954,-688.8089C632.3053,-679.4416 619.0872,-669.115 606.6593,-659.4057\"/>\n<polygon fill=\"#000000\" stroke=\"#000000\" points=\"608.6624,-656.5291 598.6274,-653.1308 604.3529,-662.0453 608.6624,-656.5291\"/>\n</g>\n<!-- 30 -->\n<g id=\"node31\" class=\"node\">\n<title>30</title>\n<path fill=\"#e58139\" stroke=\"#000000\" d=\"M724,-647.5C724,-647.5 647,-647.5 647,-647.5 641,-647.5 635,-641.5 635,-635.5 635,-635.5 635,-606.5 635,-606.5 635,-600.5 641,-594.5 647,-594.5 647,-594.5 724,-594.5 724,-594.5 730,-594.5 736,-600.5 736,-606.5 736,-606.5 736,-635.5 736,-635.5 736,-641.5 730,-647.5 724,-647.5\"/>\n<text text-anchor=\"start\" x=\"643\" y=\"-632.3\" font-family=\"Helvetica,sans-Serif\" font-size=\"14.00\" fill=\"#000000\">entropy = 0.0</text>\n<text text-anchor=\"start\" x=\"646\" y=\"-617.3\" font-family=\"Helvetica,sans-Serif\" font-size=\"14.00\" fill=\"#000000\">samples = 2</text>\n<text text-anchor=\"start\" x=\"644\" y=\"-602.3\" font-family=\"Helvetica,sans-Serif\" font-size=\"14.00\" fill=\"#000000\">value = [2, 0]</text>\n</g>\n<!-- 12&#45;&gt;30 -->\n<g id=\"edge30\" class=\"edge\">\n<title>12&#45;&gt;30</title>\n<path fill=\"none\" stroke=\"#000000\" d=\"M685.5,-688.8089C685.5,-678.9777 685.5,-668.0898 685.5,-657.9679\"/>\n<polygon fill=\"#000000\" stroke=\"#000000\" points=\"689.0001,-657.7735 685.5,-647.7735 682.0001,-657.7736 689.0001,-657.7735\"/>\n</g>\n<!-- 14 -->\n<g id=\"node15\" class=\"node\">\n<title>14</title>\n<path fill=\"#a3d1f3\" stroke=\"#000000\" d=\"M480.5,-553C480.5,-553 386.5,-553 386.5,-553 380.5,-553 374.5,-547 374.5,-541 374.5,-541 374.5,-501 374.5,-501 374.5,-495 380.5,-489 386.5,-489 386.5,-489 480.5,-489 480.5,-489 486.5,-489 492.5,-495 492.5,-501 492.5,-501 492.5,-541 492.5,-541 492.5,-547 486.5,-553 480.5,-553\"/>\n<text text-anchor=\"start\" x=\"396.5\" y=\"-538.8\" font-family=\"Helvetica,sans-Serif\" font-size=\"14.00\" fill=\"#000000\">X</text>\n<text text-anchor=\"start\" x=\"406.5\" y=\"-538.8\" font-family=\"Helvetica,sans-Serif\" baseline-shift=\"sub\" font-size=\"14.00\" fill=\"#000000\">1</text>\n<text text-anchor=\"start\" x=\"413.5\" y=\"-538.8\" font-family=\"Helvetica,sans-Serif\" font-size=\"14.00\" fill=\"#000000\"> ≤ &#45;1.813</text>\n<text text-anchor=\"start\" x=\"382.5\" y=\"-524.8\" font-family=\"Helvetica,sans-Serif\" font-size=\"14.00\" fill=\"#000000\">entropy = 0.932</text>\n<text text-anchor=\"start\" x=\"389.5\" y=\"-510.8\" font-family=\"Helvetica,sans-Serif\" font-size=\"14.00\" fill=\"#000000\">samples = 23</text>\n<text text-anchor=\"start\" x=\"388\" y=\"-496.8\" font-family=\"Helvetica,sans-Serif\" font-size=\"14.00\" fill=\"#000000\">value = [8, 15]</text>\n</g>\n<!-- 13&#45;&gt;14 -->\n<g id=\"edge14\" class=\"edge\">\n<title>13&#45;&gt;14</title>\n<path fill=\"none\" stroke=\"#000000\" d=\"M517.5831,-588.8089C506.0782,-579.5308 493.4064,-569.3116 481.4673,-559.6833\"/>\n<polygon fill=\"#000000\" stroke=\"#000000\" points=\"483.3234,-556.6839 473.3421,-553.1308 478.9291,-562.1328 483.3234,-556.6839\"/>\n</g>\n<!-- 29 -->\n<g id=\"node30\" class=\"node\">\n<title>29</title>\n<path fill=\"#399de5\" stroke=\"#000000\" d=\"M600,-547.5C600,-547.5 523,-547.5 523,-547.5 517,-547.5 511,-541.5 511,-535.5 511,-535.5 511,-506.5 511,-506.5 511,-500.5 517,-494.5 523,-494.5 523,-494.5 600,-494.5 600,-494.5 606,-494.5 612,-500.5 612,-506.5 612,-506.5 612,-535.5 612,-535.5 612,-541.5 606,-547.5 600,-547.5\"/>\n<text text-anchor=\"start\" x=\"519\" y=\"-532.3\" font-family=\"Helvetica,sans-Serif\" font-size=\"14.00\" fill=\"#000000\">entropy = 0.0</text>\n<text text-anchor=\"start\" x=\"522\" y=\"-517.3\" font-family=\"Helvetica,sans-Serif\" font-size=\"14.00\" fill=\"#000000\">samples = 8</text>\n<text text-anchor=\"start\" x=\"520\" y=\"-502.3\" font-family=\"Helvetica,sans-Serif\" font-size=\"14.00\" fill=\"#000000\">value = [0, 8]</text>\n</g>\n<!-- 13&#45;&gt;29 -->\n<g id=\"edge29\" class=\"edge\">\n<title>13&#45;&gt;29</title>\n<path fill=\"none\" stroke=\"#000000\" d=\"M558.7876,-588.8089C559.1809,-578.9777 559.6164,-568.0898 560.0213,-557.9679\"/>\n<polygon fill=\"#000000\" stroke=\"#000000\" points=\"563.5265,-557.9055 560.4291,-547.7735 556.5321,-557.6256 563.5265,-557.9055\"/>\n</g>\n<!-- 15 -->\n<g id=\"node16\" class=\"node\">\n<title>15</title>\n<path fill=\"#4fa8e8\" stroke=\"#000000\" d=\"M346.5,-453C346.5,-453 252.5,-453 252.5,-453 246.5,-453 240.5,-447 240.5,-441 240.5,-441 240.5,-401 240.5,-401 240.5,-395 246.5,-389 252.5,-389 252.5,-389 346.5,-389 346.5,-389 352.5,-389 358.5,-395 358.5,-401 358.5,-401 358.5,-441 358.5,-441 358.5,-447 352.5,-453 346.5,-453\"/>\n<text text-anchor=\"start\" x=\"262.5\" y=\"-438.8\" font-family=\"Helvetica,sans-Serif\" font-size=\"14.00\" fill=\"#000000\">X</text>\n<text text-anchor=\"start\" x=\"272.5\" y=\"-438.8\" font-family=\"Helvetica,sans-Serif\" baseline-shift=\"sub\" font-size=\"14.00\" fill=\"#000000\">0</text>\n<text text-anchor=\"start\" x=\"279.5\" y=\"-438.8\" font-family=\"Helvetica,sans-Serif\" font-size=\"14.00\" fill=\"#000000\"> ≤ &#45;1.084</text>\n<text text-anchor=\"start\" x=\"248.5\" y=\"-424.8\" font-family=\"Helvetica,sans-Serif\" font-size=\"14.00\" fill=\"#000000\">entropy = 0.469</text>\n<text text-anchor=\"start\" x=\"255.5\" y=\"-410.8\" font-family=\"Helvetica,sans-Serif\" font-size=\"14.00\" fill=\"#000000\">samples = 10</text>\n<text text-anchor=\"start\" x=\"258\" y=\"-396.8\" font-family=\"Helvetica,sans-Serif\" font-size=\"14.00\" fill=\"#000000\">value = [1, 9]</text>\n</g>\n<!-- 14&#45;&gt;15 -->\n<g id=\"edge15\" class=\"edge\">\n<title>14&#45;&gt;15</title>\n<path fill=\"none\" stroke=\"#000000\" d=\"M390.364,-488.8089C377.6922,-479.3524 363.7104,-468.9182 350.5922,-459.1285\"/>\n<polygon fill=\"#000000\" stroke=\"#000000\" points=\"352.6629,-456.3066 342.5552,-453.1308 348.4763,-461.9167 352.6629,-456.3066\"/>\n</g>\n<!-- 18 -->\n<g id=\"node19\" class=\"node\">\n<title>18</title>\n<path fill=\"#fbede3\" stroke=\"#000000\" d=\"M482.5,-453C482.5,-453 388.5,-453 388.5,-453 382.5,-453 376.5,-447 376.5,-441 376.5,-441 376.5,-401 376.5,-401 376.5,-395 382.5,-389 388.5,-389 388.5,-389 482.5,-389 482.5,-389 488.5,-389 494.5,-395 494.5,-401 494.5,-401 494.5,-441 494.5,-441 494.5,-447 488.5,-453 482.5,-453\"/>\n<text text-anchor=\"start\" x=\"401\" y=\"-438.8\" font-family=\"Helvetica,sans-Serif\" font-size=\"14.00\" fill=\"#000000\">X</text>\n<text text-anchor=\"start\" x=\"411\" y=\"-438.8\" font-family=\"Helvetica,sans-Serif\" baseline-shift=\"sub\" font-size=\"14.00\" fill=\"#000000\">1</text>\n<text text-anchor=\"start\" x=\"418\" y=\"-438.8\" font-family=\"Helvetica,sans-Serif\" font-size=\"14.00\" fill=\"#000000\"> ≤ 0.232</text>\n<text text-anchor=\"start\" x=\"384.5\" y=\"-424.8\" font-family=\"Helvetica,sans-Serif\" font-size=\"14.00\" fill=\"#000000\">entropy = 0.996</text>\n<text text-anchor=\"start\" x=\"391.5\" y=\"-410.8\" font-family=\"Helvetica,sans-Serif\" font-size=\"14.00\" fill=\"#000000\">samples = 13</text>\n<text text-anchor=\"start\" x=\"394\" y=\"-396.8\" font-family=\"Helvetica,sans-Serif\" font-size=\"14.00\" fill=\"#000000\">value = [7, 6]</text>\n</g>\n<!-- 14&#45;&gt;18 -->\n<g id=\"edge18\" class=\"edge\">\n<title>14&#45;&gt;18</title>\n<path fill=\"none\" stroke=\"#000000\" d=\"M434.1438,-488.8089C434.3062,-480.6906 434.483,-471.8517 434.6536,-463.3186\"/>\n<polygon fill=\"#000000\" stroke=\"#000000\" points=\"438.1566,-463.1988 434.8574,-453.1308 431.158,-463.0587 438.1566,-463.1988\"/>\n</g>\n<!-- 16 -->\n<g id=\"node17\" class=\"node\">\n<title>16</title>\n<path fill=\"#399de5\" stroke=\"#000000\" d=\"M219,-347.5C219,-347.5 142,-347.5 142,-347.5 136,-347.5 130,-341.5 130,-335.5 130,-335.5 130,-306.5 130,-306.5 130,-300.5 136,-294.5 142,-294.5 142,-294.5 219,-294.5 219,-294.5 225,-294.5 231,-300.5 231,-306.5 231,-306.5 231,-335.5 231,-335.5 231,-341.5 225,-347.5 219,-347.5\"/>\n<text text-anchor=\"start\" x=\"138\" y=\"-332.3\" font-family=\"Helvetica,sans-Serif\" font-size=\"14.00\" fill=\"#000000\">entropy = 0.0</text>\n<text text-anchor=\"start\" x=\"141\" y=\"-317.3\" font-family=\"Helvetica,sans-Serif\" font-size=\"14.00\" fill=\"#000000\">samples = 9</text>\n<text text-anchor=\"start\" x=\"139\" y=\"-302.3\" font-family=\"Helvetica,sans-Serif\" font-size=\"14.00\" fill=\"#000000\">value = [0, 9]</text>\n</g>\n<!-- 15&#45;&gt;16 -->\n<g id=\"edge16\" class=\"edge\">\n<title>15&#45;&gt;16</title>\n<path fill=\"none\" stroke=\"#000000\" d=\"M261.1926,-388.8089C248.1388,-377.8393 233.5196,-365.5543 220.3478,-354.4855\"/>\n<polygon fill=\"#000000\" stroke=\"#000000\" points=\"222.268,-351.5275 212.3605,-347.7735 217.7646,-356.8865 222.268,-351.5275\"/>\n</g>\n<!-- 17 -->\n<g id=\"node18\" class=\"node\">\n<title>17</title>\n<path fill=\"#e58139\" stroke=\"#000000\" d=\"M338,-347.5C338,-347.5 261,-347.5 261,-347.5 255,-347.5 249,-341.5 249,-335.5 249,-335.5 249,-306.5 249,-306.5 249,-300.5 255,-294.5 261,-294.5 261,-294.5 338,-294.5 338,-294.5 344,-294.5 350,-300.5 350,-306.5 350,-306.5 350,-335.5 350,-335.5 350,-341.5 344,-347.5 338,-347.5\"/>\n<text text-anchor=\"start\" x=\"257\" y=\"-332.3\" font-family=\"Helvetica,sans-Serif\" font-size=\"14.00\" fill=\"#000000\">entropy = 0.0</text>\n<text text-anchor=\"start\" x=\"260\" y=\"-317.3\" font-family=\"Helvetica,sans-Serif\" font-size=\"14.00\" fill=\"#000000\">samples = 1</text>\n<text text-anchor=\"start\" x=\"258\" y=\"-302.3\" font-family=\"Helvetica,sans-Serif\" font-size=\"14.00\" fill=\"#000000\">value = [1, 0]</text>\n</g>\n<!-- 15&#45;&gt;17 -->\n<g id=\"edge17\" class=\"edge\">\n<title>15&#45;&gt;17</title>\n<path fill=\"none\" stroke=\"#000000\" d=\"M299.5,-388.8089C299.5,-378.9777 299.5,-368.0898 299.5,-357.9679\"/>\n<polygon fill=\"#000000\" stroke=\"#000000\" points=\"303.0001,-357.7735 299.5,-347.7735 296.0001,-357.7736 303.0001,-357.7735\"/>\n</g>\n<!-- 19 -->\n<g id=\"node20\" class=\"node\">\n<title>19</title>\n<path fill=\"#ea9a61\" stroke=\"#000000\" d=\"M467.5,-353C467.5,-353 381.5,-353 381.5,-353 375.5,-353 369.5,-347 369.5,-341 369.5,-341 369.5,-301 369.5,-301 369.5,-295 375.5,-289 381.5,-289 381.5,-289 467.5,-289 467.5,-289 473.5,-289 479.5,-295 479.5,-301 479.5,-301 479.5,-341 479.5,-341 479.5,-347 473.5,-353 467.5,-353\"/>\n<text text-anchor=\"start\" x=\"387.5\" y=\"-338.8\" font-family=\"Helvetica,sans-Serif\" font-size=\"14.00\" fill=\"#000000\">X</text>\n<text text-anchor=\"start\" x=\"397.5\" y=\"-338.8\" font-family=\"Helvetica,sans-Serif\" baseline-shift=\"sub\" font-size=\"14.00\" fill=\"#000000\">1</text>\n<text text-anchor=\"start\" x=\"404.5\" y=\"-338.8\" font-family=\"Helvetica,sans-Serif\" font-size=\"14.00\" fill=\"#000000\"> ≤ &#45;0.844</text>\n<text text-anchor=\"start\" x=\"377.5\" y=\"-324.8\" font-family=\"Helvetica,sans-Serif\" font-size=\"14.00\" fill=\"#000000\">entropy = 0.65</text>\n<text text-anchor=\"start\" x=\"385\" y=\"-310.8\" font-family=\"Helvetica,sans-Serif\" font-size=\"14.00\" fill=\"#000000\">samples = 6</text>\n<text text-anchor=\"start\" x=\"383\" y=\"-296.8\" font-family=\"Helvetica,sans-Serif\" font-size=\"14.00\" fill=\"#000000\">value = [5, 1]</text>\n</g>\n<!-- 18&#45;&gt;19 -->\n<g id=\"edge19\" class=\"edge\">\n<title>18&#45;&gt;19</title>\n<path fill=\"none\" stroke=\"#000000\" d=\"M431.959,-388.8089C431.066,-380.6906 430.0937,-371.8517 429.155,-363.3186\"/>\n<polygon fill=\"#000000\" stroke=\"#000000\" points=\"432.6069,-362.6881 428.0344,-353.1308 425.6489,-363.4535 432.6069,-362.6881\"/>\n</g>\n<!-- 24 -->\n<g id=\"node25\" class=\"node\">\n<title>24</title>\n<path fill=\"#88c4ef\" stroke=\"#000000\" d=\"M603.5,-353C603.5,-353 509.5,-353 509.5,-353 503.5,-353 497.5,-347 497.5,-341 497.5,-341 497.5,-301 497.5,-301 497.5,-295 503.5,-289 509.5,-289 509.5,-289 603.5,-289 603.5,-289 609.5,-289 615.5,-295 615.5,-301 615.5,-301 615.5,-341 615.5,-341 615.5,-347 609.5,-353 603.5,-353\"/>\n<text text-anchor=\"start\" x=\"522\" y=\"-338.8\" font-family=\"Helvetica,sans-Serif\" font-size=\"14.00\" fill=\"#000000\">X</text>\n<text text-anchor=\"start\" x=\"532\" y=\"-338.8\" font-family=\"Helvetica,sans-Serif\" baseline-shift=\"sub\" font-size=\"14.00\" fill=\"#000000\">1</text>\n<text text-anchor=\"start\" x=\"539\" y=\"-338.8\" font-family=\"Helvetica,sans-Serif\" font-size=\"14.00\" fill=\"#000000\"> ≤ 2.195</text>\n<text text-anchor=\"start\" x=\"505.5\" y=\"-324.8\" font-family=\"Helvetica,sans-Serif\" font-size=\"14.00\" fill=\"#000000\">entropy = 0.863</text>\n<text text-anchor=\"start\" x=\"517\" y=\"-310.8\" font-family=\"Helvetica,sans-Serif\" font-size=\"14.00\" fill=\"#000000\">samples = 7</text>\n<text text-anchor=\"start\" x=\"515\" y=\"-296.8\" font-family=\"Helvetica,sans-Serif\" font-size=\"14.00\" fill=\"#000000\">value = [2, 5]</text>\n</g>\n<!-- 18&#45;&gt;24 -->\n<g id=\"edge24\" class=\"edge\">\n<title>18&#45;&gt;24</title>\n<path fill=\"none\" stroke=\"#000000\" d=\"M474.4512,-388.8089C485.6777,-379.5308 498.0429,-369.3116 509.6932,-359.6833\"/>\n<polygon fill=\"#000000\" stroke=\"#000000\" points=\"512.1432,-362.1992 517.6218,-353.1308 507.6838,-356.8034 512.1432,-362.1992\"/>\n</g>\n<!-- 20 -->\n<g id=\"node21\" class=\"node\">\n<title>20</title>\n<path fill=\"#ffffff\" stroke=\"#000000\" d=\"M344,-253C344,-253 267,-253 267,-253 261,-253 255,-247 255,-241 255,-241 255,-201 255,-201 255,-195 261,-189 267,-189 267,-189 344,-189 344,-189 350,-189 356,-195 356,-201 356,-201 356,-241 356,-241 356,-247 350,-253 344,-253\"/>\n<text text-anchor=\"start\" x=\"268.5\" y=\"-238.8\" font-family=\"Helvetica,sans-Serif\" font-size=\"14.00\" fill=\"#000000\">X</text>\n<text text-anchor=\"start\" x=\"278.5\" y=\"-238.8\" font-family=\"Helvetica,sans-Serif\" baseline-shift=\"sub\" font-size=\"14.00\" fill=\"#000000\">0</text>\n<text text-anchor=\"start\" x=\"285.5\" y=\"-238.8\" font-family=\"Helvetica,sans-Serif\" font-size=\"14.00\" fill=\"#000000\"> ≤ &#45;1.735</text>\n<text text-anchor=\"start\" x=\"263\" y=\"-224.8\" font-family=\"Helvetica,sans-Serif\" font-size=\"14.00\" fill=\"#000000\">entropy = 1.0</text>\n<text text-anchor=\"start\" x=\"266\" y=\"-210.8\" font-family=\"Helvetica,sans-Serif\" font-size=\"14.00\" fill=\"#000000\">samples = 2</text>\n<text text-anchor=\"start\" x=\"264\" y=\"-196.8\" font-family=\"Helvetica,sans-Serif\" font-size=\"14.00\" fill=\"#000000\">value = [1, 1]</text>\n</g>\n<!-- 19&#45;&gt;20 -->\n<g id=\"edge20\" class=\"edge\">\n<title>19&#45;&gt;20</title>\n<path fill=\"none\" stroke=\"#000000\" d=\"M386.1926,-288.8089C375.1517,-279.5308 362.9908,-269.3116 351.5331,-259.6833\"/>\n<polygon fill=\"#000000\" stroke=\"#000000\" points=\"353.6431,-256.8847 343.7356,-253.1308 349.1397,-262.2438 353.6431,-256.8847\"/>\n</g>\n<!-- 23 -->\n<g id=\"node24\" class=\"node\">\n<title>23</title>\n<path fill=\"#e58139\" stroke=\"#000000\" d=\"M463,-247.5C463,-247.5 386,-247.5 386,-247.5 380,-247.5 374,-241.5 374,-235.5 374,-235.5 374,-206.5 374,-206.5 374,-200.5 380,-194.5 386,-194.5 386,-194.5 463,-194.5 463,-194.5 469,-194.5 475,-200.5 475,-206.5 475,-206.5 475,-235.5 475,-235.5 475,-241.5 469,-247.5 463,-247.5\"/>\n<text text-anchor=\"start\" x=\"382\" y=\"-232.3\" font-family=\"Helvetica,sans-Serif\" font-size=\"14.00\" fill=\"#000000\">entropy = 0.0</text>\n<text text-anchor=\"start\" x=\"385\" y=\"-217.3\" font-family=\"Helvetica,sans-Serif\" font-size=\"14.00\" fill=\"#000000\">samples = 4</text>\n<text text-anchor=\"start\" x=\"383\" y=\"-202.3\" font-family=\"Helvetica,sans-Serif\" font-size=\"14.00\" fill=\"#000000\">value = [4, 0]</text>\n</g>\n<!-- 19&#45;&gt;23 -->\n<g id=\"edge23\" class=\"edge\">\n<title>19&#45;&gt;23</title>\n<path fill=\"none\" stroke=\"#000000\" d=\"M424.5,-288.8089C424.5,-278.9777 424.5,-268.0898 424.5,-257.9679\"/>\n<polygon fill=\"#000000\" stroke=\"#000000\" points=\"428.0001,-257.7735 424.5,-247.7735 421.0001,-257.7736 428.0001,-257.7735\"/>\n</g>\n<!-- 21 -->\n<g id=\"node22\" class=\"node\">\n<title>21</title>\n<path fill=\"#e58139\" stroke=\"#000000\" d=\"M231,-147.5C231,-147.5 154,-147.5 154,-147.5 148,-147.5 142,-141.5 142,-135.5 142,-135.5 142,-106.5 142,-106.5 142,-100.5 148,-94.5 154,-94.5 154,-94.5 231,-94.5 231,-94.5 237,-94.5 243,-100.5 243,-106.5 243,-106.5 243,-135.5 243,-135.5 243,-141.5 237,-147.5 231,-147.5\"/>\n<text text-anchor=\"start\" x=\"150\" y=\"-132.3\" font-family=\"Helvetica,sans-Serif\" font-size=\"14.00\" fill=\"#000000\">entropy = 0.0</text>\n<text text-anchor=\"start\" x=\"153\" y=\"-117.3\" font-family=\"Helvetica,sans-Serif\" font-size=\"14.00\" fill=\"#000000\">samples = 1</text>\n<text text-anchor=\"start\" x=\"151\" y=\"-102.3\" font-family=\"Helvetica,sans-Serif\" font-size=\"14.00\" fill=\"#000000\">value = [1, 0]</text>\n</g>\n<!-- 20&#45;&gt;21 -->\n<g id=\"edge21\" class=\"edge\">\n<title>20&#45;&gt;21</title>\n<path fill=\"none\" stroke=\"#000000\" d=\"M269.1241,-188.8089C256.7285,-177.8393 242.8463,-165.5543 230.3387,-154.4855\"/>\n<polygon fill=\"#000000\" stroke=\"#000000\" points=\"232.5623,-151.7797 222.7541,-147.7735 227.9233,-157.0218 232.5623,-151.7797\"/>\n</g>\n<!-- 22 -->\n<g id=\"node23\" class=\"node\">\n<title>22</title>\n<path fill=\"#399de5\" stroke=\"#000000\" d=\"M350,-147.5C350,-147.5 273,-147.5 273,-147.5 267,-147.5 261,-141.5 261,-135.5 261,-135.5 261,-106.5 261,-106.5 261,-100.5 267,-94.5 273,-94.5 273,-94.5 350,-94.5 350,-94.5 356,-94.5 362,-100.5 362,-106.5 362,-106.5 362,-135.5 362,-135.5 362,-141.5 356,-147.5 350,-147.5\"/>\n<text text-anchor=\"start\" x=\"269\" y=\"-132.3\" font-family=\"Helvetica,sans-Serif\" font-size=\"14.00\" fill=\"#000000\">entropy = 0.0</text>\n<text text-anchor=\"start\" x=\"272\" y=\"-117.3\" font-family=\"Helvetica,sans-Serif\" font-size=\"14.00\" fill=\"#000000\">samples = 1</text>\n<text text-anchor=\"start\" x=\"270\" y=\"-102.3\" font-family=\"Helvetica,sans-Serif\" font-size=\"14.00\" fill=\"#000000\">value = [0, 1]</text>\n</g>\n<!-- 20&#45;&gt;22 -->\n<g id=\"edge22\" class=\"edge\">\n<title>20&#45;&gt;22</title>\n<path fill=\"none\" stroke=\"#000000\" d=\"M307.4315,-188.8089C308.0213,-178.9777 308.6746,-168.0898 309.2819,-157.9679\"/>\n<polygon fill=\"#000000\" stroke=\"#000000\" points=\"312.7883,-157.9652 309.8936,-147.7735 305.8009,-157.5459 312.7883,-157.9652\"/>\n</g>\n<!-- 25 -->\n<g id=\"node26\" class=\"node\">\n<title>25</title>\n<path fill=\"#61b1ea\" stroke=\"#000000\" d=\"M595.5,-253C595.5,-253 509.5,-253 509.5,-253 503.5,-253 497.5,-247 497.5,-241 497.5,-241 497.5,-201 497.5,-201 497.5,-195 503.5,-189 509.5,-189 509.5,-189 595.5,-189 595.5,-189 601.5,-189 607.5,-195 607.5,-201 607.5,-201 607.5,-241 607.5,-241 607.5,-247 601.5,-253 595.5,-253\"/>\n<text text-anchor=\"start\" x=\"515.5\" y=\"-238.8\" font-family=\"Helvetica,sans-Serif\" font-size=\"14.00\" fill=\"#000000\">X</text>\n<text text-anchor=\"start\" x=\"525.5\" y=\"-238.8\" font-family=\"Helvetica,sans-Serif\" baseline-shift=\"sub\" font-size=\"14.00\" fill=\"#000000\">0</text>\n<text text-anchor=\"start\" x=\"532.5\" y=\"-238.8\" font-family=\"Helvetica,sans-Serif\" font-size=\"14.00\" fill=\"#000000\"> ≤ &#45;1.253</text>\n<text text-anchor=\"start\" x=\"505.5\" y=\"-224.8\" font-family=\"Helvetica,sans-Serif\" font-size=\"14.00\" fill=\"#000000\">entropy = 0.65</text>\n<text text-anchor=\"start\" x=\"513\" y=\"-210.8\" font-family=\"Helvetica,sans-Serif\" font-size=\"14.00\" fill=\"#000000\">samples = 6</text>\n<text text-anchor=\"start\" x=\"511\" y=\"-196.8\" font-family=\"Helvetica,sans-Serif\" font-size=\"14.00\" fill=\"#000000\">value = [1, 5]</text>\n</g>\n<!-- 24&#45;&gt;25 -->\n<g id=\"edge25\" class=\"edge\">\n<title>24&#45;&gt;25</title>\n<path fill=\"none\" stroke=\"#000000\" d=\"M555.2124,-288.8089C554.8876,-280.6906 554.5341,-271.8517 554.1927,-263.3186\"/>\n<polygon fill=\"#000000\" stroke=\"#000000\" points=\"557.6822,-262.9828 553.7852,-253.1308 550.6878,-263.2627 557.6822,-262.9828\"/>\n</g>\n<!-- 28 -->\n<g id=\"node29\" class=\"node\">\n<title>28</title>\n<path fill=\"#e58139\" stroke=\"#000000\" d=\"M715,-247.5C715,-247.5 638,-247.5 638,-247.5 632,-247.5 626,-241.5 626,-235.5 626,-235.5 626,-206.5 626,-206.5 626,-200.5 632,-194.5 638,-194.5 638,-194.5 715,-194.5 715,-194.5 721,-194.5 727,-200.5 727,-206.5 727,-206.5 727,-235.5 727,-235.5 727,-241.5 721,-247.5 715,-247.5\"/>\n<text text-anchor=\"start\" x=\"634\" y=\"-232.3\" font-family=\"Helvetica,sans-Serif\" font-size=\"14.00\" fill=\"#000000\">entropy = 0.0</text>\n<text text-anchor=\"start\" x=\"637\" y=\"-217.3\" font-family=\"Helvetica,sans-Serif\" font-size=\"14.00\" fill=\"#000000\">samples = 1</text>\n<text text-anchor=\"start\" x=\"635\" y=\"-202.3\" font-family=\"Helvetica,sans-Serif\" font-size=\"14.00\" fill=\"#000000\">value = [1, 0]</text>\n</g>\n<!-- 24&#45;&gt;28 -->\n<g id=\"edge28\" class=\"edge\">\n<title>24&#45;&gt;28</title>\n<path fill=\"none\" stroke=\"#000000\" d=\"M595.1293,-288.8089C608.2928,-277.8393 623.0349,-265.5543 636.3174,-254.4855\"/>\n<polygon fill=\"#000000\" stroke=\"#000000\" points=\"638.9302,-256.8642 644.3718,-247.7735 634.4489,-251.4866 638.9302,-256.8642\"/>\n</g>\n<!-- 26 -->\n<g id=\"node27\" class=\"node\">\n<title>26</title>\n<path fill=\"#399de5\" stroke=\"#000000\" d=\"M478,-147.5C478,-147.5 401,-147.5 401,-147.5 395,-147.5 389,-141.5 389,-135.5 389,-135.5 389,-106.5 389,-106.5 389,-100.5 395,-94.5 401,-94.5 401,-94.5 478,-94.5 478,-94.5 484,-94.5 490,-100.5 490,-106.5 490,-106.5 490,-135.5 490,-135.5 490,-141.5 484,-147.5 478,-147.5\"/>\n<text text-anchor=\"start\" x=\"397\" y=\"-132.3\" font-family=\"Helvetica,sans-Serif\" font-size=\"14.00\" fill=\"#000000\">entropy = 0.0</text>\n<text text-anchor=\"start\" x=\"400\" y=\"-117.3\" font-family=\"Helvetica,sans-Serif\" font-size=\"14.00\" fill=\"#000000\">samples = 5</text>\n<text text-anchor=\"start\" x=\"398\" y=\"-102.3\" font-family=\"Helvetica,sans-Serif\" font-size=\"14.00\" fill=\"#000000\">value = [0, 5]</text>\n</g>\n<!-- 25&#45;&gt;26 -->\n<g id=\"edge26\" class=\"edge\">\n<title>25&#45;&gt;26</title>\n<path fill=\"none\" stroke=\"#000000\" d=\"M516.1241,-188.8089C503.7285,-177.8393 489.8463,-165.5543 477.3387,-154.4855\"/>\n<polygon fill=\"#000000\" stroke=\"#000000\" points=\"479.5623,-151.7797 469.7541,-147.7735 474.9233,-157.0218 479.5623,-151.7797\"/>\n</g>\n<!-- 27 -->\n<g id=\"node28\" class=\"node\">\n<title>27</title>\n<path fill=\"#e58139\" stroke=\"#000000\" d=\"M597,-147.5C597,-147.5 520,-147.5 520,-147.5 514,-147.5 508,-141.5 508,-135.5 508,-135.5 508,-106.5 508,-106.5 508,-100.5 514,-94.5 520,-94.5 520,-94.5 597,-94.5 597,-94.5 603,-94.5 609,-100.5 609,-106.5 609,-106.5 609,-135.5 609,-135.5 609,-141.5 603,-147.5 597,-147.5\"/>\n<text text-anchor=\"start\" x=\"516\" y=\"-132.3\" font-family=\"Helvetica,sans-Serif\" font-size=\"14.00\" fill=\"#000000\">entropy = 0.0</text>\n<text text-anchor=\"start\" x=\"519\" y=\"-117.3\" font-family=\"Helvetica,sans-Serif\" font-size=\"14.00\" fill=\"#000000\">samples = 1</text>\n<text text-anchor=\"start\" x=\"517\" y=\"-102.3\" font-family=\"Helvetica,sans-Serif\" font-size=\"14.00\" fill=\"#000000\">value = [1, 0]</text>\n</g>\n<!-- 25&#45;&gt;27 -->\n<g id=\"edge27\" class=\"edge\">\n<title>25&#45;&gt;27</title>\n<path fill=\"none\" stroke=\"#000000\" d=\"M554.4315,-188.8089C555.0213,-178.9777 555.6746,-168.0898 556.2819,-157.9679\"/>\n<polygon fill=\"#000000\" stroke=\"#000000\" points=\"559.7883,-157.9652 556.8936,-147.7735 552.8009,-157.5459 559.7883,-157.9652\"/>\n</g>\n<!-- 33 -->\n<g id=\"node34\" class=\"node\">\n<title>33</title>\n<path fill=\"#f2be98\" stroke=\"#000000\" d=\"M1047.5,-853C1047.5,-853 955.5,-853 955.5,-853 949.5,-853 943.5,-847 943.5,-841 943.5,-841 943.5,-801 943.5,-801 943.5,-795 949.5,-789 955.5,-789 955.5,-789 1047.5,-789 1047.5,-789 1053.5,-789 1059.5,-795 1059.5,-801 1059.5,-801 1059.5,-841 1059.5,-841 1059.5,-847 1053.5,-853 1047.5,-853\"/>\n<text text-anchor=\"start\" x=\"967\" y=\"-838.8\" font-family=\"Helvetica,sans-Serif\" font-size=\"14.00\" fill=\"#000000\">X</text>\n<text text-anchor=\"start\" x=\"977\" y=\"-838.8\" font-family=\"Helvetica,sans-Serif\" baseline-shift=\"sub\" font-size=\"14.00\" fill=\"#000000\">0</text>\n<text text-anchor=\"start\" x=\"984\" y=\"-838.8\" font-family=\"Helvetica,sans-Serif\" font-size=\"14.00\" fill=\"#000000\"> ≤ 2.473</text>\n<text text-anchor=\"start\" x=\"954.5\" y=\"-824.8\" font-family=\"Helvetica,sans-Serif\" font-size=\"14.00\" fill=\"#000000\">entropy = 0.91</text>\n<text text-anchor=\"start\" x=\"957.5\" y=\"-810.8\" font-family=\"Helvetica,sans-Serif\" font-size=\"14.00\" fill=\"#000000\">samples = 40</text>\n<text text-anchor=\"start\" x=\"951.5\" y=\"-796.8\" font-family=\"Helvetica,sans-Serif\" font-size=\"14.00\" fill=\"#000000\">value = [27, 13]</text>\n</g>\n<!-- 32&#45;&gt;33 -->\n<g id=\"edge33\" class=\"edge\">\n<title>32&#45;&gt;33</title>\n<path fill=\"none\" stroke=\"#000000\" d=\"M1001.5,-888.8089C1001.5,-880.6906 1001.5,-871.8517 1001.5,-863.3186\"/>\n<polygon fill=\"#000000\" stroke=\"#000000\" points=\"1005.0001,-863.1307 1001.5,-853.1308 998.0001,-863.1308 1005.0001,-863.1307\"/>\n</g>\n<!-- 58 -->\n<g id=\"node59\" class=\"node\">\n<title>58</title>\n<path fill=\"#e6843e\" stroke=\"#000000\" d=\"M1244.5,-853C1244.5,-853 1150.5,-853 1150.5,-853 1144.5,-853 1138.5,-847 1138.5,-841 1138.5,-841 1138.5,-801 1138.5,-801 1138.5,-795 1144.5,-789 1150.5,-789 1150.5,-789 1244.5,-789 1244.5,-789 1250.5,-789 1256.5,-795 1256.5,-801 1256.5,-801 1256.5,-841 1256.5,-841 1256.5,-847 1250.5,-853 1244.5,-853\"/>\n<text text-anchor=\"start\" x=\"1160.5\" y=\"-838.8\" font-family=\"Helvetica,sans-Serif\" font-size=\"14.00\" fill=\"#000000\">X</text>\n<text text-anchor=\"start\" x=\"1170.5\" y=\"-838.8\" font-family=\"Helvetica,sans-Serif\" baseline-shift=\"sub\" font-size=\"14.00\" fill=\"#000000\">1</text>\n<text text-anchor=\"start\" x=\"1177.5\" y=\"-838.8\" font-family=\"Helvetica,sans-Serif\" font-size=\"14.00\" fill=\"#000000\"> ≤ &#45;0.929</text>\n<text text-anchor=\"start\" x=\"1146.5\" y=\"-824.8\" font-family=\"Helvetica,sans-Serif\" font-size=\"14.00\" fill=\"#000000\">entropy = 0.176</text>\n<text text-anchor=\"start\" x=\"1153.5\" y=\"-810.8\" font-family=\"Helvetica,sans-Serif\" font-size=\"14.00\" fill=\"#000000\">samples = 38</text>\n<text text-anchor=\"start\" x=\"1152\" y=\"-796.8\" font-family=\"Helvetica,sans-Serif\" font-size=\"14.00\" fill=\"#000000\">value = [37, 1]</text>\n</g>\n<!-- 32&#45;&gt;58 -->\n<g id=\"edge58\" class=\"edge\">\n<title>32&#45;&gt;58</title>\n<path fill=\"none\" stroke=\"#000000\" d=\"M1060.5723,-890.8611C1082.1689,-879.8424 1106.7773,-867.2871 1129.1189,-855.8883\"/>\n<polygon fill=\"#000000\" stroke=\"#000000\" points=\"1130.8936,-858.9122 1138.2105,-851.2497 1127.7122,-852.6768 1130.8936,-858.9122\"/>\n</g>\n<!-- 34 -->\n<g id=\"node35\" class=\"node\">\n<title>34</title>\n<path fill=\"#f0b48a\" stroke=\"#000000\" d=\"M988.5,-753C988.5,-753 894.5,-753 894.5,-753 888.5,-753 882.5,-747 882.5,-741 882.5,-741 882.5,-701 882.5,-701 882.5,-695 888.5,-689 894.5,-689 894.5,-689 988.5,-689 988.5,-689 994.5,-689 1000.5,-695 1000.5,-701 1000.5,-701 1000.5,-741 1000.5,-741 1000.5,-747 994.5,-753 988.5,-753\"/>\n<text text-anchor=\"start\" x=\"907\" y=\"-738.8\" font-family=\"Helvetica,sans-Serif\" font-size=\"14.00\" fill=\"#000000\">X</text>\n<text text-anchor=\"start\" x=\"917\" y=\"-738.8\" font-family=\"Helvetica,sans-Serif\" baseline-shift=\"sub\" font-size=\"14.00\" fill=\"#000000\">0</text>\n<text text-anchor=\"start\" x=\"924\" y=\"-738.8\" font-family=\"Helvetica,sans-Serif\" font-size=\"14.00\" fill=\"#000000\"> ≤ 1.737</text>\n<text text-anchor=\"start\" x=\"890.5\" y=\"-724.8\" font-family=\"Helvetica,sans-Serif\" font-size=\"14.00\" fill=\"#000000\">entropy = 0.868</text>\n<text text-anchor=\"start\" x=\"897.5\" y=\"-710.8\" font-family=\"Helvetica,sans-Serif\" font-size=\"14.00\" fill=\"#000000\">samples = 38</text>\n<text text-anchor=\"start\" x=\"891.5\" y=\"-696.8\" font-family=\"Helvetica,sans-Serif\" font-size=\"14.00\" fill=\"#000000\">value = [27, 11]</text>\n</g>\n<!-- 33&#45;&gt;34 -->\n<g id=\"edge34\" class=\"edge\">\n<title>33&#45;&gt;34</title>\n<path fill=\"none\" stroke=\"#000000\" d=\"M982.1854,-788.8089C977.0467,-780.2445 971.4269,-770.8782 966.049,-761.915\"/>\n<polygon fill=\"#000000\" stroke=\"#000000\" points=\"968.9247,-759.905 960.7785,-753.1308 962.9222,-763.5065 968.9247,-759.905\"/>\n</g>\n<!-- 57 -->\n<g id=\"node58\" class=\"node\">\n<title>57</title>\n<path fill=\"#399de5\" stroke=\"#000000\" d=\"M1108,-747.5C1108,-747.5 1031,-747.5 1031,-747.5 1025,-747.5 1019,-741.5 1019,-735.5 1019,-735.5 1019,-706.5 1019,-706.5 1019,-700.5 1025,-694.5 1031,-694.5 1031,-694.5 1108,-694.5 1108,-694.5 1114,-694.5 1120,-700.5 1120,-706.5 1120,-706.5 1120,-735.5 1120,-735.5 1120,-741.5 1114,-747.5 1108,-747.5\"/>\n<text text-anchor=\"start\" x=\"1027\" y=\"-732.3\" font-family=\"Helvetica,sans-Serif\" font-size=\"14.00\" fill=\"#000000\">entropy = 0.0</text>\n<text text-anchor=\"start\" x=\"1030\" y=\"-717.3\" font-family=\"Helvetica,sans-Serif\" font-size=\"14.00\" fill=\"#000000\">samples = 2</text>\n<text text-anchor=\"start\" x=\"1028\" y=\"-702.3\" font-family=\"Helvetica,sans-Serif\" font-size=\"14.00\" fill=\"#000000\">value = [0, 2]</text>\n</g>\n<!-- 33&#45;&gt;57 -->\n<g id=\"edge57\" class=\"edge\">\n<title>33&#45;&gt;57</title>\n<path fill=\"none\" stroke=\"#000000\" d=\"M1023.3899,-788.8089C1030.4974,-778.3568 1038.417,-766.7103 1045.6594,-756.0597\"/>\n<polygon fill=\"#000000\" stroke=\"#000000\" points=\"1048.5651,-758.0109 1051.294,-747.7735 1042.7766,-754.0747 1048.5651,-758.0109\"/>\n</g>\n<!-- 35 -->\n<g id=\"node36\" class=\"node\">\n<title>35</title>\n<path fill=\"#f5ceb2\" stroke=\"#000000\" d=\"M987.5,-653C987.5,-653 893.5,-653 893.5,-653 887.5,-653 881.5,-647 881.5,-641 881.5,-641 881.5,-601 881.5,-601 881.5,-595 887.5,-589 893.5,-589 893.5,-589 987.5,-589 987.5,-589 993.5,-589 999.5,-595 999.5,-601 999.5,-601 999.5,-641 999.5,-641 999.5,-647 993.5,-653 987.5,-653\"/>\n<text text-anchor=\"start\" x=\"906\" y=\"-638.8\" font-family=\"Helvetica,sans-Serif\" font-size=\"14.00\" fill=\"#000000\">X</text>\n<text text-anchor=\"start\" x=\"916\" y=\"-638.8\" font-family=\"Helvetica,sans-Serif\" baseline-shift=\"sub\" font-size=\"14.00\" fill=\"#000000\">0</text>\n<text text-anchor=\"start\" x=\"923\" y=\"-638.8\" font-family=\"Helvetica,sans-Serif\" font-size=\"14.00\" fill=\"#000000\"> ≤ 1.662</text>\n<text text-anchor=\"start\" x=\"889.5\" y=\"-624.8\" font-family=\"Helvetica,sans-Serif\" font-size=\"14.00\" fill=\"#000000\">entropy = 0.958</text>\n<text text-anchor=\"start\" x=\"896.5\" y=\"-610.8\" font-family=\"Helvetica,sans-Serif\" font-size=\"14.00\" fill=\"#000000\">samples = 29</text>\n<text text-anchor=\"start\" x=\"890.5\" y=\"-596.8\" font-family=\"Helvetica,sans-Serif\" font-size=\"14.00\" fill=\"#000000\">value = [18, 11]</text>\n</g>\n<!-- 34&#45;&gt;35 -->\n<g id=\"edge35\" class=\"edge\">\n<title>34&#45;&gt;35</title>\n<path fill=\"none\" stroke=\"#000000\" d=\"M941.1781,-688.8089C941.0969,-680.6906 941.0085,-671.8517 940.9232,-663.3186\"/>\n<polygon fill=\"#000000\" stroke=\"#000000\" points=\"944.4212,-663.0952 940.8213,-653.1308 937.4216,-663.1653 944.4212,-663.0952\"/>\n</g>\n<!-- 56 -->\n<g id=\"node57\" class=\"node\">\n<title>56</title>\n<path fill=\"#e58139\" stroke=\"#000000\" d=\"M1107,-647.5C1107,-647.5 1030,-647.5 1030,-647.5 1024,-647.5 1018,-641.5 1018,-635.5 1018,-635.5 1018,-606.5 1018,-606.5 1018,-600.5 1024,-594.5 1030,-594.5 1030,-594.5 1107,-594.5 1107,-594.5 1113,-594.5 1119,-600.5 1119,-606.5 1119,-606.5 1119,-635.5 1119,-635.5 1119,-641.5 1113,-647.5 1107,-647.5\"/>\n<text text-anchor=\"start\" x=\"1026\" y=\"-632.3\" font-family=\"Helvetica,sans-Serif\" font-size=\"14.00\" fill=\"#000000\">entropy = 0.0</text>\n<text text-anchor=\"start\" x=\"1029\" y=\"-617.3\" font-family=\"Helvetica,sans-Serif\" font-size=\"14.00\" fill=\"#000000\">samples = 9</text>\n<text text-anchor=\"start\" x=\"1027\" y=\"-602.3\" font-family=\"Helvetica,sans-Serif\" font-size=\"14.00\" fill=\"#000000\">value = [9, 0]</text>\n</g>\n<!-- 34&#45;&gt;56 -->\n<g id=\"edge56\" class=\"edge\">\n<title>34&#45;&gt;56</title>\n<path fill=\"none\" stroke=\"#000000\" d=\"M982.3827,-688.8089C996.4455,-677.7359 1012.2106,-665.3223 1026.3708,-654.1726\"/>\n<polygon fill=\"#000000\" stroke=\"#000000\" points=\"1028.8061,-656.7098 1034.4976,-647.7735 1024.4756,-651.2101 1028.8061,-656.7098\"/>\n</g>\n<!-- 36 -->\n<g id=\"node37\" class=\"node\">\n<title>36</title>\n<path fill=\"#f2c09c\" stroke=\"#000000\" d=\"M987.5,-553C987.5,-553 893.5,-553 893.5,-553 887.5,-553 881.5,-547 881.5,-541 881.5,-541 881.5,-501 881.5,-501 881.5,-495 887.5,-489 893.5,-489 893.5,-489 987.5,-489 987.5,-489 993.5,-489 999.5,-495 999.5,-501 999.5,-501 999.5,-541 999.5,-541 999.5,-547 993.5,-553 987.5,-553\"/>\n<text text-anchor=\"start\" x=\"906\" y=\"-538.8\" font-family=\"Helvetica,sans-Serif\" font-size=\"14.00\" fill=\"#000000\">X</text>\n<text text-anchor=\"start\" x=\"916\" y=\"-538.8\" font-family=\"Helvetica,sans-Serif\" baseline-shift=\"sub\" font-size=\"14.00\" fill=\"#000000\">0</text>\n<text text-anchor=\"start\" x=\"923\" y=\"-538.8\" font-family=\"Helvetica,sans-Serif\" font-size=\"14.00\" fill=\"#000000\"> ≤ 0.946</text>\n<text text-anchor=\"start\" x=\"889.5\" y=\"-524.8\" font-family=\"Helvetica,sans-Serif\" font-size=\"14.00\" fill=\"#000000\">entropy = 0.918</text>\n<text text-anchor=\"start\" x=\"896.5\" y=\"-510.8\" font-family=\"Helvetica,sans-Serif\" font-size=\"14.00\" fill=\"#000000\">samples = 27</text>\n<text text-anchor=\"start\" x=\"895\" y=\"-496.8\" font-family=\"Helvetica,sans-Serif\" font-size=\"14.00\" fill=\"#000000\">value = [18, 9]</text>\n</g>\n<!-- 35&#45;&gt;36 -->\n<g id=\"edge36\" class=\"edge\">\n<title>35&#45;&gt;36</title>\n<path fill=\"none\" stroke=\"#000000\" d=\"M940.5,-588.8089C940.5,-580.6906 940.5,-571.8517 940.5,-563.3186\"/>\n<polygon fill=\"#000000\" stroke=\"#000000\" points=\"944.0001,-563.1307 940.5,-553.1308 937.0001,-563.1308 944.0001,-563.1307\"/>\n</g>\n<!-- 55 -->\n<g id=\"node56\" class=\"node\">\n<title>55</title>\n<path fill=\"#399de5\" stroke=\"#000000\" d=\"M1107,-547.5C1107,-547.5 1030,-547.5 1030,-547.5 1024,-547.5 1018,-541.5 1018,-535.5 1018,-535.5 1018,-506.5 1018,-506.5 1018,-500.5 1024,-494.5 1030,-494.5 1030,-494.5 1107,-494.5 1107,-494.5 1113,-494.5 1119,-500.5 1119,-506.5 1119,-506.5 1119,-535.5 1119,-535.5 1119,-541.5 1113,-547.5 1107,-547.5\"/>\n<text text-anchor=\"start\" x=\"1026\" y=\"-532.3\" font-family=\"Helvetica,sans-Serif\" font-size=\"14.00\" fill=\"#000000\">entropy = 0.0</text>\n<text text-anchor=\"start\" x=\"1029\" y=\"-517.3\" font-family=\"Helvetica,sans-Serif\" font-size=\"14.00\" fill=\"#000000\">samples = 2</text>\n<text text-anchor=\"start\" x=\"1027\" y=\"-502.3\" font-family=\"Helvetica,sans-Serif\" font-size=\"14.00\" fill=\"#000000\">value = [0, 2]</text>\n</g>\n<!-- 35&#45;&gt;55 -->\n<g id=\"edge55\" class=\"edge\">\n<title>35&#45;&gt;55</title>\n<path fill=\"none\" stroke=\"#000000\" d=\"M981.7046,-588.8089C995.8781,-577.7359 1011.7674,-565.3223 1026.0391,-554.1726\"/>\n<polygon fill=\"#000000\" stroke=\"#000000\" points=\"1028.5044,-556.6881 1034.2299,-547.7735 1024.1949,-551.1719 1028.5044,-556.6881\"/>\n</g>\n<!-- 37 -->\n<g id=\"node38\" class=\"node\">\n<title>37</title>\n<path fill=\"#fcf1e9\" stroke=\"#000000\" d=\"M987.5,-453C987.5,-453 893.5,-453 893.5,-453 887.5,-453 881.5,-447 881.5,-441 881.5,-441 881.5,-401 881.5,-401 881.5,-395 887.5,-389 893.5,-389 893.5,-389 987.5,-389 987.5,-389 993.5,-389 999.5,-395 999.5,-401 999.5,-401 999.5,-441 999.5,-441 999.5,-447 993.5,-453 987.5,-453\"/>\n<text text-anchor=\"start\" x=\"907.5\" y=\"-438.8\" font-family=\"Helvetica,sans-Serif\" font-size=\"14.00\" fill=\"#000000\">X</text>\n<text text-anchor=\"start\" x=\"917.5\" y=\"-438.8\" font-family=\"Helvetica,sans-Serif\" baseline-shift=\"sub\" font-size=\"14.00\" fill=\"#000000\">0</text>\n<text text-anchor=\"start\" x=\"924.5\" y=\"-438.8\" font-family=\"Helvetica,sans-Serif\" font-size=\"14.00\" fill=\"#000000\"> ≤ &#45;0.05</text>\n<text text-anchor=\"start\" x=\"889.5\" y=\"-424.8\" font-family=\"Helvetica,sans-Serif\" font-size=\"14.00\" fill=\"#000000\">entropy = 0.998</text>\n<text text-anchor=\"start\" x=\"896.5\" y=\"-410.8\" font-family=\"Helvetica,sans-Serif\" font-size=\"14.00\" fill=\"#000000\">samples = 17</text>\n<text text-anchor=\"start\" x=\"899\" y=\"-396.8\" font-family=\"Helvetica,sans-Serif\" font-size=\"14.00\" fill=\"#000000\">value = [9, 8]</text>\n</g>\n<!-- 36&#45;&gt;37 -->\n<g id=\"edge37\" class=\"edge\">\n<title>36&#45;&gt;37</title>\n<path fill=\"none\" stroke=\"#000000\" d=\"M940.5,-488.8089C940.5,-480.6906 940.5,-471.8517 940.5,-463.3186\"/>\n<polygon fill=\"#000000\" stroke=\"#000000\" points=\"944.0001,-463.1307 940.5,-453.1308 937.0001,-463.1308 944.0001,-463.1307\"/>\n</g>\n<!-- 50 -->\n<g id=\"node51\" class=\"node\">\n<title>50</title>\n<path fill=\"#e88f4f\" stroke=\"#000000\" d=\"M1123.5,-453C1123.5,-453 1029.5,-453 1029.5,-453 1023.5,-453 1017.5,-447 1017.5,-441 1017.5,-441 1017.5,-401 1017.5,-401 1017.5,-395 1023.5,-389 1029.5,-389 1029.5,-389 1123.5,-389 1123.5,-389 1129.5,-389 1135.5,-395 1135.5,-401 1135.5,-401 1135.5,-441 1135.5,-441 1135.5,-447 1129.5,-453 1123.5,-453\"/>\n<text text-anchor=\"start\" x=\"1039.5\" y=\"-438.8\" font-family=\"Helvetica,sans-Serif\" font-size=\"14.00\" fill=\"#000000\">X</text>\n<text text-anchor=\"start\" x=\"1049.5\" y=\"-438.8\" font-family=\"Helvetica,sans-Serif\" baseline-shift=\"sub\" font-size=\"14.00\" fill=\"#000000\">1</text>\n<text text-anchor=\"start\" x=\"1056.5\" y=\"-438.8\" font-family=\"Helvetica,sans-Serif\" font-size=\"14.00\" fill=\"#000000\"> ≤ &#45;1.637</text>\n<text text-anchor=\"start\" x=\"1025.5\" y=\"-424.8\" font-family=\"Helvetica,sans-Serif\" font-size=\"14.00\" fill=\"#000000\">entropy = 0.469</text>\n<text text-anchor=\"start\" x=\"1032.5\" y=\"-410.8\" font-family=\"Helvetica,sans-Serif\" font-size=\"14.00\" fill=\"#000000\">samples = 10</text>\n<text text-anchor=\"start\" x=\"1035\" y=\"-396.8\" font-family=\"Helvetica,sans-Serif\" font-size=\"14.00\" fill=\"#000000\">value = [9, 1]</text>\n</g>\n<!-- 36&#45;&gt;50 -->\n<g id=\"edge50\" class=\"edge\">\n<title>36&#45;&gt;50</title>\n<path fill=\"none\" stroke=\"#000000\" d=\"M984.2799,-488.8089C997.1407,-479.3524 1011.3312,-468.9182 1024.6453,-459.1285\"/>\n<polygon fill=\"#000000\" stroke=\"#000000\" points=\"1026.819,-461.8745 1032.8022,-453.1308 1022.6723,-456.2349 1026.819,-461.8745\"/>\n</g>\n<!-- 38 -->\n<g id=\"node39\" class=\"node\">\n<title>38</title>\n<path fill=\"#e58139\" stroke=\"#000000\" d=\"M851,-347.5C851,-347.5 774,-347.5 774,-347.5 768,-347.5 762,-341.5 762,-335.5 762,-335.5 762,-306.5 762,-306.5 762,-300.5 768,-294.5 774,-294.5 774,-294.5 851,-294.5 851,-294.5 857,-294.5 863,-300.5 863,-306.5 863,-306.5 863,-335.5 863,-335.5 863,-341.5 857,-347.5 851,-347.5\"/>\n<text text-anchor=\"start\" x=\"770\" y=\"-332.3\" font-family=\"Helvetica,sans-Serif\" font-size=\"14.00\" fill=\"#000000\">entropy = 0.0</text>\n<text text-anchor=\"start\" x=\"773\" y=\"-317.3\" font-family=\"Helvetica,sans-Serif\" font-size=\"14.00\" fill=\"#000000\">samples = 3</text>\n<text text-anchor=\"start\" x=\"771\" y=\"-302.3\" font-family=\"Helvetica,sans-Serif\" font-size=\"14.00\" fill=\"#000000\">value = [3, 0]</text>\n</g>\n<!-- 37&#45;&gt;38 -->\n<g id=\"edge38\" class=\"edge\">\n<title>37&#45;&gt;38</title>\n<path fill=\"none\" stroke=\"#000000\" d=\"M899.2954,-388.8089C885.1219,-377.7359 869.2326,-365.3223 854.9609,-354.1726\"/>\n<polygon fill=\"#000000\" stroke=\"#000000\" points=\"856.8051,-351.1719 846.7701,-347.7735 852.4956,-356.6881 856.8051,-351.1719\"/>\n</g>\n<!-- 39 -->\n<g id=\"node40\" class=\"node\">\n<title>39</title>\n<path fill=\"#cee6f8\" stroke=\"#000000\" d=\"M987.5,-353C987.5,-353 893.5,-353 893.5,-353 887.5,-353 881.5,-347 881.5,-341 881.5,-341 881.5,-301 881.5,-301 881.5,-295 887.5,-289 893.5,-289 893.5,-289 987.5,-289 987.5,-289 993.5,-289 999.5,-295 999.5,-301 999.5,-301 999.5,-341 999.5,-341 999.5,-347 993.5,-353 987.5,-353\"/>\n<text text-anchor=\"start\" x=\"912\" y=\"-338.8\" font-family=\"Helvetica,sans-Serif\" font-size=\"14.00\" fill=\"#000000\">X</text>\n<text text-anchor=\"start\" x=\"922\" y=\"-338.8\" font-family=\"Helvetica,sans-Serif\" baseline-shift=\"sub\" font-size=\"14.00\" fill=\"#000000\">1</text>\n<text text-anchor=\"start\" x=\"929\" y=\"-338.8\" font-family=\"Helvetica,sans-Serif\" font-size=\"14.00\" fill=\"#000000\"> ≤ &#45;1.0</text>\n<text text-anchor=\"start\" x=\"889.5\" y=\"-324.8\" font-family=\"Helvetica,sans-Serif\" font-size=\"14.00\" fill=\"#000000\">entropy = 0.985</text>\n<text text-anchor=\"start\" x=\"896.5\" y=\"-310.8\" font-family=\"Helvetica,sans-Serif\" font-size=\"14.00\" fill=\"#000000\">samples = 14</text>\n<text text-anchor=\"start\" x=\"899\" y=\"-296.8\" font-family=\"Helvetica,sans-Serif\" font-size=\"14.00\" fill=\"#000000\">value = [6, 8]</text>\n</g>\n<!-- 37&#45;&gt;39 -->\n<g id=\"edge39\" class=\"edge\">\n<title>37&#45;&gt;39</title>\n<path fill=\"none\" stroke=\"#000000\" d=\"M940.5,-388.8089C940.5,-380.6906 940.5,-371.8517 940.5,-363.3186\"/>\n<polygon fill=\"#000000\" stroke=\"#000000\" points=\"944.0001,-363.1307 940.5,-353.1308 937.0001,-363.1308 944.0001,-363.1307\"/>\n</g>\n<!-- 40 -->\n<g id=\"node41\" class=\"node\">\n<title>40</title>\n<path fill=\"#f8e0ce\" stroke=\"#000000\" d=\"M856.5,-253C856.5,-253 762.5,-253 762.5,-253 756.5,-253 750.5,-247 750.5,-241 750.5,-241 750.5,-201 750.5,-201 750.5,-195 756.5,-189 762.5,-189 762.5,-189 856.5,-189 856.5,-189 862.5,-189 868.5,-195 868.5,-201 868.5,-201 868.5,-241 868.5,-241 868.5,-247 862.5,-253 856.5,-253\"/>\n<text text-anchor=\"start\" x=\"772.5\" y=\"-238.8\" font-family=\"Helvetica,sans-Serif\" font-size=\"14.00\" fill=\"#000000\">X</text>\n<text text-anchor=\"start\" x=\"782.5\" y=\"-238.8\" font-family=\"Helvetica,sans-Serif\" baseline-shift=\"sub\" font-size=\"14.00\" fill=\"#000000\">1</text>\n<text text-anchor=\"start\" x=\"789.5\" y=\"-238.8\" font-family=\"Helvetica,sans-Serif\" font-size=\"14.00\" fill=\"#000000\"> ≤ &#45;2.114</text>\n<text text-anchor=\"start\" x=\"758.5\" y=\"-224.8\" font-family=\"Helvetica,sans-Serif\" font-size=\"14.00\" fill=\"#000000\">entropy = 0.985</text>\n<text text-anchor=\"start\" x=\"770\" y=\"-210.8\" font-family=\"Helvetica,sans-Serif\" font-size=\"14.00\" fill=\"#000000\">samples = 7</text>\n<text text-anchor=\"start\" x=\"768\" y=\"-196.8\" font-family=\"Helvetica,sans-Serif\" font-size=\"14.00\" fill=\"#000000\">value = [4, 3]</text>\n</g>\n<!-- 39&#45;&gt;40 -->\n<g id=\"edge40\" class=\"edge\">\n<title>39&#45;&gt;40</title>\n<path fill=\"none\" stroke=\"#000000\" d=\"M898.3297,-288.8089C886.0585,-279.4416 872.5307,-269.115 859.8115,-259.4057\"/>\n<polygon fill=\"#000000\" stroke=\"#000000\" points=\"861.6638,-256.4165 851.5913,-253.1308 857.4163,-261.9806 861.6638,-256.4165\"/>\n</g>\n<!-- 45 -->\n<g id=\"node46\" class=\"node\">\n<title>45</title>\n<path fill=\"#88c4ef\" stroke=\"#000000\" d=\"M992.5,-253C992.5,-253 898.5,-253 898.5,-253 892.5,-253 886.5,-247 886.5,-241 886.5,-241 886.5,-201 886.5,-201 886.5,-195 892.5,-189 898.5,-189 898.5,-189 992.5,-189 992.5,-189 998.5,-189 1004.5,-195 1004.5,-201 1004.5,-201 1004.5,-241 1004.5,-241 1004.5,-247 998.5,-253 992.5,-253\"/>\n<text text-anchor=\"start\" x=\"911\" y=\"-238.8\" font-family=\"Helvetica,sans-Serif\" font-size=\"14.00\" fill=\"#000000\">X</text>\n<text text-anchor=\"start\" x=\"921\" y=\"-238.8\" font-family=\"Helvetica,sans-Serif\" baseline-shift=\"sub\" font-size=\"14.00\" fill=\"#000000\">1</text>\n<text text-anchor=\"start\" x=\"928\" y=\"-238.8\" font-family=\"Helvetica,sans-Serif\" font-size=\"14.00\" fill=\"#000000\"> ≤ 2.719</text>\n<text text-anchor=\"start\" x=\"894.5\" y=\"-224.8\" font-family=\"Helvetica,sans-Serif\" font-size=\"14.00\" fill=\"#000000\">entropy = 0.863</text>\n<text text-anchor=\"start\" x=\"906\" y=\"-210.8\" font-family=\"Helvetica,sans-Serif\" font-size=\"14.00\" fill=\"#000000\">samples = 7</text>\n<text text-anchor=\"start\" x=\"904\" y=\"-196.8\" font-family=\"Helvetica,sans-Serif\" font-size=\"14.00\" fill=\"#000000\">value = [2, 5]</text>\n</g>\n<!-- 39&#45;&gt;45 -->\n<g id=\"edge45\" class=\"edge\">\n<title>39&#45;&gt;45</title>\n<path fill=\"none\" stroke=\"#000000\" d=\"M942.1096,-288.8089C942.5155,-280.6906 942.9574,-271.8517 943.3841,-263.3186\"/>\n<polygon fill=\"#000000\" stroke=\"#000000\" points=\"946.8896,-263.2931 943.8935,-253.1308 939.8984,-262.9435 946.8896,-263.2931\"/>\n</g>\n<!-- 41 -->\n<g id=\"node42\" class=\"node\">\n<title>41</title>\n<path fill=\"#bddef6\" stroke=\"#000000\" d=\"M737.5,-153C737.5,-153 643.5,-153 643.5,-153 637.5,-153 631.5,-147 631.5,-141 631.5,-141 631.5,-101 631.5,-101 631.5,-95 637.5,-89 643.5,-89 643.5,-89 737.5,-89 737.5,-89 743.5,-89 749.5,-95 749.5,-101 749.5,-101 749.5,-141 749.5,-141 749.5,-147 743.5,-153 737.5,-153\"/>\n<text text-anchor=\"start\" x=\"656\" y=\"-138.8\" font-family=\"Helvetica,sans-Serif\" font-size=\"14.00\" fill=\"#000000\">X</text>\n<text text-anchor=\"start\" x=\"666\" y=\"-138.8\" font-family=\"Helvetica,sans-Serif\" baseline-shift=\"sub\" font-size=\"14.00\" fill=\"#000000\">0</text>\n<text text-anchor=\"start\" x=\"673\" y=\"-138.8\" font-family=\"Helvetica,sans-Serif\" font-size=\"14.00\" fill=\"#000000\"> ≤ 0.488</text>\n<text text-anchor=\"start\" x=\"639.5\" y=\"-124.8\" font-family=\"Helvetica,sans-Serif\" font-size=\"14.00\" fill=\"#000000\">entropy = 0.971</text>\n<text text-anchor=\"start\" x=\"651\" y=\"-110.8\" font-family=\"Helvetica,sans-Serif\" font-size=\"14.00\" fill=\"#000000\">samples = 5</text>\n<text text-anchor=\"start\" x=\"649\" y=\"-96.8\" font-family=\"Helvetica,sans-Serif\" font-size=\"14.00\" fill=\"#000000\">value = [2, 3]</text>\n</g>\n<!-- 40&#45;&gt;41 -->\n<g id=\"edge41\" class=\"edge\">\n<title>40&#45;&gt;41</title>\n<path fill=\"none\" stroke=\"#000000\" d=\"M771.1926,-188.8089C760.1517,-179.5308 747.9908,-169.3116 736.5331,-159.6833\"/>\n<polygon fill=\"#000000\" stroke=\"#000000\" points=\"738.6431,-156.8847 728.7356,-153.1308 734.1397,-162.2438 738.6431,-156.8847\"/>\n</g>\n<!-- 44 -->\n<g id=\"node45\" class=\"node\">\n<title>44</title>\n<path fill=\"#e58139\" stroke=\"#000000\" d=\"M857,-147.5C857,-147.5 780,-147.5 780,-147.5 774,-147.5 768,-141.5 768,-135.5 768,-135.5 768,-106.5 768,-106.5 768,-100.5 774,-94.5 780,-94.5 780,-94.5 857,-94.5 857,-94.5 863,-94.5 869,-100.5 869,-106.5 869,-106.5 869,-135.5 869,-135.5 869,-141.5 863,-147.5 857,-147.5\"/>\n<text text-anchor=\"start\" x=\"776\" y=\"-132.3\" font-family=\"Helvetica,sans-Serif\" font-size=\"14.00\" fill=\"#000000\">entropy = 0.0</text>\n<text text-anchor=\"start\" x=\"779\" y=\"-117.3\" font-family=\"Helvetica,sans-Serif\" font-size=\"14.00\" fill=\"#000000\">samples = 2</text>\n<text text-anchor=\"start\" x=\"777\" y=\"-102.3\" font-family=\"Helvetica,sans-Serif\" font-size=\"14.00\" fill=\"#000000\">value = [2, 0]</text>\n</g>\n<!-- 40&#45;&gt;44 -->\n<g id=\"edge44\" class=\"edge\">\n<title>40&#45;&gt;44</title>\n<path fill=\"none\" stroke=\"#000000\" d=\"M812.3972,-188.8089C813.282,-178.9777 814.2619,-168.0898 815.1729,-157.9679\"/>\n<polygon fill=\"#000000\" stroke=\"#000000\" points=\"818.6798,-158.047 816.0904,-147.7735 811.708,-157.4195 818.6798,-158.047\"/>\n</g>\n<!-- 42 -->\n<g id=\"node43\" class=\"node\">\n<title>42</title>\n<path fill=\"#f2c09c\" stroke=\"#000000\" d=\"M673.5,-53C673.5,-53 579.5,-53 579.5,-53 573.5,-53 567.5,-47 567.5,-41 567.5,-41 567.5,-12 567.5,-12 567.5,-6 573.5,0 579.5,0 579.5,0 673.5,0 673.5,0 679.5,0 685.5,-6 685.5,-12 685.5,-12 685.5,-41 685.5,-41 685.5,-47 679.5,-53 673.5,-53\"/>\n<text text-anchor=\"start\" x=\"575.5\" y=\"-37.8\" font-family=\"Helvetica,sans-Serif\" font-size=\"14.00\" fill=\"#000000\">entropy = 0.918</text>\n<text text-anchor=\"start\" x=\"587\" y=\"-22.8\" font-family=\"Helvetica,sans-Serif\" font-size=\"14.00\" fill=\"#000000\">samples = 3</text>\n<text text-anchor=\"start\" x=\"585\" y=\"-7.8\" font-family=\"Helvetica,sans-Serif\" font-size=\"14.00\" fill=\"#000000\">value = [2, 1]</text>\n</g>\n<!-- 41&#45;&gt;42 -->\n<g id=\"edge42\" class=\"edge\">\n<title>41&#45;&gt;42</title>\n<path fill=\"none\" stroke=\"#000000\" d=\"M668.6538,-88.7428C662.7265,-79.9906 656.2805,-70.4728 650.2535,-61.5735\"/>\n<polygon fill=\"#000000\" stroke=\"#000000\" points=\"653.1394,-59.5931 644.6339,-53.2759 647.3435,-63.5184 653.1394,-59.5931\"/>\n</g>\n<!-- 43 -->\n<g id=\"node44\" class=\"node\">\n<title>43</title>\n<path fill=\"#399de5\" stroke=\"#000000\" d=\"M793,-53C793,-53 716,-53 716,-53 710,-53 704,-47 704,-41 704,-41 704,-12 704,-12 704,-6 710,0 716,0 716,0 793,0 793,0 799,0 805,-6 805,-12 805,-12 805,-41 805,-41 805,-47 799,-53 793,-53\"/>\n<text text-anchor=\"start\" x=\"712\" y=\"-37.8\" font-family=\"Helvetica,sans-Serif\" font-size=\"14.00\" fill=\"#000000\">entropy = 0.0</text>\n<text text-anchor=\"start\" x=\"715\" y=\"-22.8\" font-family=\"Helvetica,sans-Serif\" font-size=\"14.00\" fill=\"#000000\">samples = 2</text>\n<text text-anchor=\"start\" x=\"713\" y=\"-7.8\" font-family=\"Helvetica,sans-Serif\" font-size=\"14.00\" fill=\"#000000\">value = [0, 2]</text>\n</g>\n<!-- 41&#45;&gt;43 -->\n<g id=\"edge43\" class=\"edge\">\n<title>41&#45;&gt;43</title>\n<path fill=\"none\" stroke=\"#000000\" d=\"M712.3462,-88.7428C718.2735,-79.9906 724.7195,-70.4728 730.7465,-61.5735\"/>\n<polygon fill=\"#000000\" stroke=\"#000000\" points=\"733.6565,-63.5184 736.3661,-53.2759 727.8606,-59.5931 733.6565,-63.5184\"/>\n</g>\n<!-- 46 -->\n<g id=\"node47\" class=\"node\">\n<title>46</title>\n<path fill=\"#399de5\" stroke=\"#000000\" d=\"M978,-147.5C978,-147.5 901,-147.5 901,-147.5 895,-147.5 889,-141.5 889,-135.5 889,-135.5 889,-106.5 889,-106.5 889,-100.5 895,-94.5 901,-94.5 901,-94.5 978,-94.5 978,-94.5 984,-94.5 990,-100.5 990,-106.5 990,-106.5 990,-135.5 990,-135.5 990,-141.5 984,-147.5 978,-147.5\"/>\n<text text-anchor=\"start\" x=\"897\" y=\"-132.3\" font-family=\"Helvetica,sans-Serif\" font-size=\"14.00\" fill=\"#000000\">entropy = 0.0</text>\n<text text-anchor=\"start\" x=\"900\" y=\"-117.3\" font-family=\"Helvetica,sans-Serif\" font-size=\"14.00\" fill=\"#000000\">samples = 4</text>\n<text text-anchor=\"start\" x=\"898\" y=\"-102.3\" font-family=\"Helvetica,sans-Serif\" font-size=\"14.00\" fill=\"#000000\">value = [0, 4]</text>\n</g>\n<!-- 45&#45;&gt;46 -->\n<g id=\"edge46\" class=\"edge\">\n<title>45&#45;&gt;46</title>\n<path fill=\"none\" stroke=\"#000000\" d=\"M943.5685,-188.8089C942.9787,-178.9777 942.3254,-168.0898 941.7181,-157.9679\"/>\n<polygon fill=\"#000000\" stroke=\"#000000\" points=\"945.1991,-157.5459 941.1064,-147.7735 938.2117,-157.9652 945.1991,-157.5459\"/>\n</g>\n<!-- 47 -->\n<g id=\"node48\" class=\"node\">\n<title>47</title>\n<path fill=\"#f2c09c\" stroke=\"#000000\" d=\"M1114.5,-153C1114.5,-153 1020.5,-153 1020.5,-153 1014.5,-153 1008.5,-147 1008.5,-141 1008.5,-141 1008.5,-101 1008.5,-101 1008.5,-95 1014.5,-89 1020.5,-89 1020.5,-89 1114.5,-89 1114.5,-89 1120.5,-89 1126.5,-95 1126.5,-101 1126.5,-101 1126.5,-141 1126.5,-141 1126.5,-147 1120.5,-153 1114.5,-153\"/>\n<text text-anchor=\"start\" x=\"1033\" y=\"-138.8\" font-family=\"Helvetica,sans-Serif\" font-size=\"14.00\" fill=\"#000000\">X</text>\n<text text-anchor=\"start\" x=\"1043\" y=\"-138.8\" font-family=\"Helvetica,sans-Serif\" baseline-shift=\"sub\" font-size=\"14.00\" fill=\"#000000\">1</text>\n<text text-anchor=\"start\" x=\"1050\" y=\"-138.8\" font-family=\"Helvetica,sans-Serif\" font-size=\"14.00\" fill=\"#000000\"> ≤ 4.576</text>\n<text text-anchor=\"start\" x=\"1016.5\" y=\"-124.8\" font-family=\"Helvetica,sans-Serif\" font-size=\"14.00\" fill=\"#000000\">entropy = 0.918</text>\n<text text-anchor=\"start\" x=\"1028\" y=\"-110.8\" font-family=\"Helvetica,sans-Serif\" font-size=\"14.00\" fill=\"#000000\">samples = 3</text>\n<text text-anchor=\"start\" x=\"1026\" y=\"-96.8\" font-family=\"Helvetica,sans-Serif\" font-size=\"14.00\" fill=\"#000000\">value = [2, 1]</text>\n</g>\n<!-- 45&#45;&gt;47 -->\n<g id=\"edge47\" class=\"edge\">\n<title>45&#45;&gt;47</title>\n<path fill=\"none\" stroke=\"#000000\" d=\"M984.7731,-188.8089C996.0924,-179.5308 1008.5598,-169.3116 1020.3064,-159.6833\"/>\n<polygon fill=\"#000000\" stroke=\"#000000\" points=\"1022.7853,-162.177 1028.3005,-153.1308 1018.3478,-156.7632 1022.7853,-162.177\"/>\n</g>\n<!-- 48 -->\n<g id=\"node49\" class=\"node\">\n<title>48</title>\n<path fill=\"#e58139\" stroke=\"#000000\" d=\"M1046,-53C1046,-53 969,-53 969,-53 963,-53 957,-47 957,-41 957,-41 957,-12 957,-12 957,-6 963,0 969,0 969,0 1046,0 1046,0 1052,0 1058,-6 1058,-12 1058,-12 1058,-41 1058,-41 1058,-47 1052,-53 1046,-53\"/>\n<text text-anchor=\"start\" x=\"965\" y=\"-37.8\" font-family=\"Helvetica,sans-Serif\" font-size=\"14.00\" fill=\"#000000\">entropy = 0.0</text>\n<text text-anchor=\"start\" x=\"968\" y=\"-22.8\" font-family=\"Helvetica,sans-Serif\" font-size=\"14.00\" fill=\"#000000\">samples = 2</text>\n<text text-anchor=\"start\" x=\"966\" y=\"-7.8\" font-family=\"Helvetica,sans-Serif\" font-size=\"14.00\" fill=\"#000000\">value = [2, 0]</text>\n</g>\n<!-- 47&#45;&gt;48 -->\n<g id=\"edge48\" class=\"edge\">\n<title>47&#45;&gt;48</title>\n<path fill=\"none\" stroke=\"#000000\" d=\"M1047.0192,-88.7428C1041.5196,-80.0809 1035.5438,-70.669 1029.9438,-61.849\"/>\n<polygon fill=\"#000000\" stroke=\"#000000\" points=\"1032.8154,-59.842 1024.5005,-53.2759 1026.9059,-63.5941 1032.8154,-59.842\"/>\n</g>\n<!-- 49 -->\n<g id=\"node50\" class=\"node\">\n<title>49</title>\n<path fill=\"#399de5\" stroke=\"#000000\" d=\"M1165,-53C1165,-53 1088,-53 1088,-53 1082,-53 1076,-47 1076,-41 1076,-41 1076,-12 1076,-12 1076,-6 1082,0 1088,0 1088,0 1165,0 1165,0 1171,0 1177,-6 1177,-12 1177,-12 1177,-41 1177,-41 1177,-47 1171,-53 1165,-53\"/>\n<text text-anchor=\"start\" x=\"1084\" y=\"-37.8\" font-family=\"Helvetica,sans-Serif\" font-size=\"14.00\" fill=\"#000000\">entropy = 0.0</text>\n<text text-anchor=\"start\" x=\"1087\" y=\"-22.8\" font-family=\"Helvetica,sans-Serif\" font-size=\"14.00\" fill=\"#000000\">samples = 1</text>\n<text text-anchor=\"start\" x=\"1085\" y=\"-7.8\" font-family=\"Helvetica,sans-Serif\" font-size=\"14.00\" fill=\"#000000\">value = [0, 1]</text>\n</g>\n<!-- 47&#45;&gt;49 -->\n<g id=\"edge49\" class=\"edge\">\n<title>47&#45;&gt;49</title>\n<path fill=\"none\" stroke=\"#000000\" d=\"M1087.6394,-88.7428C1093.0474,-80.0809 1098.9236,-70.669 1104.4303,-61.849\"/>\n<polygon fill=\"#000000\" stroke=\"#000000\" points=\"1107.4557,-63.612 1109.7828,-53.2759 1101.5179,-59.9048 1107.4557,-63.612\"/>\n</g>\n<!-- 51 -->\n<g id=\"node52\" class=\"node\">\n<title>51</title>\n<path fill=\"#f2c09c\" stroke=\"#000000\" d=\"M1123.5,-353C1123.5,-353 1029.5,-353 1029.5,-353 1023.5,-353 1017.5,-347 1017.5,-341 1017.5,-341 1017.5,-301 1017.5,-301 1017.5,-295 1023.5,-289 1029.5,-289 1029.5,-289 1123.5,-289 1123.5,-289 1129.5,-289 1135.5,-295 1135.5,-301 1135.5,-301 1135.5,-341 1135.5,-341 1135.5,-347 1129.5,-353 1123.5,-353\"/>\n<text text-anchor=\"start\" x=\"1039.5\" y=\"-338.8\" font-family=\"Helvetica,sans-Serif\" font-size=\"14.00\" fill=\"#000000\">X</text>\n<text text-anchor=\"start\" x=\"1049.5\" y=\"-338.8\" font-family=\"Helvetica,sans-Serif\" baseline-shift=\"sub\" font-size=\"14.00\" fill=\"#000000\">1</text>\n<text text-anchor=\"start\" x=\"1056.5\" y=\"-338.8\" font-family=\"Helvetica,sans-Serif\" font-size=\"14.00\" fill=\"#000000\"> ≤ &#45;2.509</text>\n<text text-anchor=\"start\" x=\"1025.5\" y=\"-324.8\" font-family=\"Helvetica,sans-Serif\" font-size=\"14.00\" fill=\"#000000\">entropy = 0.918</text>\n<text text-anchor=\"start\" x=\"1037\" y=\"-310.8\" font-family=\"Helvetica,sans-Serif\" font-size=\"14.00\" fill=\"#000000\">samples = 3</text>\n<text text-anchor=\"start\" x=\"1035\" y=\"-296.8\" font-family=\"Helvetica,sans-Serif\" font-size=\"14.00\" fill=\"#000000\">value = [2, 1]</text>\n</g>\n<!-- 50&#45;&gt;51 -->\n<g id=\"edge51\" class=\"edge\">\n<title>50&#45;&gt;51</title>\n<path fill=\"none\" stroke=\"#000000\" d=\"M1076.5,-388.8089C1076.5,-380.6906 1076.5,-371.8517 1076.5,-363.3186\"/>\n<polygon fill=\"#000000\" stroke=\"#000000\" points=\"1080.0001,-363.1307 1076.5,-353.1308 1073.0001,-363.1308 1080.0001,-363.1307\"/>\n</g>\n<!-- 54 -->\n<g id=\"node55\" class=\"node\">\n<title>54</title>\n<path fill=\"#e58139\" stroke=\"#000000\" d=\"M1243,-347.5C1243,-347.5 1166,-347.5 1166,-347.5 1160,-347.5 1154,-341.5 1154,-335.5 1154,-335.5 1154,-306.5 1154,-306.5 1154,-300.5 1160,-294.5 1166,-294.5 1166,-294.5 1243,-294.5 1243,-294.5 1249,-294.5 1255,-300.5 1255,-306.5 1255,-306.5 1255,-335.5 1255,-335.5 1255,-341.5 1249,-347.5 1243,-347.5\"/>\n<text text-anchor=\"start\" x=\"1162\" y=\"-332.3\" font-family=\"Helvetica,sans-Serif\" font-size=\"14.00\" fill=\"#000000\">entropy = 0.0</text>\n<text text-anchor=\"start\" x=\"1165\" y=\"-317.3\" font-family=\"Helvetica,sans-Serif\" font-size=\"14.00\" fill=\"#000000\">samples = 7</text>\n<text text-anchor=\"start\" x=\"1163\" y=\"-302.3\" font-family=\"Helvetica,sans-Serif\" font-size=\"14.00\" fill=\"#000000\">value = [7, 0]</text>\n</g>\n<!-- 50&#45;&gt;54 -->\n<g id=\"edge54\" class=\"edge\">\n<title>50&#45;&gt;54</title>\n<path fill=\"none\" stroke=\"#000000\" d=\"M1117.7046,-388.8089C1131.8781,-377.7359 1147.7674,-365.3223 1162.0391,-354.1726\"/>\n<polygon fill=\"#000000\" stroke=\"#000000\" points=\"1164.5044,-356.6881 1170.2299,-347.7735 1160.1949,-351.1719 1164.5044,-356.6881\"/>\n</g>\n<!-- 52 -->\n<g id=\"node53\" class=\"node\">\n<title>52</title>\n<path fill=\"#e58139\" stroke=\"#000000\" d=\"M1115,-247.5C1115,-247.5 1038,-247.5 1038,-247.5 1032,-247.5 1026,-241.5 1026,-235.5 1026,-235.5 1026,-206.5 1026,-206.5 1026,-200.5 1032,-194.5 1038,-194.5 1038,-194.5 1115,-194.5 1115,-194.5 1121,-194.5 1127,-200.5 1127,-206.5 1127,-206.5 1127,-235.5 1127,-235.5 1127,-241.5 1121,-247.5 1115,-247.5\"/>\n<text text-anchor=\"start\" x=\"1034\" y=\"-232.3\" font-family=\"Helvetica,sans-Serif\" font-size=\"14.00\" fill=\"#000000\">entropy = 0.0</text>\n<text text-anchor=\"start\" x=\"1037\" y=\"-217.3\" font-family=\"Helvetica,sans-Serif\" font-size=\"14.00\" fill=\"#000000\">samples = 2</text>\n<text text-anchor=\"start\" x=\"1035\" y=\"-202.3\" font-family=\"Helvetica,sans-Serif\" font-size=\"14.00\" fill=\"#000000\">value = [2, 0]</text>\n</g>\n<!-- 51&#45;&gt;52 -->\n<g id=\"edge52\" class=\"edge\">\n<title>51&#45;&gt;52</title>\n<path fill=\"none\" stroke=\"#000000\" d=\"M1076.5,-288.8089C1076.5,-278.9777 1076.5,-268.0898 1076.5,-257.9679\"/>\n<polygon fill=\"#000000\" stroke=\"#000000\" points=\"1080.0001,-257.7735 1076.5,-247.7735 1073.0001,-257.7736 1080.0001,-257.7735\"/>\n</g>\n<!-- 53 -->\n<g id=\"node54\" class=\"node\">\n<title>53</title>\n<path fill=\"#399de5\" stroke=\"#000000\" d=\"M1234,-247.5C1234,-247.5 1157,-247.5 1157,-247.5 1151,-247.5 1145,-241.5 1145,-235.5 1145,-235.5 1145,-206.5 1145,-206.5 1145,-200.5 1151,-194.5 1157,-194.5 1157,-194.5 1234,-194.5 1234,-194.5 1240,-194.5 1246,-200.5 1246,-206.5 1246,-206.5 1246,-235.5 1246,-235.5 1246,-241.5 1240,-247.5 1234,-247.5\"/>\n<text text-anchor=\"start\" x=\"1153\" y=\"-232.3\" font-family=\"Helvetica,sans-Serif\" font-size=\"14.00\" fill=\"#000000\">entropy = 0.0</text>\n<text text-anchor=\"start\" x=\"1156\" y=\"-217.3\" font-family=\"Helvetica,sans-Serif\" font-size=\"14.00\" fill=\"#000000\">samples = 1</text>\n<text text-anchor=\"start\" x=\"1154\" y=\"-202.3\" font-family=\"Helvetica,sans-Serif\" font-size=\"14.00\" fill=\"#000000\">value = [0, 1]</text>\n</g>\n<!-- 51&#45;&gt;53 -->\n<g id=\"edge53\" class=\"edge\">\n<title>51&#45;&gt;53</title>\n<path fill=\"none\" stroke=\"#000000\" d=\"M1114.8074,-288.8089C1127.8612,-277.8393 1142.4804,-265.5543 1155.6522,-254.4855\"/>\n<polygon fill=\"#000000\" stroke=\"#000000\" points=\"1158.2354,-256.8865 1163.6395,-247.7735 1153.732,-251.5275 1158.2354,-256.8865\"/>\n</g>\n<!-- 59 -->\n<g id=\"node60\" class=\"node\">\n<title>59</title>\n<path fill=\"#e99355\" stroke=\"#000000\" d=\"M1244.5,-753C1244.5,-753 1150.5,-753 1150.5,-753 1144.5,-753 1138.5,-747 1138.5,-741 1138.5,-741 1138.5,-701 1138.5,-701 1138.5,-695 1144.5,-689 1150.5,-689 1150.5,-689 1244.5,-689 1244.5,-689 1250.5,-689 1256.5,-695 1256.5,-701 1256.5,-701 1256.5,-741 1256.5,-741 1256.5,-747 1250.5,-753 1244.5,-753\"/>\n<text text-anchor=\"start\" x=\"1160.5\" y=\"-738.8\" font-family=\"Helvetica,sans-Serif\" font-size=\"14.00\" fill=\"#000000\">X</text>\n<text text-anchor=\"start\" x=\"1170.5\" y=\"-738.8\" font-family=\"Helvetica,sans-Serif\" baseline-shift=\"sub\" font-size=\"14.00\" fill=\"#000000\">1</text>\n<text text-anchor=\"start\" x=\"1177.5\" y=\"-738.8\" font-family=\"Helvetica,sans-Serif\" font-size=\"14.00\" fill=\"#000000\"> ≤ &#45;1.038</text>\n<text text-anchor=\"start\" x=\"1146.5\" y=\"-724.8\" font-family=\"Helvetica,sans-Serif\" font-size=\"14.00\" fill=\"#000000\">entropy = 0.544</text>\n<text text-anchor=\"start\" x=\"1158\" y=\"-710.8\" font-family=\"Helvetica,sans-Serif\" font-size=\"14.00\" fill=\"#000000\">samples = 8</text>\n<text text-anchor=\"start\" x=\"1156\" y=\"-696.8\" font-family=\"Helvetica,sans-Serif\" font-size=\"14.00\" fill=\"#000000\">value = [7, 1]</text>\n</g>\n<!-- 58&#45;&gt;59 -->\n<g id=\"edge59\" class=\"edge\">\n<title>58&#45;&gt;59</title>\n<path fill=\"none\" stroke=\"#000000\" d=\"M1197.5,-788.8089C1197.5,-780.6906 1197.5,-771.8517 1197.5,-763.3186\"/>\n<polygon fill=\"#000000\" stroke=\"#000000\" points=\"1201.0001,-763.1307 1197.5,-753.1308 1194.0001,-763.1308 1201.0001,-763.1307\"/>\n</g>\n<!-- 62 -->\n<g id=\"node63\" class=\"node\">\n<title>62</title>\n<path fill=\"#e58139\" stroke=\"#000000\" d=\"M1370,-747.5C1370,-747.5 1287,-747.5 1287,-747.5 1281,-747.5 1275,-741.5 1275,-735.5 1275,-735.5 1275,-706.5 1275,-706.5 1275,-700.5 1281,-694.5 1287,-694.5 1287,-694.5 1370,-694.5 1370,-694.5 1376,-694.5 1382,-700.5 1382,-706.5 1382,-706.5 1382,-735.5 1382,-735.5 1382,-741.5 1376,-747.5 1370,-747.5\"/>\n<text text-anchor=\"start\" x=\"1286\" y=\"-732.3\" font-family=\"Helvetica,sans-Serif\" font-size=\"14.00\" fill=\"#000000\">entropy = 0.0</text>\n<text text-anchor=\"start\" x=\"1284.5\" y=\"-717.3\" font-family=\"Helvetica,sans-Serif\" font-size=\"14.00\" fill=\"#000000\">samples = 30</text>\n<text text-anchor=\"start\" x=\"1283\" y=\"-702.3\" font-family=\"Helvetica,sans-Serif\" font-size=\"14.00\" fill=\"#000000\">value = [30, 0]</text>\n</g>\n<!-- 58&#45;&gt;62 -->\n<g id=\"edge62\" class=\"edge\">\n<title>58&#45;&gt;62</title>\n<path fill=\"none\" stroke=\"#000000\" d=\"M1239.6703,-788.8089C1254.3116,-777.6324 1270.7418,-765.0902 1285.453,-753.8603\"/>\n<polygon fill=\"#000000\" stroke=\"#000000\" points=\"1287.6016,-756.6234 1293.4267,-747.7735 1283.3542,-751.0592 1287.6016,-756.6234\"/>\n</g>\n<!-- 60 -->\n<g id=\"node61\" class=\"node\">\n<title>60</title>\n<path fill=\"#e58139\" stroke=\"#000000\" d=\"M1230,-647.5C1230,-647.5 1153,-647.5 1153,-647.5 1147,-647.5 1141,-641.5 1141,-635.5 1141,-635.5 1141,-606.5 1141,-606.5 1141,-600.5 1147,-594.5 1153,-594.5 1153,-594.5 1230,-594.5 1230,-594.5 1236,-594.5 1242,-600.5 1242,-606.5 1242,-606.5 1242,-635.5 1242,-635.5 1242,-641.5 1236,-647.5 1230,-647.5\"/>\n<text text-anchor=\"start\" x=\"1149\" y=\"-632.3\" font-family=\"Helvetica,sans-Serif\" font-size=\"14.00\" fill=\"#000000\">entropy = 0.0</text>\n<text text-anchor=\"start\" x=\"1152\" y=\"-617.3\" font-family=\"Helvetica,sans-Serif\" font-size=\"14.00\" fill=\"#000000\">samples = 7</text>\n<text text-anchor=\"start\" x=\"1150\" y=\"-602.3\" font-family=\"Helvetica,sans-Serif\" font-size=\"14.00\" fill=\"#000000\">value = [7, 0]</text>\n</g>\n<!-- 59&#45;&gt;60 -->\n<g id=\"edge60\" class=\"edge\">\n<title>59&#45;&gt;60</title>\n<path fill=\"none\" stroke=\"#000000\" d=\"M1195.5685,-688.8089C1194.9787,-678.9777 1194.3254,-668.0898 1193.7181,-657.9679\"/>\n<polygon fill=\"#000000\" stroke=\"#000000\" points=\"1197.1991,-657.5459 1193.1064,-647.7735 1190.2117,-657.9652 1197.1991,-657.5459\"/>\n</g>\n<!-- 61 -->\n<g id=\"node62\" class=\"node\">\n<title>61</title>\n<path fill=\"#399de5\" stroke=\"#000000\" d=\"M1349,-647.5C1349,-647.5 1272,-647.5 1272,-647.5 1266,-647.5 1260,-641.5 1260,-635.5 1260,-635.5 1260,-606.5 1260,-606.5 1260,-600.5 1266,-594.5 1272,-594.5 1272,-594.5 1349,-594.5 1349,-594.5 1355,-594.5 1361,-600.5 1361,-606.5 1361,-606.5 1361,-635.5 1361,-635.5 1361,-641.5 1355,-647.5 1349,-647.5\"/>\n<text text-anchor=\"start\" x=\"1268\" y=\"-632.3\" font-family=\"Helvetica,sans-Serif\" font-size=\"14.00\" fill=\"#000000\">entropy = 0.0</text>\n<text text-anchor=\"start\" x=\"1271\" y=\"-617.3\" font-family=\"Helvetica,sans-Serif\" font-size=\"14.00\" fill=\"#000000\">samples = 1</text>\n<text text-anchor=\"start\" x=\"1269\" y=\"-602.3\" font-family=\"Helvetica,sans-Serif\" font-size=\"14.00\" fill=\"#000000\">value = [0, 1]</text>\n</g>\n<!-- 59&#45;&gt;61 -->\n<g id=\"edge61\" class=\"edge\">\n<title>59&#45;&gt;61</title>\n<path fill=\"none\" stroke=\"#000000\" d=\"M1233.8759,-688.8089C1246.2715,-677.8393 1260.1537,-665.5543 1272.6613,-654.4855\"/>\n<polygon fill=\"#000000\" stroke=\"#000000\" points=\"1275.0767,-657.0218 1280.2459,-647.7735 1270.4377,-651.7797 1275.0767,-657.0218\"/>\n</g>\n<!-- \\n -->\n<g id=\"node64\" class=\"node\">\n<title>\\n</title>\n<path fill=\"#000000\" stroke=\"#000000\" d=\"M991.5,-1039C991.5,-1039 961.5,-1039 961.5,-1039 955.5,-1039 949.5,-1033 949.5,-1027 949.5,-1027 949.5,-1015 949.5,-1015 949.5,-1009 955.5,-1003 961.5,-1003 961.5,-1003 991.5,-1003 991.5,-1003 997.5,-1003 1003.5,-1009 1003.5,-1015 1003.5,-1015 1003.5,-1027 1003.5,-1027 1003.5,-1033 997.5,-1039 991.5,-1039\"/>\n</g>\n</g>\n</svg>\n"
          },
          "metadata": {},
          "execution_count": 89
        }
      ]
    },
    {
      "cell_type": "code",
      "source": [
        "list(zip(X_reduced, decision_tree.feature_importances_))"
      ],
      "metadata": {
        "colab": {
          "base_uri": "https://localhost:8080/"
        },
        "id": "5eTf1J4DiDi2",
        "outputId": "f9e51cd4-dce1-4bab-8ec2-caa822de5cd0"
      },
      "execution_count": null,
      "outputs": [
        {
          "output_type": "execute_result",
          "data": {
            "text/plain": [
              "[(array([ 0.74773199, -0.26352372]), 0.17338510683086666),\n",
              " (array([-2.86150142, -1.3615978 ]), 0.049808418911361826),\n",
              " (array([-3.50234387,  1.3541968 ]), 0.055914412057254226),\n",
              " (array([-2.96850633, -2.09449979]), 0.04085941017222321),\n",
              " (array([-2.1842191,  1.6769632]), 0.12184396823894603),\n",
              " (array([ 0.73308699, -0.76676219]), 0.021765554741862227),\n",
              " (array([-2.21038688,  3.4702259 ]), 0.0),\n",
              " (array([-1.11587359, -3.25358867]), 0.0),\n",
              " (array([-1.30375442, -3.20635867]), 0.016421172124587543),\n",
              " (array([-2.8802034, -1.8450964]), 0.0),\n",
              " (array([-2.05584634, -1.99270084]), 0.030125791555628854),\n",
              " (array([-3.72397007,  0.77804172]), 0.02795561474635383),\n",
              " (array([-2.86172411, -1.95694644]), 0.0),\n",
              " (array([1.06275519, 0.61924467]), 0.0),\n",
              " (array([-2.5965572 ,  1.72872088]), 0.05470432894650948),\n",
              " (array([-2.42026254,  1.83673039]), 0.0),\n",
              " (array([-3.89264902,  0.68533087]), 0.0),\n",
              " (array([-3.76545088,  2.29521999]), 0.0610570834673236),\n",
              " (array([-2.01230342, -1.86574576]), 0.02384296580051514),\n",
              " (array([-4.05657365,  0.37109901]), 0.0),\n",
              " (array([ 1.51955664, -1.72090312]), 0.0),\n",
              " (array([-1.66923538, -2.1228096 ]), 0.0),\n",
              " (array([-2.03614237, -1.86728228]), 0.059410007641045634),\n",
              " (array([-0.20491071, -1.08872765]), 0.03640382060649689),\n",
              " (array([ 0.84242049, -3.02030156]), 0.0),\n",
              " (array([-4.81810264,  0.8758964 ]), 0.0),\n",
              " (array([-2.47041834, -2.29963344]), 0.0),\n",
              " (array([-2.87689491, -2.13450577]), 0.0),\n",
              " (array([-3.64767947,  2.0320194 ]), 0.22650234415902482),\n",
              " (array([-1.71466235, -1.00737734]), 0.0)]"
            ]
          },
          "metadata": {},
          "execution_count": 90
        }
      ]
    },
    {
      "cell_type": "code",
      "source": [
        "#foret aleatoire pour isomap\n",
        "from sklearn.ensemble import RandomForestClassifier\n",
        "\n",
        "foret_aleatoire_isomap = RandomForestClassifier(n_estimators=50, max_depth=11)\n",
        "foret_aleatoire_isomap.fit(X_train, y_train)\n",
        "print('Accuracy val = ',foret_aleatoire_isomap.score(X_val, y_val))\n",
        "print('Accuracy test = ',foret_aleatoire_isomap.score(X_test, y_test))"
      ],
      "metadata": {
        "colab": {
          "base_uri": "https://localhost:8080/"
        },
        "id": "YNfqMxGGiJQk",
        "outputId": "845a0de1-a0e9-4e75-fbb2-e721b655206a"
      },
      "execution_count": null,
      "outputs": [
        {
          "output_type": "stream",
          "name": "stdout",
          "text": [
            "Accuracy val =  0.813953488372093\n",
            "Accuracy test =  0.8351648351648352\n"
          ]
        }
      ]
    },
    {
      "cell_type": "code",
      "source": [
        "param_grid = [{'n_estimators': [10,30,50,100,200], 'max_depth': [10,15,20,30,50]}]"
      ],
      "metadata": {
        "id": "8LWbzgbxipAm"
      },
      "execution_count": null,
      "outputs": []
    },
    {
      "cell_type": "code",
      "source": [
        "from sklearn.model_selection import GridSearchCV\n",
        "X_train, X_test, y_train, y_test = train_test_split(X_reduced, Y, test_size=0.3, stratify=Y, random_state=0)\n",
        "rf = RandomForestClassifier()\n",
        "\n",
        "clf = GridSearchCV(rf, param_grid, cv=5)"
      ],
      "metadata": {
        "id": "e5agIeItisrC"
      },
      "execution_count": null,
      "outputs": []
    },
    {
      "cell_type": "code",
      "source": [
        "clf.fit(X_train, y_train)"
      ],
      "metadata": {
        "colab": {
          "base_uri": "https://localhost:8080/"
        },
        "id": "Ss7FtMPgisyO",
        "outputId": "2b36a3e7-8514-44bc-ad05-1d48c9de82ea"
      },
      "execution_count": null,
      "outputs": [
        {
          "output_type": "execute_result",
          "data": {
            "text/plain": [
              "GridSearchCV(cv=5, estimator=RandomForestClassifier(),\n",
              "             param_grid=[{'max_depth': [10, 15, 20, 30, 50],\n",
              "                          'n_estimators': [10, 30, 50, 100, 200]}])"
            ]
          },
          "metadata": {},
          "execution_count": 48
        }
      ]
    },
    {
      "cell_type": "code",
      "source": [
        "print(clf.best_params_)"
      ],
      "metadata": {
        "colab": {
          "base_uri": "https://localhost:8080/"
        },
        "id": "jQ9WPiQ3is35",
        "outputId": "1bb10b27-2244-4623-b971-9a59dccc4483"
      },
      "execution_count": null,
      "outputs": [
        {
          "output_type": "stream",
          "name": "stdout",
          "text": [
            "{'max_depth': 30, 'n_estimators': 50}\n"
          ]
        }
      ]
    },
    {
      "cell_type": "code",
      "source": [
        "accuracy = np.array(clf.cv_results_['mean_test_score']).reshape(\n",
        "    len(param_grid[0]['n_estimators']), len(param_grid[0]['max_depth']))\n",
        "accuracy"
      ],
      "metadata": {
        "colab": {
          "base_uri": "https://localhost:8080/"
        },
        "id": "EsLTsoldis8M",
        "outputId": "98970255-2168-45d8-8cf7-b1c84b460a2b"
      },
      "execution_count": null,
      "outputs": [
        {
          "output_type": "execute_result",
          "data": {
            "text/plain": [
              "array([[0.82059801, 0.80598007, 0.78726467, 0.80143965, 0.81539313],\n",
              "       [0.81063123, 0.81096346, 0.79667774, 0.80143965, 0.82491694],\n",
              "       [0.81040975, 0.81085271, 0.80155039, 0.81085271, 0.8248062 ],\n",
              "       [0.81085271, 0.80598007, 0.82502769, 0.81550388, 0.80620155],\n",
              "       [0.80598007, 0.81074197, 0.80143965, 0.82502769, 0.81550388]])"
            ]
          },
          "metadata": {},
          "execution_count": 50
        }
      ]
    },
    {
      "cell_type": "code",
      "source": [
        "plt.imshow(accuracy, cmap='hot')"
      ],
      "metadata": {
        "colab": {
          "base_uri": "https://localhost:8080/",
          "height": 282
        },
        "id": "vXVte95Mis_U",
        "outputId": "3e89a1e2-866e-4ad0-c2f5-6affad02c365"
      },
      "execution_count": null,
      "outputs": [
        {
          "output_type": "execute_result",
          "data": {
            "text/plain": [
              "<matplotlib.image.AxesImage at 0x7f0c69299c90>"
            ]
          },
          "metadata": {},
          "execution_count": 51
        },
        {
          "output_type": "display_data",
          "data": {
            "text/plain": [
              "<Figure size 432x288 with 1 Axes>"
            ],
            "image/png": "[encoded data removed]"
          },
          "metadata": {
            "needs_background": "light"
          }
        }
      ]
    },
    {
      "cell_type": "code",
      "source": [
        "#test avec test set\n",
        "clf.score(X_test, y_test)"
      ],
      "metadata": {
        "colab": {
          "base_uri": "https://localhost:8080/"
        },
        "id": "_vHtlekxitEo",
        "outputId": "c9cb30e4-9d9c-474b-c66e-0077e58d8668"
      },
      "execution_count": null,
      "outputs": [
        {
          "output_type": "execute_result",
          "data": {
            "text/plain": [
              "0.7912087912087912"
            ]
          },
          "metadata": {},
          "execution_count": 52
        }
      ]
    },
    {
      "cell_type": "markdown",
      "source": [
        "**Random Forest avec PCA**"
      ],
      "metadata": {
        "id": "fjcRShXjmvCZ"
      }
    },
    {
      "cell_type": "code",
      "source": [
        "from sklearn.decomposition import PCA\n",
        "from sklearn import manifold\n",
        "from sklearn.cluster import KMeans\n",
        "\n",
        "X_pca = PCA(n_components=2).fit_transform(X)\n",
        "print(X.shape)\n",
        "print(X_pca.shape)"
      ],
      "metadata": {
        "colab": {
          "base_uri": "https://localhost:8080/"
        },
        "id": "hCN_9xI9m156",
        "outputId": "70cc0b8f-3af6-4bd0-9b02-f1fad444cc83"
      },
      "execution_count": null,
      "outputs": [
        {
          "output_type": "stream",
          "name": "stdout",
          "text": [
            "(303, 30)\n",
            "(303, 2)\n"
          ]
        }
      ]
    },
    {
      "cell_type": "code",
      "source": [
        "#X = df[X_col_names_reels + col_names_cp]\n",
        "#ici dataset est X_copie\n",
        "X_train, X_test, y_train, y_test = train_test_split(X_pca, Y, test_size=0.3, stratify=Y, random_state=0)\n",
        "X_train, X_val, y_train, y_val = train_test_split(X_train, y_train, test_size=0.2, random_state=0)\n",
        "print('X_train, X_val, X_test, Y_train, Y_val, Y_test', X_train.shape,X_test.shape,y_train.shape,y_test.shape)\n",
        "#X_train"
      ],
      "metadata": {
        "colab": {
          "base_uri": "https://localhost:8080/"
        },
        "id": "5xoBJxMmnQcH",
        "outputId": "9d038d44-425f-4eb1-f650-b893210fde07"
      },
      "execution_count": null,
      "outputs": [
        {
          "output_type": "stream",
          "name": "stdout",
          "text": [
            "X_train, X_val, X_test, Y_train, Y_val, Y_test (169, 2) (91, 2) (169,) (91,)\n"
          ]
        }
      ]
    },
    {
      "cell_type": "code",
      "source": [
        "#arbre decision avec PCA\n",
        "decision_tree_pca = tree.DecisionTreeClassifier(criterion='entropy', max_depth=10)\n",
        "decision_tree_pca = decision_tree_pca.fit(X_train, y_train)\n",
        "print('Accuracy = ',decision_tree_pca.score(X_test, y_test))"
      ],
      "metadata": {
        "colab": {
          "base_uri": "https://localhost:8080/"
        },
        "id": "bz5jedDcnVdw",
        "outputId": "3211acb3-c68a-465f-98f0-374a65b32e48"
      },
      "execution_count": null,
      "outputs": [
        {
          "output_type": "stream",
          "name": "stdout",
          "text": [
            "Accuracy =  0.7802197802197802\n"
          ]
        }
      ]
    },
    {
      "cell_type": "code",
      "source": [
        "import pydotplus\n",
        "from graphviz import Source\n",
        "\n",
        "dot_data = tree.export_graphviz(decision_tree_pca, out_file=None,  \n",
        "                         filled=True, rounded=True,  \n",
        "                         special_characters=True) \n",
        "'''\n",
        "export_graphviz(\n",
        "        decision_tree,\n",
        "        out_file=os.path.join(IMAGES_PATH, \"iris_tree.dot\"),\n",
        "        feature_names=X_copie.columns,\n",
        "        rounded=True,\n",
        "        filled=True\n",
        "    )\n",
        "Source.from_file(os.path.join(IMAGES_PATH, \"tree.dot\"))\n",
        "\n",
        "'''\n",
        "pydot_graph = pydotplus.graph_from_dot_data(dot_data)\n",
        "pydot_graph.set_size('\"9,9!\"')\n",
        "graph = graphviz.Source(pydot_graph.to_string())\n",
        "graph"
      ],
      "metadata": {
        "colab": {
          "base_uri": "https://localhost:8080/",
          "height": 776
        },
        "id": "nIYKZ9zknVw2",
        "outputId": "270c9bb9-03ec-450f-d324-b14b9cfd2a31"
      },
      "execution_count": null,
      "outputs": [
        {
          "output_type": "execute_result",
          "data": {
            "text/plain": [
              "<graphviz.files.Source at 0x7f0c66bb41d0>"
            ],
            "image/svg+xml": "<?xml version=\"1.0\" encoding=\"UTF-8\" standalone=\"no\"?>\n<!DOCTYPE svg PUBLIC \"-//W3C//DTD SVG 1.1//EN\"\n \"http://www.w3.org/Graphics/SVG/1.1/DTD/svg11.dtd\">\n<!-- Generated by graphviz version 2.40.1 (20161225.0304)\n -->\n<!-- Title: Tree Pages: 1 -->\n<svg width=\"648pt\" height=\"566pt\"\n viewBox=\"0.00 0.00 648.00 566.33\" xmlns=\"http://www.w3.org/2000/svg\" xmlns:xlink=\"http://www.w3.org/1999/xlink\">\n<g id=\"graph0\" class=\"graph\" transform=\"scale(.5338 .5338) rotate(0) translate(4 1057)\">\n<title>Tree</title>\n<polygon fill=\"#ffffff\" stroke=\"transparent\" points=\"-4,4 -4,-1057 1210,-1057 1210,4 -4,4\"/>\n<!-- 0 -->\n<g id=\"node1\" class=\"node\">\n<title>0</title>\n<path fill=\"#dbedfa\" stroke=\"#000000\" d=\"M502.5,-1053C502.5,-1053 408.5,-1053 408.5,-1053 402.5,-1053 396.5,-1047 396.5,-1041 396.5,-1041 396.5,-1001 396.5,-1001 396.5,-995 402.5,-989 408.5,-989 408.5,-989 502.5,-989 502.5,-989 508.5,-989 514.5,-995 514.5,-1001 514.5,-1001 514.5,-1041 514.5,-1041 514.5,-1047 508.5,-1053 502.5,-1053\"/>\n<text text-anchor=\"start\" x=\"418.5\" y=\"-1038.8\" font-family=\"Helvetica,sans-Serif\" font-size=\"14.00\" fill=\"#000000\">X</text>\n<text text-anchor=\"start\" x=\"428.5\" y=\"-1038.8\" font-family=\"Helvetica,sans-Serif\" baseline-shift=\"sub\" font-size=\"14.00\" fill=\"#000000\">0</text>\n<text text-anchor=\"start\" x=\"435.5\" y=\"-1038.8\" font-family=\"Helvetica,sans-Serif\" font-size=\"14.00\" fill=\"#000000\"> ≤ &#45;0.182</text>\n<text text-anchor=\"start\" x=\"404.5\" y=\"-1024.8\" font-family=\"Helvetica,sans-Serif\" font-size=\"14.00\" fill=\"#000000\">entropy = 0.993</text>\n<text text-anchor=\"start\" x=\"407.5\" y=\"-1010.8\" font-family=\"Helvetica,sans-Serif\" font-size=\"14.00\" fill=\"#000000\">samples = 169</text>\n<text text-anchor=\"start\" x=\"405.5\" y=\"-996.8\" font-family=\"Helvetica,sans-Serif\" font-size=\"14.00\" fill=\"#000000\">value = [76, 93]</text>\n</g>\n<!-- 1 -->\n<g id=\"node2\" class=\"node\">\n<title>1</title>\n<path fill=\"#4ea7e8\" stroke=\"#000000\" d=\"M434.5,-953C434.5,-953 340.5,-953 340.5,-953 334.5,-953 328.5,-947 328.5,-941 328.5,-941 328.5,-901 328.5,-901 328.5,-895 334.5,-889 340.5,-889 340.5,-889 434.5,-889 434.5,-889 440.5,-889 446.5,-895 446.5,-901 446.5,-901 446.5,-941 446.5,-941 446.5,-947 440.5,-953 434.5,-953\"/>\n<text text-anchor=\"start\" x=\"350.5\" y=\"-938.8\" font-family=\"Helvetica,sans-Serif\" font-size=\"14.00\" fill=\"#000000\">X</text>\n<text text-anchor=\"start\" x=\"360.5\" y=\"-938.8\" font-family=\"Helvetica,sans-Serif\" baseline-shift=\"sub\" font-size=\"14.00\" fill=\"#000000\">0</text>\n<text text-anchor=\"start\" x=\"367.5\" y=\"-938.8\" font-family=\"Helvetica,sans-Serif\" font-size=\"14.00\" fill=\"#000000\"> ≤ &#45;0.938</text>\n<text text-anchor=\"start\" x=\"336.5\" y=\"-924.8\" font-family=\"Helvetica,sans-Serif\" font-size=\"14.00\" fill=\"#000000\">entropy = 0.457</text>\n<text text-anchor=\"start\" x=\"343.5\" y=\"-910.8\" font-family=\"Helvetica,sans-Serif\" font-size=\"14.00\" fill=\"#000000\">samples = 83</text>\n<text text-anchor=\"start\" x=\"342\" y=\"-896.8\" font-family=\"Helvetica,sans-Serif\" font-size=\"14.00\" fill=\"#000000\">value = [8, 75]</text>\n</g>\n<!-- 0&#45;&gt;1 -->\n<g id=\"edge1\" class=\"edge\">\n<title>0&#45;&gt;1</title>\n<path fill=\"none\" stroke=\"#000000\" d=\"M433.6101,-988.8089C427.7256,-980.1553 421.2844,-970.683 415.1318,-961.635\"/>\n<polygon fill=\"#000000\" stroke=\"#000000\" points=\"417.8663,-959.4319 409.3489,-953.1308 412.0778,-963.3681 417.8663,-959.4319\"/>\n<text text-anchor=\"middle\" x=\"404.6711\" y=\"-973.9892\" font-family=\"Helvetica,sans-Serif\" font-size=\"14.00\" fill=\"#000000\">True</text>\n</g>\n<!-- 20 -->\n<g id=\"node21\" class=\"node\">\n<title>20</title>\n<path fill=\"#eca26d\" stroke=\"#000000\" d=\"M634.5,-953C634.5,-953 542.5,-953 542.5,-953 536.5,-953 530.5,-947 530.5,-941 530.5,-941 530.5,-901 530.5,-901 530.5,-895 536.5,-889 542.5,-889 542.5,-889 634.5,-889 634.5,-889 640.5,-889 646.5,-895 646.5,-901 646.5,-901 646.5,-941 646.5,-941 646.5,-947 640.5,-953 634.5,-953\"/>\n<text text-anchor=\"start\" x=\"554\" y=\"-938.8\" font-family=\"Helvetica,sans-Serif\" font-size=\"14.00\" fill=\"#000000\">X</text>\n<text text-anchor=\"start\" x=\"564\" y=\"-938.8\" font-family=\"Helvetica,sans-Serif\" baseline-shift=\"sub\" font-size=\"14.00\" fill=\"#000000\">0</text>\n<text text-anchor=\"start\" x=\"571\" y=\"-938.8\" font-family=\"Helvetica,sans-Serif\" font-size=\"14.00\" fill=\"#000000\"> ≤ 0.566</text>\n<text text-anchor=\"start\" x=\"541.5\" y=\"-924.8\" font-family=\"Helvetica,sans-Serif\" font-size=\"14.00\" fill=\"#000000\">entropy = 0.74</text>\n<text text-anchor=\"start\" x=\"544.5\" y=\"-910.8\" font-family=\"Helvetica,sans-Serif\" font-size=\"14.00\" fill=\"#000000\">samples = 86</text>\n<text text-anchor=\"start\" x=\"538.5\" y=\"-896.8\" font-family=\"Helvetica,sans-Serif\" font-size=\"14.00\" fill=\"#000000\">value = [68, 18]</text>\n</g>\n<!-- 0&#45;&gt;20 -->\n<g id=\"edge20\" class=\"edge\">\n<title>0&#45;&gt;20</title>\n<path fill=\"none\" stroke=\"#000000\" d=\"M498.3141,-988.8089C510.7727,-979.4416 524.507,-969.115 537.4204,-959.4057\"/>\n<polygon fill=\"#000000\" stroke=\"#000000\" points=\"539.8767,-961.9379 545.7661,-953.1308 535.6699,-956.3429 539.8767,-961.9379\"/>\n<text text-anchor=\"middle\" x=\"542.2603\" y=\"-974.1837\" font-family=\"Helvetica,sans-Serif\" font-size=\"14.00\" fill=\"#000000\">False</text>\n</g>\n<!-- 2 -->\n<g id=\"node3\" class=\"node\">\n<title>2</title>\n<path fill=\"#399de5\" stroke=\"#000000\" d=\"M298,-847.5C298,-847.5 215,-847.5 215,-847.5 209,-847.5 203,-841.5 203,-835.5 203,-835.5 203,-806.5 203,-806.5 203,-800.5 209,-794.5 215,-794.5 215,-794.5 298,-794.5 298,-794.5 304,-794.5 310,-800.5 310,-806.5 310,-806.5 310,-835.5 310,-835.5 310,-841.5 304,-847.5 298,-847.5\"/>\n<text text-anchor=\"start\" x=\"214\" y=\"-832.3\" font-family=\"Helvetica,sans-Serif\" font-size=\"14.00\" fill=\"#000000\">entropy = 0.0</text>\n<text text-anchor=\"start\" x=\"212.5\" y=\"-817.3\" font-family=\"Helvetica,sans-Serif\" font-size=\"14.00\" fill=\"#000000\">samples = 40</text>\n<text text-anchor=\"start\" x=\"211\" y=\"-802.3\" font-family=\"Helvetica,sans-Serif\" font-size=\"14.00\" fill=\"#000000\">value = [0, 40]</text>\n</g>\n<!-- 1&#45;&gt;2 -->\n<g id=\"edge2\" class=\"edge\">\n<title>1&#45;&gt;2</title>\n<path fill=\"none\" stroke=\"#000000\" d=\"M345.3297,-888.8089C330.6884,-877.6324 314.2582,-865.0902 299.547,-853.8603\"/>\n<polygon fill=\"#000000\" stroke=\"#000000\" points=\"301.6458,-851.0592 291.5733,-847.7735 297.3984,-856.6234 301.6458,-851.0592\"/>\n</g>\n<!-- 3 -->\n<g id=\"node4\" class=\"node\">\n<title>3</title>\n<path fill=\"#66b3eb\" stroke=\"#000000\" d=\"M434.5,-853C434.5,-853 340.5,-853 340.5,-853 334.5,-853 328.5,-847 328.5,-841 328.5,-841 328.5,-801 328.5,-801 328.5,-795 334.5,-789 340.5,-789 340.5,-789 434.5,-789 434.5,-789 440.5,-789 446.5,-795 446.5,-801 446.5,-801 446.5,-841 446.5,-841 446.5,-847 440.5,-853 434.5,-853\"/>\n<text text-anchor=\"start\" x=\"350.5\" y=\"-838.8\" font-family=\"Helvetica,sans-Serif\" font-size=\"14.00\" fill=\"#000000\">X</text>\n<text text-anchor=\"start\" x=\"360.5\" y=\"-838.8\" font-family=\"Helvetica,sans-Serif\" baseline-shift=\"sub\" font-size=\"14.00\" fill=\"#000000\">0</text>\n<text text-anchor=\"start\" x=\"367.5\" y=\"-838.8\" font-family=\"Helvetica,sans-Serif\" font-size=\"14.00\" fill=\"#000000\"> ≤ &#45;0.278</text>\n<text text-anchor=\"start\" x=\"336.5\" y=\"-824.8\" font-family=\"Helvetica,sans-Serif\" font-size=\"14.00\" fill=\"#000000\">entropy = 0.693</text>\n<text text-anchor=\"start\" x=\"343.5\" y=\"-810.8\" font-family=\"Helvetica,sans-Serif\" font-size=\"14.00\" fill=\"#000000\">samples = 43</text>\n<text text-anchor=\"start\" x=\"342\" y=\"-796.8\" font-family=\"Helvetica,sans-Serif\" font-size=\"14.00\" fill=\"#000000\">value = [8, 35]</text>\n</g>\n<!-- 1&#45;&gt;3 -->\n<g id=\"edge3\" class=\"edge\">\n<title>1&#45;&gt;3</title>\n<path fill=\"none\" stroke=\"#000000\" d=\"M387.5,-888.8089C387.5,-880.6906 387.5,-871.8517 387.5,-863.3186\"/>\n<polygon fill=\"#000000\" stroke=\"#000000\" points=\"391.0001,-863.1307 387.5,-853.1308 384.0001,-863.1308 391.0001,-863.1307\"/>\n</g>\n<!-- 4 -->\n<g id=\"node5\" class=\"node\">\n<title>4</title>\n<path fill=\"#74baed\" stroke=\"#000000\" d=\"M304.5,-753C304.5,-753 210.5,-753 210.5,-753 204.5,-753 198.5,-747 198.5,-741 198.5,-741 198.5,-701 198.5,-701 198.5,-695 204.5,-689 210.5,-689 210.5,-689 304.5,-689 304.5,-689 310.5,-689 316.5,-695 316.5,-701 316.5,-701 316.5,-741 316.5,-741 316.5,-747 310.5,-753 304.5,-753\"/>\n<text text-anchor=\"start\" x=\"220.5\" y=\"-738.8\" font-family=\"Helvetica,sans-Serif\" font-size=\"14.00\" fill=\"#000000\">X</text>\n<text text-anchor=\"start\" x=\"230.5\" y=\"-738.8\" font-family=\"Helvetica,sans-Serif\" baseline-shift=\"sub\" font-size=\"14.00\" fill=\"#000000\">0</text>\n<text text-anchor=\"start\" x=\"237.5\" y=\"-738.8\" font-family=\"Helvetica,sans-Serif\" font-size=\"14.00\" fill=\"#000000\"> ≤ &#45;0.931</text>\n<text text-anchor=\"start\" x=\"206.5\" y=\"-724.8\" font-family=\"Helvetica,sans-Serif\" font-size=\"14.00\" fill=\"#000000\">entropy = 0.776</text>\n<text text-anchor=\"start\" x=\"213.5\" y=\"-710.8\" font-family=\"Helvetica,sans-Serif\" font-size=\"14.00\" fill=\"#000000\">samples = 35</text>\n<text text-anchor=\"start\" x=\"212\" y=\"-696.8\" font-family=\"Helvetica,sans-Serif\" font-size=\"14.00\" fill=\"#000000\">value = [8, 27]</text>\n</g>\n<!-- 3&#45;&gt;4 -->\n<g id=\"edge4\" class=\"edge\">\n<title>3&#45;&gt;4</title>\n<path fill=\"none\" stroke=\"#000000\" d=\"M345.6516,-788.8089C333.4741,-779.4416 320.0495,-769.115 307.4274,-759.4057\"/>\n<polygon fill=\"#000000\" stroke=\"#000000\" points=\"309.3302,-756.4537 299.27,-753.1308 305.0622,-762.0021 309.3302,-756.4537\"/>\n</g>\n<!-- 19 -->\n<g id=\"node20\" class=\"node\">\n<title>19</title>\n<path fill=\"#399de5\" stroke=\"#000000\" d=\"M426,-747.5C426,-747.5 349,-747.5 349,-747.5 343,-747.5 337,-741.5 337,-735.5 337,-735.5 337,-706.5 337,-706.5 337,-700.5 343,-694.5 349,-694.5 349,-694.5 426,-694.5 426,-694.5 432,-694.5 438,-700.5 438,-706.5 438,-706.5 438,-735.5 438,-735.5 438,-741.5 432,-747.5 426,-747.5\"/>\n<text text-anchor=\"start\" x=\"345\" y=\"-732.3\" font-family=\"Helvetica,sans-Serif\" font-size=\"14.00\" fill=\"#000000\">entropy = 0.0</text>\n<text text-anchor=\"start\" x=\"348\" y=\"-717.3\" font-family=\"Helvetica,sans-Serif\" font-size=\"14.00\" fill=\"#000000\">samples = 8</text>\n<text text-anchor=\"start\" x=\"346\" y=\"-702.3\" font-family=\"Helvetica,sans-Serif\" font-size=\"14.00\" fill=\"#000000\">value = [0, 8]</text>\n</g>\n<!-- 3&#45;&gt;19 -->\n<g id=\"edge19\" class=\"edge\">\n<title>3&#45;&gt;19</title>\n<path fill=\"none\" stroke=\"#000000\" d=\"M387.5,-788.8089C387.5,-778.9777 387.5,-768.0898 387.5,-757.9679\"/>\n<polygon fill=\"#000000\" stroke=\"#000000\" points=\"391.0001,-757.7735 387.5,-747.7735 384.0001,-757.7736 391.0001,-757.7735\"/>\n</g>\n<!-- 5 -->\n<g id=\"node6\" class=\"node\">\n<title>5</title>\n<path fill=\"#e58139\" stroke=\"#000000\" d=\"M168,-647.5C168,-647.5 91,-647.5 91,-647.5 85,-647.5 79,-641.5 79,-635.5 79,-635.5 79,-606.5 79,-606.5 79,-600.5 85,-594.5 91,-594.5 91,-594.5 168,-594.5 168,-594.5 174,-594.5 180,-600.5 180,-606.5 180,-606.5 180,-635.5 180,-635.5 180,-641.5 174,-647.5 168,-647.5\"/>\n<text text-anchor=\"start\" x=\"87\" y=\"-632.3\" font-family=\"Helvetica,sans-Serif\" font-size=\"14.00\" fill=\"#000000\">entropy = 0.0</text>\n<text text-anchor=\"start\" x=\"90\" y=\"-617.3\" font-family=\"Helvetica,sans-Serif\" font-size=\"14.00\" fill=\"#000000\">samples = 1</text>\n<text text-anchor=\"start\" x=\"88\" y=\"-602.3\" font-family=\"Helvetica,sans-Serif\" font-size=\"14.00\" fill=\"#000000\">value = [1, 0]</text>\n</g>\n<!-- 4&#45;&gt;5 -->\n<g id=\"edge5\" class=\"edge\">\n<title>4&#45;&gt;5</title>\n<path fill=\"none\" stroke=\"#000000\" d=\"M216.2954,-688.8089C202.1219,-677.7359 186.2326,-665.3223 171.9609,-654.1726\"/>\n<polygon fill=\"#000000\" stroke=\"#000000\" points=\"173.8051,-651.1719 163.7701,-647.7735 169.4956,-656.6881 173.8051,-651.1719\"/>\n</g>\n<!-- 6 -->\n<g id=\"node7\" class=\"node\">\n<title>6</title>\n<path fill=\"#6cb6ec\" stroke=\"#000000\" d=\"M304.5,-653C304.5,-653 210.5,-653 210.5,-653 204.5,-653 198.5,-647 198.5,-641 198.5,-641 198.5,-601 198.5,-601 198.5,-595 204.5,-589 210.5,-589 210.5,-589 304.5,-589 304.5,-589 310.5,-589 316.5,-595 316.5,-601 316.5,-601 316.5,-641 316.5,-641 316.5,-647 310.5,-653 304.5,-653\"/>\n<text text-anchor=\"start\" x=\"224.5\" y=\"-638.8\" font-family=\"Helvetica,sans-Serif\" font-size=\"14.00\" fill=\"#000000\">X</text>\n<text text-anchor=\"start\" x=\"234.5\" y=\"-638.8\" font-family=\"Helvetica,sans-Serif\" baseline-shift=\"sub\" font-size=\"14.00\" fill=\"#000000\">0</text>\n<text text-anchor=\"start\" x=\"241.5\" y=\"-638.8\" font-family=\"Helvetica,sans-Serif\" font-size=\"14.00\" fill=\"#000000\"> ≤ &#45;0.82</text>\n<text text-anchor=\"start\" x=\"206.5\" y=\"-624.8\" font-family=\"Helvetica,sans-Serif\" font-size=\"14.00\" fill=\"#000000\">entropy = 0.734</text>\n<text text-anchor=\"start\" x=\"213.5\" y=\"-610.8\" font-family=\"Helvetica,sans-Serif\" font-size=\"14.00\" fill=\"#000000\">samples = 34</text>\n<text text-anchor=\"start\" x=\"212\" y=\"-596.8\" font-family=\"Helvetica,sans-Serif\" font-size=\"14.00\" fill=\"#000000\">value = [7, 27]</text>\n</g>\n<!-- 4&#45;&gt;6 -->\n<g id=\"edge6\" class=\"edge\">\n<title>4&#45;&gt;6</title>\n<path fill=\"none\" stroke=\"#000000\" d=\"M257.5,-688.8089C257.5,-680.6906 257.5,-671.8517 257.5,-663.3186\"/>\n<polygon fill=\"#000000\" stroke=\"#000000\" points=\"261.0001,-663.1307 257.5,-653.1308 254.0001,-663.1308 261.0001,-663.1307\"/>\n</g>\n<!-- 7 -->\n<g id=\"node8\" class=\"node\">\n<title>7</title>\n<path fill=\"#399de5\" stroke=\"#000000\" d=\"M175,-547.5C175,-547.5 98,-547.5 98,-547.5 92,-547.5 86,-541.5 86,-535.5 86,-535.5 86,-506.5 86,-506.5 86,-500.5 92,-494.5 98,-494.5 98,-494.5 175,-494.5 175,-494.5 181,-494.5 187,-500.5 187,-506.5 187,-506.5 187,-535.5 187,-535.5 187,-541.5 181,-547.5 175,-547.5\"/>\n<text text-anchor=\"start\" x=\"94\" y=\"-532.3\" font-family=\"Helvetica,sans-Serif\" font-size=\"14.00\" fill=\"#000000\">entropy = 0.0</text>\n<text text-anchor=\"start\" x=\"97\" y=\"-517.3\" font-family=\"Helvetica,sans-Serif\" font-size=\"14.00\" fill=\"#000000\">samples = 8</text>\n<text text-anchor=\"start\" x=\"95\" y=\"-502.3\" font-family=\"Helvetica,sans-Serif\" font-size=\"14.00\" fill=\"#000000\">value = [0, 8]</text>\n</g>\n<!-- 6&#45;&gt;7 -->\n<g id=\"edge7\" class=\"edge\">\n<title>6&#45;&gt;7</title>\n<path fill=\"none\" stroke=\"#000000\" d=\"M218.5488,-588.8089C205.1504,-577.7359 190.13,-565.3223 176.6388,-554.1726\"/>\n<polygon fill=\"#000000\" stroke=\"#000000\" points=\"178.8339,-551.4461 168.896,-547.7735 174.3746,-556.8419 178.8339,-551.4461\"/>\n</g>\n<!-- 8 -->\n<g id=\"node9\" class=\"node\">\n<title>8</title>\n<path fill=\"#82c1ef\" stroke=\"#000000\" d=\"M303.5,-553C303.5,-553 217.5,-553 217.5,-553 211.5,-553 205.5,-547 205.5,-541 205.5,-541 205.5,-501 205.5,-501 205.5,-495 211.5,-489 217.5,-489 217.5,-489 303.5,-489 303.5,-489 309.5,-489 315.5,-495 315.5,-501 315.5,-501 315.5,-541 315.5,-541 315.5,-547 309.5,-553 303.5,-553\"/>\n<text text-anchor=\"start\" x=\"223.5\" y=\"-538.8\" font-family=\"Helvetica,sans-Serif\" font-size=\"14.00\" fill=\"#000000\">X</text>\n<text text-anchor=\"start\" x=\"233.5\" y=\"-538.8\" font-family=\"Helvetica,sans-Serif\" baseline-shift=\"sub\" font-size=\"14.00\" fill=\"#000000\">0</text>\n<text text-anchor=\"start\" x=\"240.5\" y=\"-538.8\" font-family=\"Helvetica,sans-Serif\" font-size=\"14.00\" fill=\"#000000\"> ≤ &#45;0.753</text>\n<text text-anchor=\"start\" x=\"213.5\" y=\"-524.8\" font-family=\"Helvetica,sans-Serif\" font-size=\"14.00\" fill=\"#000000\">entropy = 0.84</text>\n<text text-anchor=\"start\" x=\"216.5\" y=\"-510.8\" font-family=\"Helvetica,sans-Serif\" font-size=\"14.00\" fill=\"#000000\">samples = 26</text>\n<text text-anchor=\"start\" x=\"215\" y=\"-496.8\" font-family=\"Helvetica,sans-Serif\" font-size=\"14.00\" fill=\"#000000\">value = [7, 19]</text>\n</g>\n<!-- 6&#45;&gt;8 -->\n<g id=\"edge8\" class=\"edge\">\n<title>6&#45;&gt;8</title>\n<path fill=\"none\" stroke=\"#000000\" d=\"M258.4657,-588.8089C258.7093,-580.6906 258.9744,-571.8517 259.2304,-563.3186\"/>\n<polygon fill=\"#000000\" stroke=\"#000000\" points=\"262.7345,-563.2312 259.5361,-553.1308 255.7377,-563.0213 262.7345,-563.2312\"/>\n</g>\n<!-- 9 -->\n<g id=\"node10\" class=\"node\">\n<title>9</title>\n<path fill=\"#e58139\" stroke=\"#000000\" d=\"M216,-447.5C216,-447.5 139,-447.5 139,-447.5 133,-447.5 127,-441.5 127,-435.5 127,-435.5 127,-406.5 127,-406.5 127,-400.5 133,-394.5 139,-394.5 139,-394.5 216,-394.5 216,-394.5 222,-394.5 228,-400.5 228,-406.5 228,-406.5 228,-435.5 228,-435.5 228,-441.5 222,-447.5 216,-447.5\"/>\n<text text-anchor=\"start\" x=\"135\" y=\"-432.3\" font-family=\"Helvetica,sans-Serif\" font-size=\"14.00\" fill=\"#000000\">entropy = 0.0</text>\n<text text-anchor=\"start\" x=\"138\" y=\"-417.3\" font-family=\"Helvetica,sans-Serif\" font-size=\"14.00\" fill=\"#000000\">samples = 3</text>\n<text text-anchor=\"start\" x=\"136\" y=\"-402.3\" font-family=\"Helvetica,sans-Serif\" font-size=\"14.00\" fill=\"#000000\">value = [3, 0]</text>\n</g>\n<!-- 8&#45;&gt;9 -->\n<g id=\"edge9\" class=\"edge\">\n<title>8&#45;&gt;9</title>\n<path fill=\"none\" stroke=\"#000000\" d=\"M233.7814,-488.8089C225.0202,-478.2533 215.248,-466.4796 206.3372,-455.7437\"/>\n<polygon fill=\"#000000\" stroke=\"#000000\" points=\"208.8019,-453.233 199.722,-447.7735 203.4156,-457.7037 208.8019,-453.233\"/>\n</g>\n<!-- 10 -->\n<g id=\"node11\" class=\"node\">\n<title>10</title>\n<path fill=\"#63b2ea\" stroke=\"#000000\" d=\"M352.5,-453C352.5,-453 258.5,-453 258.5,-453 252.5,-453 246.5,-447 246.5,-441 246.5,-441 246.5,-401 246.5,-401 246.5,-395 252.5,-389 258.5,-389 258.5,-389 352.5,-389 352.5,-389 358.5,-389 364.5,-395 364.5,-401 364.5,-401 364.5,-441 364.5,-441 364.5,-447 358.5,-453 352.5,-453\"/>\n<text text-anchor=\"start\" x=\"268.5\" y=\"-438.8\" font-family=\"Helvetica,sans-Serif\" font-size=\"14.00\" fill=\"#000000\">X</text>\n<text text-anchor=\"start\" x=\"278.5\" y=\"-438.8\" font-family=\"Helvetica,sans-Serif\" baseline-shift=\"sub\" font-size=\"14.00\" fill=\"#000000\">0</text>\n<text text-anchor=\"start\" x=\"285.5\" y=\"-438.8\" font-family=\"Helvetica,sans-Serif\" font-size=\"14.00\" fill=\"#000000\"> ≤ &#45;0.313</text>\n<text text-anchor=\"start\" x=\"254.5\" y=\"-424.8\" font-family=\"Helvetica,sans-Serif\" font-size=\"14.00\" fill=\"#000000\">entropy = 0.667</text>\n<text text-anchor=\"start\" x=\"261.5\" y=\"-410.8\" font-family=\"Helvetica,sans-Serif\" font-size=\"14.00\" fill=\"#000000\">samples = 23</text>\n<text text-anchor=\"start\" x=\"260\" y=\"-396.8\" font-family=\"Helvetica,sans-Serif\" font-size=\"14.00\" fill=\"#000000\">value = [4, 19]</text>\n</g>\n<!-- 8&#45;&gt;10 -->\n<g id=\"edge10\" class=\"edge\">\n<title>8&#45;&gt;10</title>\n<path fill=\"none\" stroke=\"#000000\" d=\"M274.986,-488.8089C278.7597,-480.4229 282.8793,-471.2681 286.8359,-462.4757\"/>\n<polygon fill=\"#000000\" stroke=\"#000000\" points=\"290.1292,-463.6863 291.0412,-453.1308 283.7457,-460.8137 290.1292,-463.6863\"/>\n</g>\n<!-- 11 -->\n<g id=\"node12\" class=\"node\">\n<title>11</title>\n<path fill=\"#58ace9\" stroke=\"#000000\" d=\"M331.5,-353C331.5,-353 237.5,-353 237.5,-353 231.5,-353 225.5,-347 225.5,-341 225.5,-341 225.5,-301 225.5,-301 225.5,-295 231.5,-289 237.5,-289 237.5,-289 331.5,-289 331.5,-289 337.5,-289 343.5,-295 343.5,-301 343.5,-301 343.5,-341 343.5,-341 343.5,-347 337.5,-353 331.5,-353\"/>\n<text text-anchor=\"start\" x=\"254\" y=\"-338.8\" font-family=\"Helvetica,sans-Serif\" font-size=\"14.00\" fill=\"#000000\">X</text>\n<text text-anchor=\"start\" x=\"264\" y=\"-338.8\" font-family=\"Helvetica,sans-Serif\" baseline-shift=\"sub\" font-size=\"14.00\" fill=\"#000000\">1</text>\n<text text-anchor=\"start\" x=\"271\" y=\"-338.8\" font-family=\"Helvetica,sans-Serif\" font-size=\"14.00\" fill=\"#000000\"> ≤ 0.24</text>\n<text text-anchor=\"start\" x=\"233.5\" y=\"-324.8\" font-family=\"Helvetica,sans-Serif\" font-size=\"14.00\" fill=\"#000000\">entropy = 0.575</text>\n<text text-anchor=\"start\" x=\"240.5\" y=\"-310.8\" font-family=\"Helvetica,sans-Serif\" font-size=\"14.00\" fill=\"#000000\">samples = 22</text>\n<text text-anchor=\"start\" x=\"239\" y=\"-296.8\" font-family=\"Helvetica,sans-Serif\" font-size=\"14.00\" fill=\"#000000\">value = [3, 19]</text>\n</g>\n<!-- 10&#45;&gt;11 -->\n<g id=\"edge11\" class=\"edge\">\n<title>10&#45;&gt;11</title>\n<path fill=\"none\" stroke=\"#000000\" d=\"M298.7399,-388.8089C297.0163,-380.6014 295.138,-371.6574 293.3279,-363.0374\"/>\n<polygon fill=\"#000000\" stroke=\"#000000\" points=\"296.728,-362.198 291.2475,-353.1308 289.8774,-363.6366 296.728,-362.198\"/>\n</g>\n<!-- 18 -->\n<g id=\"node19\" class=\"node\">\n<title>18</title>\n<path fill=\"#e58139\" stroke=\"#000000\" d=\"M451,-347.5C451,-347.5 374,-347.5 374,-347.5 368,-347.5 362,-341.5 362,-335.5 362,-335.5 362,-306.5 362,-306.5 362,-300.5 368,-294.5 374,-294.5 374,-294.5 451,-294.5 451,-294.5 457,-294.5 463,-300.5 463,-306.5 463,-306.5 463,-335.5 463,-335.5 463,-341.5 457,-347.5 451,-347.5\"/>\n<text text-anchor=\"start\" x=\"370\" y=\"-332.3\" font-family=\"Helvetica,sans-Serif\" font-size=\"14.00\" fill=\"#000000\">entropy = 0.0</text>\n<text text-anchor=\"start\" x=\"373\" y=\"-317.3\" font-family=\"Helvetica,sans-Serif\" font-size=\"14.00\" fill=\"#000000\">samples = 1</text>\n<text text-anchor=\"start\" x=\"371\" y=\"-302.3\" font-family=\"Helvetica,sans-Serif\" font-size=\"14.00\" fill=\"#000000\">value = [1, 0]</text>\n</g>\n<!-- 10&#45;&gt;18 -->\n<g id=\"edge18\" class=\"edge\">\n<title>10&#45;&gt;18</title>\n<path fill=\"none\" stroke=\"#000000\" d=\"M339.9444,-388.8089C351.5712,-377.9428 364.5791,-365.7859 376.3349,-354.7991\"/>\n<polygon fill=\"#000000\" stroke=\"#000000\" points=\"378.9361,-357.1587 383.8523,-347.7735 374.1565,-352.0445 378.9361,-357.1587\"/>\n</g>\n<!-- 12 -->\n<g id=\"node13\" class=\"node\">\n<title>12</title>\n<path fill=\"#83c2ef\" stroke=\"#000000\" d=\"M267.5,-253C267.5,-253 173.5,-253 173.5,-253 167.5,-253 161.5,-247 161.5,-241 161.5,-241 161.5,-201 161.5,-201 161.5,-195 167.5,-189 173.5,-189 173.5,-189 267.5,-189 267.5,-189 273.5,-189 279.5,-195 279.5,-201 279.5,-201 279.5,-241 279.5,-241 279.5,-247 273.5,-253 267.5,-253\"/>\n<text text-anchor=\"start\" x=\"183.5\" y=\"-238.8\" font-family=\"Helvetica,sans-Serif\" font-size=\"14.00\" fill=\"#000000\">X</text>\n<text text-anchor=\"start\" x=\"193.5\" y=\"-238.8\" font-family=\"Helvetica,sans-Serif\" baseline-shift=\"sub\" font-size=\"14.00\" fill=\"#000000\">1</text>\n<text text-anchor=\"start\" x=\"200.5\" y=\"-238.8\" font-family=\"Helvetica,sans-Serif\" font-size=\"14.00\" fill=\"#000000\"> ≤ &#45;0.533</text>\n<text text-anchor=\"start\" x=\"169.5\" y=\"-224.8\" font-family=\"Helvetica,sans-Serif\" font-size=\"14.00\" fill=\"#000000\">entropy = 0.845</text>\n<text text-anchor=\"start\" x=\"176.5\" y=\"-210.8\" font-family=\"Helvetica,sans-Serif\" font-size=\"14.00\" fill=\"#000000\">samples = 11</text>\n<text text-anchor=\"start\" x=\"179\" y=\"-196.8\" font-family=\"Helvetica,sans-Serif\" font-size=\"14.00\" fill=\"#000000\">value = [3, 8]</text>\n</g>\n<!-- 11&#45;&gt;12 -->\n<g id=\"edge12\" class=\"edge\">\n<title>11&#45;&gt;12</title>\n<path fill=\"none\" stroke=\"#000000\" d=\"M263.8977,-288.8089C258.3594,-280.1553 252.2971,-270.683 246.5064,-261.635\"/>\n<polygon fill=\"#000000\" stroke=\"#000000\" points=\"249.4022,-259.6668 241.0637,-253.1308 243.5063,-263.4402 249.4022,-259.6668\"/>\n</g>\n<!-- 17 -->\n<g id=\"node18\" class=\"node\">\n<title>17</title>\n<path fill=\"#399de5\" stroke=\"#000000\" d=\"M393,-247.5C393,-247.5 310,-247.5 310,-247.5 304,-247.5 298,-241.5 298,-235.5 298,-235.5 298,-206.5 298,-206.5 298,-200.5 304,-194.5 310,-194.5 310,-194.5 393,-194.5 393,-194.5 399,-194.5 405,-200.5 405,-206.5 405,-206.5 405,-235.5 405,-235.5 405,-241.5 399,-247.5 393,-247.5\"/>\n<text text-anchor=\"start\" x=\"309\" y=\"-232.3\" font-family=\"Helvetica,sans-Serif\" font-size=\"14.00\" fill=\"#000000\">entropy = 0.0</text>\n<text text-anchor=\"start\" x=\"307.5\" y=\"-217.3\" font-family=\"Helvetica,sans-Serif\" font-size=\"14.00\" fill=\"#000000\">samples = 11</text>\n<text text-anchor=\"start\" x=\"306\" y=\"-202.3\" font-family=\"Helvetica,sans-Serif\" font-size=\"14.00\" fill=\"#000000\">value = [0, 11]</text>\n</g>\n<!-- 11&#45;&gt;17 -->\n<g id=\"edge17\" class=\"edge\">\n<title>11&#45;&gt;17</title>\n<path fill=\"none\" stroke=\"#000000\" d=\"M306.068,-288.8089C313.0016,-278.4603 320.7197,-266.9408 327.7978,-256.3764\"/>\n<polygon fill=\"#000000\" stroke=\"#000000\" points=\"330.9032,-258.0294 333.5617,-247.7735 325.0878,-254.1331 330.9032,-258.0294\"/>\n</g>\n<!-- 13 -->\n<g id=\"node14\" class=\"node\">\n<title>13</title>\n<path fill=\"#52a9e8\" stroke=\"#000000\" d=\"M156.5,-153C156.5,-153 62.5,-153 62.5,-153 56.5,-153 50.5,-147 50.5,-141 50.5,-141 50.5,-101 50.5,-101 50.5,-95 56.5,-89 62.5,-89 62.5,-89 156.5,-89 156.5,-89 162.5,-89 168.5,-95 168.5,-101 168.5,-101 168.5,-141 168.5,-141 168.5,-147 162.5,-153 156.5,-153\"/>\n<text text-anchor=\"start\" x=\"72.5\" y=\"-138.8\" font-family=\"Helvetica,sans-Serif\" font-size=\"14.00\" fill=\"#000000\">X</text>\n<text text-anchor=\"start\" x=\"82.5\" y=\"-138.8\" font-family=\"Helvetica,sans-Serif\" baseline-shift=\"sub\" font-size=\"14.00\" fill=\"#000000\">0</text>\n<text text-anchor=\"start\" x=\"89.5\" y=\"-138.8\" font-family=\"Helvetica,sans-Serif\" font-size=\"14.00\" fill=\"#000000\"> ≤ &#45;0.486</text>\n<text text-anchor=\"start\" x=\"58.5\" y=\"-124.8\" font-family=\"Helvetica,sans-Serif\" font-size=\"14.00\" fill=\"#000000\">entropy = 0.503</text>\n<text text-anchor=\"start\" x=\"70\" y=\"-110.8\" font-family=\"Helvetica,sans-Serif\" font-size=\"14.00\" fill=\"#000000\">samples = 9</text>\n<text text-anchor=\"start\" x=\"68\" y=\"-96.8\" font-family=\"Helvetica,sans-Serif\" font-size=\"14.00\" fill=\"#000000\">value = [1, 8]</text>\n</g>\n<!-- 12&#45;&gt;13 -->\n<g id=\"edge13\" class=\"edge\">\n<title>12&#45;&gt;13</title>\n<path fill=\"none\" stroke=\"#000000\" d=\"M184.7679,-188.8089C174.5682,-179.62 163.3439,-169.508 152.7469,-159.9612\"/>\n<polygon fill=\"#000000\" stroke=\"#000000\" points=\"154.9375,-157.2238 145.1651,-153.1308 150.2521,-162.4245 154.9375,-157.2238\"/>\n</g>\n<!-- 16 -->\n<g id=\"node17\" class=\"node\">\n<title>16</title>\n<path fill=\"#e58139\" stroke=\"#000000\" d=\"M276,-147.5C276,-147.5 199,-147.5 199,-147.5 193,-147.5 187,-141.5 187,-135.5 187,-135.5 187,-106.5 187,-106.5 187,-100.5 193,-94.5 199,-94.5 199,-94.5 276,-94.5 276,-94.5 282,-94.5 288,-100.5 288,-106.5 288,-106.5 288,-135.5 288,-135.5 288,-141.5 282,-147.5 276,-147.5\"/>\n<text text-anchor=\"start\" x=\"195\" y=\"-132.3\" font-family=\"Helvetica,sans-Serif\" font-size=\"14.00\" fill=\"#000000\">entropy = 0.0</text>\n<text text-anchor=\"start\" x=\"198\" y=\"-117.3\" font-family=\"Helvetica,sans-Serif\" font-size=\"14.00\" fill=\"#000000\">samples = 2</text>\n<text text-anchor=\"start\" x=\"196\" y=\"-102.3\" font-family=\"Helvetica,sans-Serif\" font-size=\"14.00\" fill=\"#000000\">value = [2, 0]</text>\n</g>\n<!-- 12&#45;&gt;16 -->\n<g id=\"edge16\" class=\"edge\">\n<title>12&#45;&gt;16</title>\n<path fill=\"none\" stroke=\"#000000\" d=\"M225.9725,-188.8089C227.6614,-178.8742 229.5337,-167.8605 231.2697,-157.6485\"/>\n<polygon fill=\"#000000\" stroke=\"#000000\" points=\"234.723,-158.2187 232.9485,-147.7735 227.822,-157.0455 234.723,-158.2187\"/>\n</g>\n<!-- 14 -->\n<g id=\"node15\" class=\"node\">\n<title>14</title>\n<path fill=\"#399de5\" stroke=\"#000000\" d=\"M89,-53C89,-53 12,-53 12,-53 6,-53 0,-47 0,-41 0,-41 0,-12 0,-12 0,-6 6,0 12,0 12,0 89,0 89,0 95,0 101,-6 101,-12 101,-12 101,-41 101,-41 101,-47 95,-53 89,-53\"/>\n<text text-anchor=\"start\" x=\"8\" y=\"-37.8\" font-family=\"Helvetica,sans-Serif\" font-size=\"14.00\" fill=\"#000000\">entropy = 0.0</text>\n<text text-anchor=\"start\" x=\"11\" y=\"-22.8\" font-family=\"Helvetica,sans-Serif\" font-size=\"14.00\" fill=\"#000000\">samples = 7</text>\n<text text-anchor=\"start\" x=\"9\" y=\"-7.8\" font-family=\"Helvetica,sans-Serif\" font-size=\"14.00\" fill=\"#000000\">value = [0, 7]</text>\n</g>\n<!-- 13&#45;&gt;14 -->\n<g id=\"edge14\" class=\"edge\">\n<title>13&#45;&gt;14</title>\n<path fill=\"none\" stroke=\"#000000\" d=\"M89.3606,-88.7428C83.9526,-80.0809 78.0764,-70.669 72.5697,-61.849\"/>\n<polygon fill=\"#000000\" stroke=\"#000000\" points=\"75.4821,-59.9048 67.2172,-53.2759 69.5443,-63.612 75.4821,-59.9048\"/>\n</g>\n<!-- 15 -->\n<g id=\"node16\" class=\"node\">\n<title>15</title>\n<path fill=\"#ffffff\" stroke=\"#000000\" d=\"M208,-53C208,-53 131,-53 131,-53 125,-53 119,-47 119,-41 119,-41 119,-12 119,-12 119,-6 125,0 131,0 131,0 208,0 208,0 214,0 220,-6 220,-12 220,-12 220,-41 220,-41 220,-47 214,-53 208,-53\"/>\n<text text-anchor=\"start\" x=\"127\" y=\"-37.8\" font-family=\"Helvetica,sans-Serif\" font-size=\"14.00\" fill=\"#000000\">entropy = 1.0</text>\n<text text-anchor=\"start\" x=\"130\" y=\"-22.8\" font-family=\"Helvetica,sans-Serif\" font-size=\"14.00\" fill=\"#000000\">samples = 2</text>\n<text text-anchor=\"start\" x=\"128\" y=\"-7.8\" font-family=\"Helvetica,sans-Serif\" font-size=\"14.00\" fill=\"#000000\">value = [1, 1]</text>\n</g>\n<!-- 13&#45;&gt;15 -->\n<g id=\"edge15\" class=\"edge\">\n<title>13&#45;&gt;15</title>\n<path fill=\"none\" stroke=\"#000000\" d=\"M129.9808,-88.7428C135.4804,-80.0809 141.4562,-70.669 147.0562,-61.849\"/>\n<polygon fill=\"#000000\" stroke=\"#000000\" points=\"150.0941,-63.5941 152.4995,-53.2759 144.1846,-59.842 150.0941,-63.5941\"/>\n</g>\n<!-- 21 -->\n<g id=\"node22\" class=\"node\">\n<title>21</title>\n<path fill=\"#f7d7c0\" stroke=\"#000000\" d=\"M635.5,-853C635.5,-853 541.5,-853 541.5,-853 535.5,-853 529.5,-847 529.5,-841 529.5,-841 529.5,-801 529.5,-801 529.5,-795 535.5,-789 541.5,-789 541.5,-789 635.5,-789 635.5,-789 641.5,-789 647.5,-795 647.5,-801 647.5,-801 647.5,-841 647.5,-841 647.5,-847 641.5,-853 635.5,-853\"/>\n<text text-anchor=\"start\" x=\"554\" y=\"-838.8\" font-family=\"Helvetica,sans-Serif\" font-size=\"14.00\" fill=\"#000000\">X</text>\n<text text-anchor=\"start\" x=\"564\" y=\"-838.8\" font-family=\"Helvetica,sans-Serif\" baseline-shift=\"sub\" font-size=\"14.00\" fill=\"#000000\">1</text>\n<text text-anchor=\"start\" x=\"571\" y=\"-838.8\" font-family=\"Helvetica,sans-Serif\" font-size=\"14.00\" fill=\"#000000\"> ≤ 0.486</text>\n<text text-anchor=\"start\" x=\"537.5\" y=\"-824.8\" font-family=\"Helvetica,sans-Serif\" font-size=\"14.00\" fill=\"#000000\">entropy = 0.974</text>\n<text text-anchor=\"start\" x=\"544.5\" y=\"-810.8\" font-family=\"Helvetica,sans-Serif\" font-size=\"14.00\" fill=\"#000000\">samples = 37</text>\n<text text-anchor=\"start\" x=\"538.5\" y=\"-796.8\" font-family=\"Helvetica,sans-Serif\" font-size=\"14.00\" fill=\"#000000\">value = [22, 15]</text>\n</g>\n<!-- 20&#45;&gt;21 -->\n<g id=\"edge21\" class=\"edge\">\n<title>20&#45;&gt;21</title>\n<path fill=\"none\" stroke=\"#000000\" d=\"M588.5,-888.8089C588.5,-880.6906 588.5,-871.8517 588.5,-863.3186\"/>\n<polygon fill=\"#000000\" stroke=\"#000000\" points=\"592.0001,-863.1307 588.5,-853.1308 585.0001,-863.1308 592.0001,-863.1307\"/>\n</g>\n<!-- 46 -->\n<g id=\"node47\" class=\"node\">\n<title>46</title>\n<path fill=\"#e78946\" stroke=\"#000000\" d=\"M951.5,-853C951.5,-853 857.5,-853 857.5,-853 851.5,-853 845.5,-847 845.5,-841 845.5,-841 845.5,-801 845.5,-801 845.5,-795 851.5,-789 857.5,-789 857.5,-789 951.5,-789 951.5,-789 957.5,-789 963.5,-795 963.5,-801 963.5,-801 963.5,-841 963.5,-841 963.5,-847 957.5,-853 951.5,-853\"/>\n<text text-anchor=\"start\" x=\"870\" y=\"-838.8\" font-family=\"Helvetica,sans-Serif\" font-size=\"14.00\" fill=\"#000000\">X</text>\n<text text-anchor=\"start\" x=\"880\" y=\"-838.8\" font-family=\"Helvetica,sans-Serif\" baseline-shift=\"sub\" font-size=\"14.00\" fill=\"#000000\">1</text>\n<text text-anchor=\"start\" x=\"887\" y=\"-838.8\" font-family=\"Helvetica,sans-Serif\" font-size=\"14.00\" fill=\"#000000\"> ≤ 0.217</text>\n<text text-anchor=\"start\" x=\"853.5\" y=\"-824.8\" font-family=\"Helvetica,sans-Serif\" font-size=\"14.00\" fill=\"#000000\">entropy = 0.332</text>\n<text text-anchor=\"start\" x=\"860.5\" y=\"-810.8\" font-family=\"Helvetica,sans-Serif\" font-size=\"14.00\" fill=\"#000000\">samples = 49</text>\n<text text-anchor=\"start\" x=\"859\" y=\"-796.8\" font-family=\"Helvetica,sans-Serif\" font-size=\"14.00\" fill=\"#000000\">value = [46, 3]</text>\n</g>\n<!-- 20&#45;&gt;46 -->\n<g id=\"edge46\" class=\"edge\">\n<title>20&#45;&gt;46</title>\n<path fill=\"none\" stroke=\"#000000\" d=\"M646.8275,-902.5419C700.2675,-885.6306 779.4194,-860.5825 835.8798,-842.7153\"/>\n<polygon fill=\"#000000\" stroke=\"#000000\" points=\"836.9635,-846.0435 845.4415,-839.6894 834.8515,-839.3697 836.9635,-846.0435\"/>\n</g>\n<!-- 22 -->\n<g id=\"node23\" class=\"node\">\n<title>22</title>\n<path fill=\"#f3c6a6\" stroke=\"#000000\" d=\"M564.5,-753C564.5,-753 470.5,-753 470.5,-753 464.5,-753 458.5,-747 458.5,-741 458.5,-741 458.5,-701 458.5,-701 458.5,-695 464.5,-689 470.5,-689 470.5,-689 564.5,-689 564.5,-689 570.5,-689 576.5,-695 576.5,-701 576.5,-701 576.5,-741 576.5,-741 576.5,-747 570.5,-753 564.5,-753\"/>\n<text text-anchor=\"start\" x=\"483\" y=\"-738.8\" font-family=\"Helvetica,sans-Serif\" font-size=\"14.00\" fill=\"#000000\">X</text>\n<text text-anchor=\"start\" x=\"493\" y=\"-738.8\" font-family=\"Helvetica,sans-Serif\" baseline-shift=\"sub\" font-size=\"14.00\" fill=\"#000000\">1</text>\n<text text-anchor=\"start\" x=\"500\" y=\"-738.8\" font-family=\"Helvetica,sans-Serif\" font-size=\"14.00\" fill=\"#000000\"> ≤ 0.371</text>\n<text text-anchor=\"start\" x=\"466.5\" y=\"-724.8\" font-family=\"Helvetica,sans-Serif\" font-size=\"14.00\" fill=\"#000000\">entropy = 0.938</text>\n<text text-anchor=\"start\" x=\"473.5\" y=\"-710.8\" font-family=\"Helvetica,sans-Serif\" font-size=\"14.00\" fill=\"#000000\">samples = 31</text>\n<text text-anchor=\"start\" x=\"467.5\" y=\"-696.8\" font-family=\"Helvetica,sans-Serif\" font-size=\"14.00\" fill=\"#000000\">value = [20, 11]</text>\n</g>\n<!-- 21&#45;&gt;22 -->\n<g id=\"edge22\" class=\"edge\">\n<title>21&#45;&gt;22</title>\n<path fill=\"none\" stroke=\"#000000\" d=\"M565.6443,-788.8089C559.4369,-780.0661 552.6362,-770.4876 546.1523,-761.3553\"/>\n<polygon fill=\"#000000\" stroke=\"#000000\" points=\"548.9559,-759.2584 540.3128,-753.1308 543.2483,-763.3108 548.9559,-759.2584\"/>\n</g>\n<!-- 41 -->\n<g id=\"node42\" class=\"node\">\n<title>41</title>\n<path fill=\"#9ccef2\" stroke=\"#000000\" d=\"M700.5,-753C700.5,-753 606.5,-753 606.5,-753 600.5,-753 594.5,-747 594.5,-741 594.5,-741 594.5,-701 594.5,-701 594.5,-695 600.5,-689 606.5,-689 606.5,-689 700.5,-689 700.5,-689 706.5,-689 712.5,-695 712.5,-701 712.5,-701 712.5,-741 712.5,-741 712.5,-747 706.5,-753 700.5,-753\"/>\n<text text-anchor=\"start\" x=\"619\" y=\"-738.8\" font-family=\"Helvetica,sans-Serif\" font-size=\"14.00\" fill=\"#000000\">X</text>\n<text text-anchor=\"start\" x=\"629\" y=\"-738.8\" font-family=\"Helvetica,sans-Serif\" baseline-shift=\"sub\" font-size=\"14.00\" fill=\"#000000\">1</text>\n<text text-anchor=\"start\" x=\"636\" y=\"-738.8\" font-family=\"Helvetica,sans-Serif\" font-size=\"14.00\" fill=\"#000000\"> ≤ 0.868</text>\n<text text-anchor=\"start\" x=\"602.5\" y=\"-724.8\" font-family=\"Helvetica,sans-Serif\" font-size=\"14.00\" fill=\"#000000\">entropy = 0.918</text>\n<text text-anchor=\"start\" x=\"614\" y=\"-710.8\" font-family=\"Helvetica,sans-Serif\" font-size=\"14.00\" fill=\"#000000\">samples = 6</text>\n<text text-anchor=\"start\" x=\"612\" y=\"-696.8\" font-family=\"Helvetica,sans-Serif\" font-size=\"14.00\" fill=\"#000000\">value = [2, 4]</text>\n</g>\n<!-- 21&#45;&gt;41 -->\n<g id=\"edge41\" class=\"edge\">\n<title>21&#45;&gt;41</title>\n<path fill=\"none\" stroke=\"#000000\" d=\"M609.4242,-788.8089C615.0491,-780.1553 621.206,-770.683 627.0872,-761.635\"/>\n<polygon fill=\"#000000\" stroke=\"#000000\" points=\"630.0996,-763.4227 632.615,-753.1308 624.2305,-759.6077 630.0996,-763.4227\"/>\n</g>\n<!-- 23 -->\n<g id=\"node24\" class=\"node\">\n<title>23</title>\n<path fill=\"#f7d8c1\" stroke=\"#000000\" d=\"M440.5,-653C440.5,-653 346.5,-653 346.5,-653 340.5,-653 334.5,-647 334.5,-641 334.5,-641 334.5,-601 334.5,-601 334.5,-595 340.5,-589 346.5,-589 346.5,-589 440.5,-589 440.5,-589 446.5,-589 452.5,-595 452.5,-601 452.5,-601 452.5,-641 452.5,-641 452.5,-647 446.5,-653 440.5,-653\"/>\n<text text-anchor=\"start\" x=\"360.5\" y=\"-638.8\" font-family=\"Helvetica,sans-Serif\" font-size=\"14.00\" fill=\"#000000\">X</text>\n<text text-anchor=\"start\" x=\"370.5\" y=\"-638.8\" font-family=\"Helvetica,sans-Serif\" baseline-shift=\"sub\" font-size=\"14.00\" fill=\"#000000\">0</text>\n<text text-anchor=\"start\" x=\"377.5\" y=\"-638.8\" font-family=\"Helvetica,sans-Serif\" font-size=\"14.00\" fill=\"#000000\"> ≤ &#45;0.05</text>\n<text text-anchor=\"start\" x=\"342.5\" y=\"-624.8\" font-family=\"Helvetica,sans-Serif\" font-size=\"14.00\" fill=\"#000000\">entropy = 0.975</text>\n<text text-anchor=\"start\" x=\"349.5\" y=\"-610.8\" font-family=\"Helvetica,sans-Serif\" font-size=\"14.00\" fill=\"#000000\">samples = 27</text>\n<text text-anchor=\"start\" x=\"343.5\" y=\"-596.8\" font-family=\"Helvetica,sans-Serif\" font-size=\"14.00\" fill=\"#000000\">value = [16, 11]</text>\n</g>\n<!-- 22&#45;&gt;23 -->\n<g id=\"edge23\" class=\"edge\">\n<title>22&#45;&gt;23</title>\n<path fill=\"none\" stroke=\"#000000\" d=\"M477.5831,-688.8089C466.0782,-679.5308 453.4064,-669.3116 441.4673,-659.6833\"/>\n<polygon fill=\"#000000\" stroke=\"#000000\" points=\"443.3234,-656.6839 433.3421,-653.1308 438.9291,-662.1328 443.3234,-656.6839\"/>\n</g>\n<!-- 40 -->\n<g id=\"node41\" class=\"node\">\n<title>40</title>\n<path fill=\"#e58139\" stroke=\"#000000\" d=\"M560,-647.5C560,-647.5 483,-647.5 483,-647.5 477,-647.5 471,-641.5 471,-635.5 471,-635.5 471,-606.5 471,-606.5 471,-600.5 477,-594.5 483,-594.5 483,-594.5 560,-594.5 560,-594.5 566,-594.5 572,-600.5 572,-606.5 572,-606.5 572,-635.5 572,-635.5 572,-641.5 566,-647.5 560,-647.5\"/>\n<text text-anchor=\"start\" x=\"479\" y=\"-632.3\" font-family=\"Helvetica,sans-Serif\" font-size=\"14.00\" fill=\"#000000\">entropy = 0.0</text>\n<text text-anchor=\"start\" x=\"482\" y=\"-617.3\" font-family=\"Helvetica,sans-Serif\" font-size=\"14.00\" fill=\"#000000\">samples = 4</text>\n<text text-anchor=\"start\" x=\"480\" y=\"-602.3\" font-family=\"Helvetica,sans-Serif\" font-size=\"14.00\" fill=\"#000000\">value = [4, 0]</text>\n</g>\n<!-- 22&#45;&gt;40 -->\n<g id=\"edge40\" class=\"edge\">\n<title>22&#45;&gt;40</title>\n<path fill=\"none\" stroke=\"#000000\" d=\"M518.7876,-688.8089C519.1809,-678.9777 519.6164,-668.0898 520.0213,-657.9679\"/>\n<polygon fill=\"#000000\" stroke=\"#000000\" points=\"523.5265,-657.9055 520.4291,-647.7735 516.5321,-657.6256 523.5265,-657.9055\"/>\n</g>\n<!-- 24 -->\n<g id=\"node25\" class=\"node\">\n<title>24</title>\n<path fill=\"#e58139\" stroke=\"#000000\" d=\"M429,-547.5C429,-547.5 352,-547.5 352,-547.5 346,-547.5 340,-541.5 340,-535.5 340,-535.5 340,-506.5 340,-506.5 340,-500.5 346,-494.5 352,-494.5 352,-494.5 429,-494.5 429,-494.5 435,-494.5 441,-500.5 441,-506.5 441,-506.5 441,-535.5 441,-535.5 441,-541.5 435,-547.5 429,-547.5\"/>\n<text text-anchor=\"start\" x=\"348\" y=\"-532.3\" font-family=\"Helvetica,sans-Serif\" font-size=\"14.00\" fill=\"#000000\">entropy = 0.0</text>\n<text text-anchor=\"start\" x=\"351\" y=\"-517.3\" font-family=\"Helvetica,sans-Serif\" font-size=\"14.00\" fill=\"#000000\">samples = 4</text>\n<text text-anchor=\"start\" x=\"349\" y=\"-502.3\" font-family=\"Helvetica,sans-Serif\" font-size=\"14.00\" fill=\"#000000\">value = [4, 0]</text>\n</g>\n<!-- 23&#45;&gt;24 -->\n<g id=\"edge24\" class=\"edge\">\n<title>23&#45;&gt;24</title>\n<path fill=\"none\" stroke=\"#000000\" d=\"M392.5343,-588.8089C392.2393,-578.9777 391.9127,-568.0898 391.609,-557.9679\"/>\n<polygon fill=\"#000000\" stroke=\"#000000\" points=\"395.1016,-557.664 391.3032,-547.7735 388.1047,-557.874 395.1016,-557.664\"/>\n</g>\n<!-- 25 -->\n<g id=\"node26\" class=\"node\">\n<title>25</title>\n<path fill=\"#fdf5ef\" stroke=\"#000000\" d=\"M565.5,-553C565.5,-553 471.5,-553 471.5,-553 465.5,-553 459.5,-547 459.5,-541 459.5,-541 459.5,-501 459.5,-501 459.5,-495 465.5,-489 471.5,-489 471.5,-489 565.5,-489 565.5,-489 571.5,-489 577.5,-495 577.5,-501 577.5,-501 577.5,-541 577.5,-541 577.5,-547 571.5,-553 565.5,-553\"/>\n<text text-anchor=\"start\" x=\"484\" y=\"-538.8\" font-family=\"Helvetica,sans-Serif\" font-size=\"14.00\" fill=\"#000000\">X</text>\n<text text-anchor=\"start\" x=\"494\" y=\"-538.8\" font-family=\"Helvetica,sans-Serif\" baseline-shift=\"sub\" font-size=\"14.00\" fill=\"#000000\">0</text>\n<text text-anchor=\"start\" x=\"501\" y=\"-538.8\" font-family=\"Helvetica,sans-Serif\" font-size=\"14.00\" fill=\"#000000\"> ≤ 0.053</text>\n<text text-anchor=\"start\" x=\"467.5\" y=\"-524.8\" font-family=\"Helvetica,sans-Serif\" font-size=\"14.00\" fill=\"#000000\">entropy = 0.999</text>\n<text text-anchor=\"start\" x=\"474.5\" y=\"-510.8\" font-family=\"Helvetica,sans-Serif\" font-size=\"14.00\" fill=\"#000000\">samples = 23</text>\n<text text-anchor=\"start\" x=\"468.5\" y=\"-496.8\" font-family=\"Helvetica,sans-Serif\" font-size=\"14.00\" fill=\"#000000\">value = [12, 11]</text>\n</g>\n<!-- 23&#45;&gt;25 -->\n<g id=\"edge25\" class=\"edge\">\n<title>23&#45;&gt;25</title>\n<path fill=\"none\" stroke=\"#000000\" d=\"M433.7388,-588.8089C445.448,-579.4416 458.3562,-569.115 470.4929,-559.4057\"/>\n<polygon fill=\"#000000\" stroke=\"#000000\" points=\"472.7143,-562.1108 478.3366,-553.1308 468.3414,-556.6447 472.7143,-562.1108\"/>\n</g>\n<!-- 26 -->\n<g id=\"node27\" class=\"node\">\n<title>26</title>\n<path fill=\"#399de5\" stroke=\"#000000\" d=\"M526,-447.5C526,-447.5 449,-447.5 449,-447.5 443,-447.5 437,-441.5 437,-435.5 437,-435.5 437,-406.5 437,-406.5 437,-400.5 443,-394.5 449,-394.5 449,-394.5 526,-394.5 526,-394.5 532,-394.5 538,-400.5 538,-406.5 538,-406.5 538,-435.5 538,-435.5 538,-441.5 532,-447.5 526,-447.5\"/>\n<text text-anchor=\"start\" x=\"445\" y=\"-432.3\" font-family=\"Helvetica,sans-Serif\" font-size=\"14.00\" fill=\"#000000\">entropy = 0.0</text>\n<text text-anchor=\"start\" x=\"448\" y=\"-417.3\" font-family=\"Helvetica,sans-Serif\" font-size=\"14.00\" fill=\"#000000\">samples = 3</text>\n<text text-anchor=\"start\" x=\"446\" y=\"-402.3\" font-family=\"Helvetica,sans-Serif\" font-size=\"14.00\" fill=\"#000000\">value = [0, 3]</text>\n</g>\n<!-- 25&#45;&gt;26 -->\n<g id=\"edge26\" class=\"edge\">\n<title>25&#45;&gt;26</title>\n<path fill=\"none\" stroke=\"#000000\" d=\"M508.5208,-488.8089C505.4089,-478.7707 501.9556,-467.6309 498.7622,-457.3297\"/>\n<polygon fill=\"#000000\" stroke=\"#000000\" points=\"502.1039,-456.2887 495.7998,-447.7735 495.4178,-458.3615 502.1039,-456.2887\"/>\n</g>\n<!-- 27 -->\n<g id=\"node28\" class=\"node\">\n<title>27</title>\n<path fill=\"#f6d5bd\" stroke=\"#000000\" d=\"M662.5,-453C662.5,-453 568.5,-453 568.5,-453 562.5,-453 556.5,-447 556.5,-441 556.5,-441 556.5,-401 556.5,-401 556.5,-395 562.5,-389 568.5,-389 568.5,-389 662.5,-389 662.5,-389 668.5,-389 674.5,-395 674.5,-401 674.5,-401 674.5,-441 674.5,-441 674.5,-447 668.5,-453 662.5,-453\"/>\n<text text-anchor=\"start\" x=\"581\" y=\"-438.8\" font-family=\"Helvetica,sans-Serif\" font-size=\"14.00\" fill=\"#000000\">X</text>\n<text text-anchor=\"start\" x=\"591\" y=\"-438.8\" font-family=\"Helvetica,sans-Serif\" baseline-shift=\"sub\" font-size=\"14.00\" fill=\"#000000\">1</text>\n<text text-anchor=\"start\" x=\"598\" y=\"-438.8\" font-family=\"Helvetica,sans-Serif\" font-size=\"14.00\" fill=\"#000000\"> ≤ 0.213</text>\n<text text-anchor=\"start\" x=\"564.5\" y=\"-424.8\" font-family=\"Helvetica,sans-Serif\" font-size=\"14.00\" fill=\"#000000\">entropy = 0.971</text>\n<text text-anchor=\"start\" x=\"571.5\" y=\"-410.8\" font-family=\"Helvetica,sans-Serif\" font-size=\"14.00\" fill=\"#000000\">samples = 20</text>\n<text text-anchor=\"start\" x=\"570\" y=\"-396.8\" font-family=\"Helvetica,sans-Serif\" font-size=\"14.00\" fill=\"#000000\">value = [12, 8]</text>\n</g>\n<!-- 25&#45;&gt;27 -->\n<g id=\"edge27\" class=\"edge\">\n<title>25&#45;&gt;27</title>\n<path fill=\"none\" stroke=\"#000000\" d=\"M549.7253,-488.8089C558.4655,-479.7985 568.0666,-469.9004 577.1676,-460.518\"/>\n<polygon fill=\"#000000\" stroke=\"#000000\" points=\"579.8828,-462.7456 584.3332,-453.1308 574.8583,-457.8718 579.8828,-462.7456\"/>\n</g>\n<!-- 28 -->\n<g id=\"node29\" class=\"node\">\n<title>28</title>\n<path fill=\"#f2c09c\" stroke=\"#000000\" d=\"M599.5,-353C599.5,-353 505.5,-353 505.5,-353 499.5,-353 493.5,-347 493.5,-341 493.5,-341 493.5,-301 493.5,-301 493.5,-295 499.5,-289 505.5,-289 505.5,-289 599.5,-289 599.5,-289 605.5,-289 611.5,-295 611.5,-301 611.5,-301 611.5,-341 611.5,-341 611.5,-347 605.5,-353 599.5,-353\"/>\n<text text-anchor=\"start\" x=\"515.5\" y=\"-338.8\" font-family=\"Helvetica,sans-Serif\" font-size=\"14.00\" fill=\"#000000\">X</text>\n<text text-anchor=\"start\" x=\"525.5\" y=\"-338.8\" font-family=\"Helvetica,sans-Serif\" baseline-shift=\"sub\" font-size=\"14.00\" fill=\"#000000\">1</text>\n<text text-anchor=\"start\" x=\"532.5\" y=\"-338.8\" font-family=\"Helvetica,sans-Serif\" font-size=\"14.00\" fill=\"#000000\"> ≤ &#45;0.286</text>\n<text text-anchor=\"start\" x=\"501.5\" y=\"-324.8\" font-family=\"Helvetica,sans-Serif\" font-size=\"14.00\" fill=\"#000000\">entropy = 0.918</text>\n<text text-anchor=\"start\" x=\"508.5\" y=\"-310.8\" font-family=\"Helvetica,sans-Serif\" font-size=\"14.00\" fill=\"#000000\">samples = 18</text>\n<text text-anchor=\"start\" x=\"507\" y=\"-296.8\" font-family=\"Helvetica,sans-Serif\" font-size=\"14.00\" fill=\"#000000\">value = [12, 6]</text>\n</g>\n<!-- 27&#45;&gt;28 -->\n<g id=\"edge28\" class=\"edge\">\n<title>27&#45;&gt;28</title>\n<path fill=\"none\" stroke=\"#000000\" d=\"M595.2196,-388.8089C589.7678,-380.1553 583.8003,-370.683 578.1001,-361.635\"/>\n<polygon fill=\"#000000\" stroke=\"#000000\" points=\"581.0341,-359.726 572.7424,-353.1308 575.1115,-363.4573 581.0341,-359.726\"/>\n</g>\n<!-- 39 -->\n<g id=\"node40\" class=\"node\">\n<title>39</title>\n<path fill=\"#399de5\" stroke=\"#000000\" d=\"M719,-347.5C719,-347.5 642,-347.5 642,-347.5 636,-347.5 630,-341.5 630,-335.5 630,-335.5 630,-306.5 630,-306.5 630,-300.5 636,-294.5 642,-294.5 642,-294.5 719,-294.5 719,-294.5 725,-294.5 731,-300.5 731,-306.5 731,-306.5 731,-335.5 731,-335.5 731,-341.5 725,-347.5 719,-347.5\"/>\n<text text-anchor=\"start\" x=\"638\" y=\"-332.3\" font-family=\"Helvetica,sans-Serif\" font-size=\"14.00\" fill=\"#000000\">entropy = 0.0</text>\n<text text-anchor=\"start\" x=\"641\" y=\"-317.3\" font-family=\"Helvetica,sans-Serif\" font-size=\"14.00\" fill=\"#000000\">samples = 2</text>\n<text text-anchor=\"start\" x=\"639\" y=\"-302.3\" font-family=\"Helvetica,sans-Serif\" font-size=\"14.00\" fill=\"#000000\">value = [0, 2]</text>\n</g>\n<!-- 27&#45;&gt;39 -->\n<g id=\"edge39\" class=\"edge\">\n<title>27&#45;&gt;39</title>\n<path fill=\"none\" stroke=\"#000000\" d=\"M636.4242,-388.8089C643.1508,-378.4603 650.6385,-366.9408 657.5054,-356.3764\"/>\n<polygon fill=\"#000000\" stroke=\"#000000\" points=\"660.5818,-358.0654 663.0972,-347.7735 654.7127,-354.2505 660.5818,-358.0654\"/>\n</g>\n<!-- 29 -->\n<g id=\"node30\" class=\"node\">\n<title>29</title>\n<path fill=\"#ffffff\" stroke=\"#000000\" d=\"M553.5,-253C553.5,-253 473.5,-253 473.5,-253 467.5,-253 461.5,-247 461.5,-241 461.5,-241 461.5,-201 461.5,-201 461.5,-195 467.5,-189 473.5,-189 473.5,-189 553.5,-189 553.5,-189 559.5,-189 565.5,-195 565.5,-201 565.5,-201 565.5,-241 565.5,-241 565.5,-247 559.5,-253 553.5,-253\"/>\n<text text-anchor=\"start\" x=\"476.5\" y=\"-238.8\" font-family=\"Helvetica,sans-Serif\" font-size=\"14.00\" fill=\"#000000\">X</text>\n<text text-anchor=\"start\" x=\"486.5\" y=\"-238.8\" font-family=\"Helvetica,sans-Serif\" baseline-shift=\"sub\" font-size=\"14.00\" fill=\"#000000\">1</text>\n<text text-anchor=\"start\" x=\"493.5\" y=\"-238.8\" font-family=\"Helvetica,sans-Serif\" font-size=\"14.00\" fill=\"#000000\"> ≤ &#45;0.792</text>\n<text text-anchor=\"start\" x=\"471\" y=\"-224.8\" font-family=\"Helvetica,sans-Serif\" font-size=\"14.00\" fill=\"#000000\">entropy = 1.0</text>\n<text text-anchor=\"start\" x=\"469.5\" y=\"-210.8\" font-family=\"Helvetica,sans-Serif\" font-size=\"14.00\" fill=\"#000000\">samples = 10</text>\n<text text-anchor=\"start\" x=\"472\" y=\"-196.8\" font-family=\"Helvetica,sans-Serif\" font-size=\"14.00\" fill=\"#000000\">value = [5, 5]</text>\n</g>\n<!-- 28&#45;&gt;29 -->\n<g id=\"edge29\" class=\"edge\">\n<title>28&#45;&gt;29</title>\n<path fill=\"none\" stroke=\"#000000\" d=\"M539.9455,-288.8089C536.6749,-280.4229 533.1046,-271.2681 529.6755,-262.4757\"/>\n<polygon fill=\"#000000\" stroke=\"#000000\" points=\"532.9253,-261.1756 526.031,-253.1308 526.4037,-263.719 532.9253,-261.1756\"/>\n</g>\n<!-- 34 -->\n<g id=\"node35\" class=\"node\">\n<title>34</title>\n<path fill=\"#e99355\" stroke=\"#000000\" d=\"M689.5,-253C689.5,-253 595.5,-253 595.5,-253 589.5,-253 583.5,-247 583.5,-241 583.5,-241 583.5,-201 583.5,-201 583.5,-195 589.5,-189 595.5,-189 595.5,-189 689.5,-189 689.5,-189 695.5,-189 701.5,-195 701.5,-201 701.5,-201 701.5,-241 701.5,-241 701.5,-247 695.5,-253 689.5,-253\"/>\n<text text-anchor=\"start\" x=\"605.5\" y=\"-238.8\" font-family=\"Helvetica,sans-Serif\" font-size=\"14.00\" fill=\"#000000\">X</text>\n<text text-anchor=\"start\" x=\"615.5\" y=\"-238.8\" font-family=\"Helvetica,sans-Serif\" baseline-shift=\"sub\" font-size=\"14.00\" fill=\"#000000\">1</text>\n<text text-anchor=\"start\" x=\"622.5\" y=\"-238.8\" font-family=\"Helvetica,sans-Serif\" font-size=\"14.00\" fill=\"#000000\"> ≤ &#45;0.066</text>\n<text text-anchor=\"start\" x=\"591.5\" y=\"-224.8\" font-family=\"Helvetica,sans-Serif\" font-size=\"14.00\" fill=\"#000000\">entropy = 0.544</text>\n<text text-anchor=\"start\" x=\"603\" y=\"-210.8\" font-family=\"Helvetica,sans-Serif\" font-size=\"14.00\" fill=\"#000000\">samples = 8</text>\n<text text-anchor=\"start\" x=\"601\" y=\"-196.8\" font-family=\"Helvetica,sans-Serif\" font-size=\"14.00\" fill=\"#000000\">value = [7, 1]</text>\n</g>\n<!-- 28&#45;&gt;34 -->\n<g id=\"edge34\" class=\"edge\">\n<title>28&#45;&gt;34</title>\n<path fill=\"none\" stroke=\"#000000\" d=\"M581.472,-288.8089C589.5011,-279.8877 598.3133,-270.0963 606.6829,-260.7968\"/>\n<polygon fill=\"#000000\" stroke=\"#000000\" points=\"609.4942,-262.9051 613.5823,-253.1308 604.2911,-258.2223 609.4942,-262.9051\"/>\n</g>\n<!-- 30 -->\n<g id=\"node31\" class=\"node\">\n<title>30</title>\n<path fill=\"#efb388\" stroke=\"#000000\" d=\"M435.5,-153C435.5,-153 341.5,-153 341.5,-153 335.5,-153 329.5,-147 329.5,-141 329.5,-141 329.5,-101 329.5,-101 329.5,-95 335.5,-89 341.5,-89 341.5,-89 435.5,-89 435.5,-89 441.5,-89 447.5,-95 447.5,-101 447.5,-101 447.5,-141 447.5,-141 447.5,-147 441.5,-153 435.5,-153\"/>\n<text text-anchor=\"start\" x=\"351.5\" y=\"-138.8\" font-family=\"Helvetica,sans-Serif\" font-size=\"14.00\" fill=\"#000000\">X</text>\n<text text-anchor=\"start\" x=\"361.5\" y=\"-138.8\" font-family=\"Helvetica,sans-Serif\" baseline-shift=\"sub\" font-size=\"14.00\" fill=\"#000000\">1</text>\n<text text-anchor=\"start\" x=\"368.5\" y=\"-138.8\" font-family=\"Helvetica,sans-Serif\" font-size=\"14.00\" fill=\"#000000\"> ≤ &#45;0.861</text>\n<text text-anchor=\"start\" x=\"337.5\" y=\"-124.8\" font-family=\"Helvetica,sans-Serif\" font-size=\"14.00\" fill=\"#000000\">entropy = 0.863</text>\n<text text-anchor=\"start\" x=\"349\" y=\"-110.8\" font-family=\"Helvetica,sans-Serif\" font-size=\"14.00\" fill=\"#000000\">samples = 7</text>\n<text text-anchor=\"start\" x=\"347\" y=\"-96.8\" font-family=\"Helvetica,sans-Serif\" font-size=\"14.00\" fill=\"#000000\">value = [5, 2]</text>\n</g>\n<!-- 29&#45;&gt;30 -->\n<g id=\"edge30\" class=\"edge\">\n<title>29&#45;&gt;30</title>\n<path fill=\"none\" stroke=\"#000000\" d=\"M473.2612,-188.8089C461.552,-179.4416 448.6438,-169.115 436.5071,-159.4057\"/>\n<polygon fill=\"#000000\" stroke=\"#000000\" points=\"438.6586,-156.6447 428.6634,-153.1308 434.2857,-162.1108 438.6586,-156.6447\"/>\n</g>\n<!-- 33 -->\n<g id=\"node34\" class=\"node\">\n<title>33</title>\n<path fill=\"#399de5\" stroke=\"#000000\" d=\"M555,-147.5C555,-147.5 478,-147.5 478,-147.5 472,-147.5 466,-141.5 466,-135.5 466,-135.5 466,-106.5 466,-106.5 466,-100.5 472,-94.5 478,-94.5 478,-94.5 555,-94.5 555,-94.5 561,-94.5 567,-100.5 567,-106.5 567,-106.5 567,-135.5 567,-135.5 567,-141.5 561,-147.5 555,-147.5\"/>\n<text text-anchor=\"start\" x=\"474\" y=\"-132.3\" font-family=\"Helvetica,sans-Serif\" font-size=\"14.00\" fill=\"#000000\">entropy = 0.0</text>\n<text text-anchor=\"start\" x=\"477\" y=\"-117.3\" font-family=\"Helvetica,sans-Serif\" font-size=\"14.00\" fill=\"#000000\">samples = 3</text>\n<text text-anchor=\"start\" x=\"475\" y=\"-102.3\" font-family=\"Helvetica,sans-Serif\" font-size=\"14.00\" fill=\"#000000\">value = [0, 3]</text>\n</g>\n<!-- 29&#45;&gt;33 -->\n<g id=\"edge33\" class=\"edge\">\n<title>29&#45;&gt;33</title>\n<path fill=\"none\" stroke=\"#000000\" d=\"M514.4657,-188.8089C514.7607,-178.9777 515.0873,-168.0898 515.391,-157.9679\"/>\n<polygon fill=\"#000000\" stroke=\"#000000\" points=\"518.8953,-157.874 515.6968,-147.7735 511.8984,-157.664 518.8953,-157.874\"/>\n</g>\n<!-- 31 -->\n<g id=\"node32\" class=\"node\">\n<title>31</title>\n<path fill=\"#ffffff\" stroke=\"#000000\" d=\"M389,-53C389,-53 312,-53 312,-53 306,-53 300,-47 300,-41 300,-41 300,-12 300,-12 300,-6 306,0 312,0 312,0 389,0 389,0 395,0 401,-6 401,-12 401,-12 401,-41 401,-41 401,-47 395,-53 389,-53\"/>\n<text text-anchor=\"start\" x=\"308\" y=\"-37.8\" font-family=\"Helvetica,sans-Serif\" font-size=\"14.00\" fill=\"#000000\">entropy = 1.0</text>\n<text text-anchor=\"start\" x=\"311\" y=\"-22.8\" font-family=\"Helvetica,sans-Serif\" font-size=\"14.00\" fill=\"#000000\">samples = 4</text>\n<text text-anchor=\"start\" x=\"309\" y=\"-7.8\" font-family=\"Helvetica,sans-Serif\" font-size=\"14.00\" fill=\"#000000\">value = [2, 2]</text>\n</g>\n<!-- 30&#45;&gt;31 -->\n<g id=\"edge31\" class=\"edge\">\n<title>30&#45;&gt;31</title>\n<path fill=\"none\" stroke=\"#000000\" d=\"M375.5288,-88.7428C372.1546,-80.3515 368.4973,-71.2565 365.0476,-62.6775\"/>\n<polygon fill=\"#000000\" stroke=\"#000000\" points=\"368.2452,-61.248 361.267,-53.2759 361.7506,-63.8597 368.2452,-61.248\"/>\n</g>\n<!-- 32 -->\n<g id=\"node33\" class=\"node\">\n<title>32</title>\n<path fill=\"#e58139\" stroke=\"#000000\" d=\"M508,-53C508,-53 431,-53 431,-53 425,-53 419,-47 419,-41 419,-41 419,-12 419,-12 419,-6 425,0 431,0 431,0 508,0 508,0 514,0 520,-6 520,-12 520,-12 520,-41 520,-41 520,-47 514,-53 508,-53\"/>\n<text text-anchor=\"start\" x=\"427\" y=\"-37.8\" font-family=\"Helvetica,sans-Serif\" font-size=\"14.00\" fill=\"#000000\">entropy = 0.0</text>\n<text text-anchor=\"start\" x=\"430\" y=\"-22.8\" font-family=\"Helvetica,sans-Serif\" font-size=\"14.00\" fill=\"#000000\">samples = 3</text>\n<text text-anchor=\"start\" x=\"428\" y=\"-7.8\" font-family=\"Helvetica,sans-Serif\" font-size=\"14.00\" fill=\"#000000\">value = [3, 0]</text>\n</g>\n<!-- 30&#45;&gt;32 -->\n<g id=\"edge32\" class=\"edge\">\n<title>30&#45;&gt;32</title>\n<path fill=\"none\" stroke=\"#000000\" d=\"M416.1491,-88.7428C423.8056,-79.8102 432.1457,-70.08 439.9081,-61.0238\"/>\n<polygon fill=\"#000000\" stroke=\"#000000\" points=\"442.6987,-63.1462 446.5493,-53.2759 437.3839,-58.5907 442.6987,-63.1462\"/>\n</g>\n<!-- 35 -->\n<g id=\"node36\" class=\"node\">\n<title>35</title>\n<path fill=\"#e58139\" stroke=\"#000000\" d=\"M679,-147.5C679,-147.5 602,-147.5 602,-147.5 596,-147.5 590,-141.5 590,-135.5 590,-135.5 590,-106.5 590,-106.5 590,-100.5 596,-94.5 602,-94.5 602,-94.5 679,-94.5 679,-94.5 685,-94.5 691,-100.5 691,-106.5 691,-106.5 691,-135.5 691,-135.5 691,-141.5 685,-147.5 679,-147.5\"/>\n<text text-anchor=\"start\" x=\"598\" y=\"-132.3\" font-family=\"Helvetica,sans-Serif\" font-size=\"14.00\" fill=\"#000000\">entropy = 0.0</text>\n<text text-anchor=\"start\" x=\"601\" y=\"-117.3\" font-family=\"Helvetica,sans-Serif\" font-size=\"14.00\" fill=\"#000000\">samples = 6</text>\n<text text-anchor=\"start\" x=\"599\" y=\"-102.3\" font-family=\"Helvetica,sans-Serif\" font-size=\"14.00\" fill=\"#000000\">value = [6, 0]</text>\n</g>\n<!-- 34&#45;&gt;35 -->\n<g id=\"edge35\" class=\"edge\">\n<title>34&#45;&gt;35</title>\n<path fill=\"none\" stroke=\"#000000\" d=\"M641.8562,-188.8089C641.6596,-178.9777 641.4418,-168.0898 641.2394,-157.9679\"/>\n<polygon fill=\"#000000\" stroke=\"#000000\" points=\"644.7348,-157.7015 641.0355,-147.7735 637.7362,-157.8415 644.7348,-157.7015\"/>\n</g>\n<!-- 36 -->\n<g id=\"node37\" class=\"node\">\n<title>36</title>\n<path fill=\"#ffffff\" stroke=\"#000000\" d=\"M798,-153C798,-153 721,-153 721,-153 715,-153 709,-147 709,-141 709,-141 709,-101 709,-101 709,-95 715,-89 721,-89 721,-89 798,-89 798,-89 804,-89 810,-95 810,-101 810,-101 810,-141 810,-141 810,-147 804,-153 798,-153\"/>\n<text text-anchor=\"start\" x=\"725\" y=\"-138.8\" font-family=\"Helvetica,sans-Serif\" font-size=\"14.00\" fill=\"#000000\">X</text>\n<text text-anchor=\"start\" x=\"735\" y=\"-138.8\" font-family=\"Helvetica,sans-Serif\" baseline-shift=\"sub\" font-size=\"14.00\" fill=\"#000000\">0</text>\n<text text-anchor=\"start\" x=\"742\" y=\"-138.8\" font-family=\"Helvetica,sans-Serif\" font-size=\"14.00\" fill=\"#000000\"> ≤ 0.408</text>\n<text text-anchor=\"start\" x=\"717\" y=\"-124.8\" font-family=\"Helvetica,sans-Serif\" font-size=\"14.00\" fill=\"#000000\">entropy = 1.0</text>\n<text text-anchor=\"start\" x=\"720\" y=\"-110.8\" font-family=\"Helvetica,sans-Serif\" font-size=\"14.00\" fill=\"#000000\">samples = 2</text>\n<text text-anchor=\"start\" x=\"718\" y=\"-96.8\" font-family=\"Helvetica,sans-Serif\" font-size=\"14.00\" fill=\"#000000\">value = [1, 1]</text>\n</g>\n<!-- 34&#45;&gt;36 -->\n<g id=\"edge36\" class=\"edge\">\n<title>34&#45;&gt;36</title>\n<path fill=\"none\" stroke=\"#000000\" d=\"M680.1636,-188.8089C691.0189,-179.5308 702.9754,-169.3116 714.2405,-159.6833\"/>\n<polygon fill=\"#000000\" stroke=\"#000000\" points=\"716.5793,-162.2886 721.907,-153.1308 712.0312,-156.9674 716.5793,-162.2886\"/>\n</g>\n<!-- 37 -->\n<g id=\"node38\" class=\"node\">\n<title>37</title>\n<path fill=\"#399de5\" stroke=\"#000000\" d=\"M738,-53C738,-53 661,-53 661,-53 655,-53 649,-47 649,-41 649,-41 649,-12 649,-12 649,-6 655,0 661,0 661,0 738,0 738,0 744,0 750,-6 750,-12 750,-12 750,-41 750,-41 750,-47 744,-53 738,-53\"/>\n<text text-anchor=\"start\" x=\"657\" y=\"-37.8\" font-family=\"Helvetica,sans-Serif\" font-size=\"14.00\" fill=\"#000000\">entropy = 0.0</text>\n<text text-anchor=\"start\" x=\"660\" y=\"-22.8\" font-family=\"Helvetica,sans-Serif\" font-size=\"14.00\" fill=\"#000000\">samples = 1</text>\n<text text-anchor=\"start\" x=\"658\" y=\"-7.8\" font-family=\"Helvetica,sans-Serif\" font-size=\"14.00\" fill=\"#000000\">value = [0, 1]</text>\n</g>\n<!-- 36&#45;&gt;37 -->\n<g id=\"edge37\" class=\"edge\">\n<title>36&#45;&gt;37</title>\n<path fill=\"none\" stroke=\"#000000\" d=\"M739.0192,-88.7428C733.5196,-80.0809 727.5438,-70.669 721.9438,-61.849\"/>\n<polygon fill=\"#000000\" stroke=\"#000000\" points=\"724.8154,-59.842 716.5005,-53.2759 718.9059,-63.5941 724.8154,-59.842\"/>\n</g>\n<!-- 38 -->\n<g id=\"node39\" class=\"node\">\n<title>38</title>\n<path fill=\"#e58139\" stroke=\"#000000\" d=\"M857,-53C857,-53 780,-53 780,-53 774,-53 768,-47 768,-41 768,-41 768,-12 768,-12 768,-6 774,0 780,0 780,0 857,0 857,0 863,0 869,-6 869,-12 869,-12 869,-41 869,-41 869,-47 863,-53 857,-53\"/>\n<text text-anchor=\"start\" x=\"776\" y=\"-37.8\" font-family=\"Helvetica,sans-Serif\" font-size=\"14.00\" fill=\"#000000\">entropy = 0.0</text>\n<text text-anchor=\"start\" x=\"779\" y=\"-22.8\" font-family=\"Helvetica,sans-Serif\" font-size=\"14.00\" fill=\"#000000\">samples = 1</text>\n<text text-anchor=\"start\" x=\"777\" y=\"-7.8\" font-family=\"Helvetica,sans-Serif\" font-size=\"14.00\" fill=\"#000000\">value = [1, 0]</text>\n</g>\n<!-- 36&#45;&gt;38 -->\n<g id=\"edge38\" class=\"edge\">\n<title>36&#45;&gt;38</title>\n<path fill=\"none\" stroke=\"#000000\" d=\"M779.6394,-88.7428C785.0474,-80.0809 790.9236,-70.669 796.4303,-61.849\"/>\n<polygon fill=\"#000000\" stroke=\"#000000\" points=\"799.4557,-63.612 801.7828,-53.2759 793.5179,-59.9048 799.4557,-63.612\"/>\n</g>\n<!-- 42 -->\n<g id=\"node43\" class=\"node\">\n<title>42</title>\n<path fill=\"#399de5\" stroke=\"#000000\" d=\"M679,-647.5C679,-647.5 602,-647.5 602,-647.5 596,-647.5 590,-641.5 590,-635.5 590,-635.5 590,-606.5 590,-606.5 590,-600.5 596,-594.5 602,-594.5 602,-594.5 679,-594.5 679,-594.5 685,-594.5 691,-600.5 691,-606.5 691,-606.5 691,-635.5 691,-635.5 691,-641.5 685,-647.5 679,-647.5\"/>\n<text text-anchor=\"start\" x=\"598\" y=\"-632.3\" font-family=\"Helvetica,sans-Serif\" font-size=\"14.00\" fill=\"#000000\">entropy = 0.0</text>\n<text text-anchor=\"start\" x=\"601\" y=\"-617.3\" font-family=\"Helvetica,sans-Serif\" font-size=\"14.00\" fill=\"#000000\">samples = 3</text>\n<text text-anchor=\"start\" x=\"599\" y=\"-602.3\" font-family=\"Helvetica,sans-Serif\" font-size=\"14.00\" fill=\"#000000\">value = [0, 3]</text>\n</g>\n<!-- 41&#45;&gt;42 -->\n<g id=\"edge42\" class=\"edge\">\n<title>41&#45;&gt;42</title>\n<path fill=\"none\" stroke=\"#000000\" d=\"M649.3152,-688.8089C648.0371,-678.9777 646.6217,-668.0898 645.3058,-657.9679\"/>\n<polygon fill=\"#000000\" stroke=\"#000000\" points=\"648.7406,-657.2388 643.9806,-647.7735 641.799,-658.1413 648.7406,-657.2388\"/>\n</g>\n<!-- 43 -->\n<g id=\"node44\" class=\"node\">\n<title>43</title>\n<path fill=\"#f2c09c\" stroke=\"#000000\" d=\"M815.5,-653C815.5,-653 721.5,-653 721.5,-653 715.5,-653 709.5,-647 709.5,-641 709.5,-641 709.5,-601 709.5,-601 709.5,-595 715.5,-589 721.5,-589 721.5,-589 815.5,-589 815.5,-589 821.5,-589 827.5,-595 827.5,-601 827.5,-601 827.5,-641 827.5,-641 827.5,-647 821.5,-653 815.5,-653\"/>\n<text text-anchor=\"start\" x=\"734\" y=\"-638.8\" font-family=\"Helvetica,sans-Serif\" font-size=\"14.00\" fill=\"#000000\">X</text>\n<text text-anchor=\"start\" x=\"744\" y=\"-638.8\" font-family=\"Helvetica,sans-Serif\" baseline-shift=\"sub\" font-size=\"14.00\" fill=\"#000000\">1</text>\n<text text-anchor=\"start\" x=\"751\" y=\"-638.8\" font-family=\"Helvetica,sans-Serif\" font-size=\"14.00\" fill=\"#000000\"> ≤ 1.369</text>\n<text text-anchor=\"start\" x=\"717.5\" y=\"-624.8\" font-family=\"Helvetica,sans-Serif\" font-size=\"14.00\" fill=\"#000000\">entropy = 0.918</text>\n<text text-anchor=\"start\" x=\"729\" y=\"-610.8\" font-family=\"Helvetica,sans-Serif\" font-size=\"14.00\" fill=\"#000000\">samples = 3</text>\n<text text-anchor=\"start\" x=\"727\" y=\"-596.8\" font-family=\"Helvetica,sans-Serif\" font-size=\"14.00\" fill=\"#000000\">value = [2, 1]</text>\n</g>\n<!-- 41&#45;&gt;43 -->\n<g id=\"edge43\" class=\"edge\">\n<title>41&#45;&gt;43</title>\n<path fill=\"none\" stroke=\"#000000\" d=\"M690.5197,-688.8089C701.087,-679.62 712.7157,-669.508 723.6946,-659.9612\"/>\n<polygon fill=\"#000000\" stroke=\"#000000\" points=\"726.3002,-662.3337 731.5496,-653.1308 721.7069,-657.0515 726.3002,-662.3337\"/>\n</g>\n<!-- 44 -->\n<g id=\"node45\" class=\"node\">\n<title>44</title>\n<path fill=\"#e58139\" stroke=\"#000000\" d=\"M690,-547.5C690,-547.5 613,-547.5 613,-547.5 607,-547.5 601,-541.5 601,-535.5 601,-535.5 601,-506.5 601,-506.5 601,-500.5 607,-494.5 613,-494.5 613,-494.5 690,-494.5 690,-494.5 696,-494.5 702,-500.5 702,-506.5 702,-506.5 702,-535.5 702,-535.5 702,-541.5 696,-547.5 690,-547.5\"/>\n<text text-anchor=\"start\" x=\"609\" y=\"-532.3\" font-family=\"Helvetica,sans-Serif\" font-size=\"14.00\" fill=\"#000000\">entropy = 0.0</text>\n<text text-anchor=\"start\" x=\"612\" y=\"-517.3\" font-family=\"Helvetica,sans-Serif\" font-size=\"14.00\" fill=\"#000000\">samples = 2</text>\n<text text-anchor=\"start\" x=\"610\" y=\"-502.3\" font-family=\"Helvetica,sans-Serif\" font-size=\"14.00\" fill=\"#000000\">value = [2, 0]</text>\n</g>\n<!-- 43&#45;&gt;44 -->\n<g id=\"edge44\" class=\"edge\">\n<title>43&#45;&gt;44</title>\n<path fill=\"none\" stroke=\"#000000\" d=\"M730.8364,-588.8089C718.002,-577.8393 703.6285,-565.5543 690.6781,-554.4855\"/>\n<polygon fill=\"#000000\" stroke=\"#000000\" points=\"692.7008,-551.6101 682.825,-547.7735 688.1527,-556.9314 692.7008,-551.6101\"/>\n</g>\n<!-- 45 -->\n<g id=\"node46\" class=\"node\">\n<title>45</title>\n<path fill=\"#399de5\" stroke=\"#000000\" d=\"M809,-547.5C809,-547.5 732,-547.5 732,-547.5 726,-547.5 720,-541.5 720,-535.5 720,-535.5 720,-506.5 720,-506.5 720,-500.5 726,-494.5 732,-494.5 732,-494.5 809,-494.5 809,-494.5 815,-494.5 821,-500.5 821,-506.5 821,-506.5 821,-535.5 821,-535.5 821,-541.5 815,-547.5 809,-547.5\"/>\n<text text-anchor=\"start\" x=\"728\" y=\"-532.3\" font-family=\"Helvetica,sans-Serif\" font-size=\"14.00\" fill=\"#000000\">entropy = 0.0</text>\n<text text-anchor=\"start\" x=\"731\" y=\"-517.3\" font-family=\"Helvetica,sans-Serif\" font-size=\"14.00\" fill=\"#000000\">samples = 1</text>\n<text text-anchor=\"start\" x=\"729\" y=\"-502.3\" font-family=\"Helvetica,sans-Serif\" font-size=\"14.00\" fill=\"#000000\">value = [0, 1]</text>\n</g>\n<!-- 43&#45;&gt;45 -->\n<g id=\"edge45\" class=\"edge\">\n<title>43&#45;&gt;45</title>\n<path fill=\"none\" stroke=\"#000000\" d=\"M769.1438,-588.8089C769.3404,-578.9777 769.5582,-568.0898 769.7606,-557.9679\"/>\n<polygon fill=\"#000000\" stroke=\"#000000\" points=\"773.2638,-557.8415 769.9645,-547.7735 766.2652,-557.7015 773.2638,-557.8415\"/>\n</g>\n<!-- 47 -->\n<g id=\"node48\" class=\"node\">\n<title>47</title>\n<path fill=\"#e89152\" stroke=\"#000000\" d=\"M951.5,-753C951.5,-753 857.5,-753 857.5,-753 851.5,-753 845.5,-747 845.5,-741 845.5,-741 845.5,-701 845.5,-701 845.5,-695 851.5,-689 857.5,-689 857.5,-689 951.5,-689 951.5,-689 957.5,-689 963.5,-695 963.5,-701 963.5,-701 963.5,-741 963.5,-741 963.5,-747 957.5,-753 951.5,-753\"/>\n<text text-anchor=\"start\" x=\"870\" y=\"-738.8\" font-family=\"Helvetica,sans-Serif\" font-size=\"14.00\" fill=\"#000000\">X</text>\n<text text-anchor=\"start\" x=\"880\" y=\"-738.8\" font-family=\"Helvetica,sans-Serif\" baseline-shift=\"sub\" font-size=\"14.00\" fill=\"#000000\">1</text>\n<text text-anchor=\"start\" x=\"887\" y=\"-738.8\" font-family=\"Helvetica,sans-Serif\" font-size=\"14.00\" fill=\"#000000\"> ≤ 0.194</text>\n<text text-anchor=\"start\" x=\"853.5\" y=\"-724.8\" font-family=\"Helvetica,sans-Serif\" font-size=\"14.00\" fill=\"#000000\">entropy = 0.503</text>\n<text text-anchor=\"start\" x=\"860.5\" y=\"-710.8\" font-family=\"Helvetica,sans-Serif\" font-size=\"14.00\" fill=\"#000000\">samples = 27</text>\n<text text-anchor=\"start\" x=\"859\" y=\"-696.8\" font-family=\"Helvetica,sans-Serif\" font-size=\"14.00\" fill=\"#000000\">value = [24, 3]</text>\n</g>\n<!-- 46&#45;&gt;47 -->\n<g id=\"edge47\" class=\"edge\">\n<title>46&#45;&gt;47</title>\n<path fill=\"none\" stroke=\"#000000\" d=\"M904.5,-788.8089C904.5,-780.6906 904.5,-771.8517 904.5,-763.3186\"/>\n<polygon fill=\"#000000\" stroke=\"#000000\" points=\"908.0001,-763.1307 904.5,-753.1308 901.0001,-763.1308 908.0001,-763.1307\"/>\n</g>\n<!-- 58 -->\n<g id=\"node59\" class=\"node\">\n<title>58</title>\n<path fill=\"#e58139\" stroke=\"#000000\" d=\"M1077,-747.5C1077,-747.5 994,-747.5 994,-747.5 988,-747.5 982,-741.5 982,-735.5 982,-735.5 982,-706.5 982,-706.5 982,-700.5 988,-694.5 994,-694.5 994,-694.5 1077,-694.5 1077,-694.5 1083,-694.5 1089,-700.5 1089,-706.5 1089,-706.5 1089,-735.5 1089,-735.5 1089,-741.5 1083,-747.5 1077,-747.5\"/>\n<text text-anchor=\"start\" x=\"993\" y=\"-732.3\" font-family=\"Helvetica,sans-Serif\" font-size=\"14.00\" fill=\"#000000\">entropy = 0.0</text>\n<text text-anchor=\"start\" x=\"991.5\" y=\"-717.3\" font-family=\"Helvetica,sans-Serif\" font-size=\"14.00\" fill=\"#000000\">samples = 22</text>\n<text text-anchor=\"start\" x=\"990\" y=\"-702.3\" font-family=\"Helvetica,sans-Serif\" font-size=\"14.00\" fill=\"#000000\">value = [22, 0]</text>\n</g>\n<!-- 46&#45;&gt;58 -->\n<g id=\"edge58\" class=\"edge\">\n<title>46&#45;&gt;58</title>\n<path fill=\"none\" stroke=\"#000000\" d=\"M946.6703,-788.8089C961.3116,-777.6324 977.7418,-765.0902 992.453,-753.8603\"/>\n<polygon fill=\"#000000\" stroke=\"#000000\" points=\"994.6016,-756.6234 1000.4267,-747.7735 990.3542,-751.0592 994.6016,-756.6234\"/>\n</g>\n<!-- 48 -->\n<g id=\"node49\" class=\"node\">\n<title>48</title>\n<path fill=\"#e78c49\" stroke=\"#000000\" d=\"M951.5,-653C951.5,-653 857.5,-653 857.5,-653 851.5,-653 845.5,-647 845.5,-641 845.5,-641 845.5,-601 845.5,-601 845.5,-595 851.5,-589 857.5,-589 857.5,-589 951.5,-589 951.5,-589 957.5,-589 963.5,-595 963.5,-601 963.5,-601 963.5,-641 963.5,-641 963.5,-647 957.5,-653 951.5,-653\"/>\n<text text-anchor=\"start\" x=\"874\" y=\"-638.8\" font-family=\"Helvetica,sans-Serif\" font-size=\"14.00\" fill=\"#000000\">X</text>\n<text text-anchor=\"start\" x=\"884\" y=\"-638.8\" font-family=\"Helvetica,sans-Serif\" baseline-shift=\"sub\" font-size=\"14.00\" fill=\"#000000\">0</text>\n<text text-anchor=\"start\" x=\"891\" y=\"-638.8\" font-family=\"Helvetica,sans-Serif\" font-size=\"14.00\" fill=\"#000000\"> ≤ 1.59</text>\n<text text-anchor=\"start\" x=\"853.5\" y=\"-624.8\" font-family=\"Helvetica,sans-Serif\" font-size=\"14.00\" fill=\"#000000\">entropy = 0.391</text>\n<text text-anchor=\"start\" x=\"860.5\" y=\"-610.8\" font-family=\"Helvetica,sans-Serif\" font-size=\"14.00\" fill=\"#000000\">samples = 26</text>\n<text text-anchor=\"start\" x=\"859\" y=\"-596.8\" font-family=\"Helvetica,sans-Serif\" font-size=\"14.00\" fill=\"#000000\">value = [24, 2]</text>\n</g>\n<!-- 47&#45;&gt;48 -->\n<g id=\"edge48\" class=\"edge\">\n<title>47&#45;&gt;48</title>\n<path fill=\"none\" stroke=\"#000000\" d=\"M904.5,-688.8089C904.5,-680.6906 904.5,-671.8517 904.5,-663.3186\"/>\n<polygon fill=\"#000000\" stroke=\"#000000\" points=\"908.0001,-663.1307 904.5,-653.1308 901.0001,-663.1308 908.0001,-663.1307\"/>\n</g>\n<!-- 57 -->\n<g id=\"node58\" class=\"node\">\n<title>57</title>\n<path fill=\"#399de5\" stroke=\"#000000\" d=\"M1071,-647.5C1071,-647.5 994,-647.5 994,-647.5 988,-647.5 982,-641.5 982,-635.5 982,-635.5 982,-606.5 982,-606.5 982,-600.5 988,-594.5 994,-594.5 994,-594.5 1071,-594.5 1071,-594.5 1077,-594.5 1083,-600.5 1083,-606.5 1083,-606.5 1083,-635.5 1083,-635.5 1083,-641.5 1077,-647.5 1071,-647.5\"/>\n<text text-anchor=\"start\" x=\"990\" y=\"-632.3\" font-family=\"Helvetica,sans-Serif\" font-size=\"14.00\" fill=\"#000000\">entropy = 0.0</text>\n<text text-anchor=\"start\" x=\"993\" y=\"-617.3\" font-family=\"Helvetica,sans-Serif\" font-size=\"14.00\" fill=\"#000000\">samples = 1</text>\n<text text-anchor=\"start\" x=\"991\" y=\"-602.3\" font-family=\"Helvetica,sans-Serif\" font-size=\"14.00\" fill=\"#000000\">value = [0, 1]</text>\n</g>\n<!-- 47&#45;&gt;57 -->\n<g id=\"edge57\" class=\"edge\">\n<title>47&#45;&gt;57</title>\n<path fill=\"none\" stroke=\"#000000\" d=\"M945.7046,-688.8089C959.8781,-677.7359 975.7674,-665.3223 990.0391,-654.1726\"/>\n<polygon fill=\"#000000\" stroke=\"#000000\" points=\"992.5044,-656.6881 998.2299,-647.7735 988.1949,-651.1719 992.5044,-656.6881\"/>\n</g>\n<!-- 49 -->\n<g id=\"node50\" class=\"node\">\n<title>49</title>\n<path fill=\"#e68742\" stroke=\"#000000\" d=\"M949.5,-553C949.5,-553 855.5,-553 855.5,-553 849.5,-553 843.5,-547 843.5,-541 843.5,-541 843.5,-501 843.5,-501 843.5,-495 849.5,-489 855.5,-489 855.5,-489 949.5,-489 949.5,-489 955.5,-489 961.5,-495 961.5,-501 961.5,-501 961.5,-541 961.5,-541 961.5,-547 955.5,-553 949.5,-553\"/>\n<text text-anchor=\"start\" x=\"865.5\" y=\"-538.8\" font-family=\"Helvetica,sans-Serif\" font-size=\"14.00\" fill=\"#000000\">X</text>\n<text text-anchor=\"start\" x=\"875.5\" y=\"-538.8\" font-family=\"Helvetica,sans-Serif\" baseline-shift=\"sub\" font-size=\"14.00\" fill=\"#000000\">1</text>\n<text text-anchor=\"start\" x=\"882.5\" y=\"-538.8\" font-family=\"Helvetica,sans-Serif\" font-size=\"14.00\" fill=\"#000000\"> ≤ &#45;0.607</text>\n<text text-anchor=\"start\" x=\"851.5\" y=\"-524.8\" font-family=\"Helvetica,sans-Serif\" font-size=\"14.00\" fill=\"#000000\">entropy = 0.258</text>\n<text text-anchor=\"start\" x=\"858.5\" y=\"-510.8\" font-family=\"Helvetica,sans-Serif\" font-size=\"14.00\" fill=\"#000000\">samples = 23</text>\n<text text-anchor=\"start\" x=\"857\" y=\"-496.8\" font-family=\"Helvetica,sans-Serif\" font-size=\"14.00\" fill=\"#000000\">value = [22, 1]</text>\n</g>\n<!-- 48&#45;&gt;49 -->\n<g id=\"edge49\" class=\"edge\">\n<title>48&#45;&gt;49</title>\n<path fill=\"none\" stroke=\"#000000\" d=\"M903.8562,-588.8089C903.6938,-580.6906 903.517,-571.8517 903.3464,-563.3186\"/>\n<polygon fill=\"#000000\" stroke=\"#000000\" points=\"906.842,-563.0587 903.1426,-553.1308 899.8434,-563.1988 906.842,-563.0587\"/>\n</g>\n<!-- 54 -->\n<g id=\"node55\" class=\"node\">\n<title>54</title>\n<path fill=\"#f2c09c\" stroke=\"#000000\" d=\"M1085.5,-553C1085.5,-553 991.5,-553 991.5,-553 985.5,-553 979.5,-547 979.5,-541 979.5,-541 979.5,-501 979.5,-501 979.5,-495 985.5,-489 991.5,-489 991.5,-489 1085.5,-489 1085.5,-489 1091.5,-489 1097.5,-495 1097.5,-501 1097.5,-501 1097.5,-541 1097.5,-541 1097.5,-547 1091.5,-553 1085.5,-553\"/>\n<text text-anchor=\"start\" x=\"1004\" y=\"-538.8\" font-family=\"Helvetica,sans-Serif\" font-size=\"14.00\" fill=\"#000000\">X</text>\n<text text-anchor=\"start\" x=\"1014\" y=\"-538.8\" font-family=\"Helvetica,sans-Serif\" baseline-shift=\"sub\" font-size=\"14.00\" fill=\"#000000\">0</text>\n<text text-anchor=\"start\" x=\"1021\" y=\"-538.8\" font-family=\"Helvetica,sans-Serif\" font-size=\"14.00\" fill=\"#000000\"> ≤ 1.596</text>\n<text text-anchor=\"start\" x=\"987.5\" y=\"-524.8\" font-family=\"Helvetica,sans-Serif\" font-size=\"14.00\" fill=\"#000000\">entropy = 0.918</text>\n<text text-anchor=\"start\" x=\"999\" y=\"-510.8\" font-family=\"Helvetica,sans-Serif\" font-size=\"14.00\" fill=\"#000000\">samples = 3</text>\n<text text-anchor=\"start\" x=\"997\" y=\"-496.8\" font-family=\"Helvetica,sans-Serif\" font-size=\"14.00\" fill=\"#000000\">value = [2, 1]</text>\n</g>\n<!-- 48&#45;&gt;54 -->\n<g id=\"edge54\" class=\"edge\">\n<title>48&#45;&gt;54</title>\n<path fill=\"none\" stroke=\"#000000\" d=\"M947.636,-588.8089C960.3078,-579.3524 974.2896,-568.9182 987.4078,-559.1285\"/>\n<polygon fill=\"#000000\" stroke=\"#000000\" points=\"989.5237,-561.9167 995.4448,-553.1308 985.3371,-556.3066 989.5237,-561.9167\"/>\n</g>\n<!-- 50 -->\n<g id=\"node51\" class=\"node\">\n<title>50</title>\n<path fill=\"#e58139\" stroke=\"#000000\" d=\"M815,-447.5C815,-447.5 732,-447.5 732,-447.5 726,-447.5 720,-441.5 720,-435.5 720,-435.5 720,-406.5 720,-406.5 720,-400.5 726,-394.5 732,-394.5 732,-394.5 815,-394.5 815,-394.5 821,-394.5 827,-400.5 827,-406.5 827,-406.5 827,-435.5 827,-435.5 827,-441.5 821,-447.5 815,-447.5\"/>\n<text text-anchor=\"start\" x=\"731\" y=\"-432.3\" font-family=\"Helvetica,sans-Serif\" font-size=\"14.00\" fill=\"#000000\">entropy = 0.0</text>\n<text text-anchor=\"start\" x=\"729.5\" y=\"-417.3\" font-family=\"Helvetica,sans-Serif\" font-size=\"14.00\" fill=\"#000000\">samples = 13</text>\n<text text-anchor=\"start\" x=\"728\" y=\"-402.3\" font-family=\"Helvetica,sans-Serif\" font-size=\"14.00\" fill=\"#000000\">value = [13, 0]</text>\n</g>\n<!-- 49&#45;&gt;50 -->\n<g id=\"edge50\" class=\"edge\">\n<title>49&#45;&gt;50</title>\n<path fill=\"none\" stroke=\"#000000\" d=\"M860.9735,-488.8089C846.6893,-477.7359 830.6758,-465.3223 816.2927,-454.1726\"/>\n<polygon fill=\"#000000\" stroke=\"#000000\" points=\"818.0856,-451.134 808.0378,-447.7735 813.7969,-456.6664 818.0856,-451.134\"/>\n</g>\n<!-- 51 -->\n<g id=\"node52\" class=\"node\">\n<title>51</title>\n<path fill=\"#e88f4f\" stroke=\"#000000\" d=\"M951.5,-453C951.5,-453 857.5,-453 857.5,-453 851.5,-453 845.5,-447 845.5,-441 845.5,-441 845.5,-401 845.5,-401 845.5,-395 851.5,-389 857.5,-389 857.5,-389 951.5,-389 951.5,-389 957.5,-389 963.5,-395 963.5,-401 963.5,-401 963.5,-441 963.5,-441 963.5,-447 957.5,-453 951.5,-453\"/>\n<text text-anchor=\"start\" x=\"867.5\" y=\"-438.8\" font-family=\"Helvetica,sans-Serif\" font-size=\"14.00\" fill=\"#000000\">X</text>\n<text text-anchor=\"start\" x=\"877.5\" y=\"-438.8\" font-family=\"Helvetica,sans-Serif\" baseline-shift=\"sub\" font-size=\"14.00\" fill=\"#000000\">1</text>\n<text text-anchor=\"start\" x=\"884.5\" y=\"-438.8\" font-family=\"Helvetica,sans-Serif\" font-size=\"14.00\" fill=\"#000000\"> ≤ &#45;0.519</text>\n<text text-anchor=\"start\" x=\"853.5\" y=\"-424.8\" font-family=\"Helvetica,sans-Serif\" font-size=\"14.00\" fill=\"#000000\">entropy = 0.469</text>\n<text text-anchor=\"start\" x=\"860.5\" y=\"-410.8\" font-family=\"Helvetica,sans-Serif\" font-size=\"14.00\" fill=\"#000000\">samples = 10</text>\n<text text-anchor=\"start\" x=\"863\" y=\"-396.8\" font-family=\"Helvetica,sans-Serif\" font-size=\"14.00\" fill=\"#000000\">value = [9, 1]</text>\n</g>\n<!-- 49&#45;&gt;51 -->\n<g id=\"edge51\" class=\"edge\">\n<title>49&#45;&gt;51</title>\n<path fill=\"none\" stroke=\"#000000\" d=\"M903.1438,-488.8089C903.3062,-480.6906 903.483,-471.8517 903.6536,-463.3186\"/>\n<polygon fill=\"#000000\" stroke=\"#000000\" points=\"907.1566,-463.1988 903.8574,-453.1308 900.158,-463.0587 907.1566,-463.1988\"/>\n</g>\n<!-- 52 -->\n<g id=\"node53\" class=\"node\">\n<title>52</title>\n<path fill=\"#399de5\" stroke=\"#000000\" d=\"M844,-347.5C844,-347.5 767,-347.5 767,-347.5 761,-347.5 755,-341.5 755,-335.5 755,-335.5 755,-306.5 755,-306.5 755,-300.5 761,-294.5 767,-294.5 767,-294.5 844,-294.5 844,-294.5 850,-294.5 856,-300.5 856,-306.5 856,-306.5 856,-335.5 856,-335.5 856,-341.5 850,-347.5 844,-347.5\"/>\n<text text-anchor=\"start\" x=\"763\" y=\"-332.3\" font-family=\"Helvetica,sans-Serif\" font-size=\"14.00\" fill=\"#000000\">entropy = 0.0</text>\n<text text-anchor=\"start\" x=\"766\" y=\"-317.3\" font-family=\"Helvetica,sans-Serif\" font-size=\"14.00\" fill=\"#000000\">samples = 1</text>\n<text text-anchor=\"start\" x=\"764\" y=\"-302.3\" font-family=\"Helvetica,sans-Serif\" font-size=\"14.00\" fill=\"#000000\">value = [0, 1]</text>\n</g>\n<!-- 51&#45;&gt;52 -->\n<g id=\"edge52\" class=\"edge\">\n<title>51&#45;&gt;52</title>\n<path fill=\"none\" stroke=\"#000000\" d=\"M872.6308,-388.8089C861.9759,-378.0463 850.0672,-366.0174 839.2722,-355.1134\"/>\n<polygon fill=\"#000000\" stroke=\"#000000\" points=\"841.5285,-352.4176 832.0058,-347.7735 836.554,-357.3425 841.5285,-352.4176\"/>\n</g>\n<!-- 53 -->\n<g id=\"node54\" class=\"node\">\n<title>53</title>\n<path fill=\"#e58139\" stroke=\"#000000\" d=\"M963,-347.5C963,-347.5 886,-347.5 886,-347.5 880,-347.5 874,-341.5 874,-335.5 874,-335.5 874,-306.5 874,-306.5 874,-300.5 880,-294.5 886,-294.5 886,-294.5 963,-294.5 963,-294.5 969,-294.5 975,-300.5 975,-306.5 975,-306.5 975,-335.5 975,-335.5 975,-341.5 969,-347.5 963,-347.5\"/>\n<text text-anchor=\"start\" x=\"882\" y=\"-332.3\" font-family=\"Helvetica,sans-Serif\" font-size=\"14.00\" fill=\"#000000\">entropy = 0.0</text>\n<text text-anchor=\"start\" x=\"885\" y=\"-317.3\" font-family=\"Helvetica,sans-Serif\" font-size=\"14.00\" fill=\"#000000\">samples = 9</text>\n<text text-anchor=\"start\" x=\"883\" y=\"-302.3\" font-family=\"Helvetica,sans-Serif\" font-size=\"14.00\" fill=\"#000000\">value = [9, 0]</text>\n</g>\n<!-- 51&#45;&gt;53 -->\n<g id=\"edge53\" class=\"edge\">\n<title>51&#45;&gt;53</title>\n<path fill=\"none\" stroke=\"#000000\" d=\"M910.9382,-388.8089C912.9252,-378.8742 915.1279,-367.8605 917.1703,-357.6485\"/>\n<polygon fill=\"#000000\" stroke=\"#000000\" points=\"920.6161,-358.2658 919.1453,-347.7735 913.752,-356.8929 920.6161,-358.2658\"/>\n</g>\n<!-- 55 -->\n<g id=\"node56\" class=\"node\">\n<title>55</title>\n<path fill=\"#399de5\" stroke=\"#000000\" d=\"M1075,-447.5C1075,-447.5 998,-447.5 998,-447.5 992,-447.5 986,-441.5 986,-435.5 986,-435.5 986,-406.5 986,-406.5 986,-400.5 992,-394.5 998,-394.5 998,-394.5 1075,-394.5 1075,-394.5 1081,-394.5 1087,-400.5 1087,-406.5 1087,-406.5 1087,-435.5 1087,-435.5 1087,-441.5 1081,-447.5 1075,-447.5\"/>\n<text text-anchor=\"start\" x=\"994\" y=\"-432.3\" font-family=\"Helvetica,sans-Serif\" font-size=\"14.00\" fill=\"#000000\">entropy = 0.0</text>\n<text text-anchor=\"start\" x=\"997\" y=\"-417.3\" font-family=\"Helvetica,sans-Serif\" font-size=\"14.00\" fill=\"#000000\">samples = 1</text>\n<text text-anchor=\"start\" x=\"995\" y=\"-402.3\" font-family=\"Helvetica,sans-Serif\" font-size=\"14.00\" fill=\"#000000\">value = [0, 1]</text>\n</g>\n<!-- 54&#45;&gt;55 -->\n<g id=\"edge55\" class=\"edge\">\n<title>54&#45;&gt;55</title>\n<path fill=\"none\" stroke=\"#000000\" d=\"M1037.8562,-488.8089C1037.6596,-478.9777 1037.4418,-468.0898 1037.2394,-457.9679\"/>\n<polygon fill=\"#000000\" stroke=\"#000000\" points=\"1040.7348,-457.7015 1037.0355,-447.7735 1033.7362,-457.8415 1040.7348,-457.7015\"/>\n</g>\n<!-- 56 -->\n<g id=\"node57\" class=\"node\">\n<title>56</title>\n<path fill=\"#e58139\" stroke=\"#000000\" d=\"M1194,-447.5C1194,-447.5 1117,-447.5 1117,-447.5 1111,-447.5 1105,-441.5 1105,-435.5 1105,-435.5 1105,-406.5 1105,-406.5 1105,-400.5 1111,-394.5 1117,-394.5 1117,-394.5 1194,-394.5 1194,-394.5 1200,-394.5 1206,-400.5 1206,-406.5 1206,-406.5 1206,-435.5 1206,-435.5 1206,-441.5 1200,-447.5 1194,-447.5\"/>\n<text text-anchor=\"start\" x=\"1113\" y=\"-432.3\" font-family=\"Helvetica,sans-Serif\" font-size=\"14.00\" fill=\"#000000\">entropy = 0.0</text>\n<text text-anchor=\"start\" x=\"1116\" y=\"-417.3\" font-family=\"Helvetica,sans-Serif\" font-size=\"14.00\" fill=\"#000000\">samples = 2</text>\n<text text-anchor=\"start\" x=\"1114\" y=\"-402.3\" font-family=\"Helvetica,sans-Serif\" font-size=\"14.00\" fill=\"#000000\">value = [2, 0]</text>\n</g>\n<!-- 54&#45;&gt;56 -->\n<g id=\"edge56\" class=\"edge\">\n<title>54&#45;&gt;56</title>\n<path fill=\"none\" stroke=\"#000000\" d=\"M1076.1636,-488.8089C1088.998,-477.8393 1103.3715,-465.5543 1116.3219,-454.4855\"/>\n<polygon fill=\"#000000\" stroke=\"#000000\" points=\"1118.8473,-456.9314 1124.175,-447.7735 1114.2992,-451.6101 1118.8473,-456.9314\"/>\n</g>\n<!-- \\n -->\n<g id=\"node60\" class=\"node\">\n<title>\\n</title>\n<path fill=\"#000000\" stroke=\"#000000\" d=\"M574.5,-1039C574.5,-1039 544.5,-1039 544.5,-1039 538.5,-1039 532.5,-1033 532.5,-1027 532.5,-1027 532.5,-1015 532.5,-1015 532.5,-1009 538.5,-1003 544.5,-1003 544.5,-1003 574.5,-1003 574.5,-1003 580.5,-1003 586.5,-1009 586.5,-1015 586.5,-1015 586.5,-1027 586.5,-1027 586.5,-1033 580.5,-1039 574.5,-1039\"/>\n</g>\n</g>\n</svg>\n"
          },
          "metadata": {},
          "execution_count": 110
        }
      ]
    },
    {
      "cell_type": "code",
      "source": [
        "#foret aleatoire avec PCA\n",
        "from sklearn.ensemble import RandomForestClassifier\n",
        "\n",
        "foret_aleatoire_pca = RandomForestClassifier(n_estimators=50, max_depth=11)\n",
        "foret_aleatoire_pca.fit(X_train, y_train)\n",
        "print('Accuracy val = ',foret_aleatoire_pca.score(X_val, y_val))\n",
        "print('Accuracy test = ',foret_aleatoire_pca.score(X_test, y_test))"
      ],
      "metadata": {
        "colab": {
          "base_uri": "https://localhost:8080/"
        },
        "id": "J0pH9ZBHnVzp",
        "outputId": "d59fddb9-9a5e-4b97-d244-bcabf9fc8953"
      },
      "execution_count": null,
      "outputs": [
        {
          "output_type": "stream",
          "name": "stdout",
          "text": [
            "Accuracy val =  0.7674418604651163\n",
            "Accuracy test =  0.8241758241758241\n"
          ]
        }
      ]
    },
    {
      "cell_type": "code",
      "source": [
        ""
      ],
      "metadata": {
        "id": "1wbsaOt8nV2t"
      },
      "execution_count": null,
      "outputs": []
    },
    {
      "cell_type": "code",
      "source": [
        ""
      ],
      "metadata": {
        "id": "ChMkQRuanV6o"
      },
      "execution_count": null,
      "outputs": []
    }
  ]
}